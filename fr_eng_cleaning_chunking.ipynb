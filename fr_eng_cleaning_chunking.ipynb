{
 "cells": [
  {
   "cell_type": "code",
   "id": "initial_id",
   "metadata": {
    "collapsed": true,
    "ExecuteTime": {
     "end_time": "2025-02-13T12:36:47.894980Z",
     "start_time": "2025-02-13T12:36:47.880258Z"
    }
   },
   "source": [
    "import difflib\n",
    "import json\n",
    "import os\n",
    "import random\n",
    "import re\n",
    "import torch\n",
    "\n",
    "import pandas as pd\n",
    "import seaborn as sns\n",
    "import numpy as np\n",
    "import matplotlib.pyplot as plt\n",
    "import matplotlib.colors as mcolors\n",
    "\n",
    "from sentence_transformers import SentenceTransformer, util\n",
    "from language_classifier.language_classifier import LanguageClassifier\n",
    "\n",
    "# formatting\n",
    "pd.set_option('display.float_format', '{:.1f}'.format)\n",
    "pd.set_option('display.max_columns', None)\n",
    "pd.set_option('display.max_rows', 100)\n",
    "pd.set_option('display.max_colwidth', 200)"
   ],
   "outputs": [],
   "execution_count": 16
  },
  {
   "metadata": {},
   "cell_type": "markdown",
   "source": "# import data",
   "id": "a9aae87a2e850e9"
  },
  {
   "metadata": {
    "ExecuteTime": {
     "end_time": "2025-02-13T12:23:06.663862Z",
     "start_time": "2025-02-13T12:23:06.588047Z"
    }
   },
   "cell_type": "code",
   "source": [
    "# folders\n",
    "parsed_docs_folder = os.path.join(\"..\", \"ParsedPublications\")\n",
    "fr_eng_correlation_csv = \"fr_eng_correlation_data.csv\"\n",
    "\n",
    "fr_eng_correlation_df = pd.read_csv(fr_eng_correlation_csv)\n",
    "\n",
    "# weblinks for previewing / testing\n",
    "weblinks_df = fr_eng_correlation_df.copy()\n",
    "weblinks_df = weblinks_df[['pub_number', 'nom', 'name', 'url_fr', 'url_en', 'file_url_fr', 'file_url_en']]\n",
    "\n",
    "# simplified correlation table\n",
    "fr_eng_correlation_df = fr_eng_correlation_df[['pub_number', 'filename_fr', 'filename_en']]"
   ],
   "id": "83675b54298a8486",
   "outputs": [],
   "execution_count": 2
  },
  {
   "metadata": {},
   "cell_type": "markdown",
   "source": "# helper functions",
   "id": "ca8dc9ee3a7f7d60"
  },
  {
   "metadata": {
    "ExecuteTime": {
     "end_time": "2025-02-13T12:23:07.217335Z",
     "start_time": "2025-02-13T12:23:07.207554Z"
    }
   },
   "cell_type": "code",
   "source": [
    "def preview_publication(pub_number):\n",
    "    if type(pub_number) is pd.DataFrame and pub_number.shape[0] == 1:\n",
    "        try:\n",
    "            pub_number = pub_number['pub_number'].values[0]\n",
    "        except ValueError:\n",
    "            return None\n",
    "    elif type(pub_number) is pd.Series:\n",
    "        try:\n",
    "            pub_number = pub_number.values[0]\n",
    "        except ValueError:\n",
    "            return None\n",
    "    \n",
    "    try:\n",
    "        output_df = weblinks_df[weblinks_df.pub_number == pub_number].T\n",
    "    except Exception as e:\n",
    "        print(e)\n",
    "        return None\n",
    "        \n",
    "    return output_df\n",
    "\n",
    "\n",
    "# DATA CLEANING FUNCTIONS\n",
    "\n",
    "def clean_text(text):\n",
    "\n",
    "    allowed_chars = r\"[^a-zA-ZÀ-ÖØ-öø-ÿ.,;:!?()'\\\"-]\"\n",
    "    text = re.sub(allowed_chars, ' ', text)\n",
    "    text = re.sub(r'\\s+', ' ', text).strip()\n",
    "\n",
    "    return text\n",
    "\n",
    "\n",
    "def get_files_for_publication(pub_number, fr_eng_correlation_df):\n",
    "    row = fr_eng_correlation_df.loc[fr_eng_correlation_df['pub_number'] == pub_number]\n",
    "    if not row.empty:\n",
    "        filename_fr = row['filename_fr'].values[0]\n",
    "        filename_en = row['filename_en'].values[0]\n",
    "        return filename_fr, filename_en\n",
    "    return None, None\n",
    "\n",
    "\n",
    "def get_json_file_link(parsed_docs_folder, pdf_filename):\n",
    "    if pdf_filename.endswith(\".pdf\"):\n",
    "        json_filename = pdf_filename + \".json\"\n",
    "        for root, _, files in os.walk(parsed_docs_folder):\n",
    "            if json_filename in files:\n",
    "                return os.path.join(root, json_filename)\n",
    "    return None\n",
    "\n",
    "\n",
    "def extract_text_from_single_file(json_file, target_language, clf):\n",
    "    with open(json_file, 'r', encoding='utf-8') as file:\n",
    "        data = json.load(file)\n",
    "\n",
    "    if 'text' not in data:\n",
    "        raise KeyError(f\"The key 'text' is missing in the JSON file: {json_file}\")\n",
    "    \n",
    "    full_text = clean_text(data['text'])\n",
    "    text_blocks = re.split(r'(?<![;,])[.?!\\n]', full_text)\n",
    "    text = []\n",
    "\n",
    "    for block in text_blocks:\n",
    "        block = block.strip()\n",
    "        if not block:\n",
    "            continue\n",
    "            \n",
    "        if clf.classify(block) == target_language:\n",
    "            text.append(block + '.')      \n",
    "\n",
    "    return \" \".join(text)\n",
    "\n",
    "\n",
    "def extract_both_languages_from_two_files(json_file_fr, json_file_en, clf):\n",
    "    return extract_text_from_single_file(json_file_fr, \"fr\", clf), extract_text_from_single_file(json_file_en, \"en\", clf)\n",
    "\n",
    "\n",
    "def extract_both_languages_from_single_file(json_file, clf):\n",
    "    with open(json_file, 'r', encoding='utf-8') as file:\n",
    "        data = json.load(file)\n",
    "\n",
    "    if 'text' not in data:\n",
    "        raise KeyError(f\"The key 'text' is missing in the JSON file: {json_file}\")\n",
    "    \n",
    "    full_text = data['text']\n",
    "    text_blocks = re.split(r'[.\\n?]', full_text)\n",
    "    text_fr, text_en = [], []\n",
    "\n",
    "    for block in text_blocks:\n",
    "        block = block.strip()\n",
    "        if not block:\n",
    "            continue\n",
    "            \n",
    "        if clf.classify(block) == \"fr\":\n",
    "            text_fr.append(block)   \n",
    "        elif clf.classify(block) == \"en\":\n",
    "            text_en.append(block)   \n",
    "\n",
    "    return \" \".join(text_fr), \" \".join(text_en)\n",
    "\n",
    "\n",
    "def correlate_and_clean_text(text_fr, text_en):\n",
    "    matcher = difflib.SequenceMatcher(None, text_fr.split(), text_en.split())\n",
    "    matched_fr, matched_en = [], []\n",
    "    \n",
    "    for tag, i1, i2, j1, j2 in matcher.get_opcodes():\n",
    "        if tag == 'equal':\n",
    "            matched_fr.append(\" \".join(text_fr.split()[i1:i2]))\n",
    "            matched_en.append(\" \".join(text_en.split()[j1:j2]))\n",
    "    \n",
    "    return matched_fr, matched_en\n",
    "\n",
    "\n",
    "def process_all_rows(fr_eng_correlation_df, parsed_docs_folder, clf):\n",
    "    debug = True  # TODO: remove after DEBUG\n",
    "    \n",
    "    matched_data = []\n",
    "    min_text_quality = 1\n",
    "    \n",
    "    for _, row in fr_eng_correlation_df.iterrows():\n",
    "        pub_number = row['pub_number']\n",
    "        filename_fr, filename_en = row['filename_fr'], row['filename_en']\n",
    "        \n",
    "        if filename_fr == \"WITHDRAWN\" and filename_en == \"WITHDRAWN\":\n",
    "            continue\n",
    "        \n",
    "        fr_link = get_json_file_link(parsed_docs_folder, filename_fr)\n",
    "        if fr_link == None:\n",
    "            continue\n",
    "        \n",
    "        if filename_fr == filename_en:\n",
    "            text_fr, text_en = extract_both_languages_from_single_file(fr_link, clf)\n",
    "        else:\n",
    "            en_link = get_json_file_link(parsed_docs_folder, filename_en) \n",
    "            if en_link == None:\n",
    "                continue\n",
    "            text_fr, text_en = extract_both_languages_from_two_files(fr_link, en_link, clf            )\n",
    "        \n",
    "        if debug:\n",
    "            matched_fr, matched_en = text_fr, text_en  # TODO: remove after DEBUG\n",
    "        else:            \n",
    "            matched_fr, matched_en = correlate_and_clean_text(text_fr, text_en)  # TODO: confirm\n",
    "        \n",
    "        matched_data.append({'pub_number': pub_number, 'text_fr': matched_fr, 'text_en': matched_en})\n",
    "    \n",
    "    return pd.DataFrame(matched_data)\n"
   ],
   "id": "2677bfe14b892d1e",
   "outputs": [],
   "execution_count": 3
  },
  {
   "metadata": {
    "ExecuteTime": {
     "end_time": "2025-02-13T12:29:21.700583Z",
     "start_time": "2025-02-13T12:23:07.289242Z"
    }
   },
   "cell_type": "code",
   "source": [
    "clf = LanguageClassifier()\n",
    "\n",
    "matched_df = process_all_rows(fr_eng_correlation_df, parsed_docs_folder, clf)"
   ],
   "id": "89a46335416a3704",
   "outputs": [],
   "execution_count": 4
  },
  {
   "metadata": {
    "ExecuteTime": {
     "end_time": "2025-02-13T12:29:29.383643Z",
     "start_time": "2025-02-13T12:29:21.713259Z"
    }
   },
   "cell_type": "code",
   "source": [
    "# TODO: a better way to do this??? merge from both sides? check for capital letter?\n",
    "\n",
    "def create_similarity_matrix(text_fr, text_en):\n",
    "    model = SentenceTransformer('sentence-transformers/paraphrase-multilingual-MiniLM-L12-v2')\n",
    "\n",
    "    sentences_fr = [x.strip() for x in text_fr.split(\".\") if x != \"\"]\n",
    "    sentences_en = [x.strip() for x in text_en.split(\".\") if x != \"\"]\n",
    "    \n",
    "    embeddings_fr = model.encode(sentences_fr, convert_to_tensor=True)\n",
    "    embeddings_en = model.encode(sentences_en, convert_to_tensor=True)\n",
    "\n",
    "    return util.pytorch_cos_sim(embeddings_fr, embeddings_en)\n",
    "\n",
    "\n",
    "row_n = 1000\n",
    "text_fr, text_en = matched_df.iloc[row_n]['text_fr'], matched_df.iloc[row_n]['text_en']\n",
    "similarity_matrix = create_similarity_matrix(text_fr, text_en)"
   ],
   "id": "d5795d2de8be12b9",
   "outputs": [],
   "execution_count": 5
  },
  {
   "metadata": {
    "ExecuteTime": {
     "end_time": "2025-02-13T12:37:55.313246Z",
     "start_time": "2025-02-13T12:37:55.052780Z"
    }
   },
   "cell_type": "code",
   "source": [
    "def plot_similarity_heatmap(similarity_matrix):\n",
    "    fig, ax = plt.subplots(figsize=(10, 10)) \n",
    "    \n",
    "    cmap = mcolors.ListedColormap([\"black\", \"darkblue\", \"deepskyblue\"])\n",
    "    bounds = [0, 0.7, 0.8, 1]\n",
    "    norm = mcolors.BoundaryNorm(bounds, cmap.N)\n",
    "\n",
    "    sns.heatmap(similarity_matrix, cmap=cmap, norm=norm, cbar=False, square=True, linewidths=0, ax=ax)\n",
    "\n",
    "    ax.tick_params(left=False, bottom=False)\n",
    "\n",
    "    plt.tight_layout()\n",
    "    plt.show()\n",
    "\n",
    "\n",
    "plot_similarity_heatmap(similarity_matrix)"
   ],
   "id": "b4c6f512808c48dc",
   "outputs": [
    {
     "data": {
      "text/plain": [
       "<Figure size 1000x1000 with 1 Axes>"
      ],
      "image/png": "[encoded data removed]"
     },
     "metadata": {},
     "output_type": "display_data"
    }
   ],
   "execution_count": 23
  },
  {
   "metadata": {
    "ExecuteTime": {
     "end_time": "2025-02-13T12:29:29.398555Z",
     "start_time": "2025-02-13T12:29:29.395461Z"
    }
   },
   "cell_type": "code",
   "source": [
    "# TODO: traverse matrix like tree or A*\n",
    "#  skip bad matches\n",
    "#  merge everything between good matches and recheck for match\n",
    "\n",
    "\n"
   ],
   "id": "e3444eef545f85f1",
   "outputs": [],
   "execution_count": 5
  },
  {
   "metadata": {},
   "cell_type": "code",
   "outputs": [],
   "execution_count": null,
   "source": "",
   "id": "1f9b8bb4446b28b2"
  },
  {
   "metadata": {},
   "cell_type": "code",
   "outputs": [],
   "execution_count": null,
   "source": "",
   "id": "6a9f0e4abad13417"
  },
  {
   "metadata": {},
   "cell_type": "code",
   "outputs": [],
   "execution_count": null,
   "source": "",
   "id": "7b7d7500bbc8c6ee"
  },
  {
   "metadata": {},
   "cell_type": "code",
   "outputs": [],
   "execution_count": null,
   "source": "",
   "id": "dd1925913e323e84"
  },
  {
   "metadata": {},
   "cell_type": "code",
   "outputs": [],
   "execution_count": null,
   "source": "",
   "id": "c856f430ce0282fd"
  },
  {
   "metadata": {},
   "cell_type": "code",
   "outputs": [],
   "execution_count": null,
   "source": "",
   "id": "5ea56b651e633ad7"
  },
  {
   "metadata": {},
   "cell_type": "code",
   "outputs": [],
   "execution_count": null,
   "source": "",
   "id": "ce77f2e365a495dd"
  },
  {
   "metadata": {},
   "cell_type": "code",
   "outputs": [],
   "execution_count": null,
   "source": "",
   "id": "1f64c9b0d0f179a2"
  },
  {
   "metadata": {},
   "cell_type": "code",
   "outputs": [],
   "execution_count": null,
   "source": "",
   "id": "9aed45700d9d45de"
  },
  {
   "metadata": {},
   "cell_type": "code",
   "outputs": [],
   "execution_count": null,
   "source": "",
   "id": "9dc6c11ec5967133"
  },
  {
   "metadata": {
    "ExecuteTime": {
     "end_time": "2025-02-13T12:29:29.439812Z",
     "start_time": "2025-02-13T12:29:29.425530Z"
    }
   },
   "cell_type": "code",
   "source": [
    "def merge_short_sentences(sentences, min_length=10):\n",
    "    merged_sentences = []\n",
    "    buffer = \"\"\n",
    "\n",
    "    for sentence in sentences:\n",
    "        if len(sentence) < min_length:\n",
    "            buffer += \" \" + sentence\n",
    "        else:\n",
    "            if buffer:\n",
    "                merged_sentences.append(buffer.strip() + \" \" + sentence)\n",
    "                buffer = \"\"\n",
    "            else:\n",
    "                merged_sentences.append(sentence)\n",
    "\n",
    "    if buffer:\n",
    "        merged_sentences.append(buffer.strip())\n",
    "\n",
    "    return merged_sentences\n",
    "\n",
    "\n",
    "def correlate_and_clean_text(text_fr, text_en):\n",
    "    # TODO: can this be force into order, go through en / fr at the same time, merging as required\n",
    "    \n",
    "    min_score = 0.7\n",
    "    \n",
    "    model = SentenceTransformer('sentence-transformers/paraphrase-multilingual-MiniLM-L12-v2')\n",
    "\n",
    "    sentences_fr = [x.strip() for x in text_fr.split(\".\") if x != \"\"]\n",
    "    sentences_en = [x.strip() for x in text_en.split(\".\") if x != \"\"]\n",
    "    \n",
    "    # TODO: merge short sentences\n",
    "\n",
    "    embeddings_fr = model.encode(sentences_fr, convert_to_tensor=True)\n",
    "    embeddings_en = model.encode(sentences_en, convert_to_tensor=True)\n",
    "\n",
    "    similarity_matrix = util.pytorch_cos_sim(embeddings_fr, embeddings_en)\n",
    "\n",
    "    matched_fr, matched_en = [], []\n",
    "    used_en_indices = set()\n",
    "\n",
    "    for i, emb_fr in enumerate(embeddings_fr):\n",
    "        scores = similarity_matrix[i]\n",
    "        best_match_idx = scores.argmax().item()\n",
    "        \n",
    "        if scores[best_match_idx] > min_score and best_match_idx not in used_en_indices:\n",
    "            matched_fr.append(sentences_fr[i])\n",
    "            matched_en.append(sentences_en[best_match_idx])\n",
    "            used_en_indices.add(best_match_idx)\n",
    "\n",
    "    return matched_fr, matched_en\n",
    "\n"
   ],
   "id": "79805753175f1988",
   "outputs": [],
   "execution_count": 6
  },
  {
   "metadata": {
    "ExecuteTime": {
     "end_time": "2025-02-13T12:29:34.771973Z",
     "start_time": "2025-02-13T12:29:29.476010Z"
    }
   },
   "cell_type": "code",
   "source": [
    "row_n = 1000\n",
    "text_fr, text_en = matched_df.iloc[row_n]['text_fr'], matched_df.iloc[row_n]['text_en']\n",
    "\n",
    "correlate_and_clean_text(text_fr, text_en)\n",
    "\n",
    "matched_fr, matched_en = correlate_and_clean_text(text_fr, text_en)\n",
    "\n",
    "for fr, en in zip(matched_fr, matched_en):\n",
    "    print(f\"FR: {fr}\\nEN: {en}\\n\")"
   ],
   "id": "857755a46ece422",
   "outputs": [
    {
     "name": "stdout",
     "output_type": "stream",
     "text": [
      "FR: Mont-Joli, Québec, G H Z Avant-propos Le présent compte rendu a pour but de consigner les principales activités et discussions qui ont eu lieu au cours de la réunion\n",
      "EN: Box Mont-Joli, Quebec G H Z Foreword The purpose of these Proceedings is to document the activities and key discussions of the meeting\n",
      "\n",
      "FR: Il peut contenir des recommandations sur les recherches à effectuer, les incertitudes et les justifications des décisions prises pendant la réunion\n",
      "EN: The Proceedings may include research recommendations, uncertainties, and the rationale for decisions made during the meeting\n",
      "\n",
      "FR: Le compte rendu peut aussi faire l état de données, d analyses ou d interprétations passées en revue et rejetées pour des raisons scientifiques, en donnant la raison du rejet\n",
      "EN: Proceedings may also document when data, analyses or interpretations were reviewed and rejected on scientific grounds, including the reason(s) for rejection\n",
      "\n",
      "FR: Bien que les interprétations et les opinions contenues dans le présent rapport puissent être inexactes ou propres à induire en erreur, elles sont quand même reproduites aussi fidèlement que possible afin de refléter les échanges tenus au cours de la réunion\n",
      "EN: As such, interpretations and opinions presented in this report individually may be factually incorrect or misleading, but are included to record as faithfully as possible what was considered at the meeting\n",
      "\n",
      "FR: Ainsi, aucune partie de ce rapport ne doit être considérée en tant que reflet des conclusions de la réunion, à moins d une indication précise en ce sens\n",
      "EN: No statements are to be taken as reflecting the conclusions of the meeting unless they are clearly identified as such\n",
      "\n",
      "FR: De plus, un examen ultérieur de la question pourrait entraîner des changements aux conclusions, notamment si des renseignements supplémentaires pertinents, non disponibles au moment de la réunion, sont fournis par la suite\n",
      "EN: Moreover, further review may result in a change of conclusions where additional information was identified as relevant to the topics being considered, but not available in the timeframe of the meeting\n",
      "\n",
      "FR: Finalement, dans les rares cas où des opinions divergentes sont exprimées officiellement, celles-ci sont également consignées dans les annexes du compte rendu\n",
      "EN: In the rare case when there are formal dissenting views, these are also archived as Annexes to the Proceedings\n",
      "\n",
      "FR: Publié par : Pêches et Océans Canada Secrétariat canadien de consultation scientifique , rue Kent Ottawa (Ontario) K A E http: www\n",
      "EN: Published by: Fisheries and Oceans Canada Canadian Science Advisory Secretariat Kent Street Ottawa ON K A E http: www\n",
      "\n",
      "FR: ca Sa Majesté la Reine du chef du Canada, ISSN - La présente publication doit être citée comme suit : MPO\n",
      "EN: ca Her Majesty the Queen in Right of Canada, ISSN - Correct citation for this publication: DFO\n",
      "\n",
      "FR: Compte rendu de l examen régional par des pairs portant sur l évaluation du flétan atlantique du golfe du Saint-Laurent ( RST); le février\n",
      "EN: Proceedings of the Regional Peer Review of the Assessment of Gulf of St\n",
      "\n",
      "FR: ca iii SOMMAIRE Ce document renferme le compte rendu de l examen régional par des pairs portant sur l'évaluation du stock de flétan atlantique du golfe du Saint-Laurent ( RST)\n",
      "EN: ca iii SUMMARY This document contains the proceeding from the meeting held within the regional Assessment of Atlantic Halibut of the Gulf of St\n",
      "\n",
      "FR: Cette revue, qui s'est déroulée le février à l'Institut Maurice-Lamontagne à Mont-Joli, a réuni près d une cinquantaine de participants des sciences, de la gestion et de l industrie\n",
      "EN: This meeting gathered about fifty participants from sciences, management and industry\n",
      "\n",
      "FR: Ce compte rendu contient l'essentiel des présentations et des discussions qui ont eu lieu pendant la réunion et fait état des recommandations et conclusions émises au moment de la revue\n",
      "EN: This proceeding contains the essential parts of the presentations and discussions held and relates the recommendations and conclusions that were presented during the review\n",
      "\n",
      "FR: INTRODUCTION La région du Québec de Pêches et Océans Canada (MPO) a la responsabilité de l'évaluation de plusieurs stocks de poissons et invertébrés exploités dans l'estuaire et le golfe du Saint- Laurent\n",
      "EN: INTRODUCTION The Quebec Region of Fisheries and Oceans Canada (DFO) is responsible for assessing several stocks of fish and invertebrate species harvested in the Estuary and Gulf of St\n",
      "\n",
      "FR: La plupart de ces stocks sont revus de façon périodique à l'intérieur d'un processus consultatif régional qui se déroule à l'Institut Maurice-Lamontagne à Mont-Joli\n",
      "EN: Most of these stocks are periodically assessed as part of a regional advisory process conducted at the Maurice Lamontagne Institute in Mont-Joli\n",
      "\n",
      "FR: Le présent document constitue le compte rendu de la réunion d évaluation du stock de flétan atlantique du golfe du Saint-Laurent ( RST), qui a eu lieu le février\n",
      "EN: This document consists of the proceedings of the assessment meeting held on February , , on the assessment of the Gulf of St\n",
      "\n",
      "FR: L objectif de la revue était de déterminer si des changements sont survenus dans l état de la ressource et s ils nécessitent des ajustements aux plans de gestion en fonction de l approche de conservation retenue avec, comme but ultime, de formuler un avis scientifique pour la gestion du stock de flétan atlantique du golfe du Saint-Laurent ( RST) pour les saisons de pêche et\n",
      "EN: The objective of the review was to determine whether there were any changes in the resource's status and whether adjustments were required to the management plans based on the chosen conservation approach, the ultimate goal being to provide scientific advice on managing the Gulf of St\n",
      "\n",
      "FR: Ce compte rendu fait état des principaux points des présentations et des délibérations qui découlent des activités du comité régional des évaluations de stocks\n",
      "EN: These proceedings report on the main points discussed in the presentations and deliberations stemming from the activities of the stock assessment regional committee\n",
      "\n",
      "FR: La revue régionale est un processus ouvert à tout participant en mesure d'apporter un regard critique sur l'état des ressources évaluées\n",
      "EN: The regional review is a process open to all participants who are able to provide a critical outlook on the status of the assessed resources\n",
      "\n",
      "FR: À cet égard, des participants de l'extérieur du MPO sont invités à contribuer aux activités du comité à l intérieur du cadre de référence défini pour cette revue (Annexes et )\n",
      "EN: Accordingly, participants from outside DFO are invited to take part in the committee s activities within the defined terms of reference for this review (Appendices and )\n",
      "\n",
      "FR: Le compte rendu fait également état des recommandations émises par l'assemblée\n",
      "EN: The proceedings also list the recommendations made by meeting participants\n",
      "\n",
      "FR: Arnaud LeBris expose brièvement les résultats d une étude de marquage par étiquettes satellites réalisée dans RST ( - )\n",
      "EN: After the participants have introduced themselves, Arnaud LeBris provides a brief overview of a satellite tagging study conducted in RST ( - )\n",
      "\n",
      "FR: Cette étude visait à examiner la migration saisonnière et la structure du stock chez le flétan atlantique, puis à identifier les comportements et les aires de ponte\n",
      "EN: The purpose of this study was to examine the seasonal migration and stock structure of Atlantic halibut, and then to identify behaviours and spawning areas\n",
      "\n",
      "FR: Ces travaux ont permis, entre autres, d identifier une aire de reproduction hivernale potentielle à des profondeurs de plus de m à la jonction des chenaux Esquiman et Laurentien près du détroit de Cabot\n",
      "EN: Among other things, the study identified a potential winter breeding area at depths greater than m at the junction of the Esquiman and Laurentian channels near Cabot Strait\n",
      "\n",
      "FR: Toutefois, on croit que les aires de ponte des deux stocks se chevauchent possiblement\n",
      "EN: However, it is believed that the spawning areas of both stocks may overlap\n",
      "\n",
      "FR: L assemblée souhaite que cette étude soit étendue aux autres régions du golfe de manière à mieux comprendre la migration du flétan atlantique\n",
      "EN: The participants hope that this study will be extended to the other regions of the Gulf to provide a better understanding of Atlantic halibut migration\n",
      "\n",
      "FR: Les données utilisées pour l évaluation proviennent de relevés indépendants de la pêche (relevé du MPO : nord et sud du golfe; relevé du programme sentinelle mobile : nord et sud du golfe) et de la pêche commerciale (rapport de contingents, journaux de bord, échantillonnage des captures et échantillonnage en mer)\n",
      "EN: Data from fishery-independent surveys (DFO survey: northern and southern Gulf; mobile gear sentinel survey: northern and southern gulf) and commercial fishery data (quota reports, logbooks, catch sampling and at-sea sampling) were used for the assessment\n",
      "\n",
      "FR: Il semble que le prix à l achat selon la taille soit un incitatif pour cibler certaines tailles, donc certains lieux de pêche\n",
      "EN: This appears to provide an incentive to target certain sizes, and therefore certain fishing grounds\n",
      "\n",
      "FR: On précise que la taille minimale actuelle de cm s applique à toutes les zones\n",
      "EN: A participant mentions that the current -cm minimum size applies to all areas\n",
      "\n",
      "FR: ÉVALUATION DE LA RESSOURCE DÉBARQUEMENTS Les débarquements de flétan atlantique sont en augmentation depuis le début des années et ont atteint les valeurs les plus élevées depuis\n",
      "EN: RESOURCE ASSESSMENT LANDINGS Atlantic halibut landings have been increasing since the early s and have reached the highest values since\n",
      "\n",
      "FR: Pour les années de gestion - et - , les débarquements préliminaires sont respectivement de t et t pour un TAC de t\n",
      "EN: For management years - and - , preliminary landings were respectively t and t for a TAC of t\n",
      "\n",
      "FR: Il n y a pas de raison de croire que le TAC de - ne sera pas atteint\n",
      "EN: There is no reason to believe that the - TAC will not be caught\n",
      "\n",
      "FR: On note que malgré la hausse des débarquements, ceux-ci demeurent bien loin des niveaux historiques\n",
      "EN: Despite the increase in landings, they remain well below historical levels\n",
      "\n",
      "FR: Il n y a aucune raison de douter de ces hauts niveaux historiques\n",
      "EN: There is no reason to doubt these high historical levels\n",
      "\n",
      "FR: On demande à la Gestion de mettre à jour les valeurs de - et de -\n",
      "EN: Management is asked to update the - and - values\n",
      "\n",
      "FR: RELEVÉS DE RECHERCHE Les indicateurs d abondance des pré-recrues provenant des relevés indépendants de la pêche ont atteint des niveaux parmi les plus élevés des séries historiques et les tendances récentes sont stables ou en augmentation\n",
      "EN: RESEARCH SURVEYS Pre-recruit abundance indicators from fishery-independent survey data reached among the highest levels in the historical series, and recent trends are stable or rising\n",
      "\n",
      "FR: De plus, les distributions de fréquence de taille suggèrent de bons recrutements à la pêche au cours des prochaines années\n",
      "EN: Also, the size frequency distributions suggest good recruitment to the fishery in the coming years\n",
      "\n",
      "FR: Aucun commentaire des participants n est soulevé suite à la présentation des relevés de recherche\n",
      "EN: The participants have no comments following the presentation on the research surveys\n",
      "\n",
      "FR: PÊCHE COMMERCIALE La capture par unité d effort de la pêche à la palangre dirigée au flétan atlantique est à son plus haut niveau historique et est stable depuis\n",
      "EN: COMMERCIAL FISHERY Catches per unit effort for the directed Atlantic halibut longline fishery are at their highest historical levels and have been stable since\n",
      "\n",
      "FR: Au cours des dix dernières années, la proportion de flétan atlantique de longueur inférieure à cm a diminué dans les captures en mer et était d environ lors des deux dernières années\n",
      "EN: Over the past years, the proportion of Atlantic halibut under cm has decreased in catches at sea and was about in the last two years\n",
      "\n",
      "FR: À l inverse, la proportion de flétans de plus de cm, soit la taille à de maturité pour les femelles, est passée de moins de à près de au cours des dernières années\n",
      "EN: size at maturity for females) increased from under to about over the past years\n",
      "\n",
      "FR: Des participants notent que la région de Terre-Neuve serait sous-représentée dans les débarquements étant donné que certains bateaux ne remplissent pas de journal de bord\n",
      "EN: Participants note that the Newfoundland region is under-represented in landings, as some vessels do not keep a logbook\n",
      "\n",
      "FR: Il semble qu il y ait moins de flétans capturés dans la pêche dirigée au turbot\n",
      "EN: Fewer halibut seem to be caught in the directed turbot fishery\n",
      "\n",
      "FR: AUTRES PROJETS DE RECHERCHE Un projet de marquage par étiquettes satellites dans le sud du golfe ( - ) est brièvement présenté ainsi que des projets pilotes réalisés en préparation d un relevé à la palangre et d un projet de marquage dans R et S ( - )\n",
      "EN: OTHER RESEARCH PROJECTS A short presentation is given on a satellite tagging project in the southern Gulf ( - ) and on pilot projects carried out in preparation for a longline survey and a tagging project in R and S ( - )\n",
      "\n",
      "FR: On note qu il pourrait y avoir une différence entre le nord et le sud du golfe\n",
      "EN: Participants note that there could be a difference between the northern and southern Gulf\n",
      "\n",
      "FR: Pour l instant, les résultats nous permettent d obtenir un tableau de conversion (poids- longueur) qui sera intégré au document de recherche\n",
      "EN: For now, the results have been used to produce a (weight-length) conversion table, which will be integrated into the research document\n",
      "\n",
      "FR: TAUX DE CONVERSION On a procédé au calcul d un taux de conversion pour convertir le poids éviscéré en poids rond, puis on a obtenu des valeurs inférieures à ce qui est utilisé actuellement ( , et , , selon la région)\n",
      "EN: CONVERSION FACTOR A conversion factor was calculated to convert gutted weight to round weight, and the resulting values were below those currently used (\n",
      "\n",
      "FR: Selon des participants, un indice de , serait plus près de la réalité\n",
      "EN: would be closer to reality\n",
      "\n",
      "FR: Des participants jugent que l échantillonnage est insuffisant\n",
      "EN: Some participants believe that sampling was insufficient\n",
      "\n",
      "FR: On note également un effet du mois, de la zone et du sexe\n",
      "EN: Participants also note that the month, area and sex have an effect\n",
      "\n",
      "FR: Il devrait y avoir une meilleure représentativité des saisons et des différentes zones dans l échantillonnage\n",
      "EN: Sampling should be more representative of the seasons and the different areas\n",
      "\n",
      "FR: CONCLUSION ANNÉE INTERMÉDIAIRE L assemblée s entend pour statuer pour deux ans (avis scientifique pour les saisons de pêche et )\n",
      "EN: CONCLUSION INTERIM YEAR The participants agree to provide advice for two years (scientific advice for the and fishing seasons)\n",
      "\n",
      "FR: Toutefois, il serait éventuellement pertinent d identifier un indice représentatif à suivre pour l année intermédiaire, ainsi qu un indice déclencheur d une pleine évaluation\n",
      "EN: However, it may be appropriate to identify a representative index to be followed for the interim year, as well as an index that will trigger a full assessment\n",
      "\n",
      "FR: Il est par ailleurs difficile d anticiper l impact du réchauffement des eaux profondes des chenaux sur le stock de flétan de RST\n",
      "EN: It is also difficult to anticipate how the warming of deep channel waters will affect the RST halibut stock\n",
      "\n",
      "FR: TRAVAUX DE RECHERCHE Les travaux jugés prioritaires par l assemblée visent à : Mettre en uvre un relevé à la palangre ; Identifier et évaluer le stock dans Pn ; Examiner les différences génétiques entre les deux unités de gestion ( RST et NOPs VWX Zc) ; Revoir le facteur de conversion poids rond poids éviscéré ; Évaluer l impact d un changement de la taille des hameçons sur les captures de flétan atlantique ; Examiner les échanges de poissons entre les deux unités de gestion ( RST et NOPs VWX Zc) ; Travailler sur le développement de points de référence ; Réfléchir à un indice représentatif pour l année intermédiaire et à un élément déclencheur d une pleine évaluation\n",
      "EN: RESEARCH The purpose of the work deemed a priority by the meeting is to: Implement a longline survey; Identify and assess the stock in Pn; Examine the genetic differences between the two management units ( RST and NOPs VWX Zc); Review the round weight gutted weight conversion factor; Assess the impact of a change in hook size on Atlantic halibut catches; Examine the exchange of fish between the two management units ( RST and NOPs VWX Zc); Work on the development of reference points; Think about a representative index for the interim year and a trigger for full assessment\n",
      "\n",
      "FR: Certains faits ont été retirés, d autres reformulés\n",
      "EN: Some facts are withdrawn; others are reworded\n",
      "\n",
      "FR: Les commentaires ayant trait à la reformulation stylistique ne sont pas rapportés\n",
      "EN: Comments having to do with stylistic rewording are not reported\n",
      "\n",
      "FR: Il convient de mentionner qu il n y a pas de raison de croire que le TAC de - ne sera pas atteint\n",
      "EN: It should be mentioned that there is no reason to believe that the - TAC will not be caught\n",
      "\n",
      "FR: Pour ce qui est des captures par unité d effort, il faut dire simplement qu elles sont à leurs plus hauts niveaux historiques et stables depuis\n",
      "EN: Catches per unit effort are at their highest historical levels and have been stable since\n",
      "\n",
      "FR: Des participants estiment que la composante exploitée du stock est stable depuis quatre ans, à son plus haut niveau historique, et que le recrutement à la pêche devrait augmenter au cours des prochaines années\n",
      "EN: Participants estimate that the fished component of the stock has been stable for the last four years, at its highest historical level, and that recruitment to the fishery is expected to increase in the coming years\n",
      "\n",
      "FR: Des représentants de l industrie considèrent toutefois qu il y a eu une augmentation (plutôt qu une stabilité) et souhaitent que ce point de vue soit mentionné dans le texte de l avis\n",
      "EN: However, industry representatives find there has been an increase (rather than stability) and would like this view to be mentioned in the advisory report\n",
      "\n",
      "FR: Finalement, des conclusions sont formulées : On ne dispose pas d indicateur fiable mesurant la biomasse reproductrice de ce stock\n",
      "EN: Finally, some conclusions are made: There is no reliable indicator to measure spawning biomass for this stock\n",
      "\n",
      "FR: La composante exploitée du stock est stable depuis quatre ans, à son plus haut niveau historique, et le recrutement à la pêche devrait augmenter au cours des prochaines années\n",
      "EN: The fished component of the stock has been stable for the last four years, at its highest historical level, and recruitment to the fishery is expected to increase in the coming years\n",
      "\n",
      "FR: Afin de protéger le potentiel reproducteur de la population, cette pêche est soumise à plusieurs mesures de gestion dont le contrôle des prises par un total autorisé des captures (TAC)\n",
      "EN: To protect the population s reproductive potential, this fishery is subject to several management measures including the control of catches by a total allowable catches (TAC)\n",
      "\n",
      "FR: À la demande de la Direction de la gestion des pêches, l évaluation de la ressource se fait aux deux ans\n",
      "EN: At the request of the fisheries management Branch, resource assessment is done every two years\n",
      "\n",
      "FR: Le but de la revue est de déterminer si des changements sont survenus dans l état de la ressource et s ils justifient des ajustements aux plans de gestion en fonction de l approche de conservation retenue\n",
      "EN: The purpose of the review is to determine whether changes have occurred in the status of the resource that would justify adjustments to the management plan based on the retained conservation approach\n",
      "\n"
     ]
    }
   ],
   "execution_count": 7
  },
  {
   "metadata": {
    "ExecuteTime": {
     "end_time": "2025-02-13T12:29:34.792329Z",
     "start_time": "2025-02-13T12:29:34.790196Z"
    }
   },
   "cell_type": "code",
   "source": "",
   "id": "2331414252a5d655",
   "outputs": [],
   "execution_count": null
  },
  {
   "metadata": {
    "ExecuteTime": {
     "end_time": "2025-02-13T12:29:34.835098Z",
     "start_time": "2025-02-13T12:29:34.820967Z"
    }
   },
   "cell_type": "code",
   "source": "",
   "id": "a7ca3380d63fd36e",
   "outputs": [],
   "execution_count": null
  },
  {
   "metadata": {
    "ExecuteTime": {
     "end_time": "2025-02-13T12:29:34.865277Z",
     "start_time": "2025-02-13T12:29:34.852382Z"
    }
   },
   "cell_type": "code",
   "source": "",
   "id": "8622119d199f3c18",
   "outputs": [],
   "execution_count": null
  },
  {
   "metadata": {
    "ExecuteTime": {
     "end_time": "2025-02-13T12:29:34.907634Z",
     "start_time": "2025-02-13T12:29:34.900438Z"
    }
   },
   "cell_type": "code",
   "source": "",
   "id": "23e12c33f49544d1",
   "outputs": [],
   "execution_count": null
  },
  {
   "metadata": {
    "ExecuteTime": {
     "end_time": "2025-02-13T12:29:34.948033Z",
     "start_time": "2025-02-13T12:29:34.945973Z"
    }
   },
   "cell_type": "code",
   "source": "",
   "id": "f2060d19431c4ed",
   "outputs": [],
   "execution_count": null
  },
  {
   "metadata": {
    "ExecuteTime": {
     "end_time": "2025-02-13T12:29:35.020022Z",
     "start_time": "2025-02-13T12:29:35.004440Z"
    }
   },
   "cell_type": "code",
   "source": "",
   "id": "3e58ad7ace6a3cc9",
   "outputs": [],
   "execution_count": null
  },
  {
   "metadata": {
    "ExecuteTime": {
     "end_time": "2025-02-13T12:29:35.067145Z",
     "start_time": "2025-02-13T12:29:35.061851Z"
    }
   },
   "cell_type": "code",
   "source": [
    "n_min = 30\n",
    "sentences_fr = [x.strip() for x in text_fr.split(\".\") if x != \"\"]\n",
    "sentences_en = [x.strip() for x in text_en.split(\".\") if x != \"\"]\n",
    "len(sentences_fr), len(merge_short_sentences(sentences_fr, n_min))"
   ],
   "id": "c8cb7e6f28c86344",
   "outputs": [
    {
     "data": {
      "text/plain": [
       "(82, 81)"
      ]
     },
     "execution_count": 8,
     "metadata": {},
     "output_type": "execute_result"
    }
   ],
   "execution_count": 8
  },
  {
   "metadata": {
    "ExecuteTime": {
     "end_time": "2025-02-13T12:29:35.143557Z",
     "start_time": "2025-02-13T12:29:35.128450Z"
    }
   },
   "cell_type": "code",
   "source": "[x for x in sentences_en if x not in merge_short_sentences(sentences_en, n_min)]",
   "id": "bf441ecf87d0c9fe",
   "outputs": [
    {
     "data": {
      "text/plain": [
       "['Purchase prices vary by size',\n",
       " 'This appears to provide an incentive to target certain sizes, and therefore certain fishing grounds',\n",
       " 'would be closer to reality',\n",
       " 'Some participants believe that sampling was insufficient']"
      ]
     },
     "execution_count": 9,
     "metadata": {},
     "output_type": "execute_result"
    }
   ],
   "execution_count": 9
  },
  {
   "metadata": {
    "ExecuteTime": {
     "end_time": "2025-02-13T12:29:35.189328Z",
     "start_time": "2025-02-13T12:29:35.184819Z"
    }
   },
   "cell_type": "code",
   "source": "[x for x in merge_short_sentences(sentences_en, n_min) if x not in sentences_en]",
   "id": "f954fdad64934a6c",
   "outputs": [
    {
     "data": {
      "text/plain": [
       "['Purchase prices vary by size This appears to provide an incentive to target certain sizes, and therefore certain fishing grounds',\n",
       " 'would be closer to reality Some participants believe that sampling was insufficient']"
      ]
     },
     "execution_count": 10,
     "metadata": {},
     "output_type": "execute_result"
    }
   ],
   "execution_count": 10
  },
  {
   "metadata": {
    "ExecuteTime": {
     "end_time": "2025-02-13T12:29:35.255848Z",
     "start_time": "2025-02-13T12:29:35.244341Z"
    }
   },
   "cell_type": "code",
   "source": "",
   "id": "48d319ca96cfcfd0",
   "outputs": [],
   "execution_count": null
  },
  {
   "metadata": {
    "ExecuteTime": {
     "end_time": "2025-02-13T12:29:35.274695Z",
     "start_time": "2025-02-13T12:29:35.272154Z"
    }
   },
   "cell_type": "code",
   "source": "",
   "id": "32e3b44ccfa0f2cf",
   "outputs": [],
   "execution_count": null
  },
  {
   "metadata": {
    "ExecuteTime": {
     "end_time": "2025-02-13T12:29:35.301548Z",
     "start_time": "2025-02-13T12:29:35.298796Z"
    }
   },
   "cell_type": "code",
   "source": "",
   "id": "7448853397ec27f4",
   "outputs": [],
   "execution_count": null
  },
  {
   "metadata": {
    "ExecuteTime": {
     "end_time": "2025-02-13T12:29:35.335669Z",
     "start_time": "2025-02-13T12:29:35.333819Z"
    }
   },
   "cell_type": "code",
   "source": "",
   "id": "f07ad1c8991fb101",
   "outputs": [],
   "execution_count": null
  }
 ],
 "metadata": {
  "kernelspec": {
   "display_name": "Python 3",
   "language": "python",
   "name": "python3"
  },
  "language_info": {
   "codemirror_mode": {
    "name": "ipython",
    "version": 2
   },
   "file_extension": ".py",
   "mimetype": "text/x-python",
   "name": "python",
   "nbconvert_exporter": "python",
   "pygments_lexer": "ipython2",
   "version": "2.7.6"
  }
 },
 "nbformat": 4,
 "nbformat_minor": 5
}
