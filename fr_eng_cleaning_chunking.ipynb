{
 "cells": [
  {
   "cell_type": "code",
   "id": "initial_id",
   "metadata": {
    "collapsed": true,
    "ExecuteTime": {
     "end_time": "2025-02-12T14:42:04.069324Z",
     "start_time": "2025-02-12T14:42:03.578060Z"
    }
   },
   "source": [
    "import difflib\n",
    "import json\n",
    "import os\n",
    "import random\n",
    "import re\n",
    "import pandas as pd\n",
    "import numpy as np\n",
    "import matplotlib.pyplot as plt\n",
    "\n",
    "from language_classifier.language_classifier import LanguageClassifier\n",
    "clf_0_2 = LanguageClassifier(max_incorrect_words=0, min_words_in_language=2)\n",
    "clf_1_2 = LanguageClassifier(max_incorrect_words=1, min_words_in_language=2)\n",
    "clf_1_3 = LanguageClassifier(max_incorrect_words=1, min_words_in_language=3)\n",
    "clf_1_4 = LanguageClassifier(max_incorrect_words=1, min_words_in_language=4)\n",
    "\n",
    "# formatting\n",
    "pd.set_option('display.float_format', '{:.1f}'.format)\n",
    "pd.set_option('display.max_columns', None)\n",
    "pd.set_option('display.max_rows', 100)\n",
    "pd.set_option('display.max_colwidth', 200)"
   ],
   "outputs": [],
   "execution_count": 1
  },
  {
   "metadata": {},
   "cell_type": "markdown",
   "source": "# import data",
   "id": "a9aae87a2e850e9"
  },
  {
   "metadata": {
    "ExecuteTime": {
     "end_time": "2025-02-12T14:42:04.857719Z",
     "start_time": "2025-02-12T14:42:04.770162Z"
    }
   },
   "cell_type": "code",
   "source": [
    "# folders\n",
    "parsed_docs_folder = os.path.join(\"..\", \"ParsedPublications\")\n",
    "fr_eng_correlation_csv = \"fr_eng_correlation_data.csv\"\n",
    "\n",
    "fr_eng_correlation_df = pd.read_csv(fr_eng_correlation_csv)\n",
    "\n",
    "# weblinks for previewing / testing\n",
    "weblinks_df = fr_eng_correlation_df.copy()\n",
    "weblinks_df = weblinks_df[['pub_number', 'nom', 'name', 'url_fr', 'url_en', 'file_url_fr', 'file_url_en']]\n",
    "\n",
    "# simplified correlation table\n",
    "fr_eng_correlation_df = fr_eng_correlation_df[['pub_number', 'filename_fr', 'filename_en']]"
   ],
   "id": "83675b54298a8486",
   "outputs": [],
   "execution_count": 2
  },
  {
   "metadata": {},
   "cell_type": "markdown",
   "source": "# helper functions",
   "id": "ca8dc9ee3a7f7d60"
  },
  {
   "metadata": {
    "ExecuteTime": {
     "end_time": "2025-02-12T14:42:04.864936Z",
     "start_time": "2025-02-12T14:42:04.857719Z"
    }
   },
   "cell_type": "code",
   "source": [
    "def preview_publication(pub_number):\n",
    "    if type(pub_number) is pd.DataFrame and pub_number.shape[0] == 1:\n",
    "        try:\n",
    "            pub_number = pub_number['pub_number'].values[0]\n",
    "        except ValueError:\n",
    "            return None\n",
    "    elif type(pub_number) is pd.Series:\n",
    "        try:\n",
    "            pub_number = pub_number.values[0]\n",
    "        except ValueError:\n",
    "            return None\n",
    "    \n",
    "    try:\n",
    "        output_df = weblinks_df[weblinks_df.pub_number == pub_number].T\n",
    "    except Exception as e:\n",
    "        print(e)\n",
    "        return None\n",
    "        \n",
    "    return output_df\n"
   ],
   "id": "93d13f552b93b1a0",
   "outputs": [],
   "execution_count": 3
  },
  {
   "metadata": {
    "ExecuteTime": {
     "end_time": "2025-02-12T14:43:04.429716Z",
     "start_time": "2025-02-12T14:43:04.421619Z"
    }
   },
   "cell_type": "code",
   "source": [
    "# DATA CLEANING FUNCTIONS\n",
    "\n",
    "def get_files_for_publication(pub_number, fr_eng_correlation_df):\n",
    "    row = fr_eng_correlation_df.loc[fr_eng_correlation_df['pub_number'] == pub_number]\n",
    "    if not row.empty:\n",
    "        filename_fr = row['filename_fr'].values[0]\n",
    "        filename_en = row['filename_en'].values[0]\n",
    "        return filename_fr, filename_en\n",
    "    return None, None\n",
    "\n",
    "\n",
    "def get_json_file_link(parsed_docs_folder, pdf_filename):\n",
    "    if pdf_filename.endswith(\".pdf\"):\n",
    "        json_filename = pdf_filename + \".json\"\n",
    "        for root, _, files in os.walk(parsed_docs_folder):\n",
    "            if json_filename in files:\n",
    "                return os.path.join(root, json_filename)\n",
    "    return None\n",
    "\n",
    "\n",
    "def extract_text_from_single_file(json_file, target_language, clf):\n",
    "    with open(json_file, 'r', encoding='utf-8') as file:\n",
    "        data = json.load(file)\n",
    "\n",
    "    if 'text' not in data:\n",
    "        raise KeyError(f\"The key 'text' is missing in the JSON file: {json_file}\")\n",
    "    \n",
    "    full_text = data['text']\n",
    "    text_blocks = re.split(r'[.\\n?]', full_text)\n",
    "    text = []\n",
    "\n",
    "    for block in text_blocks:\n",
    "        block = block.strip()\n",
    "        if not block:\n",
    "            continue\n",
    "            \n",
    "        if clf.classify(block) == target_language:\n",
    "            text.append(block)        \n",
    "\n",
    "    return \" \".join(text)\n",
    "\n",
    "\n",
    "def extract_both_languages_from_two_files(json_file_fr, json_file_en, clf):\n",
    "    return extract_text_from_single_file(json_file_fr, \"fr\", clf), extract_text_from_single_file(json_file_en, \"en\", clf)\n",
    "\n",
    "\n",
    "def extract_both_languages_from_single_file(json_file, clf):\n",
    "    with open(json_file, 'r', encoding='utf-8') as file:\n",
    "        data = json.load(file)\n",
    "\n",
    "    if 'text' not in data:\n",
    "        raise KeyError(f\"The key 'text' is missing in the JSON file: {json_file}\")\n",
    "    \n",
    "    full_text = data['text']\n",
    "    text_blocks = re.split(r'[.\\n?]', full_text)\n",
    "    text_fr, text_en = [], []\n",
    "\n",
    "    for block in text_blocks:\n",
    "        block = block.strip()\n",
    "        if not block:\n",
    "            continue\n",
    "            \n",
    "        if clf.classify(block) == \"fr\":\n",
    "            text_fr.append(block)   \n",
    "        elif clf.classify(block) == \"en\":\n",
    "            text_en.append(block)   \n",
    "\n",
    "    return \" \".join(text_fr), \" \".join(text_en)\n",
    "\n",
    "\n",
    "def correlate_and_clean_text(text_fr, text_en):\n",
    "    matcher = difflib.SequenceMatcher(None, text_fr.split(), text_en.split())\n",
    "    matched_fr, matched_en = [], []\n",
    "    \n",
    "    for tag, i1, i2, j1, j2 in matcher.get_opcodes():\n",
    "        if tag == 'equal':\n",
    "            matched_fr.append(\" \".join(text_fr.split()[i1:i2]))\n",
    "            matched_en.append(\" \".join(text_en.split()[j1:j2]))\n",
    "    \n",
    "    return matched_fr, matched_en\n",
    "\n",
    "\n",
    "def process_all_rows(fr_eng_correlation_df, parsed_docs_folder, clf):\n",
    "    debug = True  # TODO: remove after DEBUG\n",
    "    \n",
    "    matched_data = []\n",
    "    min_text_quality = 1\n",
    "    \n",
    "    for _, row in fr_eng_correlation_df.iterrows():\n",
    "        pub_number = row['pub_number']\n",
    "        filename_fr, filename_en = row['filename_fr'], row['filename_en']\n",
    "        \n",
    "        if filename_fr == \"WITHDRAWN\" and filename_en == \"WITHDRAWN\":\n",
    "            continue\n",
    "        \n",
    "        fr_link = get_json_file_link(parsed_docs_folder, filename_fr)\n",
    "        if fr_link == None:\n",
    "            continue\n",
    "        \n",
    "        if filename_fr == filename_en:\n",
    "            text_fr, text_en = extract_both_languages_from_single_file(fr_link, clf)\n",
    "        else:\n",
    "            en_link = get_json_file_link(parsed_docs_folder, filename_en) \n",
    "            if en_link == None:\n",
    "                continue\n",
    "            text_fr, text_en = extract_both_languages_from_two_files(fr_link, en_link, clf            )\n",
    "        \n",
    "        if debug:\n",
    "            matched_fr, matched_en = text_fr, text_en  # TODO: remove after DEBUG\n",
    "        else:            \n",
    "            matched_fr, matched_en = correlate_and_clean_text(text_fr, text_en)  # TODO: confirm\n",
    "        \n",
    "        matched_data.append({'pub_number': pub_number, 'text_fr': matched_fr, 'text_en': matched_en})\n",
    "    \n",
    "    return pd.DataFrame(matched_data)\n"
   ],
   "id": "2677bfe14b892d1e",
   "outputs": [],
   "execution_count": 6
  },
  {
   "metadata": {
    "ExecuteTime": {
     "end_time": "2025-02-12T17:31:46.219493Z",
     "start_time": "2025-02-12T17:18:47.995341Z"
    }
   },
   "cell_type": "code",
   "source": [
    "matched_df_0_2 = process_all_rows(fr_eng_correlation_df, parsed_docs_folder, clf_0_2)\n",
    "matched_df_1_2 = process_all_rows(fr_eng_correlation_df, parsed_docs_folder, clf_1_2)\n",
    "matched_df_1_3 = process_all_rows(fr_eng_correlation_df, parsed_docs_folder, clf_1_3)\n",
    "matched_df_1_4 = process_all_rows(fr_eng_correlation_df, parsed_docs_folder, clf_1_4)\n",
    "\n",
    "for df in [matched_df_0_2, matched_df_1_2, matched_df_1_3, matched_df_1_4]:\n",
    "    df['len_fr'] = df['text_fr'].str.len()\n",
    "    df['len_en'] = df['text_en'].str.len()\n",
    "    df['len_diff'] = np.where(\n",
    "        df[['len_fr', 'len_en']].min(axis=1) == 0,\n",
    "        9999,\n",
    "        df[['len_fr', 'len_en']].max(axis=1) / df[['len_fr', 'len_en']].min(axis=1)\n",
    "    )"
   ],
   "id": "1fda27a459b4f4ab",
   "outputs": [],
   "execution_count": 69
  },
  {
   "metadata": {
    "ExecuteTime": {
     "end_time": "2025-02-12T17:31:46.251557Z",
     "start_time": "2025-02-12T17:31:46.227999Z"
    }
   },
   "cell_type": "code",
   "source": [
    "pd.concat([\n",
    "    matched_df_0_2.rename({'len_diff': 't=0, n=2'}, axis=1)['t=0, n=2'].describe(percentiles=[0.975, .75, 0.5, .25, .025]),\n",
    "    matched_df_1_2.rename({'len_diff': 't=1, n=2'}, axis=1)['t=1, n=2'].describe(percentiles=[0.975, .75, 0.5, .25, .025]),\n",
    "    matched_df_1_3.rename({'len_diff': 't=1, n=3'}, axis=1)['t=1, n=3'].describe(percentiles=[0.975, .75, 0.5, .25, .025]),\n",
    "    matched_df_1_4.rename({'len_diff': 't=1, n=4'}, axis=1)['t=1, n=4'].describe(percentiles=[0.975, .75, 0.5, .25, .025]),\n",
    "], axis=1).drop(['std', 'count', 'mean'])"
   ],
   "id": "3d8c477d21d1440e",
   "outputs": [
    {
     "data": {
      "text/plain": [
       "       t=0, n=2  t=1, n=2  t=1, n=3  t=1, n=4\n",
       "min         1.0       1.0       1.0       1.0\n",
       "2.5%        1.1       1.1       1.2       1.2\n",
       "25%         1.3       1.3       1.3       1.4\n",
       "50%         7.9       7.6       7.6       8.1\n",
       "75%        18.0      17.4      17.2      19.2\n",
       "97.5%    9999.0    1039.8    9999.0    9999.0\n",
       "max      9999.0    9999.0    9999.0    9999.0"
      ],
      "text/html": [
       "<div>\n",
       "<style scoped>\n",
       "    .dataframe tbody tr th:only-of-type {\n",
       "        vertical-align: middle;\n",
       "    }\n",
       "\n",
       "    .dataframe tbody tr th {\n",
       "        vertical-align: top;\n",
       "    }\n",
       "\n",
       "    .dataframe thead th {\n",
       "        text-align: right;\n",
       "    }\n",
       "</style>\n",
       "<table border=\"1\" class=\"dataframe\">\n",
       "  <thead>\n",
       "    <tr style=\"text-align: right;\">\n",
       "      <th></th>\n",
       "      <th>t=0, n=2</th>\n",
       "      <th>t=1, n=2</th>\n",
       "      <th>t=1, n=3</th>\n",
       "      <th>t=1, n=4</th>\n",
       "    </tr>\n",
       "  </thead>\n",
       "  <tbody>\n",
       "    <tr>\n",
       "      <th>min</th>\n",
       "      <td>1.0</td>\n",
       "      <td>1.0</td>\n",
       "      <td>1.0</td>\n",
       "      <td>1.0</td>\n",
       "    </tr>\n",
       "    <tr>\n",
       "      <th>2.5%</th>\n",
       "      <td>1.1</td>\n",
       "      <td>1.1</td>\n",
       "      <td>1.2</td>\n",
       "      <td>1.2</td>\n",
       "    </tr>\n",
       "    <tr>\n",
       "      <th>25%</th>\n",
       "      <td>1.3</td>\n",
       "      <td>1.3</td>\n",
       "      <td>1.3</td>\n",
       "      <td>1.4</td>\n",
       "    </tr>\n",
       "    <tr>\n",
       "      <th>50%</th>\n",
       "      <td>7.9</td>\n",
       "      <td>7.6</td>\n",
       "      <td>7.6</td>\n",
       "      <td>8.1</td>\n",
       "    </tr>\n",
       "    <tr>\n",
       "      <th>75%</th>\n",
       "      <td>18.0</td>\n",
       "      <td>17.4</td>\n",
       "      <td>17.2</td>\n",
       "      <td>19.2</td>\n",
       "    </tr>\n",
       "    <tr>\n",
       "      <th>97.5%</th>\n",
       "      <td>9999.0</td>\n",
       "      <td>1039.8</td>\n",
       "      <td>9999.0</td>\n",
       "      <td>9999.0</td>\n",
       "    </tr>\n",
       "    <tr>\n",
       "      <th>max</th>\n",
       "      <td>9999.0</td>\n",
       "      <td>9999.0</td>\n",
       "      <td>9999.0</td>\n",
       "      <td>9999.0</td>\n",
       "    </tr>\n",
       "  </tbody>\n",
       "</table>\n",
       "</div>"
      ]
     },
     "execution_count": 70,
     "metadata": {},
     "output_type": "execute_result"
    }
   ],
   "execution_count": 70
  },
  {
   "metadata": {
    "ExecuteTime": {
     "end_time": "2025-02-12T17:32:13.331450Z",
     "start_time": "2025-02-12T17:32:13.205283Z"
    }
   },
   "cell_type": "code",
   "source": [
    "plt.figure(figsize=(12, 6))\n",
    "\n",
    "bins = [x/2 for x in range(2, 21)]\n",
    "data = [\n",
    "    (matched_df_1_4, 't=1, n=4'),\n",
    "    (matched_df_1_3, 't=1, n=3'), \n",
    "    (matched_df_1_2, 't=1, n=2'), \n",
    "    (matched_df_0_2, 't=0, n=2'), \n",
    "]\n",
    "\n",
    "for i, (df, label) in enumerate(data):\n",
    "    df['len_diff'].hist(bins=bins, width=(0.4-i/15), label=label)\n",
    "    \n",
    "plt.legend()\n",
    "plt.show()"
   ],
   "id": "b9fa66da4aad375f",
   "outputs": [
    {
     "data": {
      "text/plain": [
       "<Figure size 1200x600 with 1 Axes>"
      ],
      "image/png": "[encoded data removed]"
     },
     "metadata": {},
     "output_type": "display_data"
    }
   ],
   "execution_count": 73
  },
  {
   "metadata": {
    "ExecuteTime": {
     "end_time": "2025-02-12T17:32:35.695672Z",
     "start_time": "2025-02-12T17:32:35.606014Z"
    }
   },
   "cell_type": "code",
   "source": [
    "plt.figure(figsize=(12, 6))\n",
    "\n",
    "bins = [x/2 for x in range(2, 21)]\n",
    "data = [\n",
    "    (matched_df_1_2, 't=1, n=2'), \n",
    "    (matched_df_0_2, 't=0, n=2'), \n",
    "]\n",
    "\n",
    "for i, (df, label) in enumerate(data):\n",
    "    df['len_diff'].hist(bins=bins, width=(0.4-i/15), label=label)\n",
    "    \n",
    "plt.legend()\n",
    "plt.show()"
   ],
   "id": "19b2feb873663125",
   "outputs": [
    {
     "data": {
      "text/plain": [
       "<Figure size 1200x600 with 1 Axes>"
      ],
      "image/png": "[encoded data removed]"
     },
     "metadata": {},
     "output_type": "display_data"
    }
   ],
   "execution_count": 74
  },
  {
   "metadata": {
    "ExecuteTime": {
     "end_time": "2025-02-12T17:39:00.690378Z",
     "start_time": "2025-02-12T17:39:00.365820Z"
    }
   },
   "cell_type": "code",
   "source": [
    "plt.show()\n",
    "plt.figure(figsize=(10, 8))\n",
    "\n",
    "data = [\n",
    "    (matched_df_1_2, 't=1, n=2'),\n",
    "    (matched_df_0_2, 't=0, n=2'),\n",
    "]\n",
    "n = 100\n",
    "\n",
    "for i, (df, label) in enumerate(data):\n",
    "    df['len_diff'].hist(bins=n, width=(10000/n-i*3000/n), label=label)\n",
    "\n",
    "plt.legend()\n",
    "plt.show()\n",
    "\n",
    "# looks liek tolerance 1 is VERY VERY SLIGHTLY better"
   ],
   "id": "8a255d9a0e199ddc",
   "outputs": [
    {
     "data": {
      "text/plain": [
       "<Figure size 1000x800 with 1 Axes>"
      ],
      "image/png": "[encoded data removed]"
     },
     "metadata": {},
     "output_type": "display_data"
    }
   ],
   "execution_count": 94
  },
  {
   "metadata": {
    "ExecuteTime": {
     "end_time": "2025-02-12T14:05:26.807552Z",
     "start_time": "2025-02-12T14:05:26.803305Z"
    }
   },
   "cell_type": "code",
   "source": "",
   "id": "8280fdb330fd63fc",
   "outputs": [],
   "execution_count": null
  },
  {
   "metadata": {
    "ExecuteTime": {
     "end_time": "2025-02-12T14:05:26.831725Z",
     "start_time": "2025-02-12T14:05:26.819224Z"
    }
   },
   "cell_type": "code",
   "source": "",
   "id": "de7d2b6fa0215474",
   "outputs": [],
   "execution_count": null
  }
 ],
 "metadata": {
  "kernelspec": {
   "display_name": "Python 3",
   "language": "python",
   "name": "python3"
  },
  "language_info": {
   "codemirror_mode": {
    "name": "ipython",
    "version": 2
   },
   "file_extension": ".py",
   "mimetype": "text/x-python",
   "name": "python",
   "nbconvert_exporter": "python",
   "pygments_lexer": "ipython2",
   "version": "2.7.6"
  }
 },
 "nbformat": 4,
 "nbformat_minor": 5
}
