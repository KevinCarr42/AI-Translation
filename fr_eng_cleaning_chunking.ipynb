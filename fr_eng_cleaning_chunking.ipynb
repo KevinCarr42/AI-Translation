{
 "cells": [
  {
   "cell_type": "code",
   "id": "initial_id",
   "metadata": {
    "collapsed": true,
    "ExecuteTime": {
     "end_time": "2025-02-14T17:09:25.574873Z",
     "start_time": "2025-02-14T17:09:06.978662Z"
    }
   },
   "source": [
    "import difflib\n",
    "import json\n",
    "import os\n",
    "import random\n",
    "import re\n",
    "\n",
    "import matplotlib.colors as mcolors\n",
    "import matplotlib.pyplot as plt\n",
    "import numpy as np\n",
    "import pandas as pd\n",
    "import seaborn as sns\n",
    "from sentence_transformers import SentenceTransformer, util\n",
    "\n",
    "from language_classifier.language_classifier import LanguageClassifier\n",
    "\n",
    "# formatting\n",
    "pd.set_option('display.float_format', '{:.1f}'.format)\n",
    "pd.set_option('display.max_columns', None)\n",
    "pd.set_option('display.max_rows', 100)\n",
    "pd.set_option('display.max_colwidth', 100)"
   ],
   "outputs": [],
   "execution_count": 1
  },
  {
   "metadata": {},
   "cell_type": "markdown",
   "source": "# import data",
   "id": "a9aae87a2e850e9"
  },
  {
   "metadata": {
    "ExecuteTime": {
     "end_time": "2025-02-14T17:09:25.637137Z",
     "start_time": "2025-02-14T17:09:25.578031Z"
    }
   },
   "cell_type": "code",
   "source": [
    "# folders\n",
    "parsed_docs_folder = os.path.join(\"..\", \"ParsedPublications\")\n",
    "fr_eng_correlation_csv = \"fr_eng_correlation_data.csv\"\n",
    "\n",
    "fr_eng_correlation_df = pd.read_csv(fr_eng_correlation_csv)\n",
    "\n",
    "# weblinks for previewing / testing\n",
    "weblinks_df = fr_eng_correlation_df.copy()\n",
    "weblinks_df = weblinks_df[['pub_number', 'nom', 'name', 'url_fr', 'url_en', 'file_url_fr', 'file_url_en']]\n",
    "\n",
    "# simplified correlation table\n",
    "fr_eng_correlation_df = fr_eng_correlation_df[['pub_number', 'filename_fr', 'filename_en']]"
   ],
   "id": "83675b54298a8486",
   "outputs": [],
   "execution_count": 2
  },
  {
   "metadata": {},
   "cell_type": "markdown",
   "source": "# helper functions",
   "id": "ca8dc9ee3a7f7d60"
  },
  {
   "metadata": {
    "ExecuteTime": {
     "end_time": "2025-02-14T17:09:26.106590Z",
     "start_time": "2025-02-14T17:09:26.096819Z"
    }
   },
   "cell_type": "code",
   "source": [
    "# DATA CLEANING FUNCTIONS\n",
    "\n",
    "def clean_text(text):\n",
    "\n",
    "    allowed_chars = r\"[^a-zA-ZÀ-ÖØ-öø-ÿ.,;:!?()'\\\"-]\"\n",
    "    text = re.sub(allowed_chars, ' ', text)\n",
    "    text = re.sub(r'\\s+', ' ', text).strip()\n",
    "\n",
    "    return text\n",
    "\n",
    "\n",
    "def get_files_for_publication(pub_number, fr_eng_correlation_df):\n",
    "    row = fr_eng_correlation_df.loc[fr_eng_correlation_df['pub_number'] == pub_number]\n",
    "    if not row.empty:\n",
    "        filename_fr = row['filename_fr'].values[0]\n",
    "        filename_en = row['filename_en'].values[0]\n",
    "        return filename_fr, filename_en\n",
    "    return None, None\n",
    "\n",
    "\n",
    "def get_json_file_link(parsed_docs_folder, pdf_filename):\n",
    "    if pdf_filename.endswith(\".pdf\"):\n",
    "        json_filename = pdf_filename + \".json\"\n",
    "        for root, _, files in os.walk(parsed_docs_folder):\n",
    "            if json_filename in files:\n",
    "                return os.path.join(root, json_filename)\n",
    "    return None\n",
    "\n",
    "\n",
    "def extract_text_from_single_file(json_file, target_language, clf):\n",
    "    min_block_length = 10\n",
    "    max_block_length = 500\n",
    "    \n",
    "    with open(json_file, 'r', encoding='utf-8') as file:\n",
    "        data = json.load(file)\n",
    "\n",
    "    if 'text' not in data:\n",
    "        raise KeyError(f\"The key 'text' is missing in the JSON file: {json_file}\")\n",
    "    \n",
    "    full_text = clean_text(data['text'])\n",
    "    text_blocks = re.split(r'(?<![;,])[.?!]\\s|\\n\\n', full_text)\n",
    "    text = []\n",
    "\n",
    "    for block in text_blocks:\n",
    "        block = block.strip()\n",
    "        if len(block) < min_block_length or len(block) > max_block_length:\n",
    "            continue\n",
    "        \n",
    "        if clf.classify(block) == target_language:\n",
    "            text.append(block + '. ')      \n",
    "\n",
    "    return \" \".join(text)\n",
    "\n",
    "\n",
    "def extract_both_languages_from_two_files(json_file_fr, json_file_en, clf):\n",
    "    return extract_text_from_single_file(json_file_fr, \"fr\", clf), extract_text_from_single_file(json_file_en, \"en\", clf)\n",
    "\n",
    "\n",
    "def extract_both_languages_from_single_file(json_file, clf):\n",
    "    min_block_length = 10\n",
    "    max_block_length = 500\n",
    "    \n",
    "    with open(json_file, 'r', encoding='utf-8') as file:\n",
    "        data = json.load(file)\n",
    "\n",
    "    if 'text' not in data:\n",
    "        raise KeyError(f\"The key 'text' is missing in the JSON file: {json_file}\")\n",
    "    \n",
    "    full_text = data['text']\n",
    "    text_blocks = re.split(r'(?<![;,])[.?!]\\s|\\n\\n', full_text)\n",
    "    text_fr, text_en = [], []\n",
    "\n",
    "    for block in text_blocks:\n",
    "        block = block.strip()\n",
    "        if len(block) < min_block_length or len(block) > max_block_length:\n",
    "            continue\n",
    "            \n",
    "        if clf.classify(block) == \"fr\":\n",
    "            text_fr.append(block + '. ')   \n",
    "        elif clf.classify(block) == \"en\":\n",
    "            text_en.append(block + '. ')   \n",
    "\n",
    "    return \" \".join(text_fr), \" \".join(text_en)\n",
    "\n",
    "\n",
    "def correlate_and_clean_text(text_fr, text_en):\n",
    "    # TODO: update this to similarity matrix method\n",
    "    matcher = difflib.SequenceMatcher(None, text_fr.split(), text_en.split())\n",
    "    matched_fr, matched_en = [], []\n",
    "    \n",
    "    for tag, i1, i2, j1, j2 in matcher.get_opcodes():\n",
    "        if tag == 'equal':\n",
    "            matched_fr.append(\" \".join(text_fr.split()[i1:i2]))\n",
    "            matched_en.append(\" \".join(text_en.split()[j1:j2]))\n",
    "    \n",
    "    return matched_fr, matched_en\n",
    "\n",
    "\n",
    "def process_all_rows(fr_eng_correlation_df, parsed_docs_folder, clf):\n",
    "    debug = True  # TODO: remove after DEBUG\n",
    "    \n",
    "    matched_data = []\n",
    "    min_text_quality = 1\n",
    "    \n",
    "    for _, row in fr_eng_correlation_df.iterrows():\n",
    "        pub_number = row['pub_number']\n",
    "        filename_fr, filename_en = row['filename_fr'], row['filename_en']\n",
    "        \n",
    "        if filename_fr == \"WITHDRAWN\" and filename_en == \"WITHDRAWN\":\n",
    "            continue\n",
    "        \n",
    "        fr_link = get_json_file_link(parsed_docs_folder, filename_fr)\n",
    "        if fr_link == None:\n",
    "            continue\n",
    "        \n",
    "        if filename_fr == filename_en:\n",
    "            text_fr, text_en = extract_both_languages_from_single_file(fr_link, clf)\n",
    "        else:\n",
    "            en_link = get_json_file_link(parsed_docs_folder, filename_en) \n",
    "            if en_link == None:\n",
    "                continue\n",
    "            text_fr, text_en = extract_both_languages_from_two_files(fr_link, en_link, clf            )\n",
    "        \n",
    "        if debug:\n",
    "            matched_fr, matched_en = text_fr, text_en  # TODO: remove after DEBUG\n",
    "        else:            \n",
    "            matched_fr, matched_en = correlate_and_clean_text(text_fr, text_en)  # TODO: confirm\n",
    "        \n",
    "        matched_data.append({'pub_number': pub_number, 'text_fr': matched_fr, 'text_en': matched_en})\n",
    "    \n",
    "    return pd.DataFrame(matched_data)\n",
    "\n",
    "\n",
    "def preview_publication(pub_number):\n",
    "    if type(pub_number) is pd.DataFrame and pub_number.shape[0] == 1:\n",
    "        try:\n",
    "            pub_number = pub_number['pub_number'].values[0]\n",
    "        except ValueError:\n",
    "            return None\n",
    "    elif type(pub_number) is pd.Series:\n",
    "        try:\n",
    "            pub_number = pub_number.values[0]\n",
    "        except ValueError:\n",
    "            return None\n",
    "    \n",
    "    try:\n",
    "        output_df = weblinks_df[weblinks_df.pub_number == pub_number].T\n",
    "    except Exception as e:\n",
    "        print(e)\n",
    "        return None\n",
    "        \n",
    "    display(output_df)\n",
    "\n",
    "\n",
    "def preview_publication_by_row(row_n):\n",
    "    display(pd.DataFrame(matched_df.iloc[row_n]))\n",
    "    preview_publication(matched_df.iloc[row_n].pub_number)\n"
   ],
   "id": "2677bfe14b892d1e",
   "outputs": [],
   "execution_count": 3
  },
  {
   "metadata": {
    "ExecuteTime": {
     "end_time": "2025-02-14T17:14:30.188149Z",
     "start_time": "2025-02-14T17:09:26.128293Z"
    }
   },
   "cell_type": "code",
   "source": [
    "clf = LanguageClassifier()\n",
    "\n",
    "matched_df = process_all_rows(fr_eng_correlation_df, parsed_docs_folder, clf)\n",
    "matched_df['len_fr'] = matched_df['text_fr'].str.len()\n",
    "matched_df['len_en'] = matched_df['text_en'].str.len()\n",
    "matched_df['len_diff'] = np.where(\n",
    "    matched_df[['len_fr', 'len_en']].min(axis=1) == 0,\n",
    "    999,\n",
    "    matched_df[['len_fr', 'len_en']].max(axis=1) / matched_df[['len_fr', 'len_en']].min(axis=1)\n",
    ")"
   ],
   "id": "89a46335416a3704",
   "outputs": [],
   "execution_count": 4
  },
  {
   "metadata": {
    "ExecuteTime": {
     "end_time": "2025-02-14T19:06:41.377223Z",
     "start_time": "2025-02-14T19:06:41.354918Z"
    }
   },
   "cell_type": "code",
   "source": [
    "# TODO: UPDATE THIS\n",
    "\n",
    "def create_similarity_matrix(text_fr, text_en):\n",
    "    model = SentenceTransformer('sentence-transformers/paraphrase-multilingual-MiniLM-L12-v2')\n",
    "\n",
    "    sentences_fr = [x.strip() for x in re.split(r'(?<![;,])[.?!]\\s|\\n\\n', text_fr) if x != \"\"]\n",
    "    sentences_en = [x.strip() for x in re.split(r'(?<![;,])[.?!]\\s|\\n\\n', text_en) if x != \"\"]\n",
    "    \n",
    "    embeddings_fr = model.encode(sentences_fr, convert_to_tensor=True)\n",
    "    embeddings_en = model.encode(sentences_en, convert_to_tensor=True)\n",
    "\n",
    "    return util.pytorch_cos_sim(embeddings_fr, embeddings_en)\n",
    "\n",
    "\n",
    "def plot_similarity_heatmap(similarity_matrix, figsize=(10, 10), low_similarity=0.6, high_similarity=0.8, matched_pairs=None, cmap=None):\n",
    "    fig, ax = plt.subplots(figsize=figsize) \n",
    "    \n",
    "    if cmap:\n",
    "        sns.heatmap(similarity_matrix, cmap=cmap, cbar=False, square=True, linewidths=0, ax=ax)\n",
    "    else:\n",
    "        cmap = mcolors.ListedColormap([\"black\", \"darkblue\", \"deepskyblue\"])\n",
    "        bounds = [0, low_similarity, high_similarity, 1]\n",
    "        norm = mcolors.BoundaryNorm(bounds, cmap.N)\n",
    "    \n",
    "        sns.heatmap(similarity_matrix, cmap=cmap, norm=norm, cbar=False, square=True, linewidths=0, ax=ax)\n",
    "\n",
    "    if matched_pairs:\n",
    "        x_coords, y_coords = zip(*matched_pairs)\n",
    "        ax.plot(x_coords, y_coords, marker='o', linestyle='-', color='red', markersize=4, linewidth=1.5)\n",
    "\n",
    "    ax.tick_params(left=False, bottom=False)\n",
    "\n",
    "    plt.tight_layout()\n",
    "    plt.show()\n",
    "\n",
    "\n",
    "def text_from_row(row_n):\n",
    "    return matched_df.iloc[row_n]['text_fr'], matched_df.iloc[row_n]['text_en']\n",
    "\n",
    "\n",
    "def text_from_pub_number(pub_number):\n",
    "    return matched_df[matched_df.pub_number == pub_number].text_fr.values[0], matched_df[matched_df.pub_number == pub_number].text_en.values[0]\n",
    "\n",
    "\n",
    "def display_similarity_matrix(row_n, inverse=False, figsize=(10, 10)):\n",
    "    text_fr, text_en = text_from_row(row_n)\n",
    "    similarity_matrix = create_similarity_matrix(text_fr, text_en)\n",
    "    if inverse:\n",
    "        plot_similarity_heatmap(similarity_matrix.T, figsize=figsize)\n",
    "    else:\n",
    "        plot_similarity_heatmap(similarity_matrix, figsize=figsize)\n",
    "    \n",
    "\n",
    "# TODO: consider replacing with manual merge during pathfinding through the similarity matrix\n",
    "def merge_short_sentences(sentences, min_length=10):\n",
    "    merged_sentences = []\n",
    "    buffer = \"\"\n",
    "\n",
    "    for sentence in sentences:\n",
    "        if len(sentence) < min_length:\n",
    "            buffer += \" \" + sentence\n",
    "        else:\n",
    "            if buffer:\n",
    "                merged_sentences.append(buffer.strip() + \" \" + sentence)\n",
    "                buffer = \"\"\n",
    "            else:\n",
    "                merged_sentences.append(sentence)\n",
    "\n",
    "    if buffer:\n",
    "        merged_sentences.append(buffer.strip())\n",
    "\n",
    "    return merged_sentences\n",
    "\n",
    "\n",
    "def correlate_and_clean_text(text_fr, text_en):\n",
    "    # TODO: traverse matrix like tree or A*, \n",
    "    #  i and j must always increase, no jumping around \n",
    "    #  skip bad matches for both languages\n",
    "    #  merge everything between good matches and recheck for match\n",
    "    \n",
    "    min_score = 0.7\n",
    "    \n",
    "    model = SentenceTransformer('sentence-transformers/paraphrase-multilingual-MiniLM-L12-v2')\n",
    "\n",
    "    sentences_fr = [x.strip() for x in re.split(r'(?<![;,])[.?!]\\s|\\n\\n', text_fr) if x != \"\"]\n",
    "    sentences_en = [x.strip() for x in re.split(r'(?<![;,])[.?!]\\s|\\n\\n', text_en) if x != \"\"]\n",
    "    \n",
    "    # TODO: merge short sentences\n",
    "\n",
    "    embeddings_fr = model.encode(sentences_fr, convert_to_tensor=True)\n",
    "    embeddings_en = model.encode(sentences_en, convert_to_tensor=True)\n",
    "\n",
    "    similarity_matrix = util.pytorch_cos_sim(embeddings_fr, embeddings_en)\n",
    "\n",
    "    matched_fr, matched_en = [], []\n",
    "    used_en_indices = set()\n",
    "\n",
    "    for i, emb_fr in enumerate(embeddings_fr):\n",
    "        scores = similarity_matrix[i]\n",
    "        best_match_idx = scores.argmax().item()\n",
    "        \n",
    "        if scores[best_match_idx] > min_score and best_match_idx not in used_en_indices:\n",
    "            matched_fr.append(sentences_fr[i])\n",
    "            matched_en.append(sentences_en[best_match_idx])\n",
    "            used_en_indices.add(best_match_idx)\n",
    "\n",
    "    return matched_fr, matched_en\n",
    "    "
   ],
   "id": "d5795d2de8be12b9",
   "outputs": [],
   "execution_count": 104
  },
  {
   "metadata": {
    "ExecuteTime": {
     "end_time": "2025-02-14T17:14:36.228266Z",
     "start_time": "2025-02-14T17:14:30.210585Z"
    }
   },
   "cell_type": "code",
   "source": [
    "row_n = 1000\n",
    "text_fr, text_en = matched_df.iloc[row_n]['text_fr'], matched_df.iloc[row_n]['text_en']\n",
    "similarity_matrix = create_similarity_matrix(text_fr, text_en)"
   ],
   "id": "2ec00f5ca5a058d3",
   "outputs": [],
   "execution_count": 6
  },
  {
   "metadata": {
    "ExecuteTime": {
     "end_time": "2025-02-14T17:14:38.960061Z",
     "start_time": "2025-02-14T17:14:36.237940Z"
    }
   },
   "cell_type": "code",
   "source": [
    "# no!, what happened\n",
    "display_similarity_matrix(row_n)"
   ],
   "id": "8da723005af1b8d8",
   "outputs": [
    {
     "data": {
      "text/plain": [
       "<Figure size 1000x1000 with 1 Axes>"
      ],
      "image/png": "[encoded data removed]"
     },
     "metadata": {},
     "output_type": "display_data"
    }
   ],
   "execution_count": 7
  },
  {
   "metadata": {
    "ExecuteTime": {
     "end_time": "2025-02-14T17:14:39.001601Z",
     "start_time": "2025-02-14T17:14:38.990217Z"
    }
   },
   "cell_type": "code",
   "source": [
    "# re.split(r'(?<![;,])([.?!]\\s|\\n\\n)', text_fr[:200])\n",
    "re.split(r'(?<![;,])[.?!]\\s|\\n\\n', text_fr[:200])"
   ],
   "id": "ba676845ca7de169",
   "outputs": [
    {
     "data": {
      "text/plain": [
       "['Mont-Joli, Québec, G H Z Avant-propos Le présent compte rendu a pour but de consigner les principales activités et discussions qui ont eu lieu au cours de la réunion',\n",
       " ' Il peut contenir des recommandat']"
      ]
     },
     "execution_count": 8,
     "metadata": {},
     "output_type": "execute_result"
    }
   ],
   "execution_count": 8
  },
  {
   "metadata": {
    "ExecuteTime": {
     "end_time": "2025-02-14T17:14:39.038558Z",
     "start_time": "2025-02-14T17:14:39.027103Z"
    }
   },
   "cell_type": "code",
   "source": "text_fr[:200].split('. ')\n",
   "id": "b78adbc1a021fd5",
   "outputs": [
    {
     "data": {
      "text/plain": [
       "['Mont-Joli, Québec, G H Z Avant-propos Le présent compte rendu a pour but de consigner les principales activités et discussions qui ont eu lieu au cours de la réunion',\n",
       " ' Il peut contenir des recommandat']"
      ]
     },
     "execution_count": 9,
     "metadata": {},
     "output_type": "execute_result"
    }
   ],
   "execution_count": 9
  },
  {
   "metadata": {
    "ExecuteTime": {
     "end_time": "2025-02-14T17:14:39.149032Z",
     "start_time": "2025-02-14T17:14:39.146690Z"
    }
   },
   "cell_type": "code",
   "source": "",
   "id": "51db51475a09ae73",
   "outputs": [],
   "execution_count": null
  },
  {
   "metadata": {
    "ExecuteTime": {
     "end_time": "2025-02-14T17:14:39.164791Z",
     "start_time": "2025-02-14T17:14:39.160704Z"
    }
   },
   "cell_type": "code",
   "source": "",
   "id": "871e7865bdbe69ec",
   "outputs": [],
   "execution_count": null
  },
  {
   "metadata": {
    "ExecuteTime": {
     "end_time": "2025-02-14T17:14:39.271757Z",
     "start_time": "2025-02-14T17:14:39.255948Z"
    }
   },
   "cell_type": "code",
   "source": "",
   "id": "ad4a5c0087015cc6",
   "outputs": [],
   "execution_count": null
  },
  {
   "metadata": {},
   "cell_type": "markdown",
   "source": "# Junk Data (abstract only translations)",
   "id": "70096f89d48a69a7"
  },
  {
   "metadata": {
    "ExecuteTime": {
     "end_time": "2025-02-14T17:14:39.286815Z",
     "start_time": "2025-02-14T17:14:39.271757Z"
    }
   },
   "cell_type": "code",
   "source": [
    "# let's look at the garbage data and see if we can fix it\n",
    "min_doc_length = 1000\n",
    "matched_df[((matched_df.len_fr < min_doc_length) | (matched_df.len_en < min_doc_length))].drop(['text_fr', 'text_en'], axis=1).sample(10)"
   ],
   "id": "bb339a2ecd62c2a4",
   "outputs": [
    {
     "data": {
      "text/plain": [
       "          pub_number  len_fr  len_en  len_diff\n",
       "3050    RES 1997/006     923    6201       6.7\n",
       "1980    RES 1986/075     708    8411      11.9\n",
       "1546    RES 1981/076     722   15480      21.4\n",
       "2632    RES 1993/044     983    7759       7.9\n",
       "8556  SSR 1999/C6-13      59    5489      93.0\n",
       "1526    RES 1981/056     647    8104      12.5\n",
       "82      PRO 1999/028       0   96200     999.0\n",
       "2399    RES 1991/019     875   13957      16.0\n",
       "1430    RES 1980/039     933   16682      17.9\n",
       "1418    RES 1980/027     329    8435      25.6"
      ],
      "text/html": [
       "<div>\n",
       "<style scoped>\n",
       "    .dataframe tbody tr th:only-of-type {\n",
       "        vertical-align: middle;\n",
       "    }\n",
       "\n",
       "    .dataframe tbody tr th {\n",
       "        vertical-align: top;\n",
       "    }\n",
       "\n",
       "    .dataframe thead th {\n",
       "        text-align: right;\n",
       "    }\n",
       "</style>\n",
       "<table border=\"1\" class=\"dataframe\">\n",
       "  <thead>\n",
       "    <tr style=\"text-align: right;\">\n",
       "      <th></th>\n",
       "      <th>pub_number</th>\n",
       "      <th>len_fr</th>\n",
       "      <th>len_en</th>\n",
       "      <th>len_diff</th>\n",
       "    </tr>\n",
       "  </thead>\n",
       "  <tbody>\n",
       "    <tr>\n",
       "      <th>3050</th>\n",
       "      <td>RES 1997/006</td>\n",
       "      <td>923</td>\n",
       "      <td>6201</td>\n",
       "      <td>6.7</td>\n",
       "    </tr>\n",
       "    <tr>\n",
       "      <th>1980</th>\n",
       "      <td>RES 1986/075</td>\n",
       "      <td>708</td>\n",
       "      <td>8411</td>\n",
       "      <td>11.9</td>\n",
       "    </tr>\n",
       "    <tr>\n",
       "      <th>1546</th>\n",
       "      <td>RES 1981/076</td>\n",
       "      <td>722</td>\n",
       "      <td>15480</td>\n",
       "      <td>21.4</td>\n",
       "    </tr>\n",
       "    <tr>\n",
       "      <th>2632</th>\n",
       "      <td>RES 1993/044</td>\n",
       "      <td>983</td>\n",
       "      <td>7759</td>\n",
       "      <td>7.9</td>\n",
       "    </tr>\n",
       "    <tr>\n",
       "      <th>8556</th>\n",
       "      <td>SSR 1999/C6-13</td>\n",
       "      <td>59</td>\n",
       "      <td>5489</td>\n",
       "      <td>93.0</td>\n",
       "    </tr>\n",
       "    <tr>\n",
       "      <th>1526</th>\n",
       "      <td>RES 1981/056</td>\n",
       "      <td>647</td>\n",
       "      <td>8104</td>\n",
       "      <td>12.5</td>\n",
       "    </tr>\n",
       "    <tr>\n",
       "      <th>82</th>\n",
       "      <td>PRO 1999/028</td>\n",
       "      <td>0</td>\n",
       "      <td>96200</td>\n",
       "      <td>999.0</td>\n",
       "    </tr>\n",
       "    <tr>\n",
       "      <th>2399</th>\n",
       "      <td>RES 1991/019</td>\n",
       "      <td>875</td>\n",
       "      <td>13957</td>\n",
       "      <td>16.0</td>\n",
       "    </tr>\n",
       "    <tr>\n",
       "      <th>1430</th>\n",
       "      <td>RES 1980/039</td>\n",
       "      <td>933</td>\n",
       "      <td>16682</td>\n",
       "      <td>17.9</td>\n",
       "    </tr>\n",
       "    <tr>\n",
       "      <th>1418</th>\n",
       "      <td>RES 1980/027</td>\n",
       "      <td>329</td>\n",
       "      <td>8435</td>\n",
       "      <td>25.6</td>\n",
       "    </tr>\n",
       "  </tbody>\n",
       "</table>\n",
       "</div>"
      ]
     },
     "execution_count": 10,
     "metadata": {},
     "output_type": "execute_result"
    }
   ],
   "execution_count": 10
  },
  {
   "metadata": {
    "ExecuteTime": {
     "end_time": "2025-02-14T17:14:39.350606Z",
     "start_time": "2025-02-14T17:14:39.345538Z"
    }
   },
   "cell_type": "code",
   "source": "matched_df.iloc[4000, 3:]",
   "id": "6677c20358c9929e",
   "outputs": [
    {
     "data": {
      "text/plain": [
       "len_fr       4205\n",
       "len_en      80713\n",
       "len_diff     19.2\n",
       "Name: 4000, dtype: object"
      ]
     },
     "execution_count": 11,
     "metadata": {},
     "output_type": "execute_result"
    }
   ],
   "execution_count": 11
  },
  {
   "metadata": {
    "ExecuteTime": {
     "end_time": "2025-02-14T17:14:39.470373Z",
     "start_time": "2025-02-14T17:14:39.458415Z"
    }
   },
   "cell_type": "code",
   "source": [
    "n = 4000\n",
    "# display_similarity_matrix(n)\n",
    "text_fr, text_en = matched_df.iloc[n, 1], matched_df.iloc[n, 2]\n",
    "# create_similarity_matrix(text_fr, text_en)\n",
    "preview_publication_by_row(n)"
   ],
   "id": "fcb633145026b84b",
   "outputs": [
    {
     "data": {
      "text/plain": [
       "                                                                                                           4000\n",
       "pub_number                                                                                         RES 2002/123\n",
       "text_fr     S C C S\\nSecrétariat canadien de consultation scientifique.  Ne pas citer sans\\nautorisation des...\n",
       "text_en     C S A S\\nCanadian Science Advisory Secretariat.  Not to be cited without\\npermission of the auth...\n",
       "len_fr                                                                                                     4205\n",
       "len_en                                                                                                    80713\n",
       "len_diff                                                                                                   19.2"
      ],
      "text/html": [
       "<div>\n",
       "<style scoped>\n",
       "    .dataframe tbody tr th:only-of-type {\n",
       "        vertical-align: middle;\n",
       "    }\n",
       "\n",
       "    .dataframe tbody tr th {\n",
       "        vertical-align: top;\n",
       "    }\n",
       "\n",
       "    .dataframe thead th {\n",
       "        text-align: right;\n",
       "    }\n",
       "</style>\n",
       "<table border=\"1\" class=\"dataframe\">\n",
       "  <thead>\n",
       "    <tr style=\"text-align: right;\">\n",
       "      <th></th>\n",
       "      <th>4000</th>\n",
       "    </tr>\n",
       "  </thead>\n",
       "  <tbody>\n",
       "    <tr>\n",
       "      <th>pub_number</th>\n",
       "      <td>RES 2002/123</td>\n",
       "    </tr>\n",
       "    <tr>\n",
       "      <th>text_fr</th>\n",
       "      <td>S C C S\\nSecrétariat canadien de consultation scientifique.  Ne pas citer sans\\nautorisation des...</td>\n",
       "    </tr>\n",
       "    <tr>\n",
       "      <th>text_en</th>\n",
       "      <td>C S A S\\nCanadian Science Advisory Secretariat.  Not to be cited without\\npermission of the auth...</td>\n",
       "    </tr>\n",
       "    <tr>\n",
       "      <th>len_fr</th>\n",
       "      <td>4205</td>\n",
       "    </tr>\n",
       "    <tr>\n",
       "      <th>len_en</th>\n",
       "      <td>80713</td>\n",
       "    </tr>\n",
       "    <tr>\n",
       "      <th>len_diff</th>\n",
       "      <td>19.2</td>\n",
       "    </tr>\n",
       "  </tbody>\n",
       "</table>\n",
       "</div>"
      ]
     },
     "metadata": {},
     "output_type": "display_data"
    },
    {
     "data": {
      "text/plain": [
       "                                                                                              4053\n",
       "pub_number                                                                            RES 2002/123\n",
       "nom              Examen de la biologie et de la pêche des Embiotocidés de la Colombie-Britannique.\n",
       "name                   A review of the biology and fishery of the Embiotocids of British Columbia.\n",
       "url_fr       http://www.dfo-mpo.gc.ca/csas-sccs/publications/resdocs-docrech/2002/2002_123-fra.htm\n",
       "url_en       http://www.dfo-mpo.gc.ca/csas-sccs/publications/resdocs-docrech/2002/2002_123-eng.htm\n",
       "file_url_fr                     https://waves-vagues.dfo-mpo.gc.ca/library-bibliotheque/272802.pdf\n",
       "file_url_en                     https://waves-vagues.dfo-mpo.gc.ca/library-bibliotheque/272802.pdf"
      ],
      "text/html": [
       "<div>\n",
       "<style scoped>\n",
       "    .dataframe tbody tr th:only-of-type {\n",
       "        vertical-align: middle;\n",
       "    }\n",
       "\n",
       "    .dataframe tbody tr th {\n",
       "        vertical-align: top;\n",
       "    }\n",
       "\n",
       "    .dataframe thead th {\n",
       "        text-align: right;\n",
       "    }\n",
       "</style>\n",
       "<table border=\"1\" class=\"dataframe\">\n",
       "  <thead>\n",
       "    <tr style=\"text-align: right;\">\n",
       "      <th></th>\n",
       "      <th>4053</th>\n",
       "    </tr>\n",
       "  </thead>\n",
       "  <tbody>\n",
       "    <tr>\n",
       "      <th>pub_number</th>\n",
       "      <td>RES 2002/123</td>\n",
       "    </tr>\n",
       "    <tr>\n",
       "      <th>nom</th>\n",
       "      <td>Examen de la biologie et de la pêche des Embiotocidés de la Colombie-Britannique.</td>\n",
       "    </tr>\n",
       "    <tr>\n",
       "      <th>name</th>\n",
       "      <td>A review of the biology and fishery of the Embiotocids of British Columbia.</td>\n",
       "    </tr>\n",
       "    <tr>\n",
       "      <th>url_fr</th>\n",
       "      <td>http://www.dfo-mpo.gc.ca/csas-sccs/publications/resdocs-docrech/2002/2002_123-fra.htm</td>\n",
       "    </tr>\n",
       "    <tr>\n",
       "      <th>url_en</th>\n",
       "      <td>http://www.dfo-mpo.gc.ca/csas-sccs/publications/resdocs-docrech/2002/2002_123-eng.htm</td>\n",
       "    </tr>\n",
       "    <tr>\n",
       "      <th>file_url_fr</th>\n",
       "      <td>https://waves-vagues.dfo-mpo.gc.ca/library-bibliotheque/272802.pdf</td>\n",
       "    </tr>\n",
       "    <tr>\n",
       "      <th>file_url_en</th>\n",
       "      <td>https://waves-vagues.dfo-mpo.gc.ca/library-bibliotheque/272802.pdf</td>\n",
       "    </tr>\n",
       "  </tbody>\n",
       "</table>\n",
       "</div>"
      ]
     },
     "metadata": {},
     "output_type": "display_data"
    }
   ],
   "execution_count": 12
  },
  {
   "metadata": {
    "ExecuteTime": {
     "end_time": "2025-02-14T17:14:39.709067Z",
     "start_time": "2025-02-14T17:14:39.703837Z"
    }
   },
   "cell_type": "code",
   "source": [
    "diff_max = 5\n",
    "matched_df[matched_df.len_diff > diff_max].shape[0]"
   ],
   "id": "22b83df00c6a5e7b",
   "outputs": [
    {
     "data": {
      "text/plain": [
       "4924"
      ]
     },
     "execution_count": 13,
     "metadata": {},
     "output_type": "execute_result"
    }
   ],
   "execution_count": 13
  },
  {
   "metadata": {
    "ExecuteTime": {
     "end_time": "2025-02-14T17:14:40.014257Z",
     "start_time": "2025-02-14T17:14:40.005154Z"
    }
   },
   "cell_type": "code",
   "source": "matched_df['len_diff'].describe()",
   "id": "79eef5bb4ddcac8f",
   "outputs": [
    {
     "data": {
      "text/plain": [
       "count   8932.0\n",
       "mean      43.3\n",
       "std      167.7\n",
       "min        1.0\n",
       "25%        1.2\n",
       "50%        8.3\n",
       "75%       19.8\n",
       "max     2711.8\n",
       "Name: len_diff, dtype: float64"
      ]
     },
     "execution_count": 14,
     "metadata": {},
     "output_type": "execute_result"
    }
   ],
   "execution_count": 14
  },
  {
   "metadata": {
    "ExecuteTime": {
     "end_time": "2025-02-14T17:14:40.244305Z",
     "start_time": "2025-02-14T17:14:40.238095Z"
    }
   },
   "cell_type": "code",
   "source": [
    "min_doc_chars = 1000\n",
    "max_len_ratio = 5\n",
    "\n",
    "matched_df.loc[(matched_df.len_fr > min_doc_chars) & (matched_df.len_en > min_doc_chars), 'len_diff'].describe()"
   ],
   "id": "ef086b69d0617559",
   "outputs": [
    {
     "data": {
      "text/plain": [
       "count   8022.0\n",
       "mean      11.8\n",
       "std       17.0\n",
       "min        1.0\n",
       "25%        1.1\n",
       "50%        5.3\n",
       "75%       16.9\n",
       "max      206.7\n",
       "Name: len_diff, dtype: float64"
      ]
     },
     "execution_count": 15,
     "metadata": {},
     "output_type": "execute_result"
    }
   ],
   "execution_count": 15
  },
  {
   "metadata": {
    "ExecuteTime": {
     "end_time": "2025-02-14T17:14:40.765046Z",
     "start_time": "2025-02-14T17:14:40.392372Z"
    }
   },
   "cell_type": "code",
   "source": [
    "junk_df = matched_df.loc[(matched_df.len_fr < min_doc_chars) | (matched_df.len_en < min_doc_chars) | (matched_df.len_diff > max_len_ratio)].copy()\n",
    "junk_pub_numbers = junk_df['pub_number'].to_list() \n",
    "junk_df.loc[:, 'year'] = junk_df['pub_number'].str.extract(r'(\\d{4})')\n",
    "junk_df['year'] = pd.to_numeric(junk_df['year'], errors='coerce')\n",
    "\n",
    "good_df = fr_eng_correlation_df[(~fr_eng_correlation_df.pub_number.isin(junk_pub_numbers)) & (fr_eng_correlation_df.filename_fr != \"WITHDRAWN\")].copy()\n",
    "good_df.loc[:, 'year'] = good_df['pub_number'].str.extract(r'(\\d{4})')\n",
    "good_df['year'] = pd.to_numeric(good_df['year'], errors='coerce')"
   ],
   "id": "dec7cd19473630b2",
   "outputs": [],
   "execution_count": 16
  },
  {
   "metadata": {
    "ExecuteTime": {
     "end_time": "2025-02-14T17:14:41.020951Z",
     "start_time": "2025-02-14T17:14:40.800647Z"
    }
   },
   "cell_type": "code",
   "source": [
    "all_years = np.arange(1977, 2025)\n",
    "junk_year_counts = junk_df['year'].value_counts().reindex(all_years, fill_value=0)\n",
    "good_year_counts = good_df['year'].value_counts().reindex(all_years, fill_value=0)\n",
    "\n",
    "plt.figure(figsize=(16, 8))\n",
    "plt.bar(junk_year_counts.index, junk_year_counts.values, color='blue', edgecolor='black', label='Junk Data', hatch='xxx')\n",
    "plt.bar(good_year_counts.index, good_year_counts.values, color='blue', edgecolor='black', label='Good Data', bottom=junk_year_counts.values)\n",
    "\n",
    "plt.xlabel(\"Year\")\n",
    "plt.ylabel(\"Count\")\n",
    "plt.title(\"Number of Publications Per Year (1977-2024)\")\n",
    "plt.legend()\n",
    "\n",
    "plt.show()"
   ],
   "id": "114672d0d2a47730",
   "outputs": [
    {
     "data": {
      "text/plain": [
       "<Figure size 1600x800 with 1 Axes>"
      ],
      "image/png": "[encoded data removed]"
     },
     "metadata": {},
     "output_type": "display_data"
    }
   ],
   "execution_count": 17
  },
  {
   "metadata": {
    "ExecuteTime": {
     "end_time": "2025-02-14T17:14:41.041688Z",
     "start_time": "2025-02-14T17:14:41.037821Z"
    }
   },
   "cell_type": "code",
   "source": [
    "# # CONFIRMED: only fr abstract, all else en \n",
    "# preview_publication_by_row(5412)\n",
    "# preview_publication_by_row(5607)\n",
    "# preview_publication_by_row(4605)\n",
    "# preview_publication_by_row(3580)\n",
    "# preview_publication_by_row(5457)\n",
    "# preview_publication_by_row(4768)"
   ],
   "id": "5d5ae3af2cd97168",
   "outputs": [],
   "execution_count": 18
  },
  {
   "metadata": {
    "ExecuteTime": {
     "end_time": "2025-02-14T17:17:05.235611Z",
     "start_time": "2025-02-14T17:17:00.481373Z"
    }
   },
   "cell_type": "code",
   "source": [
    "# only the abstract overlaps\n",
    "\n",
    "text_fr, text_en = text_from_row(5607)\n",
    "similarity_matrix = create_similarity_matrix(text_fr, text_en)\n",
    "\n",
    "plot_similarity_heatmap(similarity_matrix[:, 135:150], figsize=(6, 5))"
   ],
   "id": "589e9552f252e6d7",
   "outputs": [
    {
     "data": {
      "text/plain": [
       "<Figure size 600x500 with 1 Axes>"
      ],
      "image/png": "[encoded data removed]"
     },
     "metadata": {},
     "output_type": "display_data"
    }
   ],
   "execution_count": 50
  },
  {
   "metadata": {
    "ExecuteTime": {
     "end_time": "2025-02-14T17:14:45.795418Z",
     "start_time": "2025-02-14T17:14:45.781526Z"
    }
   },
   "cell_type": "code",
   "source": "preview_publication_by_row(5607)",
   "id": "45a6cdd04a07bbcf",
   "outputs": [
    {
     "data": {
      "text/plain": [
       "                                                                                                           5607\n",
       "pub_number                                                                                         RES 2016/066\n",
       "text_fr     Cadre d'évaluation de la composante des reproducteurs d'automne du hareng de \\nl'Atlantique (Clu...\n",
       "text_en     Canadian Science Advisory Secretariat (CSAS).  Assessment framework for fall-spawning Atlantic h...\n",
       "len_fr                                                                                                     1864\n",
       "len_en                                                                                                    73284\n",
       "len_diff                                                                                                   39.3"
      ],
      "text/html": [
       "<div>\n",
       "<style scoped>\n",
       "    .dataframe tbody tr th:only-of-type {\n",
       "        vertical-align: middle;\n",
       "    }\n",
       "\n",
       "    .dataframe tbody tr th {\n",
       "        vertical-align: top;\n",
       "    }\n",
       "\n",
       "    .dataframe thead th {\n",
       "        text-align: right;\n",
       "    }\n",
       "</style>\n",
       "<table border=\"1\" class=\"dataframe\">\n",
       "  <thead>\n",
       "    <tr style=\"text-align: right;\">\n",
       "      <th></th>\n",
       "      <th>5607</th>\n",
       "    </tr>\n",
       "  </thead>\n",
       "  <tbody>\n",
       "    <tr>\n",
       "      <th>pub_number</th>\n",
       "      <td>RES 2016/066</td>\n",
       "    </tr>\n",
       "    <tr>\n",
       "      <th>text_fr</th>\n",
       "      <td>Cadre d'évaluation de la composante des reproducteurs d'automne du hareng de \\nl'Atlantique (Clu...</td>\n",
       "    </tr>\n",
       "    <tr>\n",
       "      <th>text_en</th>\n",
       "      <td>Canadian Science Advisory Secretariat (CSAS).  Assessment framework for fall-spawning Atlantic h...</td>\n",
       "    </tr>\n",
       "    <tr>\n",
       "      <th>len_fr</th>\n",
       "      <td>1864</td>\n",
       "    </tr>\n",
       "    <tr>\n",
       "      <th>len_en</th>\n",
       "      <td>73284</td>\n",
       "    </tr>\n",
       "    <tr>\n",
       "      <th>len_diff</th>\n",
       "      <td>39.3</td>\n",
       "    </tr>\n",
       "  </tbody>\n",
       "</table>\n",
       "</div>"
      ]
     },
     "metadata": {},
     "output_type": "display_data"
    },
    {
     "data": {
      "text/plain": [
       "                                                                                                            5680\n",
       "pub_number                                                                                          RES 2016/066\n",
       "nom          Cadre d'évaluation de la composante des reproducteurs d'automne du hareng de l'Atlantique (Clupe...\n",
       "name         Assessment framework for fall-spawning Atlantic herring (Clupea harengus) in the southern Gulf o...\n",
       "url_fr                    http://www.dfo-mpo.gc.ca/csas-sccs/Publications/ResDocs-DocRech/2016/2016_066-fra.html\n",
       "url_en                    http://www.dfo-mpo.gc.ca/csas-sccs/Publications/ResDocs-DocRech/2016/2016_066-eng.html\n",
       "file_url_fr                                   https://waves-vagues.dfo-mpo.gc.ca/library-bibliotheque/365980.pdf\n",
       "file_url_en                                   https://waves-vagues.dfo-mpo.gc.ca/library-bibliotheque/365980.pdf"
      ],
      "text/html": [
       "<div>\n",
       "<style scoped>\n",
       "    .dataframe tbody tr th:only-of-type {\n",
       "        vertical-align: middle;\n",
       "    }\n",
       "\n",
       "    .dataframe tbody tr th {\n",
       "        vertical-align: top;\n",
       "    }\n",
       "\n",
       "    .dataframe thead th {\n",
       "        text-align: right;\n",
       "    }\n",
       "</style>\n",
       "<table border=\"1\" class=\"dataframe\">\n",
       "  <thead>\n",
       "    <tr style=\"text-align: right;\">\n",
       "      <th></th>\n",
       "      <th>5680</th>\n",
       "    </tr>\n",
       "  </thead>\n",
       "  <tbody>\n",
       "    <tr>\n",
       "      <th>pub_number</th>\n",
       "      <td>RES 2016/066</td>\n",
       "    </tr>\n",
       "    <tr>\n",
       "      <th>nom</th>\n",
       "      <td>Cadre d'évaluation de la composante des reproducteurs d'automne du hareng de l'Atlantique (Clupe...</td>\n",
       "    </tr>\n",
       "    <tr>\n",
       "      <th>name</th>\n",
       "      <td>Assessment framework for fall-spawning Atlantic herring (Clupea harengus) in the southern Gulf o...</td>\n",
       "    </tr>\n",
       "    <tr>\n",
       "      <th>url_fr</th>\n",
       "      <td>http://www.dfo-mpo.gc.ca/csas-sccs/Publications/ResDocs-DocRech/2016/2016_066-fra.html</td>\n",
       "    </tr>\n",
       "    <tr>\n",
       "      <th>url_en</th>\n",
       "      <td>http://www.dfo-mpo.gc.ca/csas-sccs/Publications/ResDocs-DocRech/2016/2016_066-eng.html</td>\n",
       "    </tr>\n",
       "    <tr>\n",
       "      <th>file_url_fr</th>\n",
       "      <td>https://waves-vagues.dfo-mpo.gc.ca/library-bibliotheque/365980.pdf</td>\n",
       "    </tr>\n",
       "    <tr>\n",
       "      <th>file_url_en</th>\n",
       "      <td>https://waves-vagues.dfo-mpo.gc.ca/library-bibliotheque/365980.pdf</td>\n",
       "    </tr>\n",
       "  </tbody>\n",
       "</table>\n",
       "</div>"
      ]
     },
     "metadata": {},
     "output_type": "display_data"
    }
   ],
   "execution_count": 20
  },
  {
   "metadata": {
    "ExecuteTime": {
     "end_time": "2025-02-14T17:14:45.811528Z",
     "start_time": "2025-02-14T17:14:45.808507Z"
    }
   },
   "cell_type": "code",
   "source": "",
   "id": "14dbad9971e561e4",
   "outputs": [],
   "execution_count": null
  },
  {
   "metadata": {},
   "cell_type": "markdown",
   "source": "# decide whether to import abstract only translations",
   "id": "d4bf46d853ae0ed2"
  },
  {
   "metadata": {
    "ExecuteTime": {
     "end_time": "2025-02-14T17:14:46.017341Z",
     "start_time": "2025-02-14T17:14:46.003230Z"
    }
   },
   "cell_type": "code",
   "source": [
    "# how many are single file en / fr? \n",
    "#  basically all of them\n",
    "\n",
    "junk_filenames = fr_eng_correlation_df[fr_eng_correlation_df.pub_number.isin(junk_pub_numbers)]  # does not include withdrawn\n",
    "\n",
    "(\n",
    "    junk_filenames[junk_filenames.filename_en == junk_filenames.filename_fr].shape[0], \n",
    "    junk_filenames[junk_filenames.filename_en != junk_filenames.filename_fr].shape[0]\n",
    ")"
   ],
   "id": "86369d8c9d481899",
   "outputs": [
    {
     "data": {
      "text/plain": [
       "(4936, 6)"
      ]
     },
     "execution_count": 21,
     "metadata": {},
     "output_type": "execute_result"
    }
   ],
   "execution_count": 21
  },
  {
   "metadata": {
    "ExecuteTime": {
     "end_time": "2025-02-14T17:14:46.071286Z",
     "start_time": "2025-02-14T17:14:46.051299Z"
    }
   },
   "cell_type": "code",
   "source": [
    "# nearly all fr text is lower, which is consistent with the abstract only translations\n",
    "junk_df[junk_df.len_fr < junk_df.len_en].shape[0], junk_df[junk_df.len_fr > junk_df.len_en].shape[0]"
   ],
   "id": "ed17023eacbec848",
   "outputs": [
    {
     "data": {
      "text/plain": [
       "(4672, 242)"
      ]
     },
     "execution_count": 22,
     "metadata": {},
     "output_type": "execute_result"
    }
   ],
   "execution_count": 22
  },
  {
   "metadata": {
    "ExecuteTime": {
     "end_time": "2025-02-14T17:14:46.160808Z",
     "start_time": "2025-02-14T17:14:46.146354Z"
    }
   },
   "cell_type": "code",
   "source": [
    "# how many single file translations are good? \n",
    "#  542 vs 3522 double file translations\n",
    "\n",
    "good_filenames = fr_eng_correlation_df[(~fr_eng_correlation_df.pub_number.isin(junk_pub_numbers)) & (fr_eng_correlation_df.filename_fr != \"WITHDRAWN\")]\n",
    "(\n",
    "    good_filenames[good_filenames.filename_fr == good_filenames.filename_en].shape[0],\n",
    "    good_filenames[good_filenames.filename_fr != good_filenames.filename_en].shape[0],\n",
    ")"
   ],
   "id": "ccf088b667c0a1d1",
   "outputs": [
    {
     "data": {
      "text/plain": [
       "(539, 3522)"
      ]
     },
     "execution_count": 23,
     "metadata": {},
     "output_type": "execute_result"
    }
   ],
   "execution_count": 23
  },
  {
   "metadata": {
    "ExecuteTime": {
     "end_time": "2025-02-14T17:14:46.245044Z",
     "start_time": "2025-02-14T17:14:46.225922Z"
    }
   },
   "cell_type": "code",
   "source": [
    "# check len ratio and len min\n",
    "\n",
    "def print_n_docs(char_n=None, len_ratio=None):\n",
    "    if char_n:\n",
    "        if len_ratio:\n",
    "            print(matched_df.loc[(matched_df.len_fr < char_n) | (matched_df.len_en < char_n) | (matched_df.len_diff > len_ratio)].shape[0])\n",
    "        else:\n",
    "            print(matched_df.loc[(matched_df.len_fr < char_n) | (matched_df.len_en < char_n)].shape[0])\n",
    "    elif len_ratio:\n",
    "        print(matched_df.loc[matched_df.len_diff > len_ratio].shape[0])\n",
    "    else:\n",
    "        print(matched_df.shape[0])\n",
    "    "
   ],
   "id": "7143e08bf5268a75",
   "outputs": [],
   "execution_count": 24
  },
  {
   "metadata": {
    "ExecuteTime": {
     "end_time": "2025-02-14T17:14:46.271632Z",
     "start_time": "2025-02-14T17:14:46.258928Z"
    }
   },
   "cell_type": "code",
   "source": [
    "print_n_docs(char_n=1000, len_ratio=5)\n",
    "print_n_docs(char_n=1000)\n",
    "print_n_docs(len_ratio=5)\n",
    "print_n_docs(len_ratio=3)"
   ],
   "id": "2f8e203ba028adb2",
   "outputs": [
    {
     "name": "stdout",
     "output_type": "stream",
     "text": [
      "4942\n",
      "909\n",
      "4924\n",
      "5035\n"
     ]
    }
   ],
   "execution_count": 25
  },
  {
   "metadata": {
    "ExecuteTime": {
     "end_time": "2025-02-14T17:14:46.326697Z",
     "start_time": "2025-02-14T17:14:46.317842Z"
    }
   },
   "cell_type": "code",
   "source": [
    "# let's look at len ratio between 3 and 5 - all look like only the abstract is translated\n",
    "medium_filenames = matched_df.loc[(matched_df.len_diff >= 3) & (matched_df.len_diff < 5)].copy()\n",
    "\n",
    "medium_pub_numbers = medium_filenames.pub_number.to_list()\n",
    "\n",
    "medium_filenames.sample(10)"
   ],
   "id": "727b22142dc90575",
   "outputs": [
    {
     "data": {
      "text/plain": [
       "        pub_number  \\\n",
       "1877  RES 1985/081   \n",
       "2413  RES 1991/033   \n",
       "2963  RES 1996/061   \n",
       "3837  RES 2001/113   \n",
       "2738  RES 1994/074   \n",
       "4256  RES 2004/124   \n",
       "2699  RES 1994/035   \n",
       "650   PRO 2011/057   \n",
       "2378  RES 1990/091   \n",
       "435   PRO 2007/049   \n",
       "\n",
       "                                                                                                  text_fr  \\\n",
       "1877  Ne pas citer sans \\nautorisation des auteursI.  Cbnite scientifique consultatif des \\npecbes can...   \n",
       "2413  'cette serle documente les bases \\nscientifiques des oonseils de gestion \\ndes peches sur la cOt...   \n",
       "2963  Ne pas citer sans\\nautorisation des auteurs'.  MPO Pêches de l'Atlantique DFO Atlantic Fisheries...   \n",
       "3837  S C C S\\nSecrétariat canadien de consultation scientifique.  * La présente série documente les b...   \n",
       "2738  Ne pas citer sans\\nautorisation des auteurs '.  MPO Pêches de l'Atlantique\\nDocument de recherch...   \n",
       "4256  Secrétariat canadien de consultation scientifique.  * La présente série documente les bases \\nsc...   \n",
       "2699  DFO Atlantic Fisheries MPO Pêches de l'Atlantique\\nResearch Document 94/35 Document de recherche...   \n",
       "650   Secrétariat canadien de consultation scientifique.  Atelier régional sur les résultats \\nprélimi...   \n",
       "2378  Ne pas citer sans\\nautorisation des auteurs i.  Comite scientifique consultatif des\\np€ches cana...   \n",
       "435   Secrétariat canadien de consultation scientifique.  Compte rendu de la réunion du sous-\\ncomité ...   \n",
       "\n",
       "                                                                                                  text_en  \\\n",
       "1877  tibt to be cited without \\npemdssion of the authorsl.  canadian Atlantic Fisheries \\nScientific ...   \n",
       "2413  Moncton, New Brunswick.  ''!his series documents the scientific \\nbasis for fisheries management...   \n",
       "2963  Not to be cited without\\npermission of the authors'.  'This series documents the scientific basi...   \n",
       "3837  C S A S\\nCanadian Science Advisory Secretariat.  * This series documents the scientific basis fo...   \n",
       "2738  Not to be cited without\\npermission of the authors'.  Department of Fisheries and Oceans\\nP.  Jo...   \n",
       "4256  Canadian Science Advisory Secretariat.  * This series documents the scientific basis for the \\ne...   \n",
       "2699  'This series documents the scientific basis for the\\nevaluation of fisheries resources in Atlant...   \n",
       "650   Canadian Science Advisory Secretariat.  Regional workshop on preliminary \\nresults from the mult...   \n",
       "2378  Not to be cited without\\npermission of the authors '.  Canadian Atlantic Fisheries\\nScientific A...   \n",
       "435   Canadian Science Advisory Secretariat.  Proceedings of the PSARC \\nInvertebrate Subcommittee Mee...   \n",
       "\n",
       "      len_fr  len_en  len_diff  \n",
       "1877    8344    1805       4.6  \n",
       "2413    6847   24488       3.6  \n",
       "2963   10579    2571       4.1  \n",
       "3837    2694   13253       4.9  \n",
       "2738    1397    6552       4.7  \n",
       "4256    4559   19430       4.3  \n",
       "2699   12089    2509       4.8  \n",
       "650     7729    1945       4.0  \n",
       "2378    6499   22108       3.4  \n",
       "435     4282   20884       4.9  "
      ],
      "text/html": [
       "<div>\n",
       "<style scoped>\n",
       "    .dataframe tbody tr th:only-of-type {\n",
       "        vertical-align: middle;\n",
       "    }\n",
       "\n",
       "    .dataframe tbody tr th {\n",
       "        vertical-align: top;\n",
       "    }\n",
       "\n",
       "    .dataframe thead th {\n",
       "        text-align: right;\n",
       "    }\n",
       "</style>\n",
       "<table border=\"1\" class=\"dataframe\">\n",
       "  <thead>\n",
       "    <tr style=\"text-align: right;\">\n",
       "      <th></th>\n",
       "      <th>pub_number</th>\n",
       "      <th>text_fr</th>\n",
       "      <th>text_en</th>\n",
       "      <th>len_fr</th>\n",
       "      <th>len_en</th>\n",
       "      <th>len_diff</th>\n",
       "    </tr>\n",
       "  </thead>\n",
       "  <tbody>\n",
       "    <tr>\n",
       "      <th>1877</th>\n",
       "      <td>RES 1985/081</td>\n",
       "      <td>Ne pas citer sans \\nautorisation des auteursI.  Cbnite scientifique consultatif des \\npecbes can...</td>\n",
       "      <td>tibt to be cited without \\npemdssion of the authorsl.  canadian Atlantic Fisheries \\nScientific ...</td>\n",
       "      <td>8344</td>\n",
       "      <td>1805</td>\n",
       "      <td>4.6</td>\n",
       "    </tr>\n",
       "    <tr>\n",
       "      <th>2413</th>\n",
       "      <td>RES 1991/033</td>\n",
       "      <td>'cette serle documente les bases \\nscientifiques des oonseils de gestion \\ndes peches sur la cOt...</td>\n",
       "      <td>Moncton, New Brunswick.  ''!his series documents the scientific \\nbasis for fisheries management...</td>\n",
       "      <td>6847</td>\n",
       "      <td>24488</td>\n",
       "      <td>3.6</td>\n",
       "    </tr>\n",
       "    <tr>\n",
       "      <th>2963</th>\n",
       "      <td>RES 1996/061</td>\n",
       "      <td>Ne pas citer sans\\nautorisation des auteurs'.  MPO Pêches de l'Atlantique DFO Atlantic Fisheries...</td>\n",
       "      <td>Not to be cited without\\npermission of the authors'.  'This series documents the scientific basi...</td>\n",
       "      <td>10579</td>\n",
       "      <td>2571</td>\n",
       "      <td>4.1</td>\n",
       "    </tr>\n",
       "    <tr>\n",
       "      <th>3837</th>\n",
       "      <td>RES 2001/113</td>\n",
       "      <td>S C C S\\nSecrétariat canadien de consultation scientifique.  * La présente série documente les b...</td>\n",
       "      <td>C S A S\\nCanadian Science Advisory Secretariat.  * This series documents the scientific basis fo...</td>\n",
       "      <td>2694</td>\n",
       "      <td>13253</td>\n",
       "      <td>4.9</td>\n",
       "    </tr>\n",
       "    <tr>\n",
       "      <th>2738</th>\n",
       "      <td>RES 1994/074</td>\n",
       "      <td>Ne pas citer sans\\nautorisation des auteurs '.  MPO Pêches de l'Atlantique\\nDocument de recherch...</td>\n",
       "      <td>Not to be cited without\\npermission of the authors'.  Department of Fisheries and Oceans\\nP.  Jo...</td>\n",
       "      <td>1397</td>\n",
       "      <td>6552</td>\n",
       "      <td>4.7</td>\n",
       "    </tr>\n",
       "    <tr>\n",
       "      <th>4256</th>\n",
       "      <td>RES 2004/124</td>\n",
       "      <td>Secrétariat canadien de consultation scientifique.  * La présente série documente les bases \\nsc...</td>\n",
       "      <td>Canadian Science Advisory Secretariat.  * This series documents the scientific basis for the \\ne...</td>\n",
       "      <td>4559</td>\n",
       "      <td>19430</td>\n",
       "      <td>4.3</td>\n",
       "    </tr>\n",
       "    <tr>\n",
       "      <th>2699</th>\n",
       "      <td>RES 1994/035</td>\n",
       "      <td>DFO Atlantic Fisheries MPO Pêches de l'Atlantique\\nResearch Document 94/35 Document de recherche...</td>\n",
       "      <td>'This series documents the scientific basis for the\\nevaluation of fisheries resources in Atlant...</td>\n",
       "      <td>12089</td>\n",
       "      <td>2509</td>\n",
       "      <td>4.8</td>\n",
       "    </tr>\n",
       "    <tr>\n",
       "      <th>650</th>\n",
       "      <td>PRO 2011/057</td>\n",
       "      <td>Secrétariat canadien de consultation scientifique.  Atelier régional sur les résultats \\nprélimi...</td>\n",
       "      <td>Canadian Science Advisory Secretariat.  Regional workshop on preliminary \\nresults from the mult...</td>\n",
       "      <td>7729</td>\n",
       "      <td>1945</td>\n",
       "      <td>4.0</td>\n",
       "    </tr>\n",
       "    <tr>\n",
       "      <th>2378</th>\n",
       "      <td>RES 1990/091</td>\n",
       "      <td>Ne pas citer sans\\nautorisation des auteurs i.  Comite scientifique consultatif des\\np€ches cana...</td>\n",
       "      <td>Not to be cited without\\npermission of the authors '.  Canadian Atlantic Fisheries\\nScientific A...</td>\n",
       "      <td>6499</td>\n",
       "      <td>22108</td>\n",
       "      <td>3.4</td>\n",
       "    </tr>\n",
       "    <tr>\n",
       "      <th>435</th>\n",
       "      <td>PRO 2007/049</td>\n",
       "      <td>Secrétariat canadien de consultation scientifique.  Compte rendu de la réunion du sous-\\ncomité ...</td>\n",
       "      <td>Canadian Science Advisory Secretariat.  Proceedings of the PSARC \\nInvertebrate Subcommittee Mee...</td>\n",
       "      <td>4282</td>\n",
       "      <td>20884</td>\n",
       "      <td>4.9</td>\n",
       "    </tr>\n",
       "  </tbody>\n",
       "</table>\n",
       "</div>"
      ]
     },
     "execution_count": 26,
     "metadata": {},
     "output_type": "execute_result"
    }
   ],
   "execution_count": 26
  },
  {
   "metadata": {
    "ExecuteTime": {
     "end_time": "2025-02-14T17:14:46.369326Z",
     "start_time": "2025-02-14T17:14:46.361803Z"
    }
   },
   "cell_type": "code",
   "source": [
    "# only abstract translated (short body): 4986, 2879, 3728\n",
    "preview_publication(random.choice(medium_pub_numbers))"
   ],
   "id": "3f29ef43964dc8c5",
   "outputs": [
    {
     "data": {
      "text/plain": [
       "                                                                                                            3429\n",
       "pub_number                                                                                          RES 1999/044\n",
       "nom                                                                                                          NaN\n",
       "name         Relative strength of the 1998 year-class, from nearshorre surveys of demersal age 0 Atlantic cod...\n",
       "url_fr                     http://www.dfo-mpo.gc.ca/csas-sccs/publications/resdocs-docrech/1999/1999_044-fra.htm\n",
       "url_en                     http://www.dfo-mpo.gc.ca/csas-sccs/publications/resdocs-docrech/1999/1999_044-eng.htm\n",
       "file_url_fr                                   https://waves-vagues.dfo-mpo.gc.ca/library-bibliotheque/242293.pdf\n",
       "file_url_en                                   https://waves-vagues.dfo-mpo.gc.ca/library-bibliotheque/242293.pdf"
      ],
      "text/html": [
       "<div>\n",
       "<style scoped>\n",
       "    .dataframe tbody tr th:only-of-type {\n",
       "        vertical-align: middle;\n",
       "    }\n",
       "\n",
       "    .dataframe tbody tr th {\n",
       "        vertical-align: top;\n",
       "    }\n",
       "\n",
       "    .dataframe thead th {\n",
       "        text-align: right;\n",
       "    }\n",
       "</style>\n",
       "<table border=\"1\" class=\"dataframe\">\n",
       "  <thead>\n",
       "    <tr style=\"text-align: right;\">\n",
       "      <th></th>\n",
       "      <th>3429</th>\n",
       "    </tr>\n",
       "  </thead>\n",
       "  <tbody>\n",
       "    <tr>\n",
       "      <th>pub_number</th>\n",
       "      <td>RES 1999/044</td>\n",
       "    </tr>\n",
       "    <tr>\n",
       "      <th>nom</th>\n",
       "      <td>NaN</td>\n",
       "    </tr>\n",
       "    <tr>\n",
       "      <th>name</th>\n",
       "      <td>Relative strength of the 1998 year-class, from nearshorre surveys of demersal age 0 Atlantic cod...</td>\n",
       "    </tr>\n",
       "    <tr>\n",
       "      <th>url_fr</th>\n",
       "      <td>http://www.dfo-mpo.gc.ca/csas-sccs/publications/resdocs-docrech/1999/1999_044-fra.htm</td>\n",
       "    </tr>\n",
       "    <tr>\n",
       "      <th>url_en</th>\n",
       "      <td>http://www.dfo-mpo.gc.ca/csas-sccs/publications/resdocs-docrech/1999/1999_044-eng.htm</td>\n",
       "    </tr>\n",
       "    <tr>\n",
       "      <th>file_url_fr</th>\n",
       "      <td>https://waves-vagues.dfo-mpo.gc.ca/library-bibliotheque/242293.pdf</td>\n",
       "    </tr>\n",
       "    <tr>\n",
       "      <th>file_url_en</th>\n",
       "      <td>https://waves-vagues.dfo-mpo.gc.ca/library-bibliotheque/242293.pdf</td>\n",
       "    </tr>\n",
       "  </tbody>\n",
       "</table>\n",
       "</div>"
      ]
     },
     "metadata": {},
     "output_type": "display_data"
    }
   ],
   "execution_count": 27
  },
  {
   "metadata": {
    "ExecuteTime": {
     "end_time": "2025-02-14T17:14:46.454525Z",
     "start_time": "2025-02-14T17:14:46.448894Z"
    }
   },
   "cell_type": "code",
   "source": [
    "# what about a ratio of 2? -> only 22 more beyond what is already in 3\n",
    "print_n_docs(len_ratio=2)"
   ],
   "id": "9d3f3441184d79c",
   "outputs": [
    {
     "name": "stdout",
     "output_type": "stream",
     "text": [
      "5054\n"
     ]
    }
   ],
   "execution_count": 28
  },
  {
   "metadata": {
    "ExecuteTime": {
     "end_time": "2025-02-14T17:14:46.596820Z",
     "start_time": "2025-02-14T17:14:46.577714Z"
    }
   },
   "cell_type": "code",
   "source": [
    "medium_filenames = matched_df.loc[(matched_df.len_diff >= 2) & (matched_df.len_diff < 3)].copy()\n",
    "medium_pub_numbers = medium_filenames.pub_number.to_list()\n",
    "medium_filenames.drop(['text_fr', 'text_en'], axis=1)"
   ],
   "id": "adb89869fcd9ca41",
   "outputs": [
    {
     "data": {
      "text/plain": [
       "        pub_number  len_fr  len_en  len_diff\n",
       "238   PRO 2003/038   10559   28872       2.7\n",
       "287   PRO 2004/010   92931  187667       2.0\n",
       "400   PRO 2007/011    2262    6762       3.0\n",
       "707   PRO 2012/031   22965   48544       2.1\n",
       "1630  RES 1983/024     928    2602       2.8\n",
       "2520  RES 1992/057   16365    5556       2.9\n",
       "2746  RES 1994/082   17903    6596       2.7\n",
       "2760  RES 1994/096    7615   19245       2.5\n",
       "2955  RES 1996/053   28081    9461       3.0\n",
       "3596  RES 2000/041   28631   61773       2.2\n",
       "4310  RES 2005/088   13476   34796       2.6\n",
       "5227  RES 2013/027   31228   65252       2.1\n",
       "6260  RES 2024/046   16236   37292       2.3\n",
       "6827  SAR 2012/045   16163    6487       2.5\n",
       "7644  SCR 2012/041    8397    2879       2.9\n",
       "7721  SCR 2014/033   21598   10553       2.0\n",
       "8095  SCR 2022/024    8663   17495       2.0\n",
       "8122  SCR 2023/004    7097   15100       2.1\n",
       "8188  SCR 2024/026   19984   42450       2.1"
      ],
      "text/html": [
       "<div>\n",
       "<style scoped>\n",
       "    .dataframe tbody tr th:only-of-type {\n",
       "        vertical-align: middle;\n",
       "    }\n",
       "\n",
       "    .dataframe tbody tr th {\n",
       "        vertical-align: top;\n",
       "    }\n",
       "\n",
       "    .dataframe thead th {\n",
       "        text-align: right;\n",
       "    }\n",
       "</style>\n",
       "<table border=\"1\" class=\"dataframe\">\n",
       "  <thead>\n",
       "    <tr style=\"text-align: right;\">\n",
       "      <th></th>\n",
       "      <th>pub_number</th>\n",
       "      <th>len_fr</th>\n",
       "      <th>len_en</th>\n",
       "      <th>len_diff</th>\n",
       "    </tr>\n",
       "  </thead>\n",
       "  <tbody>\n",
       "    <tr>\n",
       "      <th>238</th>\n",
       "      <td>PRO 2003/038</td>\n",
       "      <td>10559</td>\n",
       "      <td>28872</td>\n",
       "      <td>2.7</td>\n",
       "    </tr>\n",
       "    <tr>\n",
       "      <th>287</th>\n",
       "      <td>PRO 2004/010</td>\n",
       "      <td>92931</td>\n",
       "      <td>187667</td>\n",
       "      <td>2.0</td>\n",
       "    </tr>\n",
       "    <tr>\n",
       "      <th>400</th>\n",
       "      <td>PRO 2007/011</td>\n",
       "      <td>2262</td>\n",
       "      <td>6762</td>\n",
       "      <td>3.0</td>\n",
       "    </tr>\n",
       "    <tr>\n",
       "      <th>707</th>\n",
       "      <td>PRO 2012/031</td>\n",
       "      <td>22965</td>\n",
       "      <td>48544</td>\n",
       "      <td>2.1</td>\n",
       "    </tr>\n",
       "    <tr>\n",
       "      <th>1630</th>\n",
       "      <td>RES 1983/024</td>\n",
       "      <td>928</td>\n",
       "      <td>2602</td>\n",
       "      <td>2.8</td>\n",
       "    </tr>\n",
       "    <tr>\n",
       "      <th>2520</th>\n",
       "      <td>RES 1992/057</td>\n",
       "      <td>16365</td>\n",
       "      <td>5556</td>\n",
       "      <td>2.9</td>\n",
       "    </tr>\n",
       "    <tr>\n",
       "      <th>2746</th>\n",
       "      <td>RES 1994/082</td>\n",
       "      <td>17903</td>\n",
       "      <td>6596</td>\n",
       "      <td>2.7</td>\n",
       "    </tr>\n",
       "    <tr>\n",
       "      <th>2760</th>\n",
       "      <td>RES 1994/096</td>\n",
       "      <td>7615</td>\n",
       "      <td>19245</td>\n",
       "      <td>2.5</td>\n",
       "    </tr>\n",
       "    <tr>\n",
       "      <th>2955</th>\n",
       "      <td>RES 1996/053</td>\n",
       "      <td>28081</td>\n",
       "      <td>9461</td>\n",
       "      <td>3.0</td>\n",
       "    </tr>\n",
       "    <tr>\n",
       "      <th>3596</th>\n",
       "      <td>RES 2000/041</td>\n",
       "      <td>28631</td>\n",
       "      <td>61773</td>\n",
       "      <td>2.2</td>\n",
       "    </tr>\n",
       "    <tr>\n",
       "      <th>4310</th>\n",
       "      <td>RES 2005/088</td>\n",
       "      <td>13476</td>\n",
       "      <td>34796</td>\n",
       "      <td>2.6</td>\n",
       "    </tr>\n",
       "    <tr>\n",
       "      <th>5227</th>\n",
       "      <td>RES 2013/027</td>\n",
       "      <td>31228</td>\n",
       "      <td>65252</td>\n",
       "      <td>2.1</td>\n",
       "    </tr>\n",
       "    <tr>\n",
       "      <th>6260</th>\n",
       "      <td>RES 2024/046</td>\n",
       "      <td>16236</td>\n",
       "      <td>37292</td>\n",
       "      <td>2.3</td>\n",
       "    </tr>\n",
       "    <tr>\n",
       "      <th>6827</th>\n",
       "      <td>SAR 2012/045</td>\n",
       "      <td>16163</td>\n",
       "      <td>6487</td>\n",
       "      <td>2.5</td>\n",
       "    </tr>\n",
       "    <tr>\n",
       "      <th>7644</th>\n",
       "      <td>SCR 2012/041</td>\n",
       "      <td>8397</td>\n",
       "      <td>2879</td>\n",
       "      <td>2.9</td>\n",
       "    </tr>\n",
       "    <tr>\n",
       "      <th>7721</th>\n",
       "      <td>SCR 2014/033</td>\n",
       "      <td>21598</td>\n",
       "      <td>10553</td>\n",
       "      <td>2.0</td>\n",
       "    </tr>\n",
       "    <tr>\n",
       "      <th>8095</th>\n",
       "      <td>SCR 2022/024</td>\n",
       "      <td>8663</td>\n",
       "      <td>17495</td>\n",
       "      <td>2.0</td>\n",
       "    </tr>\n",
       "    <tr>\n",
       "      <th>8122</th>\n",
       "      <td>SCR 2023/004</td>\n",
       "      <td>7097</td>\n",
       "      <td>15100</td>\n",
       "      <td>2.1</td>\n",
       "    </tr>\n",
       "    <tr>\n",
       "      <th>8188</th>\n",
       "      <td>SCR 2024/026</td>\n",
       "      <td>19984</td>\n",
       "      <td>42450</td>\n",
       "      <td>2.1</td>\n",
       "    </tr>\n",
       "  </tbody>\n",
       "</table>\n",
       "</div>"
      ]
     },
     "execution_count": 29,
     "metadata": {},
     "output_type": "execute_result"
    }
   ],
   "execution_count": 29
  },
  {
   "metadata": {
    "ExecuteTime": {
     "end_time": "2025-02-14T17:14:46.736829Z",
     "start_time": "2025-02-14T17:14:46.728655Z"
    }
   },
   "cell_type": "code",
   "source": [
    "# with matching filenames\n",
    "#  only partially translated: a bit more complicated than the abstract only (forward, attached letter, etc)\n",
    "weblinks_df.loc[weblinks_df.pub_number.isin(medium_pub_numbers) & (weblinks_df.file_url_fr == weblinks_df.file_url_en), ['pub_number', 'file_url_fr', 'file_url_en']]"
   ],
   "id": "4187dca721522920",
   "outputs": [
    {
     "data": {
      "text/plain": [
       "        pub_number  \\\n",
       "246   PRO 2003/038   \n",
       "295   PRO 2004/010   \n",
       "412   PRO 2007/011   \n",
       "1658  RES 1983/024   \n",
       "2548  RES 1992/057   \n",
       "2774  RES 1994/082   \n",
       "2788  RES 1994/096   \n",
       "2983  RES 1996/053   \n",
       "4379  RES 2005/088   \n",
       "\n",
       "                                                             file_url_fr  \\\n",
       "246                 http://waves-vagues.dfo-mpo.gc.ca/Library/277995.pdf   \n",
       "295                 http://waves-vagues.dfo-mpo.gc.ca/Library/282946.pdf   \n",
       "412                 http://waves-vagues.dfo-mpo.gc.ca/Library/328381.pdf   \n",
       "1658   https://waves-vagues.dfo-mpo.gc.ca/library-bibliotheque/38999.pdf   \n",
       "2548  https://waves-vagues.dfo-mpo.gc.ca/library-bibliotheque/139073.pdf   \n",
       "2774  https://waves-vagues.dfo-mpo.gc.ca/library-bibliotheque/179482.pdf   \n",
       "2788  https://waves-vagues.dfo-mpo.gc.ca/library-bibliotheque/180433.pdf   \n",
       "2983  https://waves-vagues.dfo-mpo.gc.ca/library-bibliotheque/198102.pdf   \n",
       "4379  https://waves-vagues.dfo-mpo.gc.ca/library-bibliotheque/321068.pdf   \n",
       "\n",
       "                                                             file_url_en  \n",
       "246                 http://waves-vagues.dfo-mpo.gc.ca/Library/277995.pdf  \n",
       "295                 http://waves-vagues.dfo-mpo.gc.ca/Library/282946.pdf  \n",
       "412                 http://waves-vagues.dfo-mpo.gc.ca/Library/328381.pdf  \n",
       "1658   https://waves-vagues.dfo-mpo.gc.ca/library-bibliotheque/38999.pdf  \n",
       "2548  https://waves-vagues.dfo-mpo.gc.ca/library-bibliotheque/139073.pdf  \n",
       "2774  https://waves-vagues.dfo-mpo.gc.ca/library-bibliotheque/179482.pdf  \n",
       "2788  https://waves-vagues.dfo-mpo.gc.ca/library-bibliotheque/180433.pdf  \n",
       "2983  https://waves-vagues.dfo-mpo.gc.ca/library-bibliotheque/198102.pdf  \n",
       "4379  https://waves-vagues.dfo-mpo.gc.ca/library-bibliotheque/321068.pdf  "
      ],
      "text/html": [
       "<div>\n",
       "<style scoped>\n",
       "    .dataframe tbody tr th:only-of-type {\n",
       "        vertical-align: middle;\n",
       "    }\n",
       "\n",
       "    .dataframe tbody tr th {\n",
       "        vertical-align: top;\n",
       "    }\n",
       "\n",
       "    .dataframe thead th {\n",
       "        text-align: right;\n",
       "    }\n",
       "</style>\n",
       "<table border=\"1\" class=\"dataframe\">\n",
       "  <thead>\n",
       "    <tr style=\"text-align: right;\">\n",
       "      <th></th>\n",
       "      <th>pub_number</th>\n",
       "      <th>file_url_fr</th>\n",
       "      <th>file_url_en</th>\n",
       "    </tr>\n",
       "  </thead>\n",
       "  <tbody>\n",
       "    <tr>\n",
       "      <th>246</th>\n",
       "      <td>PRO 2003/038</td>\n",
       "      <td>http://waves-vagues.dfo-mpo.gc.ca/Library/277995.pdf</td>\n",
       "      <td>http://waves-vagues.dfo-mpo.gc.ca/Library/277995.pdf</td>\n",
       "    </tr>\n",
       "    <tr>\n",
       "      <th>295</th>\n",
       "      <td>PRO 2004/010</td>\n",
       "      <td>http://waves-vagues.dfo-mpo.gc.ca/Library/282946.pdf</td>\n",
       "      <td>http://waves-vagues.dfo-mpo.gc.ca/Library/282946.pdf</td>\n",
       "    </tr>\n",
       "    <tr>\n",
       "      <th>412</th>\n",
       "      <td>PRO 2007/011</td>\n",
       "      <td>http://waves-vagues.dfo-mpo.gc.ca/Library/328381.pdf</td>\n",
       "      <td>http://waves-vagues.dfo-mpo.gc.ca/Library/328381.pdf</td>\n",
       "    </tr>\n",
       "    <tr>\n",
       "      <th>1658</th>\n",
       "      <td>RES 1983/024</td>\n",
       "      <td>https://waves-vagues.dfo-mpo.gc.ca/library-bibliotheque/38999.pdf</td>\n",
       "      <td>https://waves-vagues.dfo-mpo.gc.ca/library-bibliotheque/38999.pdf</td>\n",
       "    </tr>\n",
       "    <tr>\n",
       "      <th>2548</th>\n",
       "      <td>RES 1992/057</td>\n",
       "      <td>https://waves-vagues.dfo-mpo.gc.ca/library-bibliotheque/139073.pdf</td>\n",
       "      <td>https://waves-vagues.dfo-mpo.gc.ca/library-bibliotheque/139073.pdf</td>\n",
       "    </tr>\n",
       "    <tr>\n",
       "      <th>2774</th>\n",
       "      <td>RES 1994/082</td>\n",
       "      <td>https://waves-vagues.dfo-mpo.gc.ca/library-bibliotheque/179482.pdf</td>\n",
       "      <td>https://waves-vagues.dfo-mpo.gc.ca/library-bibliotheque/179482.pdf</td>\n",
       "    </tr>\n",
       "    <tr>\n",
       "      <th>2788</th>\n",
       "      <td>RES 1994/096</td>\n",
       "      <td>https://waves-vagues.dfo-mpo.gc.ca/library-bibliotheque/180433.pdf</td>\n",
       "      <td>https://waves-vagues.dfo-mpo.gc.ca/library-bibliotheque/180433.pdf</td>\n",
       "    </tr>\n",
       "    <tr>\n",
       "      <th>2983</th>\n",
       "      <td>RES 1996/053</td>\n",
       "      <td>https://waves-vagues.dfo-mpo.gc.ca/library-bibliotheque/198102.pdf</td>\n",
       "      <td>https://waves-vagues.dfo-mpo.gc.ca/library-bibliotheque/198102.pdf</td>\n",
       "    </tr>\n",
       "    <tr>\n",
       "      <th>4379</th>\n",
       "      <td>RES 2005/088</td>\n",
       "      <td>https://waves-vagues.dfo-mpo.gc.ca/library-bibliotheque/321068.pdf</td>\n",
       "      <td>https://waves-vagues.dfo-mpo.gc.ca/library-bibliotheque/321068.pdf</td>\n",
       "    </tr>\n",
       "  </tbody>\n",
       "</table>\n",
       "</div>"
      ]
     },
     "execution_count": 30,
     "metadata": {},
     "output_type": "execute_result"
    }
   ],
   "execution_count": 30
  },
  {
   "metadata": {
    "ExecuteTime": {
     "end_time": "2025-02-14T17:14:46.820464Z",
     "start_time": "2025-02-14T17:14:46.806637Z"
    }
   },
   "cell_type": "code",
   "source": [
    "# with different files \n",
    "#  these may all be errors (every one I checked was a website linking error)\n",
    "weblinks_df.loc[weblinks_df.pub_number.isin(medium_pub_numbers) & (weblinks_df.file_url_fr != weblinks_df.file_url_en), ['pub_number', 'file_url_fr', 'file_url_en']]"
   ],
   "id": "11baadf85e9486ac",
   "outputs": [
    {
     "data": {
      "text/plain": [
       "        pub_number  \\\n",
       "719   PRO 2012/031   \n",
       "3642  RES 2000/041   \n",
       "5300  RES 2013/027   \n",
       "6338  RES 2024/046   \n",
       "6922  SAR 2012/045   \n",
       "7761  SCR 2012/041   \n",
       "7839  SCR 2014/033   \n",
       "8215  SCR 2022/024   \n",
       "8242  SCR 2023/004   \n",
       "8308  SCR 2024/026   \n",
       "\n",
       "                                                               file_url_fr  \\\n",
       "719     https://waves-vagues.dfo-mpo.gc.ca/library-bibliotheque/347497.pdf   \n",
       "3642    https://waves-vagues.dfo-mpo.gc.ca/library-bibliotheque/265909.pdf   \n",
       "5300    https://waves-vagues.dfo-mpo.gc.ca/library-bibliotheque/349926.pdf   \n",
       "6338  https://waves-vagues.dfo-mpo.gc.ca/library-bibliotheque/4126082x.pdf   \n",
       "6922    https://waves-vagues.dfo-mpo.gc.ca/library-bibliotheque/348373.pdf   \n",
       "7761    https://waves-vagues.dfo-mpo.gc.ca/library-bibliotheque/347658.pdf   \n",
       "7839    https://waves-vagues.dfo-mpo.gc.ca/library-bibliotheque/363608.pdf   \n",
       "8215  https://waves-vagues.dfo-mpo.gc.ca/library-bibliotheque/41063995.pdf   \n",
       "8242  https://waves-vagues.dfo-mpo.gc.ca/library-bibliotheque/41107585.pdf   \n",
       "8308  https://waves-vagues.dfo-mpo.gc.ca/library-bibliotheque/4124946x.pdf   \n",
       "\n",
       "                                                               file_url_en  \n",
       "719     https://waves-vagues.dfo-mpo.gc.ca/library-bibliotheque/347496.pdf  \n",
       "3642    https://waves-vagues.dfo-mpo.gc.ca/library-bibliotheque/248180.pdf  \n",
       "5300    https://waves-vagues.dfo-mpo.gc.ca/library-bibliotheque/349680.pdf  \n",
       "6338  https://waves-vagues.dfo-mpo.gc.ca/library-bibliotheque/41260818.pdf  \n",
       "6922    https://waves-vagues.dfo-mpo.gc.ca/library-bibliotheque/348324.pdf  \n",
       "7761    https://waves-vagues.dfo-mpo.gc.ca/library-bibliotheque/347657.pdf  \n",
       "7839    https://waves-vagues.dfo-mpo.gc.ca/library-bibliotheque/363607.pdf  \n",
       "8215  https://waves-vagues.dfo-mpo.gc.ca/library-bibliotheque/41064951.pdf  \n",
       "8242  https://waves-vagues.dfo-mpo.gc.ca/library-bibliotheque/41107020.pdf  \n",
       "8308  https://waves-vagues.dfo-mpo.gc.ca/library-bibliotheque/41249422.pdf  "
      ],
      "text/html": [
       "<div>\n",
       "<style scoped>\n",
       "    .dataframe tbody tr th:only-of-type {\n",
       "        vertical-align: middle;\n",
       "    }\n",
       "\n",
       "    .dataframe tbody tr th {\n",
       "        vertical-align: top;\n",
       "    }\n",
       "\n",
       "    .dataframe thead th {\n",
       "        text-align: right;\n",
       "    }\n",
       "</style>\n",
       "<table border=\"1\" class=\"dataframe\">\n",
       "  <thead>\n",
       "    <tr style=\"text-align: right;\">\n",
       "      <th></th>\n",
       "      <th>pub_number</th>\n",
       "      <th>file_url_fr</th>\n",
       "      <th>file_url_en</th>\n",
       "    </tr>\n",
       "  </thead>\n",
       "  <tbody>\n",
       "    <tr>\n",
       "      <th>719</th>\n",
       "      <td>PRO 2012/031</td>\n",
       "      <td>https://waves-vagues.dfo-mpo.gc.ca/library-bibliotheque/347497.pdf</td>\n",
       "      <td>https://waves-vagues.dfo-mpo.gc.ca/library-bibliotheque/347496.pdf</td>\n",
       "    </tr>\n",
       "    <tr>\n",
       "      <th>3642</th>\n",
       "      <td>RES 2000/041</td>\n",
       "      <td>https://waves-vagues.dfo-mpo.gc.ca/library-bibliotheque/265909.pdf</td>\n",
       "      <td>https://waves-vagues.dfo-mpo.gc.ca/library-bibliotheque/248180.pdf</td>\n",
       "    </tr>\n",
       "    <tr>\n",
       "      <th>5300</th>\n",
       "      <td>RES 2013/027</td>\n",
       "      <td>https://waves-vagues.dfo-mpo.gc.ca/library-bibliotheque/349926.pdf</td>\n",
       "      <td>https://waves-vagues.dfo-mpo.gc.ca/library-bibliotheque/349680.pdf</td>\n",
       "    </tr>\n",
       "    <tr>\n",
       "      <th>6338</th>\n",
       "      <td>RES 2024/046</td>\n",
       "      <td>https://waves-vagues.dfo-mpo.gc.ca/library-bibliotheque/4126082x.pdf</td>\n",
       "      <td>https://waves-vagues.dfo-mpo.gc.ca/library-bibliotheque/41260818.pdf</td>\n",
       "    </tr>\n",
       "    <tr>\n",
       "      <th>6922</th>\n",
       "      <td>SAR 2012/045</td>\n",
       "      <td>https://waves-vagues.dfo-mpo.gc.ca/library-bibliotheque/348373.pdf</td>\n",
       "      <td>https://waves-vagues.dfo-mpo.gc.ca/library-bibliotheque/348324.pdf</td>\n",
       "    </tr>\n",
       "    <tr>\n",
       "      <th>7761</th>\n",
       "      <td>SCR 2012/041</td>\n",
       "      <td>https://waves-vagues.dfo-mpo.gc.ca/library-bibliotheque/347658.pdf</td>\n",
       "      <td>https://waves-vagues.dfo-mpo.gc.ca/library-bibliotheque/347657.pdf</td>\n",
       "    </tr>\n",
       "    <tr>\n",
       "      <th>7839</th>\n",
       "      <td>SCR 2014/033</td>\n",
       "      <td>https://waves-vagues.dfo-mpo.gc.ca/library-bibliotheque/363608.pdf</td>\n",
       "      <td>https://waves-vagues.dfo-mpo.gc.ca/library-bibliotheque/363607.pdf</td>\n",
       "    </tr>\n",
       "    <tr>\n",
       "      <th>8215</th>\n",
       "      <td>SCR 2022/024</td>\n",
       "      <td>https://waves-vagues.dfo-mpo.gc.ca/library-bibliotheque/41063995.pdf</td>\n",
       "      <td>https://waves-vagues.dfo-mpo.gc.ca/library-bibliotheque/41064951.pdf</td>\n",
       "    </tr>\n",
       "    <tr>\n",
       "      <th>8242</th>\n",
       "      <td>SCR 2023/004</td>\n",
       "      <td>https://waves-vagues.dfo-mpo.gc.ca/library-bibliotheque/41107585.pdf</td>\n",
       "      <td>https://waves-vagues.dfo-mpo.gc.ca/library-bibliotheque/41107020.pdf</td>\n",
       "    </tr>\n",
       "    <tr>\n",
       "      <th>8308</th>\n",
       "      <td>SCR 2024/026</td>\n",
       "      <td>https://waves-vagues.dfo-mpo.gc.ca/library-bibliotheque/4124946x.pdf</td>\n",
       "      <td>https://waves-vagues.dfo-mpo.gc.ca/library-bibliotheque/41249422.pdf</td>\n",
       "    </tr>\n",
       "  </tbody>\n",
       "</table>\n",
       "</div>"
      ]
     },
     "execution_count": 31,
     "metadata": {},
     "output_type": "execute_result"
    }
   ],
   "execution_count": 31
  },
  {
   "metadata": {},
   "cell_type": "markdown",
   "source": "# ERRORS IN DATA",
   "id": "49bad92df67e27db"
  },
  {
   "metadata": {
    "ExecuteTime": {
     "end_time": "2025-02-14T17:14:46.989265Z",
     "start_time": "2025-02-14T17:14:46.978016Z"
    }
   },
   "cell_type": "code",
   "source": [
    "# this is just wrong - the french link is SAR 2012/031, not PRO 2012/031 - these really should have different numbers \n",
    "#  https://www.dfo-mpo.gc.ca/csas-sccs/Publications/Pro-Cr/2012/2012_031-fra.html\n",
    "# preview_publication('PRO 2012/031')"
   ],
   "id": "9c75f5e39b7a5b7",
   "outputs": [],
   "execution_count": 32
  },
  {
   "metadata": {
    "ExecuteTime": {
     "end_time": "2025-02-14T17:14:47.146628Z",
     "start_time": "2025-02-14T17:14:47.143405Z"
    }
   },
   "cell_type": "code",
   "source": [
    "# also wrong - the french link is wrong on the website\n",
    "#  https://www.dfo-mpo.gc.ca/csas-sccs/publications/resdocs-docrech/2000/2000_041-fra.htm\n",
    "# preview_publication(\"RES 2000/041\")"
   ],
   "id": "1ecf485d0aca820d",
   "outputs": [],
   "execution_count": 33
  },
  {
   "metadata": {
    "ExecuteTime": {
     "end_time": "2025-02-14T17:14:47.322100Z",
     "start_time": "2025-02-14T17:14:47.276261Z"
    }
   },
   "cell_type": "code",
   "source": [
    "# the first 3 I checked had incorrect french links on the website - I assume all of these are bad data\n",
    "for pub in weblinks_df[weblinks_df.pub_number.isin(medium_pub_numbers) & (weblinks_df.file_url_fr != weblinks_df.file_url_en)].pub_number.to_list():\n",
    "    preview_publication(pub)"
   ],
   "id": "b65744599377445",
   "outputs": [
    {
     "data": {
      "text/plain": [
       "                                                                                                             719\n",
       "pub_number                                                                                          PRO 2012/031\n",
       "nom          Compte rendu de l'examen zonal par les pairs du repérage des stocks, de l'abondance, de la viabi...\n",
       "name         Proceedings of the Zonal Peer Review of Stock Identification, Abundance, Hunt Sustainability, an...\n",
       "url_fr                             http://www.dfo-mpo.gc.ca/csas-sccs/Publications/Pro-Cr/2012/2012_031-fra.html\n",
       "url_en                             http://www.dfo-mpo.gc.ca/csas-sccs/Publications/Pro-Cr/2012/2012_031-eng.html\n",
       "file_url_fr                                   https://waves-vagues.dfo-mpo.gc.ca/library-bibliotheque/347497.pdf\n",
       "file_url_en                                   https://waves-vagues.dfo-mpo.gc.ca/library-bibliotheque/347496.pdf"
      ],
      "text/html": [
       "<div>\n",
       "<style scoped>\n",
       "    .dataframe tbody tr th:only-of-type {\n",
       "        vertical-align: middle;\n",
       "    }\n",
       "\n",
       "    .dataframe tbody tr th {\n",
       "        vertical-align: top;\n",
       "    }\n",
       "\n",
       "    .dataframe thead th {\n",
       "        text-align: right;\n",
       "    }\n",
       "</style>\n",
       "<table border=\"1\" class=\"dataframe\">\n",
       "  <thead>\n",
       "    <tr style=\"text-align: right;\">\n",
       "      <th></th>\n",
       "      <th>719</th>\n",
       "    </tr>\n",
       "  </thead>\n",
       "  <tbody>\n",
       "    <tr>\n",
       "      <th>pub_number</th>\n",
       "      <td>PRO 2012/031</td>\n",
       "    </tr>\n",
       "    <tr>\n",
       "      <th>nom</th>\n",
       "      <td>Compte rendu de l'examen zonal par les pairs du repérage des stocks, de l'abondance, de la viabi...</td>\n",
       "    </tr>\n",
       "    <tr>\n",
       "      <th>name</th>\n",
       "      <td>Proceedings of the Zonal Peer Review of Stock Identification, Abundance, Hunt Sustainability, an...</td>\n",
       "    </tr>\n",
       "    <tr>\n",
       "      <th>url_fr</th>\n",
       "      <td>http://www.dfo-mpo.gc.ca/csas-sccs/Publications/Pro-Cr/2012/2012_031-fra.html</td>\n",
       "    </tr>\n",
       "    <tr>\n",
       "      <th>url_en</th>\n",
       "      <td>http://www.dfo-mpo.gc.ca/csas-sccs/Publications/Pro-Cr/2012/2012_031-eng.html</td>\n",
       "    </tr>\n",
       "    <tr>\n",
       "      <th>file_url_fr</th>\n",
       "      <td>https://waves-vagues.dfo-mpo.gc.ca/library-bibliotheque/347497.pdf</td>\n",
       "    </tr>\n",
       "    <tr>\n",
       "      <th>file_url_en</th>\n",
       "      <td>https://waves-vagues.dfo-mpo.gc.ca/library-bibliotheque/347496.pdf</td>\n",
       "    </tr>\n",
       "  </tbody>\n",
       "</table>\n",
       "</div>"
      ]
     },
     "metadata": {},
     "output_type": "display_data"
    },
    {
     "data": {
      "text/plain": [
       "                                                                                                            3642\n",
       "pub_number                                                                                          RES 2000/041\n",
       "nom                                                                                                          NaN\n",
       "name         Status of Atlantic salmon (Salmo salar L.) In Indian bay Brook, Middle Brook, and Terra Nova Riv...\n",
       "url_fr                     http://www.dfo-mpo.gc.ca/csas-sccs/publications/resdocs-docrech/2000/2000_041-fra.htm\n",
       "url_en                     http://www.dfo-mpo.gc.ca/csas-sccs/publications/resdocs-docrech/2000/2000_041-eng.htm\n",
       "file_url_fr                                   https://waves-vagues.dfo-mpo.gc.ca/library-bibliotheque/265909.pdf\n",
       "file_url_en                                   https://waves-vagues.dfo-mpo.gc.ca/library-bibliotheque/248180.pdf"
      ],
      "text/html": [
       "<div>\n",
       "<style scoped>\n",
       "    .dataframe tbody tr th:only-of-type {\n",
       "        vertical-align: middle;\n",
       "    }\n",
       "\n",
       "    .dataframe tbody tr th {\n",
       "        vertical-align: top;\n",
       "    }\n",
       "\n",
       "    .dataframe thead th {\n",
       "        text-align: right;\n",
       "    }\n",
       "</style>\n",
       "<table border=\"1\" class=\"dataframe\">\n",
       "  <thead>\n",
       "    <tr style=\"text-align: right;\">\n",
       "      <th></th>\n",
       "      <th>3642</th>\n",
       "    </tr>\n",
       "  </thead>\n",
       "  <tbody>\n",
       "    <tr>\n",
       "      <th>pub_number</th>\n",
       "      <td>RES 2000/041</td>\n",
       "    </tr>\n",
       "    <tr>\n",
       "      <th>nom</th>\n",
       "      <td>NaN</td>\n",
       "    </tr>\n",
       "    <tr>\n",
       "      <th>name</th>\n",
       "      <td>Status of Atlantic salmon (Salmo salar L.) In Indian bay Brook, Middle Brook, and Terra Nova Riv...</td>\n",
       "    </tr>\n",
       "    <tr>\n",
       "      <th>url_fr</th>\n",
       "      <td>http://www.dfo-mpo.gc.ca/csas-sccs/publications/resdocs-docrech/2000/2000_041-fra.htm</td>\n",
       "    </tr>\n",
       "    <tr>\n",
       "      <th>url_en</th>\n",
       "      <td>http://www.dfo-mpo.gc.ca/csas-sccs/publications/resdocs-docrech/2000/2000_041-eng.htm</td>\n",
       "    </tr>\n",
       "    <tr>\n",
       "      <th>file_url_fr</th>\n",
       "      <td>https://waves-vagues.dfo-mpo.gc.ca/library-bibliotheque/265909.pdf</td>\n",
       "    </tr>\n",
       "    <tr>\n",
       "      <th>file_url_en</th>\n",
       "      <td>https://waves-vagues.dfo-mpo.gc.ca/library-bibliotheque/248180.pdf</td>\n",
       "    </tr>\n",
       "  </tbody>\n",
       "</table>\n",
       "</div>"
      ]
     },
     "metadata": {},
     "output_type": "display_data"
    },
    {
     "data": {
      "text/plain": [
       "                                                                                                    5300\n",
       "pub_number                                                                                  RES 2013/027\n",
       "nom          Une syntèse nationale des initiatives de recherche écosystémique de Pêches et Océans Canada\n",
       "name               A National Synthesis of the Fisheries and Oceans Canada Ecosystem Research Initiative\n",
       "url_fr            http://www.dfo-mpo.gc.ca/csas-sccs/Publications/ResDocs-DocRech/2013/2013_027-fra.html\n",
       "url_en            http://www.dfo-mpo.gc.ca/csas-sccs/Publications/ResDocs-DocRech/2013/2013_027-eng.html\n",
       "file_url_fr                           https://waves-vagues.dfo-mpo.gc.ca/library-bibliotheque/349926.pdf\n",
       "file_url_en                           https://waves-vagues.dfo-mpo.gc.ca/library-bibliotheque/349680.pdf"
      ],
      "text/html": [
       "<div>\n",
       "<style scoped>\n",
       "    .dataframe tbody tr th:only-of-type {\n",
       "        vertical-align: middle;\n",
       "    }\n",
       "\n",
       "    .dataframe tbody tr th {\n",
       "        vertical-align: top;\n",
       "    }\n",
       "\n",
       "    .dataframe thead th {\n",
       "        text-align: right;\n",
       "    }\n",
       "</style>\n",
       "<table border=\"1\" class=\"dataframe\">\n",
       "  <thead>\n",
       "    <tr style=\"text-align: right;\">\n",
       "      <th></th>\n",
       "      <th>5300</th>\n",
       "    </tr>\n",
       "  </thead>\n",
       "  <tbody>\n",
       "    <tr>\n",
       "      <th>pub_number</th>\n",
       "      <td>RES 2013/027</td>\n",
       "    </tr>\n",
       "    <tr>\n",
       "      <th>nom</th>\n",
       "      <td>Une syntèse nationale des initiatives de recherche écosystémique de Pêches et Océans Canada</td>\n",
       "    </tr>\n",
       "    <tr>\n",
       "      <th>name</th>\n",
       "      <td>A National Synthesis of the Fisheries and Oceans Canada Ecosystem Research Initiative</td>\n",
       "    </tr>\n",
       "    <tr>\n",
       "      <th>url_fr</th>\n",
       "      <td>http://www.dfo-mpo.gc.ca/csas-sccs/Publications/ResDocs-DocRech/2013/2013_027-fra.html</td>\n",
       "    </tr>\n",
       "    <tr>\n",
       "      <th>url_en</th>\n",
       "      <td>http://www.dfo-mpo.gc.ca/csas-sccs/Publications/ResDocs-DocRech/2013/2013_027-eng.html</td>\n",
       "    </tr>\n",
       "    <tr>\n",
       "      <th>file_url_fr</th>\n",
       "      <td>https://waves-vagues.dfo-mpo.gc.ca/library-bibliotheque/349926.pdf</td>\n",
       "    </tr>\n",
       "    <tr>\n",
       "      <th>file_url_en</th>\n",
       "      <td>https://waves-vagues.dfo-mpo.gc.ca/library-bibliotheque/349680.pdf</td>\n",
       "    </tr>\n",
       "  </tbody>\n",
       "</table>\n",
       "</div>"
      ]
     },
     "metadata": {},
     "output_type": "display_data"
    },
    {
     "data": {
      "text/plain": [
       "                                                                                                            6338\n",
       "pub_number                                                                                          RES 2024/046\n",
       "nom          Répartition spatio-temporelle de la baleine noire de l'Atlantique Nord dans le golfe du Saint-La...\n",
       "name         Time-Space Distribution of North Atlantic Right Whale in Gulf of St. Lawrence from Acoustic Moni...\n",
       "url_fr                   https://www.dfo-mpo.gc.ca/csas-sccs/Publications/ResDocs-DocRech/2024/2024_046-fra.html\n",
       "url_en                   https://www.dfo-mpo.gc.ca/csas-sccs/Publications/ResDocs-DocRech/2024/2024_046-eng.html\n",
       "file_url_fr                                 https://waves-vagues.dfo-mpo.gc.ca/library-bibliotheque/4126082x.pdf\n",
       "file_url_en                                 https://waves-vagues.dfo-mpo.gc.ca/library-bibliotheque/41260818.pdf"
      ],
      "text/html": [
       "<div>\n",
       "<style scoped>\n",
       "    .dataframe tbody tr th:only-of-type {\n",
       "        vertical-align: middle;\n",
       "    }\n",
       "\n",
       "    .dataframe tbody tr th {\n",
       "        vertical-align: top;\n",
       "    }\n",
       "\n",
       "    .dataframe thead th {\n",
       "        text-align: right;\n",
       "    }\n",
       "</style>\n",
       "<table border=\"1\" class=\"dataframe\">\n",
       "  <thead>\n",
       "    <tr style=\"text-align: right;\">\n",
       "      <th></th>\n",
       "      <th>6338</th>\n",
       "    </tr>\n",
       "  </thead>\n",
       "  <tbody>\n",
       "    <tr>\n",
       "      <th>pub_number</th>\n",
       "      <td>RES 2024/046</td>\n",
       "    </tr>\n",
       "    <tr>\n",
       "      <th>nom</th>\n",
       "      <td>Répartition spatio-temporelle de la baleine noire de l'Atlantique Nord dans le golfe du Saint-La...</td>\n",
       "    </tr>\n",
       "    <tr>\n",
       "      <th>name</th>\n",
       "      <td>Time-Space Distribution of North Atlantic Right Whale in Gulf of St. Lawrence from Acoustic Moni...</td>\n",
       "    </tr>\n",
       "    <tr>\n",
       "      <th>url_fr</th>\n",
       "      <td>https://www.dfo-mpo.gc.ca/csas-sccs/Publications/ResDocs-DocRech/2024/2024_046-fra.html</td>\n",
       "    </tr>\n",
       "    <tr>\n",
       "      <th>url_en</th>\n",
       "      <td>https://www.dfo-mpo.gc.ca/csas-sccs/Publications/ResDocs-DocRech/2024/2024_046-eng.html</td>\n",
       "    </tr>\n",
       "    <tr>\n",
       "      <th>file_url_fr</th>\n",
       "      <td>https://waves-vagues.dfo-mpo.gc.ca/library-bibliotheque/4126082x.pdf</td>\n",
       "    </tr>\n",
       "    <tr>\n",
       "      <th>file_url_en</th>\n",
       "      <td>https://waves-vagues.dfo-mpo.gc.ca/library-bibliotheque/41260818.pdf</td>\n",
       "    </tr>\n",
       "  </tbody>\n",
       "</table>\n",
       "</div>"
      ]
     },
     "metadata": {},
     "output_type": "display_data"
    },
    {
     "data": {
      "text/plain": [
       "                                                                                                            6922\n",
       "pub_number                                                                                          SAR 2012/045\n",
       "nom          Évaluation de l'inconnu (Stenodus leucichthys) de la rivière Buffalo, Grand lac des Esclaves, Te...\n",
       "name         Assessment of Buffalo River Inconnu (Stenodus leucichthys) Great Slave Lake, Northwest Territori...\n",
       "url_fr                             http://www.dfo-mpo.gc.ca/csas-sccs/Publications/SAR-AS/2012/2012_045-fra.html\n",
       "url_en                             http://www.dfo-mpo.gc.ca/csas-sccs/Publications/SAR-AS/2012/2012_045-eng.html\n",
       "file_url_fr                                   https://waves-vagues.dfo-mpo.gc.ca/library-bibliotheque/348373.pdf\n",
       "file_url_en                                   https://waves-vagues.dfo-mpo.gc.ca/library-bibliotheque/348324.pdf"
      ],
      "text/html": [
       "<div>\n",
       "<style scoped>\n",
       "    .dataframe tbody tr th:only-of-type {\n",
       "        vertical-align: middle;\n",
       "    }\n",
       "\n",
       "    .dataframe tbody tr th {\n",
       "        vertical-align: top;\n",
       "    }\n",
       "\n",
       "    .dataframe thead th {\n",
       "        text-align: right;\n",
       "    }\n",
       "</style>\n",
       "<table border=\"1\" class=\"dataframe\">\n",
       "  <thead>\n",
       "    <tr style=\"text-align: right;\">\n",
       "      <th></th>\n",
       "      <th>6922</th>\n",
       "    </tr>\n",
       "  </thead>\n",
       "  <tbody>\n",
       "    <tr>\n",
       "      <th>pub_number</th>\n",
       "      <td>SAR 2012/045</td>\n",
       "    </tr>\n",
       "    <tr>\n",
       "      <th>nom</th>\n",
       "      <td>Évaluation de l'inconnu (Stenodus leucichthys) de la rivière Buffalo, Grand lac des Esclaves, Te...</td>\n",
       "    </tr>\n",
       "    <tr>\n",
       "      <th>name</th>\n",
       "      <td>Assessment of Buffalo River Inconnu (Stenodus leucichthys) Great Slave Lake, Northwest Territori...</td>\n",
       "    </tr>\n",
       "    <tr>\n",
       "      <th>url_fr</th>\n",
       "      <td>http://www.dfo-mpo.gc.ca/csas-sccs/Publications/SAR-AS/2012/2012_045-fra.html</td>\n",
       "    </tr>\n",
       "    <tr>\n",
       "      <th>url_en</th>\n",
       "      <td>http://www.dfo-mpo.gc.ca/csas-sccs/Publications/SAR-AS/2012/2012_045-eng.html</td>\n",
       "    </tr>\n",
       "    <tr>\n",
       "      <th>file_url_fr</th>\n",
       "      <td>https://waves-vagues.dfo-mpo.gc.ca/library-bibliotheque/348373.pdf</td>\n",
       "    </tr>\n",
       "    <tr>\n",
       "      <th>file_url_en</th>\n",
       "      <td>https://waves-vagues.dfo-mpo.gc.ca/library-bibliotheque/348324.pdf</td>\n",
       "    </tr>\n",
       "  </tbody>\n",
       "</table>\n",
       "</div>"
      ]
     },
     "metadata": {},
     "output_type": "display_data"
    },
    {
     "data": {
      "text/plain": [
       "                                                                                                            7761\n",
       "pub_number                                                                                          SCR 2012/041\n",
       "nom          Probabilité que les stocks de crevette tachetée (Pandalus platyceros) se trouvant dans les zones...\n",
       "name         Probability of spot prawn (Pandalus platyceros) stocks in fall survey areas in British Columbia ...\n",
       "url_fr                             http://www.dfo-mpo.gc.ca/csas-sccs/Publications/ScR-RS/2012/2012_041-fra.html\n",
       "url_en                             http://www.dfo-mpo.gc.ca/csas-sccs/Publications/ScR-RS/2012/2012_041-eng.html\n",
       "file_url_fr                                   https://waves-vagues.dfo-mpo.gc.ca/library-bibliotheque/347658.pdf\n",
       "file_url_en                                   https://waves-vagues.dfo-mpo.gc.ca/library-bibliotheque/347657.pdf"
      ],
      "text/html": [
       "<div>\n",
       "<style scoped>\n",
       "    .dataframe tbody tr th:only-of-type {\n",
       "        vertical-align: middle;\n",
       "    }\n",
       "\n",
       "    .dataframe tbody tr th {\n",
       "        vertical-align: top;\n",
       "    }\n",
       "\n",
       "    .dataframe thead th {\n",
       "        text-align: right;\n",
       "    }\n",
       "</style>\n",
       "<table border=\"1\" class=\"dataframe\">\n",
       "  <thead>\n",
       "    <tr style=\"text-align: right;\">\n",
       "      <th></th>\n",
       "      <th>7761</th>\n",
       "    </tr>\n",
       "  </thead>\n",
       "  <tbody>\n",
       "    <tr>\n",
       "      <th>pub_number</th>\n",
       "      <td>SCR 2012/041</td>\n",
       "    </tr>\n",
       "    <tr>\n",
       "      <th>nom</th>\n",
       "      <td>Probabilité que les stocks de crevette tachetée (Pandalus platyceros) se trouvant dans les zones...</td>\n",
       "    </tr>\n",
       "    <tr>\n",
       "      <th>name</th>\n",
       "      <td>Probability of spot prawn (Pandalus platyceros) stocks in fall survey areas in British Columbia ...</td>\n",
       "    </tr>\n",
       "    <tr>\n",
       "      <th>url_fr</th>\n",
       "      <td>http://www.dfo-mpo.gc.ca/csas-sccs/Publications/ScR-RS/2012/2012_041-fra.html</td>\n",
       "    </tr>\n",
       "    <tr>\n",
       "      <th>url_en</th>\n",
       "      <td>http://www.dfo-mpo.gc.ca/csas-sccs/Publications/ScR-RS/2012/2012_041-eng.html</td>\n",
       "    </tr>\n",
       "    <tr>\n",
       "      <th>file_url_fr</th>\n",
       "      <td>https://waves-vagues.dfo-mpo.gc.ca/library-bibliotheque/347658.pdf</td>\n",
       "    </tr>\n",
       "    <tr>\n",
       "      <th>file_url_en</th>\n",
       "      <td>https://waves-vagues.dfo-mpo.gc.ca/library-bibliotheque/347657.pdf</td>\n",
       "    </tr>\n",
       "  </tbody>\n",
       "</table>\n",
       "</div>"
      ]
     },
     "metadata": {},
     "output_type": "display_data"
    },
    {
     "data": {
      "text/plain": [
       "                                                                                                        7839\n",
       "pub_number                                                                                      SCR 2014/033\n",
       "nom          Évaluation de la possibilité de rouvrir les zones de fermeture A et B du Grand Lac des esclaves\n",
       "name                           Assessment of the potential to re-open Great Slave Lake Closure Zones A and B\n",
       "url_fr                         http://www.dfo-mpo.gc.ca/csas-sccs/publications/scr-rs/2014/2014_033-fra.html\n",
       "url_en                         http://www.dfo-mpo.gc.ca/csas-sccs/Publications/ScR-RS/2014/2014_033-eng.html\n",
       "file_url_fr                               https://waves-vagues.dfo-mpo.gc.ca/library-bibliotheque/363608.pdf\n",
       "file_url_en                               https://waves-vagues.dfo-mpo.gc.ca/library-bibliotheque/363607.pdf"
      ],
      "text/html": [
       "<div>\n",
       "<style scoped>\n",
       "    .dataframe tbody tr th:only-of-type {\n",
       "        vertical-align: middle;\n",
       "    }\n",
       "\n",
       "    .dataframe tbody tr th {\n",
       "        vertical-align: top;\n",
       "    }\n",
       "\n",
       "    .dataframe thead th {\n",
       "        text-align: right;\n",
       "    }\n",
       "</style>\n",
       "<table border=\"1\" class=\"dataframe\">\n",
       "  <thead>\n",
       "    <tr style=\"text-align: right;\">\n",
       "      <th></th>\n",
       "      <th>7839</th>\n",
       "    </tr>\n",
       "  </thead>\n",
       "  <tbody>\n",
       "    <tr>\n",
       "      <th>pub_number</th>\n",
       "      <td>SCR 2014/033</td>\n",
       "    </tr>\n",
       "    <tr>\n",
       "      <th>nom</th>\n",
       "      <td>Évaluation de la possibilité de rouvrir les zones de fermeture A et B du Grand Lac des esclaves</td>\n",
       "    </tr>\n",
       "    <tr>\n",
       "      <th>name</th>\n",
       "      <td>Assessment of the potential to re-open Great Slave Lake Closure Zones A and B</td>\n",
       "    </tr>\n",
       "    <tr>\n",
       "      <th>url_fr</th>\n",
       "      <td>http://www.dfo-mpo.gc.ca/csas-sccs/publications/scr-rs/2014/2014_033-fra.html</td>\n",
       "    </tr>\n",
       "    <tr>\n",
       "      <th>url_en</th>\n",
       "      <td>http://www.dfo-mpo.gc.ca/csas-sccs/Publications/ScR-RS/2014/2014_033-eng.html</td>\n",
       "    </tr>\n",
       "    <tr>\n",
       "      <th>file_url_fr</th>\n",
       "      <td>https://waves-vagues.dfo-mpo.gc.ca/library-bibliotheque/363608.pdf</td>\n",
       "    </tr>\n",
       "    <tr>\n",
       "      <th>file_url_en</th>\n",
       "      <td>https://waves-vagues.dfo-mpo.gc.ca/library-bibliotheque/363607.pdf</td>\n",
       "    </tr>\n",
       "  </tbody>\n",
       "</table>\n",
       "</div>"
      ]
     },
     "metadata": {},
     "output_type": "display_data"
    },
    {
     "data": {
      "text/plain": [
       "                                                                                                            8215\n",
       "pub_number                                                                                          SCR 2022/024\n",
       "nom          Mise à jour de 2021 sur l'abondance des reproducteurs et les caractéristiques biologiques du bar...\n",
       "name         Update of spawner abundance and biological characteristics of Striped Bass (Morone saxatilis) in...\n",
       "url_fr                             http://www.dfo-mpo.gc.ca/csas-sccs/Publications/ScR-RS/2022/2022_024-fra.html\n",
       "url_en                             http://www.dfo-mpo.gc.ca/csas-sccs/Publications/ScR-RS/2022/2022_024-eng.html\n",
       "file_url_fr                                 https://waves-vagues.dfo-mpo.gc.ca/library-bibliotheque/41063995.pdf\n",
       "file_url_en                                 https://waves-vagues.dfo-mpo.gc.ca/library-bibliotheque/41064951.pdf"
      ],
      "text/html": [
       "<div>\n",
       "<style scoped>\n",
       "    .dataframe tbody tr th:only-of-type {\n",
       "        vertical-align: middle;\n",
       "    }\n",
       "\n",
       "    .dataframe tbody tr th {\n",
       "        vertical-align: top;\n",
       "    }\n",
       "\n",
       "    .dataframe thead th {\n",
       "        text-align: right;\n",
       "    }\n",
       "</style>\n",
       "<table border=\"1\" class=\"dataframe\">\n",
       "  <thead>\n",
       "    <tr style=\"text-align: right;\">\n",
       "      <th></th>\n",
       "      <th>8215</th>\n",
       "    </tr>\n",
       "  </thead>\n",
       "  <tbody>\n",
       "    <tr>\n",
       "      <th>pub_number</th>\n",
       "      <td>SCR 2022/024</td>\n",
       "    </tr>\n",
       "    <tr>\n",
       "      <th>nom</th>\n",
       "      <td>Mise à jour de 2021 sur l'abondance des reproducteurs et les caractéristiques biologiques du bar...</td>\n",
       "    </tr>\n",
       "    <tr>\n",
       "      <th>name</th>\n",
       "      <td>Update of spawner abundance and biological characteristics of Striped Bass (Morone saxatilis) in...</td>\n",
       "    </tr>\n",
       "    <tr>\n",
       "      <th>url_fr</th>\n",
       "      <td>http://www.dfo-mpo.gc.ca/csas-sccs/Publications/ScR-RS/2022/2022_024-fra.html</td>\n",
       "    </tr>\n",
       "    <tr>\n",
       "      <th>url_en</th>\n",
       "      <td>http://www.dfo-mpo.gc.ca/csas-sccs/Publications/ScR-RS/2022/2022_024-eng.html</td>\n",
       "    </tr>\n",
       "    <tr>\n",
       "      <th>file_url_fr</th>\n",
       "      <td>https://waves-vagues.dfo-mpo.gc.ca/library-bibliotheque/41063995.pdf</td>\n",
       "    </tr>\n",
       "    <tr>\n",
       "      <th>file_url_en</th>\n",
       "      <td>https://waves-vagues.dfo-mpo.gc.ca/library-bibliotheque/41064951.pdf</td>\n",
       "    </tr>\n",
       "  </tbody>\n",
       "</table>\n",
       "</div>"
      ]
     },
     "metadata": {},
     "output_type": "display_data"
    },
    {
     "data": {
      "text/plain": [
       "                                                                                                            8242\n",
       "pub_number                                                                                          SCR 2023/004\n",
       "nom          Mise à jour sur l'abondance de reproducteurs et les caractéristiques biologiques du bar rayé (Mo...\n",
       "name         Update of spawner abundance and biological characteristics of Striped Bass (Morone saxatilis) in...\n",
       "url_fr                            https://www.dfo-mpo.gc.ca/csas-sccs/Publications/ScR-RS/2023/2023_004-fra.html\n",
       "url_en                            https://www.dfo-mpo.gc.ca/csas-sccs/Publications/ScR-RS/2023/2023_004-eng.html\n",
       "file_url_fr                                 https://waves-vagues.dfo-mpo.gc.ca/library-bibliotheque/41107585.pdf\n",
       "file_url_en                                 https://waves-vagues.dfo-mpo.gc.ca/library-bibliotheque/41107020.pdf"
      ],
      "text/html": [
       "<div>\n",
       "<style scoped>\n",
       "    .dataframe tbody tr th:only-of-type {\n",
       "        vertical-align: middle;\n",
       "    }\n",
       "\n",
       "    .dataframe tbody tr th {\n",
       "        vertical-align: top;\n",
       "    }\n",
       "\n",
       "    .dataframe thead th {\n",
       "        text-align: right;\n",
       "    }\n",
       "</style>\n",
       "<table border=\"1\" class=\"dataframe\">\n",
       "  <thead>\n",
       "    <tr style=\"text-align: right;\">\n",
       "      <th></th>\n",
       "      <th>8242</th>\n",
       "    </tr>\n",
       "  </thead>\n",
       "  <tbody>\n",
       "    <tr>\n",
       "      <th>pub_number</th>\n",
       "      <td>SCR 2023/004</td>\n",
       "    </tr>\n",
       "    <tr>\n",
       "      <th>nom</th>\n",
       "      <td>Mise à jour sur l'abondance de reproducteurs et les caractéristiques biologiques du bar rayé (Mo...</td>\n",
       "    </tr>\n",
       "    <tr>\n",
       "      <th>name</th>\n",
       "      <td>Update of spawner abundance and biological characteristics of Striped Bass (Morone saxatilis) in...</td>\n",
       "    </tr>\n",
       "    <tr>\n",
       "      <th>url_fr</th>\n",
       "      <td>https://www.dfo-mpo.gc.ca/csas-sccs/Publications/ScR-RS/2023/2023_004-fra.html</td>\n",
       "    </tr>\n",
       "    <tr>\n",
       "      <th>url_en</th>\n",
       "      <td>https://www.dfo-mpo.gc.ca/csas-sccs/Publications/ScR-RS/2023/2023_004-eng.html</td>\n",
       "    </tr>\n",
       "    <tr>\n",
       "      <th>file_url_fr</th>\n",
       "      <td>https://waves-vagues.dfo-mpo.gc.ca/library-bibliotheque/41107585.pdf</td>\n",
       "    </tr>\n",
       "    <tr>\n",
       "      <th>file_url_en</th>\n",
       "      <td>https://waves-vagues.dfo-mpo.gc.ca/library-bibliotheque/41107020.pdf</td>\n",
       "    </tr>\n",
       "  </tbody>\n",
       "</table>\n",
       "</div>"
      ]
     },
     "metadata": {},
     "output_type": "display_data"
    },
    {
     "data": {
      "text/plain": [
       "                                                                                                            8308\n",
       "pub_number                                                                                          SCR 2024/026\n",
       "nom          Conséquence pour la conservation du déplacement de la limite nord de la zone de prise totale aut...\n",
       "name         Conservation Implications of Moving the Northern Boundary of the Belcher-Islands and Eastern Hud...\n",
       "url_fr                            https://www.dfo-mpo.gc.ca/csas-sccs/Publications/ScR-RS/2024/2024_026-fra.html\n",
       "url_en                            https://www.dfo-mpo.gc.ca/csas-sccs/Publications/ScR-RS/2024/2024_026-eng.html\n",
       "file_url_fr                                 https://waves-vagues.dfo-mpo.gc.ca/library-bibliotheque/4124946x.pdf\n",
       "file_url_en                                 https://waves-vagues.dfo-mpo.gc.ca/library-bibliotheque/41249422.pdf"
      ],
      "text/html": [
       "<div>\n",
       "<style scoped>\n",
       "    .dataframe tbody tr th:only-of-type {\n",
       "        vertical-align: middle;\n",
       "    }\n",
       "\n",
       "    .dataframe tbody tr th {\n",
       "        vertical-align: top;\n",
       "    }\n",
       "\n",
       "    .dataframe thead th {\n",
       "        text-align: right;\n",
       "    }\n",
       "</style>\n",
       "<table border=\"1\" class=\"dataframe\">\n",
       "  <thead>\n",
       "    <tr style=\"text-align: right;\">\n",
       "      <th></th>\n",
       "      <th>8308</th>\n",
       "    </tr>\n",
       "  </thead>\n",
       "  <tbody>\n",
       "    <tr>\n",
       "      <th>pub_number</th>\n",
       "      <td>SCR 2024/026</td>\n",
       "    </tr>\n",
       "    <tr>\n",
       "      <th>nom</th>\n",
       "      <td>Conséquence pour la conservation du déplacement de la limite nord de la zone de prise totale aut...</td>\n",
       "    </tr>\n",
       "    <tr>\n",
       "      <th>name</th>\n",
       "      <td>Conservation Implications of Moving the Northern Boundary of the Belcher-Islands and Eastern Hud...</td>\n",
       "    </tr>\n",
       "    <tr>\n",
       "      <th>url_fr</th>\n",
       "      <td>https://www.dfo-mpo.gc.ca/csas-sccs/Publications/ScR-RS/2024/2024_026-fra.html</td>\n",
       "    </tr>\n",
       "    <tr>\n",
       "      <th>url_en</th>\n",
       "      <td>https://www.dfo-mpo.gc.ca/csas-sccs/Publications/ScR-RS/2024/2024_026-eng.html</td>\n",
       "    </tr>\n",
       "    <tr>\n",
       "      <th>file_url_fr</th>\n",
       "      <td>https://waves-vagues.dfo-mpo.gc.ca/library-bibliotheque/4124946x.pdf</td>\n",
       "    </tr>\n",
       "    <tr>\n",
       "      <th>file_url_en</th>\n",
       "      <td>https://waves-vagues.dfo-mpo.gc.ca/library-bibliotheque/41249422.pdf</td>\n",
       "    </tr>\n",
       "  </tbody>\n",
       "</table>\n",
       "</div>"
      ]
     },
     "metadata": {},
     "output_type": "display_data"
    }
   ],
   "execution_count": 34
  },
  {
   "metadata": {
    "ExecuteTime": {
     "end_time": "2025-02-14T17:14:47.999517Z",
     "start_time": "2025-02-14T17:14:47.977079Z"
    }
   },
   "cell_type": "code",
   "source": [
    "# what about all messed up len ratio with different files? \n",
    "#  mostly website errors\n",
    "#  some same file copied to 2 filenames, only summary translated\n",
    "bad_pub_numbers = matched_df.loc[(matched_df.len_diff > 2)].pub_number.to_list()\n",
    "weblinks_df.loc[weblinks_df.pub_number.isin(bad_pub_numbers) & (weblinks_df.file_url_fr != weblinks_df.file_url_en), ['pub_number', 'url_fr', 'url_en', 'file_url_fr', 'file_url_en']]"
   ],
   "id": "73c3cddabda6855a",
   "outputs": [
    {
     "data": {
      "text/plain": [
       "          pub_number  \\\n",
       "719     PRO 2012/031   \n",
       "737     PRO 2012/059   \n",
       "3642    RES 2000/041   \n",
       "5275    RES 2013/002   \n",
       "5300    RES 2013/027   \n",
       "6212    RES 2023/026   \n",
       "6338    RES 2024/046   \n",
       "6767    SAR 2010/070   \n",
       "6843    SAR 2011/067   \n",
       "6922    SAR 2012/045   \n",
       "7062    SAR 2014/042   \n",
       "7761    SCR 2012/041   \n",
       "7839    SCR 2014/033   \n",
       "8215    SCR 2022/024   \n",
       "8242    SCR 2023/004   \n",
       "8308    SCR 2024/026   \n",
       "8538  SSR 1997/G3-02   \n",
       "8605  SSR 1998/E5-44   \n",
       "8644  SSR 1998/C4-06   \n",
       "8796  SSR 2000/G2-01   \n",
       "\n",
       "                                                                                       url_fr  \\\n",
       "719             http://www.dfo-mpo.gc.ca/csas-sccs/Publications/Pro-Cr/2012/2012_031-fra.html   \n",
       "737             http://www.dfo-mpo.gc.ca/csas-sccs/Publications/Pro-Cr/2012/2012_059-fra.html   \n",
       "3642    http://www.dfo-mpo.gc.ca/csas-sccs/publications/resdocs-docrech/2000/2000_041-fra.htm   \n",
       "5275   http://www.dfo-mpo.gc.ca/csas-sccs/Publications/ResDocs-DocRech/2013/2013_002-fra.html   \n",
       "5300   http://www.dfo-mpo.gc.ca/csas-sccs/Publications/ResDocs-DocRech/2013/2013_027-fra.html   \n",
       "6212  https://www.dfo-mpo.gc.ca/csas-sccs/Publications/ResDocs-DocRech/2023/2023_026-fra.html   \n",
       "6338  https://www.dfo-mpo.gc.ca/csas-sccs/Publications/ResDocs-DocRech/2024/2024_046-fra.html   \n",
       "6767            http://www.dfo-mpo.gc.ca/csas-sccs/Publications/SAR-AS/2010/2010_070-fra.html   \n",
       "6843            http://www.dfo-mpo.gc.ca/csas-sccs/Publications/SAR-AS/2011/2011_067-fra.html   \n",
       "6922            http://www.dfo-mpo.gc.ca/csas-sccs/Publications/SAR-AS/2012/2012_045-fra.html   \n",
       "7062            http://www.dfo-mpo.gc.ca/csas-sccs/Publications/SAR-AS/2014/2014_042-fra.html   \n",
       "7761            http://www.dfo-mpo.gc.ca/csas-sccs/Publications/ScR-RS/2012/2012_041-fra.html   \n",
       "7839            http://www.dfo-mpo.gc.ca/csas-sccs/publications/scr-rs/2014/2014_033-fra.html   \n",
       "8215            http://www.dfo-mpo.gc.ca/csas-sccs/Publications/ScR-RS/2022/2022_024-fra.html   \n",
       "8242           https://www.dfo-mpo.gc.ca/csas-sccs/Publications/ScR-RS/2023/2023_004-fra.html   \n",
       "8308           https://www.dfo-mpo.gc.ca/csas-sccs/Publications/ScR-RS/2024/2024_026-fra.html   \n",
       "8538                                     http://waves-vagues.dfo-mpo.gc.ca/Library/219497.pdf   \n",
       "8605                                     http://waves-vagues.dfo-mpo.gc.ca/Library/331640.pdf   \n",
       "8644                       https://waves-vagues.dfo-mpo.gc.ca/library-bibliotheque/223401.pdf   \n",
       "8796                     https://waves-vagues.dfo-mpo.gc.ca/library-bibliotheque/40619333.pdf   \n",
       "\n",
       "                                                                                       url_en  \\\n",
       "719             http://www.dfo-mpo.gc.ca/csas-sccs/Publications/Pro-Cr/2012/2012_031-eng.html   \n",
       "737             http://www.dfo-mpo.gc.ca/csas-sccs/Publications/Pro-Cr/2012/2012_059-eng.html   \n",
       "3642    http://www.dfo-mpo.gc.ca/csas-sccs/publications/resdocs-docrech/2000/2000_041-eng.htm   \n",
       "5275   http://www.dfo-mpo.gc.ca/csas-sccs/Publications/ResDocs-DocRech/2013/2013_002-eng.html   \n",
       "5300   http://www.dfo-mpo.gc.ca/csas-sccs/Publications/ResDocs-DocRech/2013/2013_027-eng.html   \n",
       "6212  https://www.dfo-mpo.gc.ca/csas-sccs/Publications/ResDocs-DocRech/2023/2023_026-eng.html   \n",
       "6338  https://www.dfo-mpo.gc.ca/csas-sccs/Publications/ResDocs-DocRech/2024/2024_046-eng.html   \n",
       "6767            http://www.dfo-mpo.gc.ca/csas-sccs/Publications/SAR-AS/2010/2010_070-eng.html   \n",
       "6843            http://www.dfo-mpo.gc.ca/csas-sccs/Publications/SAR-AS/2011/2011_067-eng.html   \n",
       "6922            http://www.dfo-mpo.gc.ca/csas-sccs/Publications/SAR-AS/2012/2012_045-eng.html   \n",
       "7062            http://www.dfo-mpo.gc.ca/csas-sccs/Publications/SAR-AS/2014/2014_042-eng.html   \n",
       "7761            http://www.dfo-mpo.gc.ca/csas-sccs/Publications/ScR-RS/2012/2012_041-eng.html   \n",
       "7839            http://www.dfo-mpo.gc.ca/csas-sccs/Publications/ScR-RS/2014/2014_033-eng.html   \n",
       "8215            http://www.dfo-mpo.gc.ca/csas-sccs/Publications/ScR-RS/2022/2022_024-eng.html   \n",
       "8242           https://www.dfo-mpo.gc.ca/csas-sccs/Publications/ScR-RS/2023/2023_004-eng.html   \n",
       "8308           https://www.dfo-mpo.gc.ca/csas-sccs/Publications/ScR-RS/2024/2024_026-eng.html   \n",
       "8538                                     http://waves-vagues.dfo-mpo.gc.ca/Library/219073.pdf   \n",
       "8605                                     http://waves-vagues.dfo-mpo.gc.ca/Library/362118.pdf   \n",
       "8644                                     http://waves-vagues.dfo-mpo.gc.ca/Library/223465.pdf   \n",
       "8796                                   http://waves-vagues.dfo-mpo.gc.ca/Library/40619333.pdf   \n",
       "\n",
       "                                                               file_url_fr  \\\n",
       "719     https://waves-vagues.dfo-mpo.gc.ca/library-bibliotheque/347497.pdf   \n",
       "737     https://waves-vagues.dfo-mpo.gc.ca/library-bibliotheque/348617.pdf   \n",
       "3642    https://waves-vagues.dfo-mpo.gc.ca/library-bibliotheque/265909.pdf   \n",
       "5275    https://waves-vagues.dfo-mpo.gc.ca/library-bibliotheque/348703.pdf   \n",
       "5300    https://waves-vagues.dfo-mpo.gc.ca/library-bibliotheque/349926.pdf   \n",
       "6212  https://waves-vagues.dfo-mpo.gc.ca/library-bibliotheque/41117748.pdf   \n",
       "6338  https://waves-vagues.dfo-mpo.gc.ca/library-bibliotheque/4126082x.pdf   \n",
       "6767    https://waves-vagues.dfo-mpo.gc.ca/library-bibliotheque/343603.pdf   \n",
       "6843    https://waves-vagues.dfo-mpo.gc.ca/library-bibliotheque/346314.pdf   \n",
       "6922    https://waves-vagues.dfo-mpo.gc.ca/library-bibliotheque/348373.pdf   \n",
       "7062    https://waves-vagues.dfo-mpo.gc.ca/library-bibliotheque/352153.pdf   \n",
       "7761    https://waves-vagues.dfo-mpo.gc.ca/library-bibliotheque/347658.pdf   \n",
       "7839    https://waves-vagues.dfo-mpo.gc.ca/library-bibliotheque/363608.pdf   \n",
       "8215  https://waves-vagues.dfo-mpo.gc.ca/library-bibliotheque/41063995.pdf   \n",
       "8242  https://waves-vagues.dfo-mpo.gc.ca/library-bibliotheque/41107585.pdf   \n",
       "8308  https://waves-vagues.dfo-mpo.gc.ca/library-bibliotheque/4124946x.pdf   \n",
       "8538                  http://waves-vagues.dfo-mpo.gc.ca/Library/219497.pdf   \n",
       "8605                  http://waves-vagues.dfo-mpo.gc.ca/Library/331640.pdf   \n",
       "8644    https://waves-vagues.dfo-mpo.gc.ca/library-bibliotheque/223401.pdf   \n",
       "8796  https://waves-vagues.dfo-mpo.gc.ca/library-bibliotheque/40619333.pdf   \n",
       "\n",
       "                                                               file_url_en  \n",
       "719     https://waves-vagues.dfo-mpo.gc.ca/library-bibliotheque/347496.pdf  \n",
       "737     https://waves-vagues.dfo-mpo.gc.ca/library-bibliotheque/348616.pdf  \n",
       "3642    https://waves-vagues.dfo-mpo.gc.ca/library-bibliotheque/248180.pdf  \n",
       "5275    https://waves-vagues.dfo-mpo.gc.ca/library-bibliotheque/348701.pdf  \n",
       "5300    https://waves-vagues.dfo-mpo.gc.ca/library-bibliotheque/349680.pdf  \n",
       "6212  https://waves-vagues.dfo-mpo.gc.ca/library-bibliotheque/41117554.pdf  \n",
       "6338  https://waves-vagues.dfo-mpo.gc.ca/library-bibliotheque/41260818.pdf  \n",
       "6767    https://waves-vagues.dfo-mpo.gc.ca/library-bibliotheque/343602.pdf  \n",
       "6843    https://waves-vagues.dfo-mpo.gc.ca/library-bibliotheque/346313.pdf  \n",
       "6922    https://waves-vagues.dfo-mpo.gc.ca/library-bibliotheque/348324.pdf  \n",
       "7062    https://waves-vagues.dfo-mpo.gc.ca/library-bibliotheque/364309.pdf  \n",
       "7761    https://waves-vagues.dfo-mpo.gc.ca/library-bibliotheque/347657.pdf  \n",
       "7839    https://waves-vagues.dfo-mpo.gc.ca/library-bibliotheque/363607.pdf  \n",
       "8215  https://waves-vagues.dfo-mpo.gc.ca/library-bibliotheque/41064951.pdf  \n",
       "8242  https://waves-vagues.dfo-mpo.gc.ca/library-bibliotheque/41107020.pdf  \n",
       "8308  https://waves-vagues.dfo-mpo.gc.ca/library-bibliotheque/41249422.pdf  \n",
       "8538                  http://waves-vagues.dfo-mpo.gc.ca/Library/219073.pdf  \n",
       "8605                  http://waves-vagues.dfo-mpo.gc.ca/Library/362118.pdf  \n",
       "8644                  http://waves-vagues.dfo-mpo.gc.ca/Library/223465.pdf  \n",
       "8796                http://waves-vagues.dfo-mpo.gc.ca/Library/40619333.pdf  "
      ],
      "text/html": [
       "<div>\n",
       "<style scoped>\n",
       "    .dataframe tbody tr th:only-of-type {\n",
       "        vertical-align: middle;\n",
       "    }\n",
       "\n",
       "    .dataframe tbody tr th {\n",
       "        vertical-align: top;\n",
       "    }\n",
       "\n",
       "    .dataframe thead th {\n",
       "        text-align: right;\n",
       "    }\n",
       "</style>\n",
       "<table border=\"1\" class=\"dataframe\">\n",
       "  <thead>\n",
       "    <tr style=\"text-align: right;\">\n",
       "      <th></th>\n",
       "      <th>pub_number</th>\n",
       "      <th>url_fr</th>\n",
       "      <th>url_en</th>\n",
       "      <th>file_url_fr</th>\n",
       "      <th>file_url_en</th>\n",
       "    </tr>\n",
       "  </thead>\n",
       "  <tbody>\n",
       "    <tr>\n",
       "      <th>719</th>\n",
       "      <td>PRO 2012/031</td>\n",
       "      <td>http://www.dfo-mpo.gc.ca/csas-sccs/Publications/Pro-Cr/2012/2012_031-fra.html</td>\n",
       "      <td>http://www.dfo-mpo.gc.ca/csas-sccs/Publications/Pro-Cr/2012/2012_031-eng.html</td>\n",
       "      <td>https://waves-vagues.dfo-mpo.gc.ca/library-bibliotheque/347497.pdf</td>\n",
       "      <td>https://waves-vagues.dfo-mpo.gc.ca/library-bibliotheque/347496.pdf</td>\n",
       "    </tr>\n",
       "    <tr>\n",
       "      <th>737</th>\n",
       "      <td>PRO 2012/059</td>\n",
       "      <td>http://www.dfo-mpo.gc.ca/csas-sccs/Publications/Pro-Cr/2012/2012_059-fra.html</td>\n",
       "      <td>http://www.dfo-mpo.gc.ca/csas-sccs/Publications/Pro-Cr/2012/2012_059-eng.html</td>\n",
       "      <td>https://waves-vagues.dfo-mpo.gc.ca/library-bibliotheque/348617.pdf</td>\n",
       "      <td>https://waves-vagues.dfo-mpo.gc.ca/library-bibliotheque/348616.pdf</td>\n",
       "    </tr>\n",
       "    <tr>\n",
       "      <th>3642</th>\n",
       "      <td>RES 2000/041</td>\n",
       "      <td>http://www.dfo-mpo.gc.ca/csas-sccs/publications/resdocs-docrech/2000/2000_041-fra.htm</td>\n",
       "      <td>http://www.dfo-mpo.gc.ca/csas-sccs/publications/resdocs-docrech/2000/2000_041-eng.htm</td>\n",
       "      <td>https://waves-vagues.dfo-mpo.gc.ca/library-bibliotheque/265909.pdf</td>\n",
       "      <td>https://waves-vagues.dfo-mpo.gc.ca/library-bibliotheque/248180.pdf</td>\n",
       "    </tr>\n",
       "    <tr>\n",
       "      <th>5275</th>\n",
       "      <td>RES 2013/002</td>\n",
       "      <td>http://www.dfo-mpo.gc.ca/csas-sccs/Publications/ResDocs-DocRech/2013/2013_002-fra.html</td>\n",
       "      <td>http://www.dfo-mpo.gc.ca/csas-sccs/Publications/ResDocs-DocRech/2013/2013_002-eng.html</td>\n",
       "      <td>https://waves-vagues.dfo-mpo.gc.ca/library-bibliotheque/348703.pdf</td>\n",
       "      <td>https://waves-vagues.dfo-mpo.gc.ca/library-bibliotheque/348701.pdf</td>\n",
       "    </tr>\n",
       "    <tr>\n",
       "      <th>5300</th>\n",
       "      <td>RES 2013/027</td>\n",
       "      <td>http://www.dfo-mpo.gc.ca/csas-sccs/Publications/ResDocs-DocRech/2013/2013_027-fra.html</td>\n",
       "      <td>http://www.dfo-mpo.gc.ca/csas-sccs/Publications/ResDocs-DocRech/2013/2013_027-eng.html</td>\n",
       "      <td>https://waves-vagues.dfo-mpo.gc.ca/library-bibliotheque/349926.pdf</td>\n",
       "      <td>https://waves-vagues.dfo-mpo.gc.ca/library-bibliotheque/349680.pdf</td>\n",
       "    </tr>\n",
       "    <tr>\n",
       "      <th>6212</th>\n",
       "      <td>RES 2023/026</td>\n",
       "      <td>https://www.dfo-mpo.gc.ca/csas-sccs/Publications/ResDocs-DocRech/2023/2023_026-fra.html</td>\n",
       "      <td>https://www.dfo-mpo.gc.ca/csas-sccs/Publications/ResDocs-DocRech/2023/2023_026-eng.html</td>\n",
       "      <td>https://waves-vagues.dfo-mpo.gc.ca/library-bibliotheque/41117748.pdf</td>\n",
       "      <td>https://waves-vagues.dfo-mpo.gc.ca/library-bibliotheque/41117554.pdf</td>\n",
       "    </tr>\n",
       "    <tr>\n",
       "      <th>6338</th>\n",
       "      <td>RES 2024/046</td>\n",
       "      <td>https://www.dfo-mpo.gc.ca/csas-sccs/Publications/ResDocs-DocRech/2024/2024_046-fra.html</td>\n",
       "      <td>https://www.dfo-mpo.gc.ca/csas-sccs/Publications/ResDocs-DocRech/2024/2024_046-eng.html</td>\n",
       "      <td>https://waves-vagues.dfo-mpo.gc.ca/library-bibliotheque/4126082x.pdf</td>\n",
       "      <td>https://waves-vagues.dfo-mpo.gc.ca/library-bibliotheque/41260818.pdf</td>\n",
       "    </tr>\n",
       "    <tr>\n",
       "      <th>6767</th>\n",
       "      <td>SAR 2010/070</td>\n",
       "      <td>http://www.dfo-mpo.gc.ca/csas-sccs/Publications/SAR-AS/2010/2010_070-fra.html</td>\n",
       "      <td>http://www.dfo-mpo.gc.ca/csas-sccs/Publications/SAR-AS/2010/2010_070-eng.html</td>\n",
       "      <td>https://waves-vagues.dfo-mpo.gc.ca/library-bibliotheque/343603.pdf</td>\n",
       "      <td>https://waves-vagues.dfo-mpo.gc.ca/library-bibliotheque/343602.pdf</td>\n",
       "    </tr>\n",
       "    <tr>\n",
       "      <th>6843</th>\n",
       "      <td>SAR 2011/067</td>\n",
       "      <td>http://www.dfo-mpo.gc.ca/csas-sccs/Publications/SAR-AS/2011/2011_067-fra.html</td>\n",
       "      <td>http://www.dfo-mpo.gc.ca/csas-sccs/Publications/SAR-AS/2011/2011_067-eng.html</td>\n",
       "      <td>https://waves-vagues.dfo-mpo.gc.ca/library-bibliotheque/346314.pdf</td>\n",
       "      <td>https://waves-vagues.dfo-mpo.gc.ca/library-bibliotheque/346313.pdf</td>\n",
       "    </tr>\n",
       "    <tr>\n",
       "      <th>6922</th>\n",
       "      <td>SAR 2012/045</td>\n",
       "      <td>http://www.dfo-mpo.gc.ca/csas-sccs/Publications/SAR-AS/2012/2012_045-fra.html</td>\n",
       "      <td>http://www.dfo-mpo.gc.ca/csas-sccs/Publications/SAR-AS/2012/2012_045-eng.html</td>\n",
       "      <td>https://waves-vagues.dfo-mpo.gc.ca/library-bibliotheque/348373.pdf</td>\n",
       "      <td>https://waves-vagues.dfo-mpo.gc.ca/library-bibliotheque/348324.pdf</td>\n",
       "    </tr>\n",
       "    <tr>\n",
       "      <th>7062</th>\n",
       "      <td>SAR 2014/042</td>\n",
       "      <td>http://www.dfo-mpo.gc.ca/csas-sccs/Publications/SAR-AS/2014/2014_042-fra.html</td>\n",
       "      <td>http://www.dfo-mpo.gc.ca/csas-sccs/Publications/SAR-AS/2014/2014_042-eng.html</td>\n",
       "      <td>https://waves-vagues.dfo-mpo.gc.ca/library-bibliotheque/352153.pdf</td>\n",
       "      <td>https://waves-vagues.dfo-mpo.gc.ca/library-bibliotheque/364309.pdf</td>\n",
       "    </tr>\n",
       "    <tr>\n",
       "      <th>7761</th>\n",
       "      <td>SCR 2012/041</td>\n",
       "      <td>http://www.dfo-mpo.gc.ca/csas-sccs/Publications/ScR-RS/2012/2012_041-fra.html</td>\n",
       "      <td>http://www.dfo-mpo.gc.ca/csas-sccs/Publications/ScR-RS/2012/2012_041-eng.html</td>\n",
       "      <td>https://waves-vagues.dfo-mpo.gc.ca/library-bibliotheque/347658.pdf</td>\n",
       "      <td>https://waves-vagues.dfo-mpo.gc.ca/library-bibliotheque/347657.pdf</td>\n",
       "    </tr>\n",
       "    <tr>\n",
       "      <th>7839</th>\n",
       "      <td>SCR 2014/033</td>\n",
       "      <td>http://www.dfo-mpo.gc.ca/csas-sccs/publications/scr-rs/2014/2014_033-fra.html</td>\n",
       "      <td>http://www.dfo-mpo.gc.ca/csas-sccs/Publications/ScR-RS/2014/2014_033-eng.html</td>\n",
       "      <td>https://waves-vagues.dfo-mpo.gc.ca/library-bibliotheque/363608.pdf</td>\n",
       "      <td>https://waves-vagues.dfo-mpo.gc.ca/library-bibliotheque/363607.pdf</td>\n",
       "    </tr>\n",
       "    <tr>\n",
       "      <th>8215</th>\n",
       "      <td>SCR 2022/024</td>\n",
       "      <td>http://www.dfo-mpo.gc.ca/csas-sccs/Publications/ScR-RS/2022/2022_024-fra.html</td>\n",
       "      <td>http://www.dfo-mpo.gc.ca/csas-sccs/Publications/ScR-RS/2022/2022_024-eng.html</td>\n",
       "      <td>https://waves-vagues.dfo-mpo.gc.ca/library-bibliotheque/41063995.pdf</td>\n",
       "      <td>https://waves-vagues.dfo-mpo.gc.ca/library-bibliotheque/41064951.pdf</td>\n",
       "    </tr>\n",
       "    <tr>\n",
       "      <th>8242</th>\n",
       "      <td>SCR 2023/004</td>\n",
       "      <td>https://www.dfo-mpo.gc.ca/csas-sccs/Publications/ScR-RS/2023/2023_004-fra.html</td>\n",
       "      <td>https://www.dfo-mpo.gc.ca/csas-sccs/Publications/ScR-RS/2023/2023_004-eng.html</td>\n",
       "      <td>https://waves-vagues.dfo-mpo.gc.ca/library-bibliotheque/41107585.pdf</td>\n",
       "      <td>https://waves-vagues.dfo-mpo.gc.ca/library-bibliotheque/41107020.pdf</td>\n",
       "    </tr>\n",
       "    <tr>\n",
       "      <th>8308</th>\n",
       "      <td>SCR 2024/026</td>\n",
       "      <td>https://www.dfo-mpo.gc.ca/csas-sccs/Publications/ScR-RS/2024/2024_026-fra.html</td>\n",
       "      <td>https://www.dfo-mpo.gc.ca/csas-sccs/Publications/ScR-RS/2024/2024_026-eng.html</td>\n",
       "      <td>https://waves-vagues.dfo-mpo.gc.ca/library-bibliotheque/4124946x.pdf</td>\n",
       "      <td>https://waves-vagues.dfo-mpo.gc.ca/library-bibliotheque/41249422.pdf</td>\n",
       "    </tr>\n",
       "    <tr>\n",
       "      <th>8538</th>\n",
       "      <td>SSR 1997/G3-02</td>\n",
       "      <td>http://waves-vagues.dfo-mpo.gc.ca/Library/219497.pdf</td>\n",
       "      <td>http://waves-vagues.dfo-mpo.gc.ca/Library/219073.pdf</td>\n",
       "      <td>http://waves-vagues.dfo-mpo.gc.ca/Library/219497.pdf</td>\n",
       "      <td>http://waves-vagues.dfo-mpo.gc.ca/Library/219073.pdf</td>\n",
       "    </tr>\n",
       "    <tr>\n",
       "      <th>8605</th>\n",
       "      <td>SSR 1998/E5-44</td>\n",
       "      <td>http://waves-vagues.dfo-mpo.gc.ca/Library/331640.pdf</td>\n",
       "      <td>http://waves-vagues.dfo-mpo.gc.ca/Library/362118.pdf</td>\n",
       "      <td>http://waves-vagues.dfo-mpo.gc.ca/Library/331640.pdf</td>\n",
       "      <td>http://waves-vagues.dfo-mpo.gc.ca/Library/362118.pdf</td>\n",
       "    </tr>\n",
       "    <tr>\n",
       "      <th>8644</th>\n",
       "      <td>SSR 1998/C4-06</td>\n",
       "      <td>https://waves-vagues.dfo-mpo.gc.ca/library-bibliotheque/223401.pdf</td>\n",
       "      <td>http://waves-vagues.dfo-mpo.gc.ca/Library/223465.pdf</td>\n",
       "      <td>https://waves-vagues.dfo-mpo.gc.ca/library-bibliotheque/223401.pdf</td>\n",
       "      <td>http://waves-vagues.dfo-mpo.gc.ca/Library/223465.pdf</td>\n",
       "    </tr>\n",
       "    <tr>\n",
       "      <th>8796</th>\n",
       "      <td>SSR 2000/G2-01</td>\n",
       "      <td>https://waves-vagues.dfo-mpo.gc.ca/library-bibliotheque/40619333.pdf</td>\n",
       "      <td>http://waves-vagues.dfo-mpo.gc.ca/Library/40619333.pdf</td>\n",
       "      <td>https://waves-vagues.dfo-mpo.gc.ca/library-bibliotheque/40619333.pdf</td>\n",
       "      <td>http://waves-vagues.dfo-mpo.gc.ca/Library/40619333.pdf</td>\n",
       "    </tr>\n",
       "  </tbody>\n",
       "</table>\n",
       "</div>"
      ]
     },
     "execution_count": 36,
     "metadata": {},
     "output_type": "execute_result"
    }
   ],
   "execution_count": 36
  },
  {
   "metadata": {
    "ExecuteTime": {
     "end_time": "2025-02-14T17:14:48.222515Z",
     "start_time": "2025-02-14T17:14:48.216121Z"
    }
   },
   "cell_type": "code",
   "source": [
    "# different file link, but identical file - only summary translated \n",
    "matched_df[matched_df.pub_number == 'PRO 2012/059'].T"
   ],
   "id": "4ec96a5bfa6f9d79",
   "outputs": [
    {
     "data": {
      "text/plain": [
       "                                                                                                            725\n",
       "pub_number                                                                                         PRO 2012/059\n",
       "text_fr     rostriformis bugenis), qui sont toutes deux originaires de la région pontocaspienne, en Europe o...\n",
       "text_en     Canadian Science Advisory Secretariat (CSAS) Proceedings Series National Capital Region May Proc...\n",
       "len_fr                                                                                                     1738\n",
       "len_en                                                                                                    33128\n",
       "len_diff                                                                                                   19.1"
      ],
      "text/html": [
       "<div>\n",
       "<style scoped>\n",
       "    .dataframe tbody tr th:only-of-type {\n",
       "        vertical-align: middle;\n",
       "    }\n",
       "\n",
       "    .dataframe tbody tr th {\n",
       "        vertical-align: top;\n",
       "    }\n",
       "\n",
       "    .dataframe thead th {\n",
       "        text-align: right;\n",
       "    }\n",
       "</style>\n",
       "<table border=\"1\" class=\"dataframe\">\n",
       "  <thead>\n",
       "    <tr style=\"text-align: right;\">\n",
       "      <th></th>\n",
       "      <th>725</th>\n",
       "    </tr>\n",
       "  </thead>\n",
       "  <tbody>\n",
       "    <tr>\n",
       "      <th>pub_number</th>\n",
       "      <td>PRO 2012/059</td>\n",
       "    </tr>\n",
       "    <tr>\n",
       "      <th>text_fr</th>\n",
       "      <td>rostriformis bugenis), qui sont toutes deux originaires de la région pontocaspienne, en Europe o...</td>\n",
       "    </tr>\n",
       "    <tr>\n",
       "      <th>text_en</th>\n",
       "      <td>Canadian Science Advisory Secretariat (CSAS) Proceedings Series National Capital Region May Proc...</td>\n",
       "    </tr>\n",
       "    <tr>\n",
       "      <th>len_fr</th>\n",
       "      <td>1738</td>\n",
       "    </tr>\n",
       "    <tr>\n",
       "      <th>len_en</th>\n",
       "      <td>33128</td>\n",
       "    </tr>\n",
       "    <tr>\n",
       "      <th>len_diff</th>\n",
       "      <td>19.1</td>\n",
       "    </tr>\n",
       "  </tbody>\n",
       "</table>\n",
       "</div>"
      ]
     },
     "execution_count": 37,
     "metadata": {},
     "output_type": "execute_result"
    }
   ],
   "execution_count": 37
  },
  {
   "metadata": {
    "ExecuteTime": {
     "end_time": "2025-02-14T17:14:48.406062Z",
     "start_time": "2025-02-14T17:14:48.394679Z"
    }
   },
   "cell_type": "code",
   "source": [
    "# is correct? (yes)\n",
    "preview_publication(\"RES 2018/029\")\n",
    "matched_df[matched_df.pub_number == 'RES 2018/029'].T"
   ],
   "id": "9736b64b576bda0",
   "outputs": [
    {
     "data": {
      "text/plain": [
       "                                                                                                            5851\n",
       "pub_number                                                                                          RES 2018/029\n",
       "nom          Abondance de la population, caractéristiques biologiques et contribution aux pêches côtières de ...\n",
       "name         Population abundance, biological characteristics, and contribution to coastal mixed-stock fisher...\n",
       "url_fr                    http://www.dfo-mpo.gc.ca/csas-sccs/Publications/ResDocs-DocRech/2018/2018_029-fra.html\n",
       "url_en                    http://www.dfo-mpo.gc.ca/csas-sccs/Publications/ResDocs-DocRech/2018/2018_029-eng.html\n",
       "file_url_fr                                 https://waves-vagues.dfo-mpo.gc.ca/library-bibliotheque/40759489.pdf\n",
       "file_url_en                                 https://waves-vagues.dfo-mpo.gc.ca/library-bibliotheque/40759453.pdf"
      ],
      "text/html": [
       "<div>\n",
       "<style scoped>\n",
       "    .dataframe tbody tr th:only-of-type {\n",
       "        vertical-align: middle;\n",
       "    }\n",
       "\n",
       "    .dataframe tbody tr th {\n",
       "        vertical-align: top;\n",
       "    }\n",
       "\n",
       "    .dataframe thead th {\n",
       "        text-align: right;\n",
       "    }\n",
       "</style>\n",
       "<table border=\"1\" class=\"dataframe\">\n",
       "  <thead>\n",
       "    <tr style=\"text-align: right;\">\n",
       "      <th></th>\n",
       "      <th>5851</th>\n",
       "    </tr>\n",
       "  </thead>\n",
       "  <tbody>\n",
       "    <tr>\n",
       "      <th>pub_number</th>\n",
       "      <td>RES 2018/029</td>\n",
       "    </tr>\n",
       "    <tr>\n",
       "      <th>nom</th>\n",
       "      <td>Abondance de la population, caractéristiques biologiques et contribution aux pêches côtières de ...</td>\n",
       "    </tr>\n",
       "    <tr>\n",
       "      <th>name</th>\n",
       "      <td>Population abundance, biological characteristics, and contribution to coastal mixed-stock fisher...</td>\n",
       "    </tr>\n",
       "    <tr>\n",
       "      <th>url_fr</th>\n",
       "      <td>http://www.dfo-mpo.gc.ca/csas-sccs/Publications/ResDocs-DocRech/2018/2018_029-fra.html</td>\n",
       "    </tr>\n",
       "    <tr>\n",
       "      <th>url_en</th>\n",
       "      <td>http://www.dfo-mpo.gc.ca/csas-sccs/Publications/ResDocs-DocRech/2018/2018_029-eng.html</td>\n",
       "    </tr>\n",
       "    <tr>\n",
       "      <th>file_url_fr</th>\n",
       "      <td>https://waves-vagues.dfo-mpo.gc.ca/library-bibliotheque/40759489.pdf</td>\n",
       "    </tr>\n",
       "    <tr>\n",
       "      <th>file_url_en</th>\n",
       "      <td>https://waves-vagues.dfo-mpo.gc.ca/library-bibliotheque/40759453.pdf</td>\n",
       "    </tr>\n",
       "  </tbody>\n",
       "</table>\n",
       "</div>"
      ]
     },
     "metadata": {},
     "output_type": "display_data"
    },
    {
     "data": {
      "text/plain": [
       "                                                                                                           5777\n",
       "pub_number                                                                                         RES 2018/029\n",
       "text_fr     Elle traite des problèmes courants selon les échéanciers dictés.  Les documents qu elle contient...\n",
       "text_en     Canadian Science Advisory Secretariat (CSAS) Research Document Central and Arctic Region October...\n",
       "len_fr                                                                                                    62526\n",
       "len_en                                                                                                    69051\n",
       "len_diff                                                                                                    1.1"
      ],
      "text/html": [
       "<div>\n",
       "<style scoped>\n",
       "    .dataframe tbody tr th:only-of-type {\n",
       "        vertical-align: middle;\n",
       "    }\n",
       "\n",
       "    .dataframe tbody tr th {\n",
       "        vertical-align: top;\n",
       "    }\n",
       "\n",
       "    .dataframe thead th {\n",
       "        text-align: right;\n",
       "    }\n",
       "</style>\n",
       "<table border=\"1\" class=\"dataframe\">\n",
       "  <thead>\n",
       "    <tr style=\"text-align: right;\">\n",
       "      <th></th>\n",
       "      <th>5777</th>\n",
       "    </tr>\n",
       "  </thead>\n",
       "  <tbody>\n",
       "    <tr>\n",
       "      <th>pub_number</th>\n",
       "      <td>RES 2018/029</td>\n",
       "    </tr>\n",
       "    <tr>\n",
       "      <th>text_fr</th>\n",
       "      <td>Elle traite des problèmes courants selon les échéanciers dictés.  Les documents qu elle contient...</td>\n",
       "    </tr>\n",
       "    <tr>\n",
       "      <th>text_en</th>\n",
       "      <td>Canadian Science Advisory Secretariat (CSAS) Research Document Central and Arctic Region October...</td>\n",
       "    </tr>\n",
       "    <tr>\n",
       "      <th>len_fr</th>\n",
       "      <td>62526</td>\n",
       "    </tr>\n",
       "    <tr>\n",
       "      <th>len_en</th>\n",
       "      <td>69051</td>\n",
       "    </tr>\n",
       "    <tr>\n",
       "      <th>len_diff</th>\n",
       "      <td>1.1</td>\n",
       "    </tr>\n",
       "  </tbody>\n",
       "</table>\n",
       "</div>"
      ]
     },
     "execution_count": 38,
     "metadata": {},
     "output_type": "execute_result"
    }
   ],
   "execution_count": 38
  },
  {
   "metadata": {
    "ExecuteTime": {
     "end_time": "2025-02-14T17:19:27.866444Z",
     "start_time": "2025-02-14T17:19:20.904888Z"
    }
   },
   "cell_type": "code",
   "source": [
    "# NOTE: 'RES 2018/029' is now fixed with new min/max block sizes\n",
    "\n",
    "# old notes:\n",
    "# way more en than fr but actually matches\n",
    "#  looks like a bunch of tables only got translated to english, wrecking the char ratio, even thoug the chunk ratio is less than 2\n",
    "text_fr, text_en = text_from_pub_number('RES 2018/029')\n",
    "similarity_matrix_5851 = create_similarity_matrix(text_fr, text_en)\n",
    "plot_similarity_heatmap(similarity_matrix_5851)"
   ],
   "id": "85a123d344108f63",
   "outputs": [
    {
     "data": {
      "text/plain": [
       "<Figure size 1000x1000 with 1 Axes>"
      ],
      "image/png": "[encoded data removed]"
     },
     "metadata": {},
     "output_type": "display_data"
    }
   ],
   "execution_count": 52
  },
  {
   "metadata": {
    "ExecuteTime": {
     "end_time": "2025-02-14T18:31:43.518207Z",
     "start_time": "2025-02-14T18:31:42.967348Z"
    }
   },
   "cell_type": "code",
   "source": "plot_similarity_heatmap(similarity_matrix_5851, low_similarity=0.95, high_similarity=0.95)",
   "id": "e1eb4bd452b1823c",
   "outputs": [
    {
     "data": {
      "text/plain": [
       "<Figure size 1000x1000 with 1 Axes>"
      ],
      "image/png": "[encoded data removed]"
     },
     "metadata": {},
     "output_type": "display_data"
    }
   ],
   "execution_count": 77
  },
  {
   "metadata": {
    "ExecuteTime": {
     "end_time": "2025-02-14T18:49:12.996727Z",
     "start_time": "2025-02-14T18:49:12.989329Z"
    }
   },
   "cell_type": "code",
   "source": [
    "def diagonal_constrained_alignment(similarity_matrix, high_thresh=0.95, low_thresh=0.7):\n",
    "    high_confidence = np.where(similarity_matrix > high_thresh)\n",
    "    anchors = list(zip(high_confidence[0], high_confidence[1]))\n",
    "\n",
    "    anchors = sorted(anchors, key=lambda x: x[0])\n",
    "\n",
    "    filtered_pairs = [anchors[0]]\n",
    "\n",
    "    for i in range(1, len(anchors)):\n",
    "        prev_i, prev_j = filtered_pairs[-1] \n",
    "        curr_i, curr_j = anchors[i]\n",
    "\n",
    "        if curr_i > prev_i and curr_j > prev_j:  # TODO: this doesn't solve the diagonal issue\n",
    "            filtered_pairs.append((curr_i, curr_j))\n",
    "    \n",
    "    # # TODO: this part doesn't work - fill in (possibly recursively)\n",
    "    # for (i1, j1) in anchors:\n",
    "    #     for (i2, j2) in anchors:\n",
    "    #         if i1 >= i2 or j1 >= j2:\n",
    "    #             continue\n",
    "    # \n",
    "    #         sub_matrix = similarity_matrix[i1:i2+1, j1:j2+1]\n",
    "    #         max_sim_index = np.unravel_index(np.argmax(sub_matrix), sub_matrix.shape)\n",
    "    #         best_i, best_j = max_sim_index[0] + i1, max_sim_index[1] + j1\n",
    "    # \n",
    "    #         if similarity_matrix[best_i, best_j] > low_thresh:\n",
    "    #             matched_pairs.add((best_i, best_j))\n",
    "\n",
    "    return filtered_pairs\n"
   ],
   "id": "80b5050914829c45",
   "outputs": [],
   "execution_count": 99
  },
  {
   "metadata": {
    "ExecuteTime": {
     "end_time": "2025-02-14T19:04:56.497485Z",
     "start_time": "2025-02-14T19:04:55.755330Z"
    }
   },
   "cell_type": "code",
   "source": [
    "matched_pairs = diagonal_constrained_alignment(similarity_matrix_5851)\n",
    "matched_pairs = [(y, x) for (x, y) in matched_pairs]\n",
    "\n",
    "plot_similarity_heatmap(\n",
    "    similarity_matrix_5851, \n",
    "    low_similarity=0.75, \n",
    "    high_similarity=0.85, \n",
    "    matched_pairs=None\n",
    ")"
   ],
   "id": "ba50aac1effac59a",
   "outputs": [
    {
     "data": {
      "text/plain": [
       "<Figure size 1000x1000 with 1 Axes>"
      ],
      "image/png": "[encoded data removed]"
     },
     "metadata": {},
     "output_type": "display_data"
    }
   ],
   "execution_count": 103
  },
  {
   "metadata": {
    "ExecuteTime": {
     "end_time": "2025-02-14T19:07:36.551915Z",
     "start_time": "2025-02-14T19:07:36.262959Z"
    }
   },
   "cell_type": "code",
   "source": [
    "# TODO: how would we traverse this section \n",
    "plot_similarity_heatmap(similarity_matrix_5851[250:, 300:]**5, cmap=\"Blues\")"
   ],
   "id": "76326bebed031f85",
   "outputs": [
    {
     "data": {
      "text/plain": [
       "<Figure size 1000x1000 with 1 Axes>"
      ],
      "image/png": "[encoded data removed]"
     },
     "metadata": {},
     "output_type": "display_data"
    }
   ],
   "execution_count": 111
  },
  {
   "metadata": {},
   "cell_type": "code",
   "outputs": [],
   "execution_count": null,
   "source": "",
   "id": "b656573195d605d9"
  },
  {
   "metadata": {
    "ExecuteTime": {
     "end_time": "2025-02-14T17:42:44.065136Z",
     "start_time": "2025-02-14T17:42:43.934536Z"
    }
   },
   "cell_type": "code",
   "source": [
    "# let's make a histogram for len_diff, and try to guess where the good data starts\n",
    "matched_df.len_diff.hist(bins=[x/10 for x in range(10, 100)], figsize=(16, 6))"
   ],
   "id": "9573027730364a15",
   "outputs": [
    {
     "data": {
      "text/plain": [
       "<Axes: >"
      ]
     },
     "execution_count": 63,
     "metadata": {},
     "output_type": "execute_result"
    },
    {
     "data": {
      "text/plain": [
       "<Figure size 1600x600 with 1 Axes>"
      ],
      "image/png": "[encoded data removed]"
     },
     "metadata": {},
     "output_type": "display_data"
    }
   ],
   "execution_count": 63
  },
  {
   "metadata": {
    "ExecuteTime": {
     "end_time": "2025-02-14T17:14:56.072585Z",
     "start_time": "2025-02-14T17:14:56.067433Z"
    }
   },
   "cell_type": "code",
   "source": "",
   "id": "be8ed18551ebc605",
   "outputs": [],
   "execution_count": null
  },
  {
   "metadata": {
    "ExecuteTime": {
     "end_time": "2025-02-14T17:14:56.093199Z",
     "start_time": "2025-02-14T17:14:56.089328Z"
    }
   },
   "cell_type": "code",
   "source": "# count number of characters good vs junk (ie, what percentage of the data is in these partially translated files)\n",
   "id": "8d7f48455cad8034",
   "outputs": [],
   "execution_count": 45
  },
  {
   "metadata": {
    "ExecuteTime": {
     "end_time": "2025-02-14T17:14:56.150623Z",
     "start_time": "2025-02-14T17:14:56.142822Z"
    }
   },
   "cell_type": "code",
   "source": "",
   "id": "f9f44728c4d8addb",
   "outputs": [],
   "execution_count": null
  },
  {
   "metadata": {
    "ExecuteTime": {
     "end_time": "2025-02-14T17:14:56.156395Z",
     "start_time": "2025-02-14T17:14:56.150623Z"
    }
   },
   "cell_type": "code",
   "source": "",
   "id": "1f9b8bb4446b28b2",
   "outputs": [],
   "execution_count": null
  },
  {
   "metadata": {
    "ExecuteTime": {
     "end_time": "2025-02-14T17:14:56.190612Z",
     "start_time": "2025-02-14T17:14:56.174298Z"
    }
   },
   "cell_type": "code",
   "source": "",
   "id": "6a9f0e4abad13417",
   "outputs": [],
   "execution_count": null
  },
  {
   "metadata": {
    "ExecuteTime": {
     "end_time": "2025-02-14T17:14:56.233638Z",
     "start_time": "2025-02-14T17:14:56.221761Z"
    }
   },
   "cell_type": "code",
   "source": "",
   "id": "7b7d7500bbc8c6ee",
   "outputs": [],
   "execution_count": null
  },
  {
   "metadata": {
    "ExecuteTime": {
     "end_time": "2025-02-14T17:14:56.277311Z",
     "start_time": "2025-02-14T17:14:56.266597Z"
    }
   },
   "cell_type": "code",
   "source": "",
   "id": "dd1925913e323e84",
   "outputs": [],
   "execution_count": null
  },
  {
   "metadata": {
    "ExecuteTime": {
     "end_time": "2025-02-14T17:14:56.366532Z",
     "start_time": "2025-02-14T17:14:56.361991Z"
    }
   },
   "cell_type": "code",
   "source": "",
   "id": "c856f430ce0282fd",
   "outputs": [],
   "execution_count": null
  },
  {
   "metadata": {
    "ExecuteTime": {
     "end_time": "2025-02-14T17:14:56.378022Z",
     "start_time": "2025-02-14T17:14:56.371987Z"
    }
   },
   "cell_type": "code",
   "source": "",
   "id": "5ea56b651e633ad7",
   "outputs": [],
   "execution_count": null
  },
  {
   "metadata": {
    "ExecuteTime": {
     "end_time": "2025-02-14T17:14:56.419008Z",
     "start_time": "2025-02-14T17:14:56.403480Z"
    }
   },
   "cell_type": "code",
   "source": "",
   "id": "ce77f2e365a495dd",
   "outputs": [],
   "execution_count": null
  },
  {
   "metadata": {
    "ExecuteTime": {
     "end_time": "2025-02-14T17:14:56.461684Z",
     "start_time": "2025-02-14T17:14:56.450727Z"
    }
   },
   "cell_type": "code",
   "source": "",
   "id": "1f64c9b0d0f179a2",
   "outputs": [],
   "execution_count": null
  },
  {
   "metadata": {
    "ExecuteTime": {
     "end_time": "2025-02-14T17:14:56.517123Z",
     "start_time": "2025-02-14T17:14:56.513786Z"
    }
   },
   "cell_type": "code",
   "source": "",
   "id": "9aed45700d9d45de",
   "outputs": [],
   "execution_count": null
  },
  {
   "metadata": {
    "ExecuteTime": {
     "end_time": "2025-02-14T17:14:56.571241Z",
     "start_time": "2025-02-14T17:14:56.561964Z"
    }
   },
   "cell_type": "code",
   "source": "",
   "id": "9dc6c11ec5967133",
   "outputs": [],
   "execution_count": null
  },
  {
   "metadata": {
    "ExecuteTime": {
     "end_time": "2025-02-14T17:14:56.608857Z",
     "start_time": "2025-02-14T17:14:56.593646Z"
    }
   },
   "cell_type": "code",
   "source": "",
   "id": "2331414252a5d655",
   "outputs": [],
   "execution_count": null
  },
  {
   "metadata": {
    "ExecuteTime": {
     "end_time": "2025-02-14T17:14:56.649160Z",
     "start_time": "2025-02-14T17:14:56.640532Z"
    }
   },
   "cell_type": "code",
   "source": "",
   "id": "a7ca3380d63fd36e",
   "outputs": [],
   "execution_count": null
  },
  {
   "metadata": {
    "ExecuteTime": {
     "end_time": "2025-02-14T17:14:56.687297Z",
     "start_time": "2025-02-14T17:14:56.672434Z"
    }
   },
   "cell_type": "code",
   "source": "",
   "id": "8622119d199f3c18",
   "outputs": [],
   "execution_count": null
  },
  {
   "metadata": {
    "ExecuteTime": {
     "end_time": "2025-02-14T17:14:56.734746Z",
     "start_time": "2025-02-14T17:14:56.720138Z"
    }
   },
   "cell_type": "code",
   "source": "",
   "id": "23e12c33f49544d1",
   "outputs": [],
   "execution_count": null
  },
  {
   "metadata": {
    "ExecuteTime": {
     "end_time": "2025-02-14T17:14:56.754475Z",
     "start_time": "2025-02-14T17:14:56.751624Z"
    }
   },
   "cell_type": "code",
   "source": "",
   "id": "f2060d19431c4ed",
   "outputs": [],
   "execution_count": null
  },
  {
   "metadata": {
    "ExecuteTime": {
     "end_time": "2025-02-14T17:14:56.802366Z",
     "start_time": "2025-02-14T17:14:56.799139Z"
    }
   },
   "cell_type": "code",
   "source": "",
   "id": "3e58ad7ace6a3cc9",
   "outputs": [],
   "execution_count": null
  },
  {
   "metadata": {
    "ExecuteTime": {
     "end_time": "2025-02-14T17:14:56.848819Z",
     "start_time": "2025-02-14T17:14:56.838340Z"
    }
   },
   "cell_type": "code",
   "source": "",
   "id": "48d319ca96cfcfd0",
   "outputs": [],
   "execution_count": null
  },
  {
   "metadata": {
    "ExecuteTime": {
     "end_time": "2025-02-14T17:14:56.895677Z",
     "start_time": "2025-02-14T17:14:56.884186Z"
    }
   },
   "cell_type": "code",
   "source": "",
   "id": "32e3b44ccfa0f2cf",
   "outputs": [],
   "execution_count": null
  },
  {
   "metadata": {
    "ExecuteTime": {
     "end_time": "2025-02-14T17:14:56.973899Z",
     "start_time": "2025-02-14T17:14:56.965389Z"
    }
   },
   "cell_type": "code",
   "source": "",
   "id": "7448853397ec27f4",
   "outputs": [],
   "execution_count": null
  },
  {
   "metadata": {
    "ExecuteTime": {
     "end_time": "2025-02-14T17:14:56.987191Z",
     "start_time": "2025-02-14T17:14:56.981489Z"
    }
   },
   "cell_type": "code",
   "source": "",
   "id": "f07ad1c8991fb101",
   "outputs": [],
   "execution_count": null
  }
 ],
 "metadata": {
  "kernelspec": {
   "display_name": "Python 3",
   "language": "python",
   "name": "python3"
  },
  "language_info": {
   "codemirror_mode": {
    "name": "ipython",
    "version": 2
   },
   "file_extension": ".py",
   "mimetype": "text/x-python",
   "name": "python",
   "nbconvert_exporter": "python",
   "pygments_lexer": "ipython2",
   "version": "2.7.6"
  }
 },
 "nbformat": 4,
 "nbformat_minor": 5
}
