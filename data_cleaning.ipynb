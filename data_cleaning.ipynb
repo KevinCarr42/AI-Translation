{
 "cells": [
  {
   "metadata": {
    "ExecuteTime": {
     "end_time": "2025-01-20T18:55:06.180313Z",
     "start_time": "2025-01-20T18:55:05.871564Z"
    }
   },
   "cell_type": "code",
   "source": [
    "import os\n",
    "import json\n",
    "import string\n",
    "import spacy\n",
    "\n",
    "from nltk.corpus import words\n",
    "\n",
    "nlp = spacy.load(\"en_core_web_sm\")\n",
    "nltk_words = set(words.words())"
   ],
   "id": "9d44f7007e5e0203",
   "outputs": [],
   "execution_count": 8
  },
  {
   "metadata": {},
   "cell_type": "markdown",
   "source": [
    "FIGURE OUT\n",
    "* how to correlate eng and fr\n",
    "* how to block into chucks for 1 to 1 comparison\n",
    "* how to assess text quality, and drop tables, page numbers, extra characters, etc"
   ],
   "id": "8bcef458da73f74e"
  },
  {
   "metadata": {
    "ExecuteTime": {
     "end_time": "2025-01-20T19:03:09.112307Z",
     "start_time": "2025-01-20T19:02:57.775582Z"
    }
   },
   "cell_type": "code",
   "source": [
    "def check_text_quality(text):\n",
    "    non_alpha_ratio_threshold = 0.3\n",
    "    valid_word_ratio_threshold = 0.6\n",
    "    minimum_sentence_count = 1\n",
    "    minimum_word_count = 5\n",
    "    max_quality_score = 1.0\n",
    "    min_quality_score = 0.0\n",
    "    \n",
    "    issues = []\n",
    "    total_chars = len(text)\n",
    "    non_alpha_chars = sum(1 for char in text if char not in string.ascii_letters + string.whitespace)\n",
    "    non_alpha_ratio = non_alpha_chars / total_chars if total_chars else 1\n",
    "    if non_alpha_ratio > non_alpha_ratio_threshold:\n",
    "        issues.append(\"High ratio of non-alphanumeric characters.\")\n",
    "    \n",
    "    words_in_text = text.split()\n",
    "    valid_words = sum(1 for word in words_in_text if word.lower() in nltk_words)\n",
    "    valid_word_ratio = valid_words / len(words_in_text) if len(words_in_text) > 0 else 0\n",
    "    if valid_word_ratio < valid_word_ratio_threshold:\n",
    "        issues.append(\"Low proportion of valid dictionary words.\")\n",
    "    \n",
    "    doc = nlp(text)\n",
    "    if len(list(doc.sents)) < minimum_sentence_count or len(words_in_text) < minimum_word_count:\n",
    "        issues.append(\"Text too short or lacks coherent sentences.\")\n",
    "    \n",
    "    quality_score = max(\n",
    "        min_quality_score, \n",
    "        max_quality_score - non_alpha_ratio - (valid_word_ratio_threshold - valid_word_ratio if valid_word_ratio < valid_word_ratio_threshold else 0)\n",
    "    )\n",
    "    quality_score = min(max_quality_score, quality_score)\n",
    "\n",
    "    return quality_score, issues\n",
    "\n",
    "\n",
    "def process_json_file(json_file_path, debug=False, show_debug=False):\n",
    "    minimum_quality_score = 1.0\n",
    "    \n",
    "    with open(json_file_path, 'r', encoding='utf-8') as file:\n",
    "        data = json.load(file)\n",
    "\n",
    "    if isinstance(data, list):\n",
    "        for i, entry in enumerate(data):\n",
    "            text = entry.get(\"text\", \"\")\n",
    "            quality_score, issues = check_text_quality(text)\n",
    "            if quality_score < minimum_quality_score:\n",
    "                if debug:\n",
    "                    print(f\"{json_file_path} \\tentry {i + 1} quality score: {quality_score}\")\n",
    "                    if show_debug:\n",
    "                        print(f\"Text: {text}\")\n",
    "                        print(f\"Issues: {', '.join(issues)}\")\n",
    "    elif isinstance(data, dict):\n",
    "        text = data.get(\"text\", \"\")\n",
    "        quality_score, issues = check_text_quality(text)\n",
    "        if quality_score < minimum_quality_score:\n",
    "            if debug:\n",
    "                print(f\"{json_file_path} quality score: {quality_score}\")\n",
    "                if show_debug:\n",
    "                    print(f\"Text: {text}\")\n",
    "                    print(f\"Issues: {', '.join(issues)}\")\n",
    "    else:\n",
    "        if debug:\n",
    "            print(f\"\\nUnexpected JSON structure in file: {json_file_path}\")\n",
    "\n",
    "def process_all_json_in_folder(folder_path, debug=False):\n",
    "    for root, _, files in os.walk(folder_path):\n",
    "        if debug and root.split('\\\\')[-1] == '1978':\n",
    "            print('BREAK AT 1978')\n",
    "            break\n",
    "            \n",
    "        for file in files:\n",
    "            if file.endswith('.json'):\n",
    "                json_file_path = os.path.join(root, file)\n",
    "                print(f\"Processing: {json_file_path}\")\n",
    "                process_json_file(json_file_path, debug=debug)\n",
    "                # if debug:\n",
    "                #     return\n",
    "\n",
    "\n",
    "folder_path = os.path.join(\"..\", \"ParsedPublications\")\n",
    "process_all_json_in_folder(folder_path, debug=True)"
   ],
   "id": "ab8064741484a71",
   "outputs": [
    {
     "name": "stdout",
     "output_type": "stream",
     "text": [
      "Processing: ..\\ParsedPublications\\1977\\75586.pdf.json\n",
      "..\\ParsedPublications\\1977\\75586.pdf.json quality score: 0.9110455588331694\n",
      "Processing: ..\\ParsedPublications\\1977\\75587.pdf.json\n",
      "..\\ParsedPublications\\1977\\75587.pdf.json quality score: 0.8330854060718138\n",
      "Processing: ..\\ParsedPublications\\1977\\75588.pdf.json\n",
      "..\\ParsedPublications\\1977\\75588.pdf.json quality score: 0.8146835645498188\n",
      "Processing: ..\\ParsedPublications\\1977\\75589.pdf.json\n",
      "..\\ParsedPublications\\1977\\75589.pdf.json quality score: 0.8677001699203717\n",
      "Processing: ..\\ParsedPublications\\1977\\75590.pdf.json\n",
      "..\\ParsedPublications\\1977\\75590.pdf.json quality score: 0.33586310356286\n",
      "Processing: ..\\ParsedPublications\\1977\\75591.pdf.json\n",
      "..\\ParsedPublications\\1977\\75591.pdf.json quality score: 0.8990321633978872\n",
      "Processing: ..\\ParsedPublications\\1977\\75593.pdf.json\n",
      "..\\ParsedPublications\\1977\\75593.pdf.json quality score: 0.26831109714861656\n",
      "Processing: ..\\ParsedPublications\\1977\\75594.pdf.json\n",
      "..\\ParsedPublications\\1977\\75594.pdf.json quality score: 0.7217293043138266\n",
      "Processing: ..\\ParsedPublications\\1977\\75595.pdf.json\n",
      "..\\ParsedPublications\\1977\\75595.pdf.json quality score: 0.5819314193943526\n",
      "Processing: ..\\ParsedPublications\\1977\\75596.pdf.json\n",
      "..\\ParsedPublications\\1977\\75596.pdf.json quality score: 0.36268646120780873\n",
      "Processing: ..\\ParsedPublications\\1977\\75597.pdf.json\n",
      "..\\ParsedPublications\\1977\\75597.pdf.json quality score: 0.0922060920206419\n",
      "Processing: ..\\ParsedPublications\\1977\\75598.pdf.json\n",
      "..\\ParsedPublications\\1977\\75598.pdf.json quality score: 0.5362997708915889\n",
      "Processing: ..\\ParsedPublications\\1977\\75599.pdf.json\n",
      "..\\ParsedPublications\\1977\\75599.pdf.json quality score: 0.8285189839209125\n",
      "Processing: ..\\ParsedPublications\\1977\\75600.pdf.json\n",
      "..\\ParsedPublications\\1977\\75600.pdf.json quality score: 0.08561590330716284\n",
      "Processing: ..\\ParsedPublications\\1977\\75601.pdf.json\n",
      "..\\ParsedPublications\\1977\\75601.pdf.json quality score: 0.7220050984288453\n",
      "Processing: ..\\ParsedPublications\\1977\\75603.pdf.json\n",
      "..\\ParsedPublications\\1977\\75603.pdf.json quality score: 0.7561386444823903\n",
      "Processing: ..\\ParsedPublications\\1977\\75604.pdf.json\n",
      "..\\ParsedPublications\\1977\\75604.pdf.json quality score: 0.7654599623239521\n",
      "Processing: ..\\ParsedPublications\\1977\\75605.pdf.json\n",
      "..\\ParsedPublications\\1977\\75605.pdf.json quality score: 0.7627449526303997\n",
      "Processing: ..\\ParsedPublications\\1977\\75606.pdf.json\n",
      "..\\ParsedPublications\\1977\\75606.pdf.json quality score: 0.8942315861014357\n",
      "Processing: ..\\ParsedPublications\\1977\\75607.pdf.json\n",
      "..\\ParsedPublications\\1977\\75607.pdf.json quality score: 0.8010154046922247\n",
      "Processing: ..\\ParsedPublications\\1977\\75608.pdf.json\n",
      "..\\ParsedPublications\\1977\\75608.pdf.json quality score: 0.8789943609022557\n",
      "Processing: ..\\ParsedPublications\\1977\\75609.pdf.json\n",
      "..\\ParsedPublications\\1977\\75609.pdf.json quality score: 0.7724395557672848\n",
      "Processing: ..\\ParsedPublications\\1977\\75610.pdf.json\n",
      "..\\ParsedPublications\\1977\\75610.pdf.json quality score: 0.3113857289438187\n",
      "Processing: ..\\ParsedPublications\\1977\\75611.pdf.json\n",
      "..\\ParsedPublications\\1977\\75611.pdf.json quality score: 0.8547817948796991\n",
      "Processing: ..\\ParsedPublications\\1977\\75612.pdf.json\n",
      "..\\ParsedPublications\\1977\\75612.pdf.json quality score: 0.9329797000918086\n",
      "Processing: ..\\ParsedPublications\\1977\\75621.pdf.json\n",
      "..\\ParsedPublications\\1977\\75621.pdf.json quality score: 0.8338502508094393\n",
      "Processing: ..\\ParsedPublications\\1977\\75622.pdf.json\n",
      "..\\ParsedPublications\\1977\\75622.pdf.json quality score: 0.6459781533361451\n",
      "Processing: ..\\ParsedPublications\\1977\\75623.pdf.json\n",
      "..\\ParsedPublications\\1977\\75623.pdf.json quality score: 0.475472551801693\n",
      "Processing: ..\\ParsedPublications\\1977\\75624.pdf.json\n",
      "..\\ParsedPublications\\1977\\75624.pdf.json quality score: 0.5066121101793881\n",
      "Processing: ..\\ParsedPublications\\1977\\75625.pdf.json\n",
      "..\\ParsedPublications\\1977\\75625.pdf.json quality score: 0.6842501962136577\n",
      "Processing: ..\\ParsedPublications\\1977\\75626.pdf.json\n",
      "..\\ParsedPublications\\1977\\75626.pdf.json quality score: 0.5896155599193633\n",
      "BREAK\n"
     ]
    }
   ],
   "execution_count": 17
  },
  {
   "metadata": {
    "ExecuteTime": {
     "end_time": "2025-01-20T18:59:13.411281Z",
     "start_time": "2025-01-20T18:59:13.404964Z"
    }
   },
   "cell_type": "code",
   "source": "",
   "id": "4632c0ba5812de7d",
   "outputs": [],
   "execution_count": null
  },
  {
   "metadata": {
    "ExecuteTime": {
     "end_time": "2025-01-20T18:59:17.159131Z",
     "start_time": "2025-01-20T18:59:17.143118Z"
    }
   },
   "cell_type": "code",
   "source": "",
   "id": "db5755f0944172e5",
   "outputs": [],
   "execution_count": null
  }
 ],
 "metadata": {
  "kernelspec": {
   "display_name": "Python 3",
   "language": "python",
   "name": "python3"
  },
  "language_info": {
   "codemirror_mode": {
    "name": "ipython",
    "version": 2
   },
   "file_extension": ".py",
   "mimetype": "text/x-python",
   "name": "python",
   "nbconvert_exporter": "python",
   "pygments_lexer": "ipython2",
   "version": "2.7.6"
  }
 },
 "nbformat": 4,
 "nbformat_minor": 5
}
