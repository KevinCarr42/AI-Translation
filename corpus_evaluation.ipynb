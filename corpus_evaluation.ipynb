{
 "cells": [
  {
   "cell_type": "code",
   "id": "initial_id",
   "metadata": {
    "collapsed": true,
    "ExecuteTime": {
     "end_time": "2025-02-20T11:37:58.378204Z",
     "start_time": "2025-02-20T11:37:58.360693Z"
    }
   },
   "source": [
    "import difflib\n",
    "import json\n",
    "import os\n",
    "import random\n",
    "import re\n",
    "\n",
    "import matplotlib.colors as mcolors\n",
    "import matplotlib.pyplot as plt\n",
    "import numpy as np\n",
    "import pandas as pd\n",
    "import seaborn as sns\n",
    "\n",
    "from alive_progress import alive_bar\n",
    "from sentence_transformers import SentenceTransformer, util\n",
    "\n",
    "from language_classifier.language_classifier import LanguageClassifier\n",
    "\n",
    "# formatting\n",
    "pd.set_option('display.float_format', '{:.1f}'.format)\n",
    "pd.set_option('display.max_columns', None)\n",
    "pd.set_option('display.max_rows', 40)\n",
    "pd.set_option('display.max_colwidth', 100)"
   ],
   "outputs": [],
   "execution_count": 58
  },
  {
   "metadata": {
    "collapsed": true,
    "ExecuteTime": {
     "end_time": "2025-02-20T11:19:58.063660Z",
     "start_time": "2025-02-20T11:19:56.448604Z"
    }
   },
   "cell_type": "code",
   "source": [
    "# folders\n",
    "parsed_docs_folder = os.path.join(\"..\", \"ParsedPublications\")\n",
    "fr_eng_correlation_csv = \"fr_eng_correlation_data.csv\"\n",
    "\n",
    "fr_eng_correlation_df = pd.read_csv(fr_eng_correlation_csv)\n",
    "\n",
    "# weblinks for previewing / testing\n",
    "weblinks_df = fr_eng_correlation_df.copy()\n",
    "weblinks_df = weblinks_df[['pub_number', 'nom', 'name', 'url_fr', 'url_en', 'file_url_fr', 'file_url_en']]\n",
    "\n",
    "# simplified correlation table\n",
    "fr_eng_correlation_df = fr_eng_correlation_df[['pub_number', 'filename_fr', 'filename_en']]\n",
    "\n",
    "# read in matched data\n",
    "corpus_df = pd.read_pickle(\"matched_data.pickle\")\n",
    "corpus_wo_df = pd.read_pickle(\"matched_data_wo_abstracts.pickle\")"
   ],
   "id": "3ff689f3f7974243",
   "outputs": [],
   "execution_count": 7
  },
  {
   "metadata": {
    "ExecuteTime": {
     "end_time": "2025-02-20T11:47:22.573305Z",
     "start_time": "2025-02-20T11:47:22.566505Z"
    }
   },
   "cell_type": "code",
   "source": [
    "def clean_text(text, skip=False):\n",
    "    if not skip:\n",
    "        allowed_chars = r\"[^a-zA-ZÀ-ÖØ-öø-ÿ0-9.,;:!?()'\\\"-]\"\n",
    "        text = re.sub(allowed_chars, ' ', text)\n",
    "        text = re.sub(r'\\s+', ' ', text).strip()\n",
    "\n",
    "    return text"
   ],
   "id": "655077fd8004cd5c",
   "outputs": [],
   "execution_count": 89
  },
  {
   "metadata": {
    "ExecuteTime": {
     "end_time": "2025-02-19T13:41:50.468423Z",
     "start_time": "2025-02-19T13:41:50.465215Z"
    }
   },
   "cell_type": "code",
   "source": [
    "print(f'{corpus_df.shape=}\\t\\t{corpus_wo_df.shape=}')\n",
    "print(f'Percent of data in full transcriptions:\\t\\t{corpus_wo_df.shape[0] / corpus_df.shape[0]:.1%}')"
   ],
   "id": "a94373e6aa17fcb5",
   "outputs": [
    {
     "name": "stdout",
     "output_type": "stream",
     "text": [
      "corpus_w_df.shape=(787468, 3)\t\tcorpus_wo_df.shape=(734664, 3)\n",
      "Percent of data in full transcriptions:\t\t93.3%\n"
     ]
    }
   ],
   "execution_count": 3
  },
  {
   "metadata": {
    "ExecuteTime": {
     "end_time": "2025-02-19T13:41:50.591534Z",
     "start_time": "2025-02-19T13:41:50.551255Z"
    }
   },
   "cell_type": "code",
   "source": [
    "# could be cleaner - should numbers have been removed? should single newlines be replaced with spaces?\n",
    "display(corpus_df.sample(10))\n",
    "display(corpus_wo_df.sample(10))"
   ],
   "id": "f50cb06fe4e3ebb7",
   "outputs": [
    {
     "data": {
      "text/plain": [
       "            pub_number  \\\n",
       "777162  SSR 2002/C6-10   \n",
       "193955    RES 2003/015   \n",
       "473740    RES 2024/045   \n",
       "450296    RES 2023/070   \n",
       "708486    SCR 2020/013   \n",
       "731247    SCR 2023/037   \n",
       "630139    SAR 2021/029   \n",
       "428596    RES 2023/008   \n",
       "553549    SAR 2013/011   \n",
       "754354  SSR 1998/B3-09   \n",
       "\n",
       "                                                                                                         fr  \\\n",
       "777162                 Ces relevés ont finalement motivé une augmentation de du TAC qui est ainsi passé à t   \n",
       "193955  Par conséquent, un rétablissement de la biomasse du stock\\nde reproducteurs au cours des prochai...   \n",
       "473740  ( b) présentent les valeurs supérieures et inférieures des prélèvements potentiels de la pêche r...   \n",
       "450296  ), d autres indices sont peut-être plus pertinents pour les populations qui occupent des échelle...   \n",
       "708486  pl ie canadienne merluche blanche raie épineuse Année Régions du Québec et du Golfe Réponse des ...   \n",
       "731247  Pour la majorité des espèces exploitées, la biomasse du stock produisant le rendement maximal du...   \n",
       "630139                est demeuré au-dessus du niveau de référence malgré une diminution des prises totales   \n",
       "428596  Mise en évidence de l effet de la compétition intraspécifique entre alevins et tacons de saumon ...   \n",
       "553549  On trouve des capelans juvéniles du stock de la sous-zone et des divisions KL dans les principal...   \n",
       "754354              En revanche, les débarquements des bateaux de pêche côtière augmentèrent de t en à t en   \n",
       "\n",
       "                                                                                                         en  \n",
       "777162                                   These surveys have ultimately resulted in an increase in TAC, to t  \n",
       "193955                     Consequently, rebuilding of spawning biomass over the next few years is unlikely  \n",
       "473740  ( b) present upper and lower values of potential recreational fishery removals, based on availab...  \n",
       "450296                 ), other indices are perhaps more relevant to populations that occupy smaller scales  \n",
       "708486     Quebec and Gulf Regions Science Response: Decision support for authorizing surveys in Gulf of St  \n",
       "731247  For the majority of exploited species, the stock biomass producing maximum sustainable yield (BM...  \n",
       "630139                  has continued to remain above the reference level despite a decrease in total catch  \n",
       "428596  Spawning success in Atlantic salmon (Salmo salar L.): a long-term DNA profiling-based study cond...  \n",
       "553549  KL stock can be found both in major bays and in offshore waters although the northern Grand Bank...  \n",
       "754354                               In contrast, landings by the inshore fleet increased from t in to t in  "
      ],
      "text/html": [
       "<div>\n",
       "<style scoped>\n",
       "    .dataframe tbody tr th:only-of-type {\n",
       "        vertical-align: middle;\n",
       "    }\n",
       "\n",
       "    .dataframe tbody tr th {\n",
       "        vertical-align: top;\n",
       "    }\n",
       "\n",
       "    .dataframe thead th {\n",
       "        text-align: right;\n",
       "    }\n",
       "</style>\n",
       "<table border=\"1\" class=\"dataframe\">\n",
       "  <thead>\n",
       "    <tr style=\"text-align: right;\">\n",
       "      <th></th>\n",
       "      <th>pub_number</th>\n",
       "      <th>fr</th>\n",
       "      <th>en</th>\n",
       "    </tr>\n",
       "  </thead>\n",
       "  <tbody>\n",
       "    <tr>\n",
       "      <th>777162</th>\n",
       "      <td>SSR 2002/C6-10</td>\n",
       "      <td>Ces relevés ont finalement motivé une augmentation de du TAC qui est ainsi passé à t</td>\n",
       "      <td>These surveys have ultimately resulted in an increase in TAC, to t</td>\n",
       "    </tr>\n",
       "    <tr>\n",
       "      <th>193955</th>\n",
       "      <td>RES 2003/015</td>\n",
       "      <td>Par conséquent, un rétablissement de la biomasse du stock\\nde reproducteurs au cours des prochai...</td>\n",
       "      <td>Consequently, rebuilding of spawning biomass over the next few years is unlikely</td>\n",
       "    </tr>\n",
       "    <tr>\n",
       "      <th>473740</th>\n",
       "      <td>RES 2024/045</td>\n",
       "      <td>( b) présentent les valeurs supérieures et inférieures des prélèvements potentiels de la pêche r...</td>\n",
       "      <td>( b) present upper and lower values of potential recreational fishery removals, based on availab...</td>\n",
       "    </tr>\n",
       "    <tr>\n",
       "      <th>450296</th>\n",
       "      <td>RES 2023/070</td>\n",
       "      <td>), d autres indices sont peut-être plus pertinents pour les populations qui occupent des échelle...</td>\n",
       "      <td>), other indices are perhaps more relevant to populations that occupy smaller scales</td>\n",
       "    </tr>\n",
       "    <tr>\n",
       "      <th>708486</th>\n",
       "      <td>SCR 2020/013</td>\n",
       "      <td>pl ie canadienne merluche blanche raie épineuse Année Régions du Québec et du Golfe Réponse des ...</td>\n",
       "      <td>Quebec and Gulf Regions Science Response: Decision support for authorizing surveys in Gulf of St</td>\n",
       "    </tr>\n",
       "    <tr>\n",
       "      <th>731247</th>\n",
       "      <td>SCR 2023/037</td>\n",
       "      <td>Pour la majorité des espèces exploitées, la biomasse du stock produisant le rendement maximal du...</td>\n",
       "      <td>For the majority of exploited species, the stock biomass producing maximum sustainable yield (BM...</td>\n",
       "    </tr>\n",
       "    <tr>\n",
       "      <th>630139</th>\n",
       "      <td>SAR 2021/029</td>\n",
       "      <td>est demeuré au-dessus du niveau de référence malgré une diminution des prises totales</td>\n",
       "      <td>has continued to remain above the reference level despite a decrease in total catch</td>\n",
       "    </tr>\n",
       "    <tr>\n",
       "      <th>428596</th>\n",
       "      <td>RES 2023/008</td>\n",
       "      <td>Mise en évidence de l effet de la compétition intraspécifique entre alevins et tacons de saumon ...</td>\n",
       "      <td>Spawning success in Atlantic salmon (Salmo salar L.): a long-term DNA profiling-based study cond...</td>\n",
       "    </tr>\n",
       "    <tr>\n",
       "      <th>553549</th>\n",
       "      <td>SAR 2013/011</td>\n",
       "      <td>On trouve des capelans juvéniles du stock de la sous-zone et des divisions KL dans les principal...</td>\n",
       "      <td>KL stock can be found both in major bays and in offshore waters although the northern Grand Bank...</td>\n",
       "    </tr>\n",
       "    <tr>\n",
       "      <th>754354</th>\n",
       "      <td>SSR 1998/B3-09</td>\n",
       "      <td>En revanche, les débarquements des bateaux de pêche côtière augmentèrent de t en à t en</td>\n",
       "      <td>In contrast, landings by the inshore fleet increased from t in to t in</td>\n",
       "    </tr>\n",
       "  </tbody>\n",
       "</table>\n",
       "</div>"
      ]
     },
     "metadata": {},
     "output_type": "display_data"
    },
    {
     "data": {
      "text/plain": [
       "            pub_number  \\\n",
       "201376    RES 2015/062   \n",
       "146418    PRO 2024/024   \n",
       "175720    RES 2007/016   \n",
       "255711    RES 2020/009   \n",
       "592157    SAR 2023/003   \n",
       "710342  SSR 2000/A3-34   \n",
       "646133    SCR 2018/021   \n",
       "121390    PRO 2022/016   \n",
       "274443    RES 2020/058   \n",
       "511486    SAR 2014/007   \n",
       "\n",
       "                                                                                                         fr  \\\n",
       "201376  Dans l'ensemble, les tendances dans les zones présentant différentes plages de taux de capture s...   \n",
       "146418                       Cependant, certaines cotes de vulnérabilité se situent au niveau de l activité   \n",
       "175720                    Régression de l’abondance des classes-d’âge  des géniteurs d’automne, avec retard   \n",
       "255711  Plusieurs sépioles leucoptères (Stoloteuthis leucoptera) ont été recueillis en août lors du rele...   \n",
       "592157  Le futur relevé multispécifique pourra servir à suivre les changements de densité des invertébré...   \n",
       "710342  Il conviendrait de réduire la mortalité par pêche de la plie canadienne jusqu'à ce qu'on observe...   \n",
       "646133  La moyenne géométrique de l'indice de la biomasse sur trois ans est représentée par la ligne noi...   \n",
       "121390  Un nouveau projet est en cours pour utiliser la science citoyenne sur la côte Est afin de collec...   \n",
       "274443          viscosa dans les fermes d élevage de saumon atlantique de la région des îles Discovery Janv   \n",
       "511486  Contexte : Le crabe des neiges, Chionoecetes opilio, est exploité commercialement dans le sud du...   \n",
       "\n",
       "                                                                                                         en  \n",
       "201376  Overall, the trends in areas of various ranges of catch rates have been stable for the past five...  \n",
       "146418                                         However, some vulnerability scores are at the activity level  \n",
       "175720                         Regression of age-class abundance of fall spawners from one year to the next  \n",
       "255711  Several butterfly bobtail squid (Stoloteuthis leucoptera) were collected in August during the su...  \n",
       "592157  Future multispecies surveys may be used to monitor changes in invertebrate densities over time i...  \n",
       "710342  There should be a reduction in fishing mortality on American plaice until an increase in product...  \n",
       "646133                   The three year geometric mean biomass index is represented by the solid black line  \n",
       "121390  A new project is underway to use citizen science in the Eastern Shore to collect more data withi...  \n",
       "274443  viscosa on Atlantic Salmon farms in the Discovery Islands area Jan Feb Mar Apr May Jun Jul Aug S...  \n",
       "511486  Context: Snow crab, Chionoecetes opilio, has been commercially exploited in the southern Gulf of St  "
      ],
      "text/html": [
       "<div>\n",
       "<style scoped>\n",
       "    .dataframe tbody tr th:only-of-type {\n",
       "        vertical-align: middle;\n",
       "    }\n",
       "\n",
       "    .dataframe tbody tr th {\n",
       "        vertical-align: top;\n",
       "    }\n",
       "\n",
       "    .dataframe thead th {\n",
       "        text-align: right;\n",
       "    }\n",
       "</style>\n",
       "<table border=\"1\" class=\"dataframe\">\n",
       "  <thead>\n",
       "    <tr style=\"text-align: right;\">\n",
       "      <th></th>\n",
       "      <th>pub_number</th>\n",
       "      <th>fr</th>\n",
       "      <th>en</th>\n",
       "    </tr>\n",
       "  </thead>\n",
       "  <tbody>\n",
       "    <tr>\n",
       "      <th>201376</th>\n",
       "      <td>RES 2015/062</td>\n",
       "      <td>Dans l'ensemble, les tendances dans les zones présentant différentes plages de taux de capture s...</td>\n",
       "      <td>Overall, the trends in areas of various ranges of catch rates have been stable for the past five...</td>\n",
       "    </tr>\n",
       "    <tr>\n",
       "      <th>146418</th>\n",
       "      <td>PRO 2024/024</td>\n",
       "      <td>Cependant, certaines cotes de vulnérabilité se situent au niveau de l activité</td>\n",
       "      <td>However, some vulnerability scores are at the activity level</td>\n",
       "    </tr>\n",
       "    <tr>\n",
       "      <th>175720</th>\n",
       "      <td>RES 2007/016</td>\n",
       "      <td>Régression de l’abondance des classes-d’âge  des géniteurs d’automne, avec retard</td>\n",
       "      <td>Regression of age-class abundance of fall spawners from one year to the next</td>\n",
       "    </tr>\n",
       "    <tr>\n",
       "      <th>255711</th>\n",
       "      <td>RES 2020/009</td>\n",
       "      <td>Plusieurs sépioles leucoptères (Stoloteuthis leucoptera) ont été recueillis en août lors du rele...</td>\n",
       "      <td>Several butterfly bobtail squid (Stoloteuthis leucoptera) were collected in August during the su...</td>\n",
       "    </tr>\n",
       "    <tr>\n",
       "      <th>592157</th>\n",
       "      <td>SAR 2023/003</td>\n",
       "      <td>Le futur relevé multispécifique pourra servir à suivre les changements de densité des invertébré...</td>\n",
       "      <td>Future multispecies surveys may be used to monitor changes in invertebrate densities over time i...</td>\n",
       "    </tr>\n",
       "    <tr>\n",
       "      <th>710342</th>\n",
       "      <td>SSR 2000/A3-34</td>\n",
       "      <td>Il conviendrait de réduire la mortalité par pêche de la plie canadienne jusqu'à ce qu'on observe...</td>\n",
       "      <td>There should be a reduction in fishing mortality on American plaice until an increase in product...</td>\n",
       "    </tr>\n",
       "    <tr>\n",
       "      <th>646133</th>\n",
       "      <td>SCR 2018/021</td>\n",
       "      <td>La moyenne géométrique de l'indice de la biomasse sur trois ans est représentée par la ligne noi...</td>\n",
       "      <td>The three year geometric mean biomass index is represented by the solid black line</td>\n",
       "    </tr>\n",
       "    <tr>\n",
       "      <th>121390</th>\n",
       "      <td>PRO 2022/016</td>\n",
       "      <td>Un nouveau projet est en cours pour utiliser la science citoyenne sur la côte Est afin de collec...</td>\n",
       "      <td>A new project is underway to use citizen science in the Eastern Shore to collect more data withi...</td>\n",
       "    </tr>\n",
       "    <tr>\n",
       "      <th>274443</th>\n",
       "      <td>RES 2020/058</td>\n",
       "      <td>viscosa dans les fermes d élevage de saumon atlantique de la région des îles Discovery Janv</td>\n",
       "      <td>viscosa on Atlantic Salmon farms in the Discovery Islands area Jan Feb Mar Apr May Jun Jul Aug S...</td>\n",
       "    </tr>\n",
       "    <tr>\n",
       "      <th>511486</th>\n",
       "      <td>SAR 2014/007</td>\n",
       "      <td>Contexte : Le crabe des neiges, Chionoecetes opilio, est exploité commercialement dans le sud du...</td>\n",
       "      <td>Context: Snow crab, Chionoecetes opilio, has been commercially exploited in the southern Gulf of St</td>\n",
       "    </tr>\n",
       "  </tbody>\n",
       "</table>\n",
       "</div>"
      ]
     },
     "metadata": {},
     "output_type": "display_data"
    }
   ],
   "execution_count": 4
  },
  {
   "metadata": {
    "ExecuteTime": {
     "end_time": "2025-02-19T13:41:51.091235Z",
     "start_time": "2025-02-19T13:41:50.650372Z"
    }
   },
   "cell_type": "code",
   "source": [
    "memory_usage_mb = corpus_df.memory_usage(deep=True).sum() / (1024 ** 2)\n",
    "memory_usage_wo_mb = corpus_wo_df.memory_usage(deep=True).sum() / (1024 ** 2)\n",
    "\n",
    "print(f\"DataFrame size (with abstracts): {memory_usage_mb:.1f} MB\")\n",
    "print(f\"DataFrame size (without abstracts): {memory_usage_wo_mb:.1f} MB\")"
   ],
   "id": "1d619aaf5bd0d9cc",
   "outputs": [
    {
     "name": "stdout",
     "output_type": "stream",
     "text": [
      "DataFrame size (with abstracts): 373.8 MB\n",
      "DataFrame size (without abstracts): 347.0 MB\n"
     ]
    }
   ],
   "execution_count": 5
  },
  {
   "metadata": {
    "ExecuteTime": {
     "end_time": "2025-02-19T15:31:38.366876Z",
     "start_time": "2025-02-19T15:31:37.932763Z"
    }
   },
   "cell_type": "code",
   "source": [
    "def plot_pub_number_hist(dataframe):\n",
    "    corpus_value_counts = pd.DataFrame(dataframe.pub_number.value_counts())\n",
    "    corpus_value_counts.columns = ['n_text_fragments']\n",
    "    \n",
    "    fig, ax = plt.subplots(figsize=(16, 6))\n",
    "    corpus_value_counts[corpus_value_counts.n_text_fragments <= 100].hist(\n",
    "        bins=[x + 1 for x in range(100)],\n",
    "        ax=ax\n",
    "    )\n",
    "    ax.set_ylim(0, 300) \n",
    "    plt.show()\n",
    "\n",
    "plot_pub_number_hist(corpus_df)\n",
    "plot_pub_number_hist(corpus_wo_df)"
   ],
   "id": "a2fd17121e344795",
   "outputs": [
    {
     "data": {
      "text/plain": [
       "<Figure size 1600x600 with 1 Axes>"
      ],
      "image/png": "[encoded data removed]"
     },
     "metadata": {},
     "output_type": "display_data"
    },
    {
     "data": {
      "text/plain": [
       "<Figure size 1600x600 with 1 Axes>"
      ],
      "image/png": "[encoded data removed]"
     },
     "metadata": {},
     "output_type": "display_data"
    }
   ],
   "execution_count": 11
  },
  {
   "metadata": {
    "ExecuteTime": {
     "end_time": "2025-02-19T13:41:51.582298Z",
     "start_time": "2025-02-19T13:41:51.576104Z"
    }
   },
   "cell_type": "code",
   "source": [
    "# TODO: data cleaning \n",
    "#  remove characters, numbers, etc? \n",
    "#  remove names, contact info, etc?"
   ],
   "id": "a9e306b5a97977bd",
   "outputs": [],
   "execution_count": null
  },
  {
   "metadata": {
    "ExecuteTime": {
     "end_time": "2025-02-19T13:41:51.601643Z",
     "start_time": "2025-02-19T13:41:51.594821Z"
    }
   },
   "cell_type": "code",
   "source": "",
   "id": "94bc71dcf9607200",
   "outputs": [],
   "execution_count": null
  },
  {
   "metadata": {
    "ExecuteTime": {
     "end_time": "2025-02-19T13:41:51.627231Z",
     "start_time": "2025-02-19T13:41:51.623988Z"
    }
   },
   "cell_type": "code",
   "source": "",
   "id": "c6afc8cc63d464bb",
   "outputs": [],
   "execution_count": null
  },
  {
   "metadata": {
    "ExecuteTime": {
     "end_time": "2025-02-19T13:41:51.655331Z",
     "start_time": "2025-02-19T13:41:51.652520Z"
    }
   },
   "cell_type": "code",
   "source": "",
   "id": "85611258e9d1a5bc",
   "outputs": [],
   "execution_count": null
  },
  {
   "metadata": {
    "ExecuteTime": {
     "end_time": "2025-02-19T13:41:51.681946Z",
     "start_time": "2025-02-19T13:41:51.678306Z"
    }
   },
   "cell_type": "code",
   "source": "",
   "id": "f375c671bbf1c9bc",
   "outputs": [],
   "execution_count": null
  },
  {
   "metadata": {
    "ExecuteTime": {
     "end_time": "2025-02-19T13:41:51.707917Z",
     "start_time": "2025-02-19T13:41:51.695118Z"
    }
   },
   "cell_type": "code",
   "source": "",
   "id": "1e629095552a8dea",
   "outputs": [],
   "execution_count": null
  },
  {
   "metadata": {
    "ExecuteTime": {
     "end_time": "2025-02-19T13:41:51.740567Z",
     "start_time": "2025-02-19T13:41:51.726233Z"
    }
   },
   "cell_type": "code",
   "source": "",
   "id": "80a8599721754d88",
   "outputs": [],
   "execution_count": null
  },
  {
   "metadata": {
    "ExecuteTime": {
     "end_time": "2025-02-19T13:41:51.771218Z",
     "start_time": "2025-02-19T13:41:51.756368Z"
    }
   },
   "cell_type": "code",
   "source": "",
   "id": "9b05c8615ab6ded4",
   "outputs": [],
   "execution_count": null
  },
  {
   "metadata": {
    "ExecuteTime": {
     "end_time": "2025-02-19T13:41:51.795071Z",
     "start_time": "2025-02-19T13:41:51.788063Z"
    }
   },
   "cell_type": "code",
   "source": "",
   "id": "9b749fe5068118a2",
   "outputs": [],
   "execution_count": null
  },
  {
   "metadata": {
    "ExecuteTime": {
     "end_time": "2025-02-19T13:41:51.821732Z",
     "start_time": "2025-02-19T13:41:51.819161Z"
    }
   },
   "cell_type": "code",
   "source": "",
   "id": "935eeb67ed9ad97a",
   "outputs": [],
   "execution_count": null
  }
 ],
 "metadata": {
  "kernelspec": {
   "display_name": "Python 3",
   "language": "python",
   "name": "python3"
  },
  "language_info": {
   "codemirror_mode": {
    "name": "ipython",
    "version": 2
   },
   "file_extension": ".py",
   "mimetype": "text/x-python",
   "name": "python",
   "nbconvert_exporter": "python",
   "pygments_lexer": "ipython2",
   "version": "2.7.6"
  }
 },
 "nbformat": 4,
 "nbformat_minor": 5
}
