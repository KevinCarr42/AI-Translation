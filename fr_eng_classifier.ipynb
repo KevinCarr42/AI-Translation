{
 "cells": [
  {
   "cell_type": "code",
   "id": "initial_id",
   "metadata": {
    "collapsed": true,
    "ExecuteTime": {
     "end_time": "2025-01-29T15:24:21.012796Z",
     "start_time": "2025-01-29T15:24:20.543610Z"
    }
   },
   "source": [
    "import json\n",
    "import os\n",
    "import random\n",
    "import re\n",
    "import subprocess\n",
    "import numpy as np\n",
    "import pandas as pd\n",
    "\n",
    "from collections import Counter\n",
    "\n",
    "from IPython.display import display, HTML\n",
    "display(HTML(\"<style>.container { width:100% !important; }</style>\")) # jupyter notebook full-width display\n",
    "display(HTML(\"<style>.dataframe td { white-space: nowrap; }</style>\")) # no text wrapping\n",
    "\n",
    "# pandas formatting\n",
    "pd.set_option('display.float_format', '{:.1f}'.format)\n",
    "pd.set_option('display.max_columns', None)\n",
    "pd.set_option('display.max_colwidth', 200)"
   ],
   "outputs": [
    {
     "data": {
      "text/plain": [
       "<IPython.core.display.HTML object>"
      ],
      "text/html": [
       "<style>.container { width:100% !important; }</style>"
      ]
     },
     "metadata": {},
     "output_type": "display_data"
    },
    {
     "data": {
      "text/plain": [
       "<IPython.core.display.HTML object>"
      ],
      "text/html": [
       "<style>.dataframe td { white-space: nowrap; }</style>"
      ]
     },
     "metadata": {},
     "output_type": "display_data"
    }
   ],
   "execution_count": 1
  },
  {
   "metadata": {
    "ExecuteTime": {
     "end_time": "2025-01-29T15:24:22.040566Z",
     "start_time": "2025-01-29T15:24:21.942028Z"
    }
   },
   "cell_type": "code",
   "source": [
    "# all files that have been downloaded and parsed\n",
    "parsed_docs_folder = os.path.join(\"..\", \"ParsedPublications\")\n",
    "\n",
    "min_year = 2023\n",
    "parsed_files = list()\n",
    "parsed_files_with_hq_ocr = list()\n",
    "for folder in os.listdir(parsed_docs_folder):\n",
    "    path = os.path.join(parsed_docs_folder, folder)\n",
    "    if os.path.isdir(path):\n",
    "        for json_file in os.listdir(path):\n",
    "            if json_file.endswith(\".json\"):\n",
    "                parsed_files.append(json_file.replace('.json', ''))\n",
    "                if folder in [str(year) for year in range(min_year, 2024 + 1)]:\n",
    "                    parsed_files_with_hq_ocr.append(json_file.replace('.json', ''))\n",
    "\n",
    "# all files from website\n",
    "fr_eng_correlation_csv = \"fr_eng_correlation_data.csv\"\n",
    "fr_eng_correlation_df = pd.read_csv(fr_eng_correlation_csv)\n",
    "# exclude files that aren't downloaded, and files that have been withdrawn\n",
    "fr_eng_correlation_df = fr_eng_correlation_df[(fr_eng_correlation_df.filename_en.isin(parsed_files)) | (fr_eng_correlation_df.filename_fr.isin(parsed_files))]\n",
    "fr_eng_correlation_df = fr_eng_correlation_df[(fr_eng_correlation_df.filename_en != 'WITHDRAWN') & (fr_eng_correlation_df.filename_fr != 'WITHDRAWN')]\n",
    "\n",
    "# weblinks for previewing / checking results\n",
    "weblinks_df = fr_eng_correlation_df.copy()\n",
    "weblinks_df = weblinks_df[['pub_number', 'nom', 'name', 'url_fr', 'url_en', 'file_url_fr', 'file_url_en']]\n",
    "\n",
    "# data to be used for language classifier\n",
    "lang_df = fr_eng_correlation_df.copy()\n",
    "lang_df = lang_df[(lang_df.filename_fr.isin(parsed_files_with_hq_ocr)) & (lang_df.filename_en.isin(parsed_files_with_hq_ocr)) & (lang_df.filename_fr != lang_df.filename_en)]\n"
   ],
   "id": "83675b54298a8486",
   "outputs": [],
   "execution_count": 2
  },
  {
   "metadata": {},
   "cell_type": "markdown",
   "source": "# helper functions",
   "id": "ca8dc9ee3a7f7d60"
  },
  {
   "metadata": {
    "ExecuteTime": {
     "end_time": "2025-01-29T15:24:23.281351Z",
     "start_time": "2025-01-29T15:24:23.272002Z"
    }
   },
   "cell_type": "code",
   "source": [
    "def preview_publication(pub_number):\n",
    "    if type(pub_number) is pd.DataFrame and pub_number.shape[0] == 1:\n",
    "        try:\n",
    "            pub_number = pub_number['pub_number'].values[0]\n",
    "        except ValueError:\n",
    "            return None\n",
    "    elif type(pub_number) is pd.Series:\n",
    "        try:\n",
    "            pub_number = pub_number.values[0]\n",
    "        except ValueError:\n",
    "            return None\n",
    "    \n",
    "    try:\n",
    "        output_df = weblinks_df[weblinks_df.pub_number == pub_number].T\n",
    "    except Exception as e:\n",
    "        print(e)\n",
    "        return None\n",
    "        \n",
    "    return output_df\n",
    "\n",
    "\n",
    "def get_filepaths(row, min_year=2023):\n",
    "    fr_filename, en_filename = row['filename_fr'] + '.json', row['filename_en'] + '.json'\n",
    "    file_folders = [os.path.join('..', 'ParsedPublications', str(year)) for year in range(min_year, 2024 + 1)]\n",
    "    \n",
    "    try:\n",
    "        fr_path, en_path = ([os.path.join(folder, fr_filename) for folder in file_folders if os.path.exists(os.path.join(folder, fr_filename))][0], \n",
    "                            [os.path.join(folder, en_filename) for folder in file_folders if os.path.exists(os.path.join(folder, en_filename))][0])\n",
    "    except IndexError:\n",
    "        return None, None\n",
    "    \n",
    "    return fr_path, en_path\n"
   ],
   "id": "93d13f552b93b1a0",
   "outputs": [],
   "execution_count": 3
  },
  {
   "metadata": {
    "ExecuteTime": {
     "end_time": "2025-01-29T17:19:01.563022Z",
     "start_time": "2025-01-29T17:18:49.133305Z"
    }
   },
   "cell_type": "code",
   "source": [
    "# Make lists of all French words and all English words\n",
    "\n",
    "valid_word_regex = re.compile(r'^[a-zA-ZÀ-ÿ]+$')\n",
    "french_word_list = []\n",
    "english_word_list = []\n",
    "exclude_words_with_less_than_n = 10\n",
    "\n",
    "# clean headers and appendices\n",
    "references_fr = r'RÉFÉRENCES CITÉES'.lower()\n",
    "references_en = r'REFERENCES CITED'.lower()\n",
    "\n",
    "\n",
    "for i, row in lang_df.iterrows():\n",
    "    fr_path, en_path = get_filepaths(row)\n",
    "    \n",
    "    with open(fr_path, 'r', encoding='utf-8') as file:\n",
    "        fr_text = json.load(file).get('text', '').lower()\n",
    "            \n",
    "        parts = re.split(references_fr, fr_text, flags=re.IGNORECASE)\n",
    "        if 2 < len(parts) < 5:  # if 2 or 3 occurences of references text, take the second part (to get the main body text)\n",
    "            fr_text = parts[1]\n",
    "        \n",
    "        french_word_list.extend(word for word in fr_text.split() if valid_word_regex.match(word))\n",
    "    \n",
    "    with open(en_path, 'r', encoding='utf-8') as file:\n",
    "        en_text = json.load(file).get('text', '').lower()\n",
    "            \n",
    "        parts = re.split(references_en, en_text, flags=re.IGNORECASE)\n",
    "        if 2 < len(parts) < 5:  # if 2 or 3 occurences of references text, take the second part (to get the main body text)\n",
    "            en_text = parts[1]\n",
    "        \n",
    "        english_word_list.extend(word for word in en_text.split() if valid_word_regex.match(word))\n",
    "        \n",
    "# For testing\n",
    "french_word_counts = Counter(french_word_list)\n",
    "french_word_counts_expanded = []\n",
    "for word, count in french_word_counts.items():\n",
    "    for _ in range(count):\n",
    "        french_word_counts_expanded.append((word, count))\n",
    "        \n",
    "english_word_counts = Counter(english_word_list)\n",
    "english_word_counts_expanded = []\n",
    "for word, count in english_word_counts.items():\n",
    "    for _ in range(count):\n",
    "        english_word_counts_expanded.append((word, count))\n",
    "\n",
    "full_french_word_list = french_word_list.copy()\n",
    "full_english_word_list = english_word_list.copy()\n",
    "\n",
    "# Remove words with less than 10 occurrences\n",
    "french_word_list = [word for word, count in french_word_counts.items() if count >= exclude_words_with_less_than_n]\n",
    "english_word_list = [word for word, count in english_word_counts.items() if count >= exclude_words_with_less_than_n]\n",
    "\n",
    "# Convert to sets for further processing\n",
    "french_words = set(french_word_list)\n",
    "english_words = set(english_word_list)\n",
    "\n",
    "# Remove overlapping words\n",
    "overlapping_words = english_words & french_words\n",
    "english_words.difference_update(overlapping_words)\n",
    "french_words.difference_update(overlapping_words)\n",
    "\n",
    "# Remove numeric-only words\n",
    "english_words.difference_update({w for w in english_words if w.isnumeric()})\n",
    "french_words.difference_update({w for w in french_words if w.isnumeric()})\n"
   ],
   "id": "713c097efeb1dc20",
   "outputs": [],
   "execution_count": 180
  },
  {
   "metadata": {
    "ExecuteTime": {
     "end_time": "2025-01-29T17:45:06.626177Z",
     "start_time": "2025-01-29T17:45:06.621879Z"
    }
   },
   "cell_type": "code",
   "source": [
    "# helper functions for word lists\n",
    "\n",
    "def test_wordlists(text_block, english_words, french_words):\n",
    "    en_count = sum(1 for word in text_block.split() if word in english_words)\n",
    "    fr_count = sum(1 for word in text_block.split() if word in french_words)\n",
    "    \n",
    "    print('english words:', list(word for word in text_block.split() if word in english_words))\n",
    "    print('french words:', list(word for word in text_block.split() if word in french_words))\n",
    "    print(f'{en_count=}, {fr_count=}')    \n",
    "    \n",
    "def most_common_word_info(counter_obj, n=10):  \n",
    "    length = counter_obj.total()\n",
    "    c_v = 0\n",
    "    for k, v in counter_obj.most_common(n):\n",
    "        rng = f'({(100 * c_v) / length:.0f}%'\n",
    "        c_v += v\n",
    "        rng += f'-{(100 * c_v) / length:.0f}%)'\n",
    "        print(f'{k:<20}{v:>8}{(100 * v) / length:>8.0f}%{rng:>15}')\n"
   ],
   "id": "83648ca204fa96b0",
   "outputs": [],
   "execution_count": 226
  },
  {
   "metadata": {
    "ExecuteTime": {
     "end_time": "2025-01-29T17:47:18.761857Z",
     "start_time": "2025-01-29T17:47:18.744667Z"
    }
   },
   "cell_type": "code",
   "source": [
    "test_wordlists('Total mortalities at age, based on survey data, are presented in Table', english_words, french_words)\n",
    "print()\n",
    "most_common_word_info(english_word_counts, 5)\n",
    "print()\n",
    "most_common_word_info(french_word_counts, 5)"
   ],
   "id": "4b842b447ae4f093",
   "outputs": [
    {
     "name": "stdout",
     "output_type": "stream",
     "text": [
      "english words: ['mortalities', 'presented']\n",
      "french words: []\n",
      "en_count=2, fr_count=0\n",
      "\n",
      "the                   168894       7%        (0%-7%)\n",
      "of                     94029       4%       (7%-11%)\n",
      "and                    93778       4%      (11%-15%)\n",
      "in                     72480       3%      (15%-19%)\n",
      "to                     57614       2%      (19%-21%)\n",
      "\n",
      "de                    237366       8%        (0%-8%)\n",
      "la                    140133       5%       (8%-13%)\n",
      "et                    100646       4%      (13%-17%)\n",
      "les                   100095       4%      (17%-21%)\n",
      "des                    97138       3%      (21%-24%)\n"
     ]
    }
   ],
   "execution_count": 236
  },
  {
   "metadata": {},
   "cell_type": "code",
   "outputs": [],
   "execution_count": null,
   "source": "",
   "id": "5a811db6e1b73ba"
  },
  {
   "metadata": {
    "ExecuteTime": {
     "end_time": "2025-01-29T19:06:20.455684Z",
     "start_time": "2025-01-29T19:06:20.435018Z"
    }
   },
   "cell_type": "code",
   "source": [
    "# * what is the nth percentile within the Counter obj word_counts? eg, for the 95th percentile, check 95% of the way down word_counts and see how many times that word occured.\n",
    "# * what is the nth percentile - weighted by occurrence? eg, for the 95th percentile, maybe 95% of words occur at least 100 times. this should be based on this code snippet:\n",
    "#     expanded_counts = []\n",
    "#     for word, count in word_counts.items():\n",
    "#         expanded_counts.extend([count] * count)\n",
    "# * how many words are in the top nth percentile of entries in word_counts (a Counter obj)? ie, how many entries in word_counts have a value of at least the nth percentile (unweighted) calcualted above?\n",
    "# * how many words are in the top nth percentile words based on occurrence, based on this function:\n",
    "#     expanded_counts = []\n",
    "#     for word, count in word_counts.items():\n",
    "#         expanded_counts.extend([count] * count)\n",
    "# ie, if you added every word to a list the number of times it happens in word counts, and made a histogram, how many different distinct words would fall above the nth percentile\n",
    "# * what are examples of words within a tolerance of the unweighted percentile?\n",
    "# * what are examples of words within a tolerance of the weighted percentile?\n",
    "\n",
    "\n",
    "def nth_percentile(p, counter_obj, greater_than=True):\n",
    "    sorted_list = sorted(counter_obj.items(), key=lambda x: x[1], reverse=greater_than)\n",
    "    index = max(min(len(sorted_list) - 1, int(len(sorted_list) * p)), 0)\n",
    "    \n",
    "    return sorted_list[index]\n",
    "\n",
    "def nth_percentile_weighted(p, counter_expanded, greater_than=True):\n",
    "    sorted_list = sorted(counter_expanded, key=lambda x: x[1], reverse=greater_than)\n",
    "    index = max(min(len(sorted_list) - 1, int(len(sorted_list) * p)), 0)\n",
    "    \n",
    "    return sorted_list[index]\n",
    "\n",
    "def count_nth_percentile(p, counter_obj, greater_than=True):\n",
    "    sorted_list = sorted(counter_obj.items(), key=lambda x: x[1], reverse=greater_than)\n",
    "    index = max(min(len(sorted_list) - 1, int(len(sorted_list) * p)), 0)\n",
    "    \n",
    "    return len(sorted_list[index:]) if greater_than else len(sorted_list[-max(index, 1):])\n",
    "\n",
    "def count_nth_percentile_weighted(p, counter_expanded, greater_than=True):\n",
    "    sorted_list = sorted(counter_expanded, key=lambda x: x[1], reverse=greater_than)\n",
    "    index = max(min(len(sorted_list) - 1, int(len(sorted_list) * p)), 0)\n",
    "    \n",
    "    count_if_gte = sorted_list[len(sorted_list) - index][1]\n",
    "    count_if_lte = sorted_list[index][1]\n",
    "        \n",
    "    gte = {x for x in counter_expanded if x[1] >= count_if_gte}\n",
    "    lte = {x for x in counter_expanded if x[1] <= count_if_lte}\n",
    "    \n",
    "    return len(gte) if greater_than else len(lte)\n",
    "\n",
    "def examples_at_word_count(n, counter_obj, n_samples=5, tolerance=0.1):\n",
    "    lower, upper = int((1 - 0.1) * n), int((1 + 0.1) * n)\n",
    "    all_examples = [k for k, v in counter_obj.items() if lower <= v <= upper]\n",
    "    \n",
    "    return random.sample(all_examples, min(n_samples, len(all_examples)))\n",
    "    \n",
    "    "
   ],
   "id": "48fd2eee9bb967c0",
   "outputs": [],
   "execution_count": 404
  },
  {
   "metadata": {},
   "cell_type": "code",
   "outputs": [],
   "execution_count": null,
   "source": "",
   "id": "886bde93d5cf8282"
  },
  {
   "metadata": {},
   "cell_type": "code",
   "outputs": [],
   "execution_count": null,
   "source": "",
   "id": "c8f58df1660021f3"
  },
  {
   "metadata": {},
   "cell_type": "code",
   "outputs": [],
   "execution_count": null,
   "source": "",
   "id": "55929e1f71b0d894"
  },
  {
   "metadata": {},
   "cell_type": "code",
   "outputs": [],
   "execution_count": null,
   "source": "",
   "id": "ce7e7a8fde953759"
  },
  {
   "metadata": {},
   "cell_type": "code",
   "outputs": [],
   "execution_count": null,
   "source": "",
   "id": "33d6ab9423ec2681"
  },
  {
   "metadata": {},
   "cell_type": "code",
   "outputs": [],
   "execution_count": null,
   "source": "",
   "id": "6b924812acee6786"
  },
  {
   "metadata": {
    "ExecuteTime": {
     "end_time": "2025-01-29T19:14:15.864834Z",
     "start_time": "2025-01-29T19:14:15.854920Z"
    }
   },
   "cell_type": "code",
   "source": [
    "n = 300\n",
    "tolerance = 0.1\n",
    "n_samples = 5\n",
    "counter_obj = english_word_counts\n",
    "\n",
    "lower, upper = int((1 - 0.1) * n), int((1 + 0.1) * n)\n",
    "all_examples = [k for k, v in counter_obj.items() if lower <= v <= upper]\n",
    "\n",
    "r_trn = random.sample(all_examples, min(n_samples, len(all_examples)))\n",
    "r_trn"
   ],
   "id": "5561f22dfb0458e2",
   "outputs": [
    {
     "data": {
      "text/plain": [
       "['efforts', 'discards', 'trout', 'narw', 'appear']"
      ]
     },
     "execution_count": 422,
     "metadata": {},
     "output_type": "execute_result"
    }
   ],
   "execution_count": 422
  },
  {
   "metadata": {
    "ExecuteTime": {
     "end_time": "2025-01-29T19:11:27.938375Z",
     "start_time": "2025-01-29T19:11:27.930086Z"
    }
   },
   "cell_type": "code",
   "source": "[x for x in counter_obj][0]",
   "id": "e4faf466d98b0d02",
   "outputs": [
    {
     "data": {
      "text/plain": [
       "'canadian'"
      ]
     },
     "execution_count": 413,
     "metadata": {},
     "output_type": "execute_result"
    }
   ],
   "execution_count": 413
  },
  {
   "metadata": {},
   "cell_type": "code",
   "outputs": [],
   "execution_count": null,
   "source": "",
   "id": "ce8d155abc11305a"
  },
  {
   "metadata": {},
   "cell_type": "code",
   "outputs": [],
   "execution_count": null,
   "source": "",
   "id": "a942677caffa159c"
  },
  {
   "metadata": {
    "ExecuteTime": {
     "end_time": "2025-01-29T19:07:05.965772Z",
     "start_time": "2025-01-29T19:07:05.947965Z"
    }
   },
   "cell_type": "code",
   "source": "most_common_word_info(english_word_counts, 15)",
   "id": "fe437a343896d817",
   "outputs": [
    {
     "name": "stdout",
     "output_type": "stream",
     "text": [
      "the                   168894       7%        (0%-7%)\n",
      "of                     94029       4%       (7%-11%)\n",
      "and                    93778       4%      (11%-15%)\n",
      "in                     72480       3%      (15%-19%)\n",
      "to                     57614       2%      (19%-21%)\n",
      "for                    36588       2%      (21%-23%)\n",
      "a                      34697       2%      (23%-24%)\n",
      "is                     24125       1%      (24%-25%)\n",
      "that                   19399       1%      (25%-26%)\n",
      "from                   18371       1%      (26%-27%)\n",
      "are                    18228       1%      (27%-28%)\n",
      "on                     17458       1%      (28%-28%)\n",
      "was                    16979       1%      (28%-29%)\n",
      "with                   15689       1%      (29%-30%)\n",
      "as                     15356       1%      (30%-30%)\n"
     ]
    }
   ],
   "execution_count": 410
  },
  {
   "metadata": {
    "ExecuteTime": {
     "end_time": "2025-01-29T19:06:51.729035Z",
     "start_time": "2025-01-29T19:06:51.516502Z"
    }
   },
   "cell_type": "code",
   "source": [
    "p = 0.7\n",
    "\n",
    "print('greater_than', p)\n",
    "count_nth_percentile_weighted(p, english_word_counts_expanded, True)\n",
    "\n",
    "# print('less_than', p)\n",
    "# count_nth_percentile_weighted(p, english_word_counts_expanded, False)"
   ],
   "id": "40531a7294828fdf",
   "outputs": [
    {
     "name": "stdout",
     "output_type": "stream",
     "text": [
      "greater_than 0.7\n"
     ]
    },
    {
     "data": {
      "text/plain": [
       "15"
      ]
     },
     "execution_count": 409,
     "metadata": {},
     "output_type": "execute_result"
    }
   ],
   "execution_count": 409
  },
  {
   "metadata": {
    "ExecuteTime": {
     "end_time": "2025-01-29T19:05:41.156687Z",
     "start_time": "2025-01-29T19:05:40.927843Z"
    }
   },
   "cell_type": "code",
   "source": [
    "counter_expanded = english_word_counts_expanded\n",
    "greater_than = True\n",
    "p = 0.9\n",
    "\n",
    "sorted_list = sorted(counter_expanded, key=lambda x: x[1], reverse=greater_than)\n",
    "index = max(min(len(sorted_list) - 1, int(len(sorted_list) * p)), 0)\n",
    "\n",
    "count_if_gte = sorted_list[len(sorted_list) - index][1]\n",
    "count_if_lte = sorted_list[index][1]\n",
    "    \n",
    "gte = {x for x in counter_expanded if x[1] >= count_if_gte}\n",
    "lte = {x for x in counter_expanded if x[1] <= count_if_lte}\n",
    "\n",
    "r_trn = len(gte) if greater_than else len(lte)\n",
    "\n",
    "print(index)\n",
    "print(count_if_gte)\n",
    "print(count_if_lte)\n",
    "print(list(gte)[:5])\n",
    "print(list(lte)[:5])\n",
    "\n",
    "print(r_trn)"
   ],
   "id": "ba467ce47eedac0e",
   "outputs": [
    {
     "name": "stdout",
     "output_type": "stream",
     "text": [
      "2080718\n",
      "94029\n",
      "99\n",
      "[('the', 168894), ('of', 94029)]\n",
      "[('smus', 4), ('malma', 3), ('ornamental', 78), ('fishermen', 59), ('aphyocharax', 1)]\n",
      "2\n"
     ]
    }
   ],
   "execution_count": 403
  },
  {
   "metadata": {
    "ExecuteTime": {
     "end_time": "2025-01-29T18:56:29.470369Z",
     "start_time": "2025-01-29T18:56:29.465269Z"
    }
   },
   "cell_type": "code",
   "source": "index, len(counter_expanded)",
   "id": "8f26a7fa3076042b",
   "outputs": [
    {
     "data": {
      "text/plain": [
       "(2288789, 2311909)"
      ]
     },
     "execution_count": 390,
     "metadata": {},
     "output_type": "execute_result"
    }
   ],
   "execution_count": 390
  },
  {
   "metadata": {
    "ExecuteTime": {
     "end_time": "2025-01-29T18:55:40.074664Z",
     "start_time": "2025-01-29T18:55:39.944099Z"
    }
   },
   "cell_type": "code",
   "source": "sorted(counter_expanded, key=lambda x: x[1], reverse=True)",
   "id": "2f15db4cb5f944de",
   "outputs": [
    {
     "data": {
      "text/plain": [
       "[('the', 168894),\n",
       " ('the', 168894),\n",
       " ('the', 168894),\n",
       " ('the', 168894),\n",
       " ('the', 168894),\n",
       " ('the', 168894),\n",
       " ('the', 168894),\n",
       " ('the', 168894),\n",
       " ('the', 168894),\n",
       " ('the', 168894),\n",
       " ('the', 168894),\n",
       " ('the', 168894),\n",
       " ('the', 168894),\n",
       " ('the', 168894),\n",
       " ('the', 168894),\n",
       " ('the', 168894),\n",
       " ('the', 168894),\n",
       " ('the', 168894),\n",
       " ('the', 168894),\n",
       " ('the', 168894),\n",
       " ('the', 168894),\n",
       " ('the', 168894),\n",
       " ('the', 168894),\n",
       " ('the', 168894),\n",
       " ('the', 168894),\n",
       " ('the', 168894),\n",
       " ('the', 168894),\n",
       " ('the', 168894),\n",
       " ('the', 168894),\n",
       " ('the', 168894),\n",
       " ('the', 168894),\n",
       " ('the', 168894),\n",
       " ('the', 168894),\n",
       " ('the', 168894),\n",
       " ('the', 168894),\n",
       " ('the', 168894),\n",
       " ('the', 168894),\n",
       " ('the', 168894),\n",
       " ('the', 168894),\n",
       " ('the', 168894),\n",
       " ('the', 168894),\n",
       " ('the', 168894),\n",
       " ('the', 168894),\n",
       " ('the', 168894),\n",
       " ('the', 168894),\n",
       " ('the', 168894),\n",
       " ('the', 168894),\n",
       " ('the', 168894),\n",
       " ('the', 168894),\n",
       " ('the', 168894),\n",
       " ('the', 168894),\n",
       " ('the', 168894),\n",
       " ('the', 168894),\n",
       " ('the', 168894),\n",
       " ('the', 168894),\n",
       " ('the', 168894),\n",
       " ('the', 168894),\n",
       " ('the', 168894),\n",
       " ('the', 168894),\n",
       " ('the', 168894),\n",
       " ('the', 168894),\n",
       " ('the', 168894),\n",
       " ('the', 168894),\n",
       " ('the', 168894),\n",
       " ('the', 168894),\n",
       " ('the', 168894),\n",
       " ('the', 168894),\n",
       " ('the', 168894),\n",
       " ('the', 168894),\n",
       " ('the', 168894),\n",
       " ('the', 168894),\n",
       " ('the', 168894),\n",
       " ('the', 168894),\n",
       " ('the', 168894),\n",
       " ('the', 168894),\n",
       " ('the', 168894),\n",
       " ('the', 168894),\n",
       " ('the', 168894),\n",
       " ('the', 168894),\n",
       " ('the', 168894),\n",
       " ('the', 168894),\n",
       " ('the', 168894),\n",
       " ('the', 168894),\n",
       " ('the', 168894),\n",
       " ('the', 168894),\n",
       " ('the', 168894),\n",
       " ('the', 168894),\n",
       " ('the', 168894),\n",
       " ('the', 168894),\n",
       " ('the', 168894),\n",
       " ('the', 168894),\n",
       " ('the', 168894),\n",
       " ('the', 168894),\n",
       " ('the', 168894),\n",
       " ('the', 168894),\n",
       " ('the', 168894),\n",
       " ('the', 168894),\n",
       " ('the', 168894),\n",
       " ('the', 168894),\n",
       " ('the', 168894),\n",
       " ('the', 168894),\n",
       " ('the', 168894),\n",
       " ('the', 168894),\n",
       " ('the', 168894),\n",
       " ('the', 168894),\n",
       " ('the', 168894),\n",
       " ('the', 168894),\n",
       " ('the', 168894),\n",
       " ('the', 168894),\n",
       " ('the', 168894),\n",
       " ('the', 168894),\n",
       " ('the', 168894),\n",
       " ('the', 168894),\n",
       " ('the', 168894),\n",
       " ('the', 168894),\n",
       " ('the', 168894),\n",
       " ('the', 168894),\n",
       " ('the', 168894),\n",
       " ('the', 168894),\n",
       " ('the', 168894),\n",
       " ('the', 168894),\n",
       " ('the', 168894),\n",
       " ('the', 168894),\n",
       " ('the', 168894),\n",
       " ('the', 168894),\n",
       " ('the', 168894),\n",
       " ('the', 168894),\n",
       " ('the', 168894),\n",
       " ('the', 168894),\n",
       " ('the', 168894),\n",
       " ('the', 168894),\n",
       " ('the', 168894),\n",
       " ('the', 168894),\n",
       " ('the', 168894),\n",
       " ('the', 168894),\n",
       " ('the', 168894),\n",
       " ('the', 168894),\n",
       " ('the', 168894),\n",
       " ('the', 168894),\n",
       " ('the', 168894),\n",
       " ('the', 168894),\n",
       " ('the', 168894),\n",
       " ('the', 168894),\n",
       " ('the', 168894),\n",
       " ('the', 168894),\n",
       " ('the', 168894),\n",
       " ('the', 168894),\n",
       " ('the', 168894),\n",
       " ('the', 168894),\n",
       " ('the', 168894),\n",
       " ('the', 168894),\n",
       " ('the', 168894),\n",
       " ('the', 168894),\n",
       " ('the', 168894),\n",
       " ('the', 168894),\n",
       " ('the', 168894),\n",
       " ('the', 168894),\n",
       " ('the', 168894),\n",
       " ('the', 168894),\n",
       " ('the', 168894),\n",
       " ('the', 168894),\n",
       " ('the', 168894),\n",
       " ('the', 168894),\n",
       " ('the', 168894),\n",
       " ('the', 168894),\n",
       " ('the', 168894),\n",
       " ('the', 168894),\n",
       " ('the', 168894),\n",
       " ('the', 168894),\n",
       " ('the', 168894),\n",
       " ('the', 168894),\n",
       " ('the', 168894),\n",
       " ('the', 168894),\n",
       " ('the', 168894),\n",
       " ('the', 168894),\n",
       " ('the', 168894),\n",
       " ('the', 168894),\n",
       " ('the', 168894),\n",
       " ('the', 168894),\n",
       " ('the', 168894),\n",
       " ('the', 168894),\n",
       " ('the', 168894),\n",
       " ('the', 168894),\n",
       " ('the', 168894),\n",
       " ('the', 168894),\n",
       " ('the', 168894),\n",
       " ('the', 168894),\n",
       " ('the', 168894),\n",
       " ('the', 168894),\n",
       " ('the', 168894),\n",
       " ('the', 168894),\n",
       " ('the', 168894),\n",
       " ('the', 168894),\n",
       " ('the', 168894),\n",
       " ('the', 168894),\n",
       " ('the', 168894),\n",
       " ('the', 168894),\n",
       " ('the', 168894),\n",
       " ('the', 168894),\n",
       " ('the', 168894),\n",
       " ('the', 168894),\n",
       " ('the', 168894),\n",
       " ('the', 168894),\n",
       " ('the', 168894),\n",
       " ('the', 168894),\n",
       " ('the', 168894),\n",
       " ('the', 168894),\n",
       " ('the', 168894),\n",
       " ('the', 168894),\n",
       " ('the', 168894),\n",
       " ('the', 168894),\n",
       " ('the', 168894),\n",
       " ('the', 168894),\n",
       " ('the', 168894),\n",
       " ('the', 168894),\n",
       " ('the', 168894),\n",
       " ('the', 168894),\n",
       " ('the', 168894),\n",
       " ('the', 168894),\n",
       " ('the', 168894),\n",
       " ('the', 168894),\n",
       " ('the', 168894),\n",
       " ('the', 168894),\n",
       " ('the', 168894),\n",
       " ('the', 168894),\n",
       " ('the', 168894),\n",
       " ('the', 168894),\n",
       " ('the', 168894),\n",
       " ('the', 168894),\n",
       " ('the', 168894),\n",
       " ('the', 168894),\n",
       " ('the', 168894),\n",
       " ('the', 168894),\n",
       " ('the', 168894),\n",
       " ('the', 168894),\n",
       " ('the', 168894),\n",
       " ('the', 168894),\n",
       " ('the', 168894),\n",
       " ('the', 168894),\n",
       " ('the', 168894),\n",
       " ('the', 168894),\n",
       " ('the', 168894),\n",
       " ('the', 168894),\n",
       " ('the', 168894),\n",
       " ('the', 168894),\n",
       " ('the', 168894),\n",
       " ('the', 168894),\n",
       " ('the', 168894),\n",
       " ('the', 168894),\n",
       " ('the', 168894),\n",
       " ('the', 168894),\n",
       " ('the', 168894),\n",
       " ('the', 168894),\n",
       " ('the', 168894),\n",
       " ('the', 168894),\n",
       " ('the', 168894),\n",
       " ('the', 168894),\n",
       " ('the', 168894),\n",
       " ('the', 168894),\n",
       " ('the', 168894),\n",
       " ('the', 168894),\n",
       " ('the', 168894),\n",
       " ('the', 168894),\n",
       " ('the', 168894),\n",
       " ('the', 168894),\n",
       " ('the', 168894),\n",
       " ('the', 168894),\n",
       " ('the', 168894),\n",
       " ('the', 168894),\n",
       " ('the', 168894),\n",
       " ('the', 168894),\n",
       " ('the', 168894),\n",
       " ('the', 168894),\n",
       " ('the', 168894),\n",
       " ('the', 168894),\n",
       " ('the', 168894),\n",
       " ('the', 168894),\n",
       " ('the', 168894),\n",
       " ('the', 168894),\n",
       " ('the', 168894),\n",
       " ('the', 168894),\n",
       " ('the', 168894),\n",
       " ('the', 168894),\n",
       " ('the', 168894),\n",
       " ('the', 168894),\n",
       " ('the', 168894),\n",
       " ('the', 168894),\n",
       " ('the', 168894),\n",
       " ('the', 168894),\n",
       " ('the', 168894),\n",
       " ('the', 168894),\n",
       " ('the', 168894),\n",
       " ('the', 168894),\n",
       " ('the', 168894),\n",
       " ('the', 168894),\n",
       " ('the', 168894),\n",
       " ('the', 168894),\n",
       " ('the', 168894),\n",
       " ('the', 168894),\n",
       " ('the', 168894),\n",
       " ('the', 168894),\n",
       " ('the', 168894),\n",
       " ('the', 168894),\n",
       " ('the', 168894),\n",
       " ('the', 168894),\n",
       " ('the', 168894),\n",
       " ('the', 168894),\n",
       " ('the', 168894),\n",
       " ('the', 168894),\n",
       " ('the', 168894),\n",
       " ('the', 168894),\n",
       " ('the', 168894),\n",
       " ('the', 168894),\n",
       " ('the', 168894),\n",
       " ('the', 168894),\n",
       " ('the', 168894),\n",
       " ('the', 168894),\n",
       " ('the', 168894),\n",
       " ('the', 168894),\n",
       " ('the', 168894),\n",
       " ('the', 168894),\n",
       " ('the', 168894),\n",
       " ('the', 168894),\n",
       " ('the', 168894),\n",
       " ('the', 168894),\n",
       " ('the', 168894),\n",
       " ('the', 168894),\n",
       " ('the', 168894),\n",
       " ('the', 168894),\n",
       " ('the', 168894),\n",
       " ('the', 168894),\n",
       " ('the', 168894),\n",
       " ('the', 168894),\n",
       " ('the', 168894),\n",
       " ('the', 168894),\n",
       " ('the', 168894),\n",
       " ('the', 168894),\n",
       " ('the', 168894),\n",
       " ('the', 168894),\n",
       " ('the', 168894),\n",
       " ('the', 168894),\n",
       " ('the', 168894),\n",
       " ('the', 168894),\n",
       " ('the', 168894),\n",
       " ('the', 168894),\n",
       " ('the', 168894),\n",
       " ('the', 168894),\n",
       " ('the', 168894),\n",
       " ('the', 168894),\n",
       " ('the', 168894),\n",
       " ('the', 168894),\n",
       " ('the', 168894),\n",
       " ('the', 168894),\n",
       " ('the', 168894),\n",
       " ('the', 168894),\n",
       " ('the', 168894),\n",
       " ('the', 168894),\n",
       " ('the', 168894),\n",
       " ('the', 168894),\n",
       " ('the', 168894),\n",
       " ('the', 168894),\n",
       " ('the', 168894),\n",
       " ('the', 168894),\n",
       " ('the', 168894),\n",
       " ('the', 168894),\n",
       " ('the', 168894),\n",
       " ('the', 168894),\n",
       " ('the', 168894),\n",
       " ('the', 168894),\n",
       " ('the', 168894),\n",
       " ('the', 168894),\n",
       " ('the', 168894),\n",
       " ('the', 168894),\n",
       " ('the', 168894),\n",
       " ('the', 168894),\n",
       " ('the', 168894),\n",
       " ('the', 168894),\n",
       " ('the', 168894),\n",
       " ('the', 168894),\n",
       " ('the', 168894),\n",
       " ('the', 168894),\n",
       " ('the', 168894),\n",
       " ('the', 168894),\n",
       " ('the', 168894),\n",
       " ('the', 168894),\n",
       " ('the', 168894),\n",
       " ('the', 168894),\n",
       " ('the', 168894),\n",
       " ('the', 168894),\n",
       " ('the', 168894),\n",
       " ('the', 168894),\n",
       " ('the', 168894),\n",
       " ('the', 168894),\n",
       " ('the', 168894),\n",
       " ('the', 168894),\n",
       " ('the', 168894),\n",
       " ('the', 168894),\n",
       " ('the', 168894),\n",
       " ('the', 168894),\n",
       " ('the', 168894),\n",
       " ('the', 168894),\n",
       " ('the', 168894),\n",
       " ('the', 168894),\n",
       " ('the', 168894),\n",
       " ('the', 168894),\n",
       " ('the', 168894),\n",
       " ('the', 168894),\n",
       " ('the', 168894),\n",
       " ('the', 168894),\n",
       " ('the', 168894),\n",
       " ('the', 168894),\n",
       " ('the', 168894),\n",
       " ('the', 168894),\n",
       " ('the', 168894),\n",
       " ('the', 168894),\n",
       " ('the', 168894),\n",
       " ('the', 168894),\n",
       " ('the', 168894),\n",
       " ('the', 168894),\n",
       " ('the', 168894),\n",
       " ('the', 168894),\n",
       " ('the', 168894),\n",
       " ('the', 168894),\n",
       " ('the', 168894),\n",
       " ('the', 168894),\n",
       " ('the', 168894),\n",
       " ('the', 168894),\n",
       " ('the', 168894),\n",
       " ('the', 168894),\n",
       " ('the', 168894),\n",
       " ('the', 168894),\n",
       " ('the', 168894),\n",
       " ('the', 168894),\n",
       " ('the', 168894),\n",
       " ('the', 168894),\n",
       " ('the', 168894),\n",
       " ('the', 168894),\n",
       " ('the', 168894),\n",
       " ('the', 168894),\n",
       " ('the', 168894),\n",
       " ('the', 168894),\n",
       " ('the', 168894),\n",
       " ('the', 168894),\n",
       " ('the', 168894),\n",
       " ('the', 168894),\n",
       " ('the', 168894),\n",
       " ('the', 168894),\n",
       " ('the', 168894),\n",
       " ('the', 168894),\n",
       " ('the', 168894),\n",
       " ('the', 168894),\n",
       " ('the', 168894),\n",
       " ('the', 168894),\n",
       " ('the', 168894),\n",
       " ('the', 168894),\n",
       " ('the', 168894),\n",
       " ('the', 168894),\n",
       " ('the', 168894),\n",
       " ('the', 168894),\n",
       " ('the', 168894),\n",
       " ('the', 168894),\n",
       " ('the', 168894),\n",
       " ('the', 168894),\n",
       " ('the', 168894),\n",
       " ('the', 168894),\n",
       " ('the', 168894),\n",
       " ('the', 168894),\n",
       " ('the', 168894),\n",
       " ('the', 168894),\n",
       " ('the', 168894),\n",
       " ('the', 168894),\n",
       " ('the', 168894),\n",
       " ('the', 168894),\n",
       " ('the', 168894),\n",
       " ('the', 168894),\n",
       " ('the', 168894),\n",
       " ('the', 168894),\n",
       " ('the', 168894),\n",
       " ('the', 168894),\n",
       " ('the', 168894),\n",
       " ('the', 168894),\n",
       " ('the', 168894),\n",
       " ('the', 168894),\n",
       " ('the', 168894),\n",
       " ('the', 168894),\n",
       " ('the', 168894),\n",
       " ('the', 168894),\n",
       " ('the', 168894),\n",
       " ('the', 168894),\n",
       " ('the', 168894),\n",
       " ('the', 168894),\n",
       " ('the', 168894),\n",
       " ('the', 168894),\n",
       " ('the', 168894),\n",
       " ('the', 168894),\n",
       " ('the', 168894),\n",
       " ('the', 168894),\n",
       " ('the', 168894),\n",
       " ('the', 168894),\n",
       " ('the', 168894),\n",
       " ('the', 168894),\n",
       " ('the', 168894),\n",
       " ('the', 168894),\n",
       " ('the', 168894),\n",
       " ('the', 168894),\n",
       " ('the', 168894),\n",
       " ('the', 168894),\n",
       " ('the', 168894),\n",
       " ('the', 168894),\n",
       " ('the', 168894),\n",
       " ('the', 168894),\n",
       " ('the', 168894),\n",
       " ('the', 168894),\n",
       " ('the', 168894),\n",
       " ('the', 168894),\n",
       " ('the', 168894),\n",
       " ('the', 168894),\n",
       " ('the', 168894),\n",
       " ('the', 168894),\n",
       " ('the', 168894),\n",
       " ('the', 168894),\n",
       " ('the', 168894),\n",
       " ('the', 168894),\n",
       " ('the', 168894),\n",
       " ('the', 168894),\n",
       " ('the', 168894),\n",
       " ('the', 168894),\n",
       " ('the', 168894),\n",
       " ('the', 168894),\n",
       " ('the', 168894),\n",
       " ('the', 168894),\n",
       " ('the', 168894),\n",
       " ('the', 168894),\n",
       " ('the', 168894),\n",
       " ('the', 168894),\n",
       " ('the', 168894),\n",
       " ('the', 168894),\n",
       " ('the', 168894),\n",
       " ('the', 168894),\n",
       " ('the', 168894),\n",
       " ('the', 168894),\n",
       " ('the', 168894),\n",
       " ('the', 168894),\n",
       " ('the', 168894),\n",
       " ('the', 168894),\n",
       " ('the', 168894),\n",
       " ('the', 168894),\n",
       " ('the', 168894),\n",
       " ('the', 168894),\n",
       " ('the', 168894),\n",
       " ('the', 168894),\n",
       " ('the', 168894),\n",
       " ('the', 168894),\n",
       " ('the', 168894),\n",
       " ('the', 168894),\n",
       " ('the', 168894),\n",
       " ('the', 168894),\n",
       " ('the', 168894),\n",
       " ('the', 168894),\n",
       " ('the', 168894),\n",
       " ('the', 168894),\n",
       " ('the', 168894),\n",
       " ('the', 168894),\n",
       " ('the', 168894),\n",
       " ('the', 168894),\n",
       " ('the', 168894),\n",
       " ('the', 168894),\n",
       " ('the', 168894),\n",
       " ('the', 168894),\n",
       " ('the', 168894),\n",
       " ('the', 168894),\n",
       " ('the', 168894),\n",
       " ('the', 168894),\n",
       " ('the', 168894),\n",
       " ('the', 168894),\n",
       " ('the', 168894),\n",
       " ('the', 168894),\n",
       " ('the', 168894),\n",
       " ('the', 168894),\n",
       " ('the', 168894),\n",
       " ('the', 168894),\n",
       " ('the', 168894),\n",
       " ('the', 168894),\n",
       " ('the', 168894),\n",
       " ('the', 168894),\n",
       " ('the', 168894),\n",
       " ('the', 168894),\n",
       " ('the', 168894),\n",
       " ('the', 168894),\n",
       " ('the', 168894),\n",
       " ('the', 168894),\n",
       " ('the', 168894),\n",
       " ('the', 168894),\n",
       " ('the', 168894),\n",
       " ('the', 168894),\n",
       " ('the', 168894),\n",
       " ('the', 168894),\n",
       " ('the', 168894),\n",
       " ('the', 168894),\n",
       " ('the', 168894),\n",
       " ('the', 168894),\n",
       " ('the', 168894),\n",
       " ('the', 168894),\n",
       " ('the', 168894),\n",
       " ('the', 168894),\n",
       " ('the', 168894),\n",
       " ('the', 168894),\n",
       " ('the', 168894),\n",
       " ('the', 168894),\n",
       " ('the', 168894),\n",
       " ('the', 168894),\n",
       " ('the', 168894),\n",
       " ('the', 168894),\n",
       " ('the', 168894),\n",
       " ('the', 168894),\n",
       " ('the', 168894),\n",
       " ('the', 168894),\n",
       " ('the', 168894),\n",
       " ('the', 168894),\n",
       " ('the', 168894),\n",
       " ('the', 168894),\n",
       " ('the', 168894),\n",
       " ('the', 168894),\n",
       " ('the', 168894),\n",
       " ('the', 168894),\n",
       " ('the', 168894),\n",
       " ('the', 168894),\n",
       " ('the', 168894),\n",
       " ('the', 168894),\n",
       " ('the', 168894),\n",
       " ('the', 168894),\n",
       " ('the', 168894),\n",
       " ('the', 168894),\n",
       " ('the', 168894),\n",
       " ('the', 168894),\n",
       " ('the', 168894),\n",
       " ('the', 168894),\n",
       " ('the', 168894),\n",
       " ('the', 168894),\n",
       " ('the', 168894),\n",
       " ('the', 168894),\n",
       " ('the', 168894),\n",
       " ('the', 168894),\n",
       " ('the', 168894),\n",
       " ('the', 168894),\n",
       " ('the', 168894),\n",
       " ('the', 168894),\n",
       " ('the', 168894),\n",
       " ('the', 168894),\n",
       " ('the', 168894),\n",
       " ('the', 168894),\n",
       " ('the', 168894),\n",
       " ('the', 168894),\n",
       " ('the', 168894),\n",
       " ('the', 168894),\n",
       " ('the', 168894),\n",
       " ('the', 168894),\n",
       " ('the', 168894),\n",
       " ('the', 168894),\n",
       " ('the', 168894),\n",
       " ('the', 168894),\n",
       " ('the', 168894),\n",
       " ('the', 168894),\n",
       " ('the', 168894),\n",
       " ('the', 168894),\n",
       " ('the', 168894),\n",
       " ('the', 168894),\n",
       " ('the', 168894),\n",
       " ('the', 168894),\n",
       " ('the', 168894),\n",
       " ('the', 168894),\n",
       " ('the', 168894),\n",
       " ('the', 168894),\n",
       " ('the', 168894),\n",
       " ('the', 168894),\n",
       " ('the', 168894),\n",
       " ('the', 168894),\n",
       " ('the', 168894),\n",
       " ('the', 168894),\n",
       " ('the', 168894),\n",
       " ('the', 168894),\n",
       " ('the', 168894),\n",
       " ('the', 168894),\n",
       " ('the', 168894),\n",
       " ('the', 168894),\n",
       " ('the', 168894),\n",
       " ('the', 168894),\n",
       " ('the', 168894),\n",
       " ('the', 168894),\n",
       " ('the', 168894),\n",
       " ('the', 168894),\n",
       " ('the', 168894),\n",
       " ('the', 168894),\n",
       " ('the', 168894),\n",
       " ('the', 168894),\n",
       " ('the', 168894),\n",
       " ('the', 168894),\n",
       " ('the', 168894),\n",
       " ('the', 168894),\n",
       " ('the', 168894),\n",
       " ('the', 168894),\n",
       " ('the', 168894),\n",
       " ('the', 168894),\n",
       " ('the', 168894),\n",
       " ('the', 168894),\n",
       " ('the', 168894),\n",
       " ('the', 168894),\n",
       " ('the', 168894),\n",
       " ('the', 168894),\n",
       " ('the', 168894),\n",
       " ('the', 168894),\n",
       " ('the', 168894),\n",
       " ('the', 168894),\n",
       " ('the', 168894),\n",
       " ('the', 168894),\n",
       " ('the', 168894),\n",
       " ('the', 168894),\n",
       " ('the', 168894),\n",
       " ('the', 168894),\n",
       " ('the', 168894),\n",
       " ('the', 168894),\n",
       " ('the', 168894),\n",
       " ('the', 168894),\n",
       " ('the', 168894),\n",
       " ('the', 168894),\n",
       " ('the', 168894),\n",
       " ('the', 168894),\n",
       " ('the', 168894),\n",
       " ('the', 168894),\n",
       " ('the', 168894),\n",
       " ('the', 168894),\n",
       " ('the', 168894),\n",
       " ('the', 168894),\n",
       " ('the', 168894),\n",
       " ('the', 168894),\n",
       " ('the', 168894),\n",
       " ('the', 168894),\n",
       " ('the', 168894),\n",
       " ('the', 168894),\n",
       " ('the', 168894),\n",
       " ('the', 168894),\n",
       " ('the', 168894),\n",
       " ('the', 168894),\n",
       " ('the', 168894),\n",
       " ('the', 168894),\n",
       " ('the', 168894),\n",
       " ('the', 168894),\n",
       " ('the', 168894),\n",
       " ('the', 168894),\n",
       " ('the', 168894),\n",
       " ('the', 168894),\n",
       " ('the', 168894),\n",
       " ('the', 168894),\n",
       " ('the', 168894),\n",
       " ('the', 168894),\n",
       " ('the', 168894),\n",
       " ('the', 168894),\n",
       " ('the', 168894),\n",
       " ('the', 168894),\n",
       " ('the', 168894),\n",
       " ('the', 168894),\n",
       " ('the', 168894),\n",
       " ('the', 168894),\n",
       " ('the', 168894),\n",
       " ('the', 168894),\n",
       " ('the', 168894),\n",
       " ('the', 168894),\n",
       " ('the', 168894),\n",
       " ('the', 168894),\n",
       " ('the', 168894),\n",
       " ('the', 168894),\n",
       " ('the', 168894),\n",
       " ('the', 168894),\n",
       " ('the', 168894),\n",
       " ('the', 168894),\n",
       " ('the', 168894),\n",
       " ('the', 168894),\n",
       " ('the', 168894),\n",
       " ('the', 168894),\n",
       " ('the', 168894),\n",
       " ('the', 168894),\n",
       " ('the', 168894),\n",
       " ('the', 168894),\n",
       " ('the', 168894),\n",
       " ('the', 168894),\n",
       " ('the', 168894),\n",
       " ('the', 168894),\n",
       " ('the', 168894),\n",
       " ('the', 168894),\n",
       " ('the', 168894),\n",
       " ('the', 168894),\n",
       " ('the', 168894),\n",
       " ('the', 168894),\n",
       " ('the', 168894),\n",
       " ('the', 168894),\n",
       " ('the', 168894),\n",
       " ('the', 168894),\n",
       " ('the', 168894),\n",
       " ('the', 168894),\n",
       " ('the', 168894),\n",
       " ('the', 168894),\n",
       " ('the', 168894),\n",
       " ('the', 168894),\n",
       " ('the', 168894),\n",
       " ('the', 168894),\n",
       " ('the', 168894),\n",
       " ('the', 168894),\n",
       " ('the', 168894),\n",
       " ('the', 168894),\n",
       " ('the', 168894),\n",
       " ('the', 168894),\n",
       " ('the', 168894),\n",
       " ('the', 168894),\n",
       " ('the', 168894),\n",
       " ('the', 168894),\n",
       " ('the', 168894),\n",
       " ('the', 168894),\n",
       " ('the', 168894),\n",
       " ('the', 168894),\n",
       " ('the', 168894),\n",
       " ('the', 168894),\n",
       " ('the', 168894),\n",
       " ('the', 168894),\n",
       " ('the', 168894),\n",
       " ('the', 168894),\n",
       " ('the', 168894),\n",
       " ('the', 168894),\n",
       " ('the', 168894),\n",
       " ('the', 168894),\n",
       " ('the', 168894),\n",
       " ('the', 168894),\n",
       " ('the', 168894),\n",
       " ('the', 168894),\n",
       " ('the', 168894),\n",
       " ('the', 168894),\n",
       " ('the', 168894),\n",
       " ('the', 168894),\n",
       " ('the', 168894),\n",
       " ('the', 168894),\n",
       " ('the', 168894),\n",
       " ('the', 168894),\n",
       " ('the', 168894),\n",
       " ('the', 168894),\n",
       " ('the', 168894),\n",
       " ('the', 168894),\n",
       " ('the', 168894),\n",
       " ('the', 168894),\n",
       " ('the', 168894),\n",
       " ('the', 168894),\n",
       " ('the', 168894),\n",
       " ('the', 168894),\n",
       " ('the', 168894),\n",
       " ('the', 168894),\n",
       " ('the', 168894),\n",
       " ('the', 168894),\n",
       " ('the', 168894),\n",
       " ('the', 168894),\n",
       " ('the', 168894),\n",
       " ('the', 168894),\n",
       " ('the', 168894),\n",
       " ('the', 168894),\n",
       " ('the', 168894),\n",
       " ('the', 168894),\n",
       " ('the', 168894),\n",
       " ('the', 168894),\n",
       " ('the', 168894),\n",
       " ('the', 168894),\n",
       " ('the', 168894),\n",
       " ('the', 168894),\n",
       " ('the', 168894),\n",
       " ('the', 168894),\n",
       " ('the', 168894),\n",
       " ('the', 168894),\n",
       " ('the', 168894),\n",
       " ('the', 168894),\n",
       " ('the', 168894),\n",
       " ('the', 168894),\n",
       " ('the', 168894),\n",
       " ('the', 168894),\n",
       " ('the', 168894),\n",
       " ('the', 168894),\n",
       " ('the', 168894),\n",
       " ('the', 168894),\n",
       " ('the', 168894),\n",
       " ('the', 168894),\n",
       " ('the', 168894),\n",
       " ('the', 168894),\n",
       " ('the', 168894),\n",
       " ('the', 168894),\n",
       " ('the', 168894),\n",
       " ('the', 168894),\n",
       " ('the', 168894),\n",
       " ('the', 168894),\n",
       " ('the', 168894),\n",
       " ('the', 168894),\n",
       " ('the', 168894),\n",
       " ('the', 168894),\n",
       " ('the', 168894),\n",
       " ('the', 168894),\n",
       " ('the', 168894),\n",
       " ('the', 168894),\n",
       " ('the', 168894),\n",
       " ('the', 168894),\n",
       " ('the', 168894),\n",
       " ('the', 168894),\n",
       " ('the', 168894),\n",
       " ('the', 168894),\n",
       " ('the', 168894),\n",
       " ('the', 168894),\n",
       " ('the', 168894),\n",
       " ('the', 168894),\n",
       " ('the', 168894),\n",
       " ('the', 168894),\n",
       " ('the', 168894),\n",
       " ('the', 168894),\n",
       " ('the', 168894),\n",
       " ('the', 168894),\n",
       " ('the', 168894),\n",
       " ('the', 168894),\n",
       " ('the', 168894),\n",
       " ('the', 168894),\n",
       " ('the', 168894),\n",
       " ('the', 168894),\n",
       " ('the', 168894),\n",
       " ('the', 168894),\n",
       " ('the', 168894),\n",
       " ('the', 168894),\n",
       " ('the', 168894),\n",
       " ('the', 168894),\n",
       " ('the', 168894),\n",
       " ('the', 168894),\n",
       " ('the', 168894),\n",
       " ('the', 168894),\n",
       " ('the', 168894),\n",
       " ('the', 168894),\n",
       " ('the', 168894),\n",
       " ('the', 168894),\n",
       " ('the', 168894),\n",
       " ('the', 168894),\n",
       " ('the', 168894),\n",
       " ('the', 168894),\n",
       " ('the', 168894),\n",
       " ('the', 168894),\n",
       " ('the', 168894),\n",
       " ('the', 168894),\n",
       " ('the', 168894),\n",
       " ('the', 168894),\n",
       " ('the', 168894),\n",
       " ('the', 168894),\n",
       " ('the', 168894),\n",
       " ('the', 168894),\n",
       " ('the', 168894),\n",
       " ('the', 168894),\n",
       " ('the', 168894),\n",
       " ('the', 168894),\n",
       " ('the', 168894),\n",
       " ('the', 168894),\n",
       " ('the', 168894),\n",
       " ('the', 168894),\n",
       " ('the', 168894),\n",
       " ('the', 168894),\n",
       " ('the', 168894),\n",
       " ('the', 168894),\n",
       " ('the', 168894),\n",
       " ('the', 168894),\n",
       " ('the', 168894),\n",
       " ('the', 168894),\n",
       " ('the', 168894),\n",
       " ('the', 168894),\n",
       " ('the', 168894),\n",
       " ('the', 168894),\n",
       " ('the', 168894),\n",
       " ('the', 168894),\n",
       " ('the', 168894),\n",
       " ('the', 168894),\n",
       " ('the', 168894),\n",
       " ('the', 168894),\n",
       " ('the', 168894),\n",
       " ('the', 168894),\n",
       " ('the', 168894),\n",
       " ('the', 168894),\n",
       " ('the', 168894),\n",
       " ('the', 168894),\n",
       " ('the', 168894),\n",
       " ('the', 168894),\n",
       " ('the', 168894),\n",
       " ('the', 168894),\n",
       " ('the', 168894),\n",
       " ('the', 168894),\n",
       " ('the', 168894),\n",
       " ('the', 168894),\n",
       " ('the', 168894),\n",
       " ('the', 168894),\n",
       " ('the', 168894),\n",
       " ('the', 168894),\n",
       " ('the', 168894),\n",
       " ('the', 168894),\n",
       " ('the', 168894),\n",
       " ('the', 168894),\n",
       " ('the', 168894),\n",
       " ...]"
      ]
     },
     "execution_count": 382,
     "metadata": {},
     "output_type": "execute_result"
    }
   ],
   "execution_count": 382
  },
  {
   "metadata": {},
   "cell_type": "code",
   "outputs": [],
   "execution_count": null,
   "source": "",
   "id": "a2d65b30cb93421"
  },
  {
   "metadata": {},
   "cell_type": "code",
   "outputs": [],
   "execution_count": null,
   "source": "",
   "id": "164bc9493d55341"
  },
  {
   "metadata": {},
   "cell_type": "code",
   "outputs": [],
   "execution_count": null,
   "source": "",
   "id": "e8bf64889706f6f1"
  },
  {
   "metadata": {},
   "cell_type": "code",
   "outputs": [],
   "execution_count": null,
   "source": "",
   "id": "f31282957af5bcce"
  },
  {
   "metadata": {
    "ExecuteTime": {
     "end_time": "2025-01-29T18:44:34.154278Z",
     "start_time": "2025-01-29T18:44:33.909889Z"
    }
   },
   "cell_type": "code",
   "source": [
    "def count_nth_percentile_weighted(p, counter_expanded, greater_than=True):\n",
    "    sorted_list = sorted(counter_expanded, key=lambda x: x[1], reverse=greater_than)\n",
    "    index = max(min(len(sorted_list) - 1, int(len(sorted_list) * p)), 0)\n",
    "    \n",
    "    print(index)\n",
    "    print(sorted_list[index])\n",
    "    \n",
    "    n_at_nth = sorted_list[index][1]\n",
    "    \n",
    "    print(n_at_nth)\n",
    "        \n",
    "    gte = {x for x in counter_expanded if x[1] >= n_at_nth}\n",
    "    lte = {x for x in counter_expanded if x[1] <= n_at_nth}\n",
    "    \n",
    "    print('occur more than', n_at_nth, random.sample(list(gte), min(5, len(gte))))\n",
    "    print('occur less than', n_at_nth, random.sample(list(lte), min(5, len(lte))))\n",
    "    \n",
    "    print('number more than', n_at_nth, len(gte))\n",
    "    print('number less than', n_at_nth, len(lte))\n",
    "        \n",
    "    return len(gte) if greater_than else len(lte)\n",
    "\n",
    "p = 0.9999\n",
    "\n",
    "print('greater_than', p)\n",
    "count_nth_percentile_weighted(p, english_word_counts_expanded, True)\n",
    "\n",
    "# print('less_than', p)\n",
    "# count_nth_percentile_weighted(p, english_word_counts_expanded, False)\n"
   ],
   "id": "807d629d430d03c7",
   "outputs": [
    {
     "name": "stdout",
     "output_type": "stream",
     "text": [
      "greater_than 0.9999\n",
      "2311677\n",
      "('zodiacs', 1)\n",
      "1\n",
      "occur more than 1 [('certainty', 130), ('prioritized', 25), ('analyzes', 7), ('carrier', 8), ('milipsigate', 6)]\n",
      "occur less than 1 [('tatara', 1), ('acacienne', 1), ('trimean', 1), ('rpm', 1), ('thereof', 1)]\n",
      "number more than 1 25194\n",
      "number less than 1 7481\n"
     ]
    },
    {
     "data": {
      "text/plain": [
       "25194"
      ]
     },
     "execution_count": 366,
     "metadata": {},
     "output_type": "execute_result"
    }
   ],
   "execution_count": 366
  },
  {
   "metadata": {
    "ExecuteTime": {
     "end_time": "2025-01-29T18:39:00.934131Z",
     "start_time": "2025-01-29T18:39:00.443897Z"
    }
   },
   "cell_type": "code",
   "source": "",
   "id": "5d13cf77de3b8eba",
   "outputs": [
    {
     "name": "stdout",
     "output_type": "stream",
     "text": [
      "number more than 1 25194\n",
      "number less than 1 7481\n",
      "number more than 168894 1\n",
      "number less than 168894 25194\n"
     ]
    },
    {
     "data": {
      "text/plain": [
       "(25194, 25194)"
      ]
     },
     "execution_count": 360,
     "metadata": {},
     "output_type": "execute_result"
    }
   ],
   "execution_count": 360
  },
  {
   "metadata": {
    "ExecuteTime": {
     "end_time": "2025-01-29T18:35:11.582770Z",
     "start_time": "2025-01-29T18:35:11.548123Z"
    }
   },
   "cell_type": "code",
   "outputs": [
    {
     "data": {
      "text/plain": [
       "(1, 25193)"
      ]
     },
     "execution_count": 349,
     "metadata": {},
     "output_type": "execute_result"
    }
   ],
   "execution_count": 349,
   "source": [
    "count_nth_percentile(1, english_word_counts, True), count_nth_percentile(1, english_word_counts, False)\n",
    "# gte 100%, lte 100%"
   ],
   "id": "a73d6a003bed391a"
  },
  {
   "metadata": {
    "ExecuteTime": {
     "end_time": "2025-01-29T18:34:08.001644Z",
     "start_time": "2025-01-29T18:34:07.652974Z"
    }
   },
   "cell_type": "code",
   "source": [
    "# greater than 100th percentile (only top entry)? or top 100th percentile (all entries)?\n",
    "\n",
    "def count_nth_percentile_weighted(p, counter_expanded, greater_than=True):\n",
    "    sorted_list = sorted(counter_expanded, key=lambda x: x[1], reverse=greater_than)\n",
    "    index = max(min(len(sorted_list) - 1, int(len(sorted_list) * p)), 0)\n",
    "    \n",
    "    print(sorted_list[index])\n",
    "    n_at_nth = sorted_list[index][1]\n",
    "    print(n_at_nth)\n",
    "        \n",
    "    gte = {x for x in counter_expanded if x[1] >= n_at_nth}\n",
    "    lte = {x for x in counter_expanded if x[1] <= n_at_nth}\n",
    "    \n",
    "    print('occur more than', n_at_nth, random.sample(list(gte), 5))\n",
    "    print('occur less than', n_at_nth, random.sample(list(lte), 5))\n",
    "    \n",
    "    print('number more than', n_at_nth, len(gte))\n",
    "    print('number less than', n_at_nth, len(lte))\n",
    "        \n",
    "    return len(gte) if greater_than else len(lte)\n",
    "\n",
    "p = 1\n",
    "count_nth_percentile_weighted(p, english_word_counts_expanded, True)"
   ],
   "id": "f70d76f6b1f58bf3",
   "outputs": [
    {
     "name": "stdout",
     "output_type": "stream",
     "text": [
      "('hardware', 1)\n",
      "1\n",
      "occur more than 1 [('averse', 1), ('chsrg', 12), ('advises', 2), ('aurelia', 4), ('seizures', 1)]\n",
      "occur less than 1 [('bugs', 1), ('fenced', 1), ('crivelli', 1), ('interrupt', 1), ('gaskin', 1)]\n",
      "number more than 1 25194\n",
      "number less than 1 7481\n"
     ]
    },
    {
     "data": {
      "text/plain": [
       "25194"
      ]
     },
     "execution_count": 347,
     "metadata": {},
     "output_type": "execute_result"
    }
   ],
   "execution_count": 347
  },
  {
   "metadata": {
    "ExecuteTime": {
     "end_time": "2025-01-29T18:09:50.905393Z",
     "start_time": "2025-01-29T18:09:50.661362Z"
    }
   },
   "cell_type": "code",
   "source": [
    "counter_expanded = english_word_counts_expanded\n",
    "greater_than=True\n",
    "\n",
    "sorted_list = sorted(counter_expanded, key=lambda x: x[1], reverse=greater_than)\n",
    "print(sorted_list[0])\n",
    "index = max(min(len(sorted_list) - 1, int(len(sorted_list) * p)), 0) # backwards?\n",
    "print(index)\n",
    "print(sorted_list[index])\n",
    "n_at_nth = sorted_list[index][1]\n",
    "print(n_at_nth)\n",
    "gte = {x for x in counter_expanded if x[1] >= n_at_nth}\n",
    "lte = {x for x in counter_expanded if x[1] <= n_at_nth}"
   ],
   "id": "e5b77f92cf936664",
   "outputs": [
    {
     "name": "stdout",
     "output_type": "stream",
     "text": [
      "('the', 168894)\n",
      "2311908\n",
      "('hardware', 1)\n",
      "1\n"
     ]
    }
   ],
   "execution_count": 285
  },
  {
   "metadata": {
    "ExecuteTime": {
     "end_time": "2025-01-29T18:02:48.886100Z",
     "start_time": "2025-01-29T18:02:48.809063Z"
    }
   },
   "cell_type": "code",
   "source": [
    "n_at_nth = 2571\n",
    "len({x for x in english_word_counts_expanded if x[1] > n_at_nth})"
   ],
   "id": "668ab1c212ddbcf",
   "outputs": [
    {
     "data": {
      "text/plain": [
       "108"
      ]
     },
     "execution_count": 270,
     "metadata": {},
     "output_type": "execute_result"
    }
   ],
   "execution_count": 270
  },
  {
   "metadata": {
    "ExecuteTime": {
     "end_time": "2025-01-29T17:52:57.284810Z",
     "start_time": "2025-01-29T17:52:57.270166Z"
    }
   },
   "cell_type": "code",
   "source": "len(english_word_counts)",
   "id": "caf4981df187a0f2",
   "outputs": [
    {
     "data": {
      "text/plain": [
       "25194"
      ]
     },
     "execution_count": 244,
     "metadata": {},
     "output_type": "execute_result"
    }
   ],
   "execution_count": 244
  },
  {
   "metadata": {
    "ExecuteTime": {
     "end_time": "2025-01-29T17:58:25.168299Z",
     "start_time": "2025-01-29T17:58:25.153496Z"
    }
   },
   "cell_type": "code",
   "source": "english_word_counts.total()",
   "id": "3dd13739a167c9b4",
   "outputs": [
    {
     "data": {
      "text/plain": [
       "2311909"
      ]
     },
     "execution_count": 261,
     "metadata": {},
     "output_type": "execute_result"
    }
   ],
   "execution_count": 261
  },
  {
   "metadata": {
    "ExecuteTime": {
     "end_time": "2025-01-29T18:21:04.742413Z",
     "start_time": "2025-01-29T18:21:04.724049Z"
    }
   },
   "cell_type": "code",
   "source": "",
   "id": "c99e835bec7a1b1b",
   "outputs": [
    {
     "name": "stdout",
     "output_type": "stream",
     "text": [
      "0 0\n"
     ]
    },
    {
     "data": {
      "text/plain": [
       "25194"
      ]
     },
     "execution_count": 306,
     "metadata": {},
     "output_type": "execute_result"
    }
   ],
   "execution_count": 306
  },
  {
   "metadata": {},
   "cell_type": "code",
   "outputs": [],
   "execution_count": null,
   "source": "",
   "id": "f410b135946df57a"
  },
  {
   "metadata": {},
   "cell_type": "code",
   "outputs": [],
   "execution_count": null,
   "source": "",
   "id": "2aeaca8c33cdb87e"
  },
  {
   "metadata": {},
   "cell_type": "code",
   "outputs": [],
   "execution_count": null,
   "source": "",
   "id": "f6124c59c9ab169a"
  },
  {
   "metadata": {
    "ExecuteTime": {
     "end_time": "2025-01-29T17:47:42.875980Z",
     "start_time": "2025-01-29T17:47:42.847865Z"
    }
   },
   "cell_type": "code",
   "source": [
    "p = 0.1\n",
    "nth_percentile(p, english_word_counts), nth_percentile(p, english_word_counts, False)"
   ],
   "id": "1318fa4a2eac4329",
   "outputs": [
    {
     "data": {
      "text/plain": [
       "(('endemism', 87), ('terebratulina', 1))"
      ]
     },
     "execution_count": 238,
     "metadata": {},
     "output_type": "execute_result"
    }
   ],
   "execution_count": 238
  },
  {
   "metadata": {
    "ExecuteTime": {
     "end_time": "2025-01-29T17:47:43.825624Z",
     "start_time": "2025-01-29T17:47:43.575597Z"
    }
   },
   "cell_type": "code",
   "source": [
    "p = 0.1\n",
    "nth_percentile_weighted(p, english_word_counts_expanded), nth_percentile_weighted(p, english_word_counts_expanded, False)"
   ],
   "id": "1310fdbfee09d357",
   "outputs": [
    {
     "data": {
      "text/plain": [
       "(('of', 94029), ('adolescent', 99))"
      ]
     },
     "execution_count": 239,
     "metadata": {},
     "output_type": "execute_result"
    }
   ],
   "execution_count": 239
  },
  {
   "metadata": {
    "ExecuteTime": {
     "end_time": "2025-01-29T17:48:34.045333Z",
     "start_time": "2025-01-29T17:48:33.790451Z"
    }
   },
   "cell_type": "code",
   "source": [
    "p = 0.95\n",
    "nth_percentile_weighted(p, english_word_counts_expanded), nth_percentile_weighted(p, english_word_counts_expanded, False)"
   ],
   "id": "cc2cb86e6d0dde67",
   "outputs": [
    {
     "data": {
      "text/plain": [
       "(('cobble', 34), ('the', 168894))"
      ]
     },
     "execution_count": 241,
     "metadata": {},
     "output_type": "execute_result"
    }
   ],
   "execution_count": 241
  },
  {
   "metadata": {
    "ExecuteTime": {
     "end_time": "2025-01-29T17:48:07.091188Z",
     "start_time": "2025-01-29T17:48:07.069131Z"
    }
   },
   "cell_type": "code",
   "source": [
    "most_common_word_info(english_word_counts, 5)\n",
    "print()\n",
    "most_common_word_info(french_word_counts, 5)"
   ],
   "id": "6fd01b60662ad88b",
   "outputs": [
    {
     "name": "stdout",
     "output_type": "stream",
     "text": [
      "the                   168894       7%        (0%-7%)\n",
      "of                     94029       4%       (7%-11%)\n",
      "and                    93778       4%      (11%-15%)\n",
      "in                     72480       3%      (15%-19%)\n",
      "to                     57614       2%      (19%-21%)\n",
      "\n",
      "de                    237366       8%        (0%-8%)\n",
      "la                    140133       5%       (8%-13%)\n",
      "et                    100646       4%      (13%-17%)\n",
      "les                   100095       4%      (17%-21%)\n",
      "des                    97138       3%      (21%-24%)\n"
     ]
    }
   ],
   "execution_count": 240
  },
  {
   "metadata": {
    "ExecuteTime": {
     "end_time": "2025-01-29T17:35:54.481981Z",
     "start_time": "2025-01-29T17:35:54.346005Z"
    }
   },
   "cell_type": "code",
   "source": "nth_percentile_weighted(.2, english_word_counts_expanded)",
   "id": "be983a13cb651fa7",
   "outputs": [
    {
     "name": "stdout",
     "output_type": "stream",
     "text": [
      "462381\n"
     ]
    },
    {
     "data": {
      "text/plain": [
       "('to', 57614)"
      ]
     },
     "execution_count": 215,
     "metadata": {},
     "output_type": "execute_result"
    }
   ],
   "execution_count": 215
  },
  {
   "metadata": {
    "ExecuteTime": {
     "end_time": "2025-01-29T17:42:00.708950Z",
     "start_time": "2025-01-29T17:42:00.471609Z"
    }
   },
   "cell_type": "code",
   "source": [
    "p = 0.05\n",
    "nth_percentile_weighted(p, english_word_counts_expanded), nth_percentile_weighted(p, english_word_counts_expanded, False)"
   ],
   "id": "beafd98a4f04d9dd",
   "outputs": [
    {
     "name": "stdout",
     "output_type": "stream",
     "text": [
      "115595\n",
      "115595\n"
     ]
    },
    {
     "data": {
      "text/plain": [
       "(('the', 168894), ('conductivity', 34))"
      ]
     },
     "execution_count": 224,
     "metadata": {},
     "output_type": "execute_result"
    }
   ],
   "execution_count": 224
  },
  {
   "metadata": {},
   "cell_type": "code",
   "outputs": [],
   "execution_count": null,
   "source": "",
   "id": "57387b89a4c41acb"
  },
  {
   "metadata": {},
   "cell_type": "code",
   "outputs": [],
   "execution_count": null,
   "source": "",
   "id": "1f1106e2cd50f30a"
  },
  {
   "metadata": {},
   "cell_type": "code",
   "outputs": [],
   "execution_count": null,
   "source": "",
   "id": "71663313fedcb0ce"
  },
  {
   "metadata": {},
   "cell_type": "code",
   "outputs": [],
   "execution_count": null,
   "source": "",
   "id": "b490179e51ab5c9d"
  },
  {
   "metadata": {},
   "cell_type": "code",
   "outputs": [],
   "execution_count": null,
   "source": "",
   "id": "9cbf052b040e680e"
  },
  {
   "metadata": {},
   "cell_type": "code",
   "outputs": [],
   "execution_count": null,
   "source": "",
   "id": "8d2e0a9e25923e09"
  },
  {
   "metadata": {},
   "cell_type": "code",
   "outputs": [],
   "execution_count": null,
   "source": "",
   "id": "6b8b0f8e57e0ad7e"
  },
  {
   "metadata": {},
   "cell_type": "code",
   "outputs": [],
   "execution_count": null,
   "source": "",
   "id": "f9951f1de1bf257f"
  },
  {
   "metadata": {},
   "cell_type": "code",
   "outputs": [],
   "execution_count": null,
   "source": "",
   "id": "20917cd7bad413de"
  },
  {
   "metadata": {},
   "cell_type": "code",
   "outputs": [],
   "execution_count": null,
   "source": "",
   "id": "31414ba4ee40f01c"
  },
  {
   "metadata": {
    "ExecuteTime": {
     "end_time": "2025-01-29T16:12:37.757234Z",
     "start_time": "2025-01-29T16:12:37.573102Z"
    }
   },
   "cell_type": "code",
   "source": [
    "# TODO: update\n",
    "def calc_percentile(n, word_counts, greater_than=True):\n",
    "    n_least_common = int(len(word_counts) * n)\n",
    "    less_than_n = word_counts.most_common()[::-1][:n_least_common][::-1]\n",
    "    greater_than_n = word_counts.most_common()[:n_least_common][::-1]\n",
    "    if greater_than:\n",
    "        nth_percentile = greater_than_n[0][1]\n",
    "    else:\n",
    "        nth_percentile = less_than_n[0][1]\n",
    "\n",
    "    print(f\"{n*100:0.0f}th percentile: {nth_percentile}\")\n",
    "\n",
    "    expanded_counts = []\n",
    "    for word, count in word_counts.items():\n",
    "        expanded_counts.extend([count] * count)\n",
    "    expanded_counts = sorted(expanded_counts) if greater_than else sorted(expanded_counts, reverse=True)\n",
    "    weighted_nth_percentile = int(np.percentile(expanded_counts, n))\n",
    "    print(f\"Weighted {n*100:0.0f}th percentile: {weighted_nth_percentile}\")\n",
    "\n",
    "    # examples\n",
    "    print('EXAMPLES')\n",
    "    n_examples = 5\n",
    "    tolerance_for_examples = 1\n",
    "\n",
    "    lower, upper = nth_percentile * (1 - tolerance_for_examples), nth_percentile * (1 + tolerance_for_examples)\n",
    "    examples = [x[0] for x in greater_than_n if lower < x[1] < upper] if greater_than else [x[0] for x in less_than_n if lower < x[1] < upper]\n",
    "    list_of_n_examples = random.sample(examples, n_examples)\n",
    "\n",
    "    lower_weighted, upper_weighted = weighted_nth_percentile * (1 - tolerance_for_examples), weighted_nth_percentile * (1 + tolerance_for_examples)\n",
    "    examples_weighted = [k for k, v in word_counts.items() if lower_weighted < v < upper_weighted]\n",
    "    list_of_n_examples_weighted = random.sample(examples_weighted, n_examples)\n",
    "\n",
    "    print('number of words greater than nth percentile:\\t\\t\\t', len(examples))\n",
    "    print('number of words greater than nth percentile (weighted):\\t', len(examples_weighted))\n",
    "\n",
    "    print(f\"\\t{n*100:0.0f}th percentile word examples: \\t\\t\\t\\t{', '.join(list_of_n_examples)}\")\n",
    "    print(f\"\\tWeighted {n*100:0.0f}th percentile word examples: \\t{', '.join(list_of_n_examples_weighted)}\")\n",
    "\n",
    "\n",
    "calc_percentile(0.95, french_word_counts)"
   ],
   "id": "9ff6e396d7a36249",
   "outputs": [
    {
     "name": "stdout",
     "output_type": "stream",
     "text": [
      "95th percentile: 1\n",
      "Weighted 95th percentile: 4\n",
      "EXAMPLES\n",
      "number of words greater than nth percentile:\t\t\t 8150\n",
      "number of words greater than nth percentile (weighted):\t 20924\n",
      "\t95th percentile word examples: \t\t\t\tréarrangements, krause, yellowfin, reconnaissions, maceina\n",
      "\tWeighted 95th percentile word examples: \tmaculatus, miriam, rotations, fair, jackie\n"
     ]
    }
   ],
   "execution_count": 117
  },
  {
   "metadata": {
    "ExecuteTime": {
     "end_time": "2025-01-29T16:12:38.542475Z",
     "start_time": "2025-01-29T16:12:38.369579Z"
    }
   },
   "cell_type": "code",
   "source": "calc_percentile(0.05, french_word_counts)",
   "id": "964f4e315a83ce6d",
   "outputs": [
    {
     "name": "stdout",
     "output_type": "stream",
     "text": [
      "5th percentile: 172\n",
      "Weighted 5th percentile: 1\n",
      "EXAMPLES\n",
      "number of words greater than nth percentile:\t\t\t 711\n",
      "number of words greater than nth percentile (weighted):\t 9736\n",
      "\t5th percentile word examples: \t\t\t\tdegré, cétacés, effectuées, sauf, combinaison\n",
      "\tWeighted 5th percentile word examples: \tensure, cascapédia, obtained, dépendît, retablissement\n"
     ]
    }
   ],
   "execution_count": 118
  },
  {
   "metadata": {
    "ExecuteTime": {
     "end_time": "2025-01-29T16:12:38.922138Z",
     "start_time": "2025-01-29T16:12:38.742021Z"
    }
   },
   "cell_type": "code",
   "source": "calc_percentile(0.5, french_word_counts)",
   "id": "3d339e77ca1bb9d6",
   "outputs": [
    {
     "name": "stdout",
     "output_type": "stream",
     "text": [
      "50th percentile: 3\n",
      "Weighted 50th percentile: 2\n",
      "EXAMPLES\n",
      "number of words greater than nth percentile:\t\t\t 3428\n",
      "number of words greater than nth percentile (weighted):\t 16409\n",
      "\t50th percentile word examples: \t\t\t\tcodage, mucus, doyle, êtres, peregrinum\n",
      "\tWeighted 50th percentile word examples: \tsubsisterait, boulva, rhinichthys, dimorphism, chou\n"
     ]
    }
   ],
   "execution_count": 119
  },
  {
   "metadata": {
    "ExecuteTime": {
     "end_time": "2025-01-29T16:24:12.161102Z",
     "start_time": "2025-01-29T16:24:12.011549Z"
    }
   },
   "cell_type": "code",
   "source": [
    "def calc_percentile(n, word_counts):\n",
    "    total_words = len(word_counts)\n",
    "    n_index = int(total_words * (1 - n))\n",
    "    nth_percentile = sorted(word_counts.values(), reverse=True)[n_index]\n",
    "\n",
    "    expanded_counts = []\n",
    "    for word, count in word_counts.items():\n",
    "        expanded_counts.extend([count] * count)\n",
    "    weighted_nth_percentile = int(np.percentile(expanded_counts, n * 100))\n",
    "\n",
    "    num_words_above_percentile = sum(1 for count in word_counts.values() if count >= nth_percentile)\n",
    "    num_words_above_weighted_percentile = sum(1 for word, count in word_counts.items() if count >= weighted_nth_percentile)\n",
    "\n",
    "    tolerance_for_examples = 0.1\n",
    "    lower, upper = nth_percentile * (1 - tolerance_for_examples), nth_percentile * (1 + tolerance_for_examples)\n",
    "    examples = [word for word, count in word_counts.items() if lower <= count <= upper]\n",
    "\n",
    "    lower_weighted, upper_weighted = weighted_nth_percentile * (1 - tolerance_for_examples), weighted_nth_percentile * (1 + tolerance_for_examples)\n",
    "    examples_weighted = [word for word, count in word_counts.items() if lower_weighted <= count <= upper_weighted]\n",
    "\n",
    "    n_examples = 5\n",
    "    list_of_n_examples = random.sample(examples, min(n_examples, len(examples))) if examples else []\n",
    "    list_of_n_examples_weighted = random.sample(examples_weighted, min(n_examples, len(examples_weighted))) if examples_weighted else []\n",
    "\n",
    "    print(f\"{n*100:0.0f}th percentile: {nth_percentile}\")\n",
    "    print(f\"Weighted {n*100:0.0f}th percentile: {weighted_nth_percentile}\")\n",
    "    print(f\"Number of words above nth percentile: {num_words_above_percentile}\")\n",
    "    print(f\"Number of words above weighted nth percentile: {num_words_above_weighted_percentile}\")\n",
    "    print(f\"Examples within {tolerance_for_examples*100:.0f}% of nth percentile: {', '.join(list_of_n_examples) if list_of_n_examples else 'None'}\")\n",
    "    print(f\"Examples within {tolerance_for_examples*100:.0f}% of weighted nth percentile: {', '.join(list_of_n_examples_weighted) if list_of_n_examples_weighted else 'None'}\")\n",
    "\n",
    "    \n",
    "calc_percentile(0.95, french_word_counts)"
   ],
   "id": "815f51fe35470781",
   "outputs": [
    {
     "name": "stdout",
     "output_type": "stream",
     "text": [
      "95th percentile: 172\n",
      "Weighted 95th percentile: 237366\n",
      "Number of words above nth percentile: 1586\n",
      "Number of words above weighted nth percentile: 1\n",
      "Examples within 10% of nth percentile: future, naturelles, aquaculture, décrits, biorégion\n",
      "Examples within 10% of weighted nth percentile: de\n"
     ]
    }
   ],
   "execution_count": 121
  },
  {
   "metadata": {
    "ExecuteTime": {
     "end_time": "2025-01-29T16:24:17.775160Z",
     "start_time": "2025-01-29T16:24:17.644011Z"
    }
   },
   "cell_type": "code",
   "source": "calc_percentile(0.05, french_word_counts)",
   "id": "1f999cbe5b293247",
   "outputs": [
    {
     "name": "stdout",
     "output_type": "stream",
     "text": [
      "5th percentile: 1\n",
      "Weighted 5th percentile: 32\n",
      "Number of words above nth percentile: 31713\n",
      "Number of words above weighted nth percentile: 4942\n",
      "Examples within 10% of nth percentile: delphniapterus, marchent, sado, kenai, your\n",
      "Examples within 10% of weighted nth percentile: solide, retirées, numéros, souplesse, déclarations\n"
     ]
    }
   ],
   "execution_count": 122
  },
  {
   "metadata": {
    "ExecuteTime": {
     "end_time": "2025-01-29T16:24:21.594657Z",
     "start_time": "2025-01-29T16:24:21.457424Z"
    }
   },
   "cell_type": "code",
   "source": "calc_percentile(0.5, french_word_counts)",
   "id": "a82cab041fe31eaf",
   "outputs": [
    {
     "name": "stdout",
     "output_type": "stream",
     "text": [
      "50th percentile: 3\n",
      "Weighted 50th percentile: 5866\n",
      "Number of words above nth percentile: 17762\n",
      "Number of words above weighted nth percentile: 46\n",
      "Examples within 10% of nth percentile: normalité, préconisé, hyperplasie, hamley, présenteraient\n",
      "Examples within 10% of weighted nth percentile: se, ne, relevé, cette, stock\n"
     ]
    }
   ],
   "execution_count": 123
  },
  {
   "metadata": {},
   "cell_type": "code",
   "outputs": [],
   "execution_count": null,
   "source": "",
   "id": "f1d90422081c1a82"
  },
  {
   "metadata": {},
   "cell_type": "code",
   "outputs": [],
   "execution_count": null,
   "source": "",
   "id": "402ca6a08e471312"
  },
  {
   "metadata": {
    "ExecuteTime": {
     "end_time": "2025-01-29T17:47:10.980210Z",
     "start_time": "2025-01-29T17:47:10.964614Z"
    }
   },
   "cell_type": "code",
   "source": "",
   "id": "d662e748a878ce8e",
   "outputs": [],
   "execution_count": null
  },
  {
   "metadata": {
    "ExecuteTime": {
     "end_time": "2025-01-29T17:47:11.207829Z",
     "start_time": "2025-01-29T17:47:11.205561Z"
    }
   },
   "cell_type": "code",
   "source": "",
   "id": "d377c75bb9b6f71b",
   "outputs": [],
   "execution_count": null
  },
  {
   "metadata": {},
   "cell_type": "code",
   "outputs": [],
   "execution_count": null,
   "source": "",
   "id": "5c03712fe19c513f"
  },
  {
   "metadata": {},
   "cell_type": "code",
   "outputs": [],
   "execution_count": null,
   "source": "",
   "id": "da17c0a6bc8a47aa"
  },
  {
   "metadata": {},
   "cell_type": "code",
   "outputs": [],
   "execution_count": null,
   "source": "",
   "id": "55ddcd2b9a9635e4"
  },
  {
   "metadata": {},
   "cell_type": "code",
   "outputs": [],
   "execution_count": null,
   "source": "",
   "id": "40174dc35ec2fc35"
  },
  {
   "metadata": {},
   "cell_type": "code",
   "outputs": [],
   "source": "",
   "id": "7120e7465f02ff17",
   "execution_count": null
  },
  {
   "metadata": {},
   "cell_type": "code",
   "outputs": [],
   "execution_count": null,
   "source": "",
   "id": "3cf24683fd897b2b"
  },
  {
   "metadata": {},
   "cell_type": "code",
   "outputs": [],
   "execution_count": null,
   "source": "",
   "id": "b096fb5d9b2dd699"
  },
  {
   "metadata": {
    "ExecuteTime": {
     "end_time": "2025-01-28T18:45:09.427101Z",
     "start_time": "2025-01-28T18:45:09.423940Z"
    }
   },
   "cell_type": "code",
   "source": "",
   "id": "b92f2debd2a73216",
   "outputs": [],
   "execution_count": null
  }
 ],
 "metadata": {
  "kernelspec": {
   "display_name": "Python 3",
   "language": "python",
   "name": "python3"
  },
  "language_info": {
   "codemirror_mode": {
    "name": "ipython",
    "version": 2
   },
   "file_extension": ".py",
   "mimetype": "text/x-python",
   "name": "python",
   "nbconvert_exporter": "python",
   "pygments_lexer": "ipython2",
   "version": "2.7.6"
  }
 },
 "nbformat": 4,
 "nbformat_minor": 5
}
