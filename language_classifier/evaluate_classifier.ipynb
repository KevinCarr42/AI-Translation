{
 "cells": [
  {
   "cell_type": "code",
   "id": "initial_id",
   "metadata": {
    "collapsed": true,
    "ExecuteTime": {
     "end_time": "2025-01-31T14:24:25.141451Z",
     "start_time": "2025-01-31T14:24:24.619676Z"
    }
   },
   "source": [
    "import unicodedata\n",
    "import os\n",
    "import json\n",
    "import random\n",
    "import numpy as np\n",
    "import pandas as pd\n",
    "\n",
    "from language_classifier import LanguageClassifier\n",
    "    \n",
    "from IPython.display import display, HTML\n",
    "display(HTML(\"<style>.container { width:100% !important; }</style>\")) # jupyter notebook full-width display\n",
    "display(HTML(\"<style>.dataframe td { white-space: nowrap; }</style>\")) # no text wrapping\n",
    "\n",
    "# pandas formatting\n",
    "pd.set_option('display.float_format', '{:.2f}'.format)\n",
    "pd.set_option('display.max_columns', None)\n",
    "pd.set_option('display.max_colwidth', 500)\n",
    "\n",
    "with open(\"example_sentences.json\", \"r\", encoding=\"utf-8\") as f:\n",
    "    sentences = json.load(f)\n",
    "    "
   ],
   "outputs": [
    {
     "data": {
      "text/plain": [
       "<IPython.core.display.HTML object>"
      ],
      "text/html": [
       "<style>.container { width:100% !important; }</style>"
      ]
     },
     "metadata": {},
     "output_type": "display_data"
    },
    {
     "data": {
      "text/plain": [
       "<IPython.core.display.HTML object>"
      ],
      "text/html": [
       "<style>.dataframe td { white-space: nowrap; }</style>"
      ]
     },
     "metadata": {},
     "output_type": "display_data"
    }
   ],
   "execution_count": 1
  },
  {
   "metadata": {
    "ExecuteTime": {
     "end_time": "2025-01-31T14:24:25.160007Z",
     "start_time": "2025-01-31T14:24:25.155469Z"
    }
   },
   "cell_type": "code",
   "source": [
    "def evaluate_classifier(classifier, n_trials, tolerance_list):\n",
    "    results = []\n",
    "    \n",
    "    for tolerance in tolerance_list:\n",
    "        for k, v in sentences.items():\n",
    "            for sentence in random.sample(v, n_trials):\n",
    "                classification = classifier.classify(sentence, tolerance) \n",
    "                results.append([tolerance, k, classification, sentence])\n",
    "                \n",
    "    df = pd.DataFrame(results, columns=['tolerance', 'language', 'classification', 'sentence'])\n",
    "    \n",
    "    df['is_correct'] = df['classification'] == df['language']\n",
    "    df['fr_false_positive'] = (df['classification'] == 'fr') & (df['language'] == 'en')\n",
    "    df['fr_false_negative'] = (df['classification'] != 'fr') & (df['language'] == 'fr')\n",
    "    df['en_false_positive'] = (df['classification'] == 'en') & (df['language'] == 'fr')\n",
    "    df['en_false_negative'] = (df['classification'] != 'en') & (df['language'] == 'en')\n",
    "    \n",
    "    return df"
   ],
   "id": "ca64927e9115534b",
   "outputs": [],
   "execution_count": 2
  },
  {
   "metadata": {
    "ExecuteTime": {
     "end_time": "2025-01-31T14:24:25.789839Z",
     "start_time": "2025-01-31T14:24:25.783219Z"
    }
   },
   "cell_type": "code",
   "source": [
    "def create_stats(results_df):\n",
    "    grouped_df = results_df.groupby('tolerance').agg(\n",
    "        total_count=('is_correct', 'count'),  # count rows (not the same as results_df['total_count']\n",
    "        \n",
    "        # Correct and incorrect classifications\n",
    "        correct_count=('is_correct', 'sum'),\n",
    "        wrong_count=('is_correct', lambda x: (~x).sum()),  \n",
    "    \n",
    "        # False Positives & False Negatives for each language\n",
    "        fr_false_positive=('fr_false_positive', 'sum'),\n",
    "        fr_false_negative=('fr_false_negative', 'sum'),\n",
    "        en_false_positive=('en_false_positive', 'sum'),\n",
    "        en_false_negative=('en_false_negative', 'sum')\n",
    "    ).reset_index()\n",
    "    \n",
    "    # Avoid division by zero\n",
    "    valid_mask = grouped_df['total_count'] > 0\n",
    "    \n",
    "    # Accuracy (same for both languages)\n",
    "    grouped_df['accuracy'] = np.where(valid_mask, grouped_df['correct_count'] / grouped_df['total_count'], 0)\n",
    "    \n",
    "    # Precision & Recall for French\n",
    "    fr_precision_mask = (grouped_df['correct_count'] + grouped_df['fr_false_positive']) > 0\n",
    "    grouped_df['fr_precision'] = np.where(\n",
    "        fr_precision_mask, \n",
    "        grouped_df['correct_count'] / (grouped_df['correct_count'] + grouped_df['fr_false_positive']), \n",
    "        0\n",
    "    )\n",
    "    \n",
    "    fr_recall_mask = (grouped_df['correct_count'] + grouped_df['fr_false_negative']) > 0\n",
    "    grouped_df['fr_recall'] = np.where(\n",
    "        fr_recall_mask, \n",
    "        grouped_df['correct_count'] / (grouped_df['correct_count'] + grouped_df['fr_false_negative']), \n",
    "        0\n",
    "    )\n",
    "    \n",
    "    # Precision & Recall for English\n",
    "    en_precision_mask = (grouped_df['correct_count'] + grouped_df['en_false_positive']) > 0\n",
    "    grouped_df['en_precision'] = np.where(\n",
    "        en_precision_mask, \n",
    "        grouped_df['correct_count'] / (grouped_df['correct_count'] + grouped_df['en_false_positive']), \n",
    "        0\n",
    "    )\n",
    "    \n",
    "    en_recall_mask = (grouped_df['correct_count'] + grouped_df['en_false_negative']) > 0\n",
    "    grouped_df['en_recall'] = np.where(\n",
    "        en_recall_mask, \n",
    "        grouped_df['correct_count'] / (grouped_df['correct_count'] + grouped_df['en_false_negative']), \n",
    "        0\n",
    "    )\n",
    "    \n",
    "    # F1-scores\n",
    "    grouped_df['fr_f1_score'] = np.where(\n",
    "        (grouped_df['fr_precision'] + grouped_df['fr_recall']) > 0,\n",
    "        2 * (grouped_df['fr_precision'] * grouped_df['fr_recall']) / (grouped_df['fr_precision'] + grouped_df['fr_recall']),\n",
    "        0\n",
    "    )\n",
    "    \n",
    "    grouped_df['en_f1_score'] = np.where(\n",
    "        (grouped_df['en_precision'] + grouped_df['en_recall']) > 0,\n",
    "        2 * (grouped_df['en_precision'] * grouped_df['en_recall']) / (grouped_df['en_precision'] + grouped_df['en_recall']),\n",
    "        0\n",
    "    )\n",
    "    \n",
    "    grouped_df['stats_sum'] = grouped_df[['accuracy', 'fr_precision', 'fr_recall', 'en_precision', 'en_recall', 'fr_f1_score', 'en_f1_score']].sum(axis=1)\n",
    "    \n",
    "    return grouped_df\n"
   ],
   "id": "9d506a47bebb1e08",
   "outputs": [],
   "execution_count": 3
  },
  {
   "metadata": {
    "ExecuteTime": {
     "end_time": "2025-01-31T14:24:26.241085Z",
     "start_time": "2025-01-31T14:24:25.794469Z"
    }
   },
   "cell_type": "code",
   "source": [
    "n = 10000\n",
    "tolerances = [0, 1, 2, 3, 4, 5]\n",
    "\n",
    "clf = LanguageClassifier()\n",
    "\n",
    "df = evaluate_classifier(clf, n, tolerances)\n",
    "grouped_df = create_stats(df)\n",
    "\n",
    "grouped_df.T"
   ],
   "id": "1be26e8c02fff764",
   "outputs": [
    {
     "data": {
      "text/plain": [
       "                         0        1        2        3        4        5\n",
       "tolerance             0.00     1.00     2.00     3.00     4.00     5.00\n",
       "total_count       20000.00 20000.00 20000.00 20000.00 20000.00 20000.00\n",
       "correct_count     17522.00 18787.00 18772.00 18711.00 18627.00 18523.00\n",
       "wrong_count        2478.00  1213.00  1228.00  1289.00  1373.00  1477.00\n",
       "fr_false_positive    19.00    21.00    20.00    20.00    19.00    19.00\n",
       "fr_false_negative  2044.00  1090.00  1120.00  1182.00  1267.00  1371.00\n",
       "en_false_positive   760.00   850.00   957.00  1027.00  1113.00  1217.00\n",
       "en_false_negative   434.00   123.00   108.00   107.00   106.00   106.00\n",
       "accuracy              0.88     0.94     0.94     0.94     0.93     0.93\n",
       "fr_precision          1.00     1.00     1.00     1.00     1.00     1.00\n",
       "fr_recall             0.90     0.95     0.94     0.94     0.94     0.93\n",
       "en_precision          0.96     0.96     0.95     0.95     0.94     0.94\n",
       "en_recall             0.98     0.99     0.99     0.99     0.99     0.99\n",
       "fr_f1_score           0.94     0.97     0.97     0.97     0.97     0.96\n",
       "en_f1_score           0.97     0.97     0.97     0.97     0.97     0.97\n",
       "stats_sum             6.62     6.78     6.77     6.76     6.74     6.72"
      ],
      "text/html": [
       "<div>\n",
       "<style scoped>\n",
       "    .dataframe tbody tr th:only-of-type {\n",
       "        vertical-align: middle;\n",
       "    }\n",
       "\n",
       "    .dataframe tbody tr th {\n",
       "        vertical-align: top;\n",
       "    }\n",
       "\n",
       "    .dataframe thead th {\n",
       "        text-align: right;\n",
       "    }\n",
       "</style>\n",
       "<table border=\"1\" class=\"dataframe\">\n",
       "  <thead>\n",
       "    <tr style=\"text-align: right;\">\n",
       "      <th></th>\n",
       "      <th>0</th>\n",
       "      <th>1</th>\n",
       "      <th>2</th>\n",
       "      <th>3</th>\n",
       "      <th>4</th>\n",
       "      <th>5</th>\n",
       "    </tr>\n",
       "  </thead>\n",
       "  <tbody>\n",
       "    <tr>\n",
       "      <th>tolerance</th>\n",
       "      <td>0.00</td>\n",
       "      <td>1.00</td>\n",
       "      <td>2.00</td>\n",
       "      <td>3.00</td>\n",
       "      <td>4.00</td>\n",
       "      <td>5.00</td>\n",
       "    </tr>\n",
       "    <tr>\n",
       "      <th>total_count</th>\n",
       "      <td>20000.00</td>\n",
       "      <td>20000.00</td>\n",
       "      <td>20000.00</td>\n",
       "      <td>20000.00</td>\n",
       "      <td>20000.00</td>\n",
       "      <td>20000.00</td>\n",
       "    </tr>\n",
       "    <tr>\n",
       "      <th>correct_count</th>\n",
       "      <td>17522.00</td>\n",
       "      <td>18787.00</td>\n",
       "      <td>18772.00</td>\n",
       "      <td>18711.00</td>\n",
       "      <td>18627.00</td>\n",
       "      <td>18523.00</td>\n",
       "    </tr>\n",
       "    <tr>\n",
       "      <th>wrong_count</th>\n",
       "      <td>2478.00</td>\n",
       "      <td>1213.00</td>\n",
       "      <td>1228.00</td>\n",
       "      <td>1289.00</td>\n",
       "      <td>1373.00</td>\n",
       "      <td>1477.00</td>\n",
       "    </tr>\n",
       "    <tr>\n",
       "      <th>fr_false_positive</th>\n",
       "      <td>19.00</td>\n",
       "      <td>21.00</td>\n",
       "      <td>20.00</td>\n",
       "      <td>20.00</td>\n",
       "      <td>19.00</td>\n",
       "      <td>19.00</td>\n",
       "    </tr>\n",
       "    <tr>\n",
       "      <th>fr_false_negative</th>\n",
       "      <td>2044.00</td>\n",
       "      <td>1090.00</td>\n",
       "      <td>1120.00</td>\n",
       "      <td>1182.00</td>\n",
       "      <td>1267.00</td>\n",
       "      <td>1371.00</td>\n",
       "    </tr>\n",
       "    <tr>\n",
       "      <th>en_false_positive</th>\n",
       "      <td>760.00</td>\n",
       "      <td>850.00</td>\n",
       "      <td>957.00</td>\n",
       "      <td>1027.00</td>\n",
       "      <td>1113.00</td>\n",
       "      <td>1217.00</td>\n",
       "    </tr>\n",
       "    <tr>\n",
       "      <th>en_false_negative</th>\n",
       "      <td>434.00</td>\n",
       "      <td>123.00</td>\n",
       "      <td>108.00</td>\n",
       "      <td>107.00</td>\n",
       "      <td>106.00</td>\n",
       "      <td>106.00</td>\n",
       "    </tr>\n",
       "    <tr>\n",
       "      <th>accuracy</th>\n",
       "      <td>0.88</td>\n",
       "      <td>0.94</td>\n",
       "      <td>0.94</td>\n",
       "      <td>0.94</td>\n",
       "      <td>0.93</td>\n",
       "      <td>0.93</td>\n",
       "    </tr>\n",
       "    <tr>\n",
       "      <th>fr_precision</th>\n",
       "      <td>1.00</td>\n",
       "      <td>1.00</td>\n",
       "      <td>1.00</td>\n",
       "      <td>1.00</td>\n",
       "      <td>1.00</td>\n",
       "      <td>1.00</td>\n",
       "    </tr>\n",
       "    <tr>\n",
       "      <th>fr_recall</th>\n",
       "      <td>0.90</td>\n",
       "      <td>0.95</td>\n",
       "      <td>0.94</td>\n",
       "      <td>0.94</td>\n",
       "      <td>0.94</td>\n",
       "      <td>0.93</td>\n",
       "    </tr>\n",
       "    <tr>\n",
       "      <th>en_precision</th>\n",
       "      <td>0.96</td>\n",
       "      <td>0.96</td>\n",
       "      <td>0.95</td>\n",
       "      <td>0.95</td>\n",
       "      <td>0.94</td>\n",
       "      <td>0.94</td>\n",
       "    </tr>\n",
       "    <tr>\n",
       "      <th>en_recall</th>\n",
       "      <td>0.98</td>\n",
       "      <td>0.99</td>\n",
       "      <td>0.99</td>\n",
       "      <td>0.99</td>\n",
       "      <td>0.99</td>\n",
       "      <td>0.99</td>\n",
       "    </tr>\n",
       "    <tr>\n",
       "      <th>fr_f1_score</th>\n",
       "      <td>0.94</td>\n",
       "      <td>0.97</td>\n",
       "      <td>0.97</td>\n",
       "      <td>0.97</td>\n",
       "      <td>0.97</td>\n",
       "      <td>0.96</td>\n",
       "    </tr>\n",
       "    <tr>\n",
       "      <th>en_f1_score</th>\n",
       "      <td>0.97</td>\n",
       "      <td>0.97</td>\n",
       "      <td>0.97</td>\n",
       "      <td>0.97</td>\n",
       "      <td>0.97</td>\n",
       "      <td>0.97</td>\n",
       "    </tr>\n",
       "    <tr>\n",
       "      <th>stats_sum</th>\n",
       "      <td>6.62</td>\n",
       "      <td>6.78</td>\n",
       "      <td>6.77</td>\n",
       "      <td>6.76</td>\n",
       "      <td>6.74</td>\n",
       "      <td>6.72</td>\n",
       "    </tr>\n",
       "  </tbody>\n",
       "</table>\n",
       "</div>"
      ]
     },
     "execution_count": 4,
     "metadata": {},
     "output_type": "execute_result"
    }
   ],
   "execution_count": 4
  },
  {
   "metadata": {
    "ExecuteTime": {
     "end_time": "2025-01-31T14:24:26.258117Z",
     "start_time": "2025-01-31T14:24:26.252741Z"
    }
   },
   "cell_type": "code",
   "source": "# looks like 1 is the optimal tolerance",
   "id": "4e7fcf454b68c8d8",
   "outputs": [],
   "execution_count": 5
  },
  {
   "metadata": {
    "ExecuteTime": {
     "end_time": "2025-01-31T14:24:26.293858Z",
     "start_time": "2025-01-31T14:24:26.284738Z"
    }
   },
   "cell_type": "code",
   "source": [
    "# should avoiding false negatives be priority? (exclude more to get better quality)\n",
    "#   tolerance of 1 still looks good\n",
    "grouped_df[['fr_recall', 'en_recall']]"
   ],
   "id": "a9e6f59d2902ce1",
   "outputs": [
    {
     "data": {
      "text/plain": [
       "   fr_recall  en_recall\n",
       "0       0.90       0.98\n",
       "1       0.95       0.99\n",
       "2       0.94       0.99\n",
       "3       0.94       0.99\n",
       "4       0.94       0.99\n",
       "5       0.93       0.99"
      ],
      "text/html": [
       "<div>\n",
       "<style scoped>\n",
       "    .dataframe tbody tr th:only-of-type {\n",
       "        vertical-align: middle;\n",
       "    }\n",
       "\n",
       "    .dataframe tbody tr th {\n",
       "        vertical-align: top;\n",
       "    }\n",
       "\n",
       "    .dataframe thead th {\n",
       "        text-align: right;\n",
       "    }\n",
       "</style>\n",
       "<table border=\"1\" class=\"dataframe\">\n",
       "  <thead>\n",
       "    <tr style=\"text-align: right;\">\n",
       "      <th></th>\n",
       "      <th>fr_recall</th>\n",
       "      <th>en_recall</th>\n",
       "    </tr>\n",
       "  </thead>\n",
       "  <tbody>\n",
       "    <tr>\n",
       "      <th>0</th>\n",
       "      <td>0.90</td>\n",
       "      <td>0.98</td>\n",
       "    </tr>\n",
       "    <tr>\n",
       "      <th>1</th>\n",
       "      <td>0.95</td>\n",
       "      <td>0.99</td>\n",
       "    </tr>\n",
       "    <tr>\n",
       "      <th>2</th>\n",
       "      <td>0.94</td>\n",
       "      <td>0.99</td>\n",
       "    </tr>\n",
       "    <tr>\n",
       "      <th>3</th>\n",
       "      <td>0.94</td>\n",
       "      <td>0.99</td>\n",
       "    </tr>\n",
       "    <tr>\n",
       "      <th>4</th>\n",
       "      <td>0.94</td>\n",
       "      <td>0.99</td>\n",
       "    </tr>\n",
       "    <tr>\n",
       "      <th>5</th>\n",
       "      <td>0.93</td>\n",
       "      <td>0.99</td>\n",
       "    </tr>\n",
       "  </tbody>\n",
       "</table>\n",
       "</div>"
      ]
     },
     "execution_count": 6,
     "metadata": {},
     "output_type": "execute_result"
    }
   ],
   "execution_count": 6
  },
  {
   "metadata": {},
   "cell_type": "markdown",
   "source": "# let's take a look at some mistakes",
   "id": "75f914876c78b014"
  },
  {
   "metadata": {
    "ExecuteTime": {
     "end_time": "2025-01-31T14:24:26.372643Z",
     "start_time": "2025-01-31T14:24:26.363690Z"
    }
   },
   "cell_type": "code",
   "source": [
    "# first, let's drop everything that is not tolerance == 1\n",
    "\n",
    "df = df[df.tolerance == 1].reset_index(drop=True)"
   ],
   "id": "3655fa1b48f60c71",
   "outputs": [],
   "execution_count": 7
  },
  {
   "metadata": {
    "ExecuteTime": {
     "end_time": "2025-01-31T14:24:26.518072Z",
     "start_time": "2025-01-31T14:24:26.508370Z"
    }
   },
   "cell_type": "code",
   "source": [
    "# how many errors vs correct?\n",
    "(\n",
    "    df.loc[~df.is_correct, ['language', 'classification', 'sentence']].shape[0], \n",
    "    df.loc[df.is_correct, ['language', 'classification', 'sentence']].shape[0],\n",
    "    df.loc[~df.is_correct, ['language', 'classification', 'sentence']].shape[0] / df.loc[df.is_correct, ['language', 'classification', 'sentence']].shape[0]\n",
    " )"
   ],
   "id": "697e7678d16a3e1f",
   "outputs": [
    {
     "data": {
      "text/plain": [
       "(1213, 18787, 0.06456592324479693)"
      ]
     },
     "execution_count": 8,
     "metadata": {},
     "output_type": "execute_result"
    }
   ],
   "execution_count": 8
  },
  {
   "metadata": {
    "ExecuteTime": {
     "end_time": "2025-01-31T14:24:26.611728Z",
     "start_time": "2025-01-31T14:24:26.604266Z"
    }
   },
   "cell_type": "code",
   "source": "df.loc[~df.is_correct, ['language', 'classification', 'sentence']]",
   "id": "72bb5d1e39a3459d",
   "outputs": [
    {
     "data": {
      "text/plain": [
       "      language classification  \\\n",
       "185         en             fr   \n",
       "197         en          mixed   \n",
       "230         en        unknown   \n",
       "379         en        unknown   \n",
       "572         en             fr   \n",
       "...        ...            ...   \n",
       "19925       fr             en   \n",
       "19930       fr             en   \n",
       "19961       fr             en   \n",
       "19975       fr             en   \n",
       "19990       fr             en   \n",
       "\n",
       "                                                                                                                                             sentence  \n",
       "185                                                       évaluation de létat des stocks de homard homarus americanus de la gaspésie zph et québec en  \n",
       "197                                                                      a new version of depomod newdepomod sams has recently been developed version  \n",
       "230                                                                                                                             c at sydney figure ai  \n",
       "379                                                                                                                    wood and pulp plantations none  \n",
       "572                 application de la procédure de gestion de la morue charbonnière anoplopoma fimbria de la colombiebritannique pour lannée de pêche  \n",
       "...                                                                                                                                               ...  \n",
       "19925                                                                            evaluating dewatering approaches to protect larval pacific lamprey u  \n",
       "19930  reductions in distribution photosynthesis and productivity of eelgrass zostera marina associated with oyster crassostrea virginica aquaculture  \n",
       "19961                                                                           changing estuaries and impacts on juvenile salmon a systematic review  \n",
       "19975                                                                           densovirus associated with seastar wasting disease and mass mortality  \n",
       "19990                                                                                                eelgrass fairy rings sulfide as inhibiting agent  \n",
       "\n",
       "[1213 rows x 3 columns]"
      ],
      "text/html": [
       "<div>\n",
       "<style scoped>\n",
       "    .dataframe tbody tr th:only-of-type {\n",
       "        vertical-align: middle;\n",
       "    }\n",
       "\n",
       "    .dataframe tbody tr th {\n",
       "        vertical-align: top;\n",
       "    }\n",
       "\n",
       "    .dataframe thead th {\n",
       "        text-align: right;\n",
       "    }\n",
       "</style>\n",
       "<table border=\"1\" class=\"dataframe\">\n",
       "  <thead>\n",
       "    <tr style=\"text-align: right;\">\n",
       "      <th></th>\n",
       "      <th>language</th>\n",
       "      <th>classification</th>\n",
       "      <th>sentence</th>\n",
       "    </tr>\n",
       "  </thead>\n",
       "  <tbody>\n",
       "    <tr>\n",
       "      <th>185</th>\n",
       "      <td>en</td>\n",
       "      <td>fr</td>\n",
       "      <td>évaluation de létat des stocks de homard homarus americanus de la gaspésie zph et québec en</td>\n",
       "    </tr>\n",
       "    <tr>\n",
       "      <th>197</th>\n",
       "      <td>en</td>\n",
       "      <td>mixed</td>\n",
       "      <td>a new version of depomod newdepomod sams has recently been developed version</td>\n",
       "    </tr>\n",
       "    <tr>\n",
       "      <th>230</th>\n",
       "      <td>en</td>\n",
       "      <td>unknown</td>\n",
       "      <td>c at sydney figure ai</td>\n",
       "    </tr>\n",
       "    <tr>\n",
       "      <th>379</th>\n",
       "      <td>en</td>\n",
       "      <td>unknown</td>\n",
       "      <td>wood and pulp plantations none</td>\n",
       "    </tr>\n",
       "    <tr>\n",
       "      <th>572</th>\n",
       "      <td>en</td>\n",
       "      <td>fr</td>\n",
       "      <td>application de la procédure de gestion de la morue charbonnière anoplopoma fimbria de la colombiebritannique pour lannée de pêche</td>\n",
       "    </tr>\n",
       "    <tr>\n",
       "      <th>...</th>\n",
       "      <td>...</td>\n",
       "      <td>...</td>\n",
       "      <td>...</td>\n",
       "    </tr>\n",
       "    <tr>\n",
       "      <th>19925</th>\n",
       "      <td>fr</td>\n",
       "      <td>en</td>\n",
       "      <td>evaluating dewatering approaches to protect larval pacific lamprey u</td>\n",
       "    </tr>\n",
       "    <tr>\n",
       "      <th>19930</th>\n",
       "      <td>fr</td>\n",
       "      <td>en</td>\n",
       "      <td>reductions in distribution photosynthesis and productivity of eelgrass zostera marina associated with oyster crassostrea virginica aquaculture</td>\n",
       "    </tr>\n",
       "    <tr>\n",
       "      <th>19961</th>\n",
       "      <td>fr</td>\n",
       "      <td>en</td>\n",
       "      <td>changing estuaries and impacts on juvenile salmon a systematic review</td>\n",
       "    </tr>\n",
       "    <tr>\n",
       "      <th>19975</th>\n",
       "      <td>fr</td>\n",
       "      <td>en</td>\n",
       "      <td>densovirus associated with seastar wasting disease and mass mortality</td>\n",
       "    </tr>\n",
       "    <tr>\n",
       "      <th>19990</th>\n",
       "      <td>fr</td>\n",
       "      <td>en</td>\n",
       "      <td>eelgrass fairy rings sulfide as inhibiting agent</td>\n",
       "    </tr>\n",
       "  </tbody>\n",
       "</table>\n",
       "<p>1213 rows × 3 columns</p>\n",
       "</div>"
      ]
     },
     "execution_count": 9,
     "metadata": {},
     "output_type": "execute_result"
    }
   ],
   "execution_count": 9
  },
  {
   "metadata": {
    "ExecuteTime": {
     "end_time": "2025-01-31T14:24:26.726506Z",
     "start_time": "2025-01-31T14:24:26.720413Z"
    }
   },
   "cell_type": "code",
   "source": [
    "# 'fr' misclassified as en is by far the most common error\n",
    "df.loc[~df.is_correct, ['classification']].value_counts()"
   ],
   "id": "8b72ab02a6a6643c",
   "outputs": [
    {
     "data": {
      "text/plain": [
       "classification\n",
       "en                850\n",
       "unknown           241\n",
       "mixed             101\n",
       "fr                 21\n",
       "Name: count, dtype: int64"
      ]
     },
     "execution_count": 10,
     "metadata": {},
     "output_type": "execute_result"
    }
   ],
   "execution_count": 10
  },
  {
   "metadata": {
    "ExecuteTime": {
     "end_time": "2025-01-31T14:24:26.872439Z",
     "start_time": "2025-01-31T14:24:26.853944Z"
    }
   },
   "cell_type": "code",
   "source": "df.loc[(~df.is_correct) & (df.classification == 'en')].sample(20)",
   "id": "e7bd145078f5f01e",
   "outputs": [
    {
     "data": {
      "text/plain": [
       "       tolerance language classification  \\\n",
       "19684          1       fr             en   \n",
       "15603          1       fr             en   \n",
       "18894          1       fr             en   \n",
       "18795          1       fr             en   \n",
       "18852          1       fr             en   \n",
       "16930          1       fr             en   \n",
       "12334          1       fr             en   \n",
       "15648          1       fr             en   \n",
       "15302          1       fr             en   \n",
       "12745          1       fr             en   \n",
       "13811          1       fr             en   \n",
       "10334          1       fr             en   \n",
       "18539          1       fr             en   \n",
       "18957          1       fr             en   \n",
       "18844          1       fr             en   \n",
       "17929          1       fr             en   \n",
       "11619          1       fr             en   \n",
       "16142          1       fr             en   \n",
       "19171          1       fr             en   \n",
       "18510          1       fr             en   \n",
       "\n",
       "                                                                                                                                                sentence  \\\n",
       "19684                                                                                                            cambridge university press cambridge uk   \n",
       "15603                          oil spills and marine mammals in british columbia canada development and application of a risk based conceptual framework   \n",
       "18894                                                                               morphometry and gonad maturity of male snow crab chionoecetes opilio   \n",
       "18795                                                                                                       caret classification and regression training   \n",
       "18852                       development of a monitoring program for tracking the recovery of endangered freshwater mussels in the sydenham river ontario   \n",
       "16930                                                        summary of the british columbia sablefish anoplopoma fimbria research and assessment survey   \n",
       "12334                                                     the nestucca oil spill preliminary evaluation of impacts on the west coast of vancouver island   \n",
       "15648                                          hydrogen peroxide proposed registration document prd pesticide management regulatory agency health canada   \n",
       "15302   dynamics of snow crab chionoecetes opilio movement and migration along the newfoundland and labrador and eastern barents sea continental shelves   \n",
       "12745                                                                   reproductive success of jack and fullsize males in a wild coho salmon population   \n",
       "13811                                                                             sperm whales social evolution in the ocean university of chicago press   \n",
       "10334                                                              spatiotemporal analysis provides solutions to mitigate bycatch of southern gulf of st   \n",
       "18539                                                                     scallop production areas in the bay of fundy stock status for and forecast for   \n",
       "18957                                                                                                                     la vitesse du vent zhang et al   \n",
       "18844     relationships of sea ice extent and bottom water temperature with abundance of snow crab chionoecetes opilio on the newfoundlandlabrador shelf   \n",
       "17929                                       biomass estimates for sea cucumber apostichopus californicus as determined through surveys conducted from to   \n",
       "11619                                                                                stock assessment framework for the british columbia geoduck fishery   \n",
       "16142                                                                                                                                 a et beazley et al   \n",
       "19171  physical containment approaches to mitigate potential escape of europeanorigin atlantic salmon in south coast newfoundland aquaculture operations   \n",
       "18510                                                                                           committee on the status of endangered wildlife in canada   \n",
       "\n",
       "       is_correct  fr_false_positive  fr_false_negative  en_false_positive  \\\n",
       "19684       False              False               True               True   \n",
       "15603       False              False               True               True   \n",
       "18894       False              False               True               True   \n",
       "18795       False              False               True               True   \n",
       "18852       False              False               True               True   \n",
       "16930       False              False               True               True   \n",
       "12334       False              False               True               True   \n",
       "15648       False              False               True               True   \n",
       "15302       False              False               True               True   \n",
       "12745       False              False               True               True   \n",
       "13811       False              False               True               True   \n",
       "10334       False              False               True               True   \n",
       "18539       False              False               True               True   \n",
       "18957       False              False               True               True   \n",
       "18844       False              False               True               True   \n",
       "17929       False              False               True               True   \n",
       "11619       False              False               True               True   \n",
       "16142       False              False               True               True   \n",
       "19171       False              False               True               True   \n",
       "18510       False              False               True               True   \n",
       "\n",
       "       en_false_negative  \n",
       "19684              False  \n",
       "15603              False  \n",
       "18894              False  \n",
       "18795              False  \n",
       "18852              False  \n",
       "16930              False  \n",
       "12334              False  \n",
       "15648              False  \n",
       "15302              False  \n",
       "12745              False  \n",
       "13811              False  \n",
       "10334              False  \n",
       "18539              False  \n",
       "18957              False  \n",
       "18844              False  \n",
       "17929              False  \n",
       "11619              False  \n",
       "16142              False  \n",
       "19171              False  \n",
       "18510              False  "
      ],
      "text/html": [
       "<div>\n",
       "<style scoped>\n",
       "    .dataframe tbody tr th:only-of-type {\n",
       "        vertical-align: middle;\n",
       "    }\n",
       "\n",
       "    .dataframe tbody tr th {\n",
       "        vertical-align: top;\n",
       "    }\n",
       "\n",
       "    .dataframe thead th {\n",
       "        text-align: right;\n",
       "    }\n",
       "</style>\n",
       "<table border=\"1\" class=\"dataframe\">\n",
       "  <thead>\n",
       "    <tr style=\"text-align: right;\">\n",
       "      <th></th>\n",
       "      <th>tolerance</th>\n",
       "      <th>language</th>\n",
       "      <th>classification</th>\n",
       "      <th>sentence</th>\n",
       "      <th>is_correct</th>\n",
       "      <th>fr_false_positive</th>\n",
       "      <th>fr_false_negative</th>\n",
       "      <th>en_false_positive</th>\n",
       "      <th>en_false_negative</th>\n",
       "    </tr>\n",
       "  </thead>\n",
       "  <tbody>\n",
       "    <tr>\n",
       "      <th>19684</th>\n",
       "      <td>1</td>\n",
       "      <td>fr</td>\n",
       "      <td>en</td>\n",
       "      <td>cambridge university press cambridge uk</td>\n",
       "      <td>False</td>\n",
       "      <td>False</td>\n",
       "      <td>True</td>\n",
       "      <td>True</td>\n",
       "      <td>False</td>\n",
       "    </tr>\n",
       "    <tr>\n",
       "      <th>15603</th>\n",
       "      <td>1</td>\n",
       "      <td>fr</td>\n",
       "      <td>en</td>\n",
       "      <td>oil spills and marine mammals in british columbia canada development and application of a risk based conceptual framework</td>\n",
       "      <td>False</td>\n",
       "      <td>False</td>\n",
       "      <td>True</td>\n",
       "      <td>True</td>\n",
       "      <td>False</td>\n",
       "    </tr>\n",
       "    <tr>\n",
       "      <th>18894</th>\n",
       "      <td>1</td>\n",
       "      <td>fr</td>\n",
       "      <td>en</td>\n",
       "      <td>morphometry and gonad maturity of male snow crab chionoecetes opilio</td>\n",
       "      <td>False</td>\n",
       "      <td>False</td>\n",
       "      <td>True</td>\n",
       "      <td>True</td>\n",
       "      <td>False</td>\n",
       "    </tr>\n",
       "    <tr>\n",
       "      <th>18795</th>\n",
       "      <td>1</td>\n",
       "      <td>fr</td>\n",
       "      <td>en</td>\n",
       "      <td>caret classification and regression training</td>\n",
       "      <td>False</td>\n",
       "      <td>False</td>\n",
       "      <td>True</td>\n",
       "      <td>True</td>\n",
       "      <td>False</td>\n",
       "    </tr>\n",
       "    <tr>\n",
       "      <th>18852</th>\n",
       "      <td>1</td>\n",
       "      <td>fr</td>\n",
       "      <td>en</td>\n",
       "      <td>development of a monitoring program for tracking the recovery of endangered freshwater mussels in the sydenham river ontario</td>\n",
       "      <td>False</td>\n",
       "      <td>False</td>\n",
       "      <td>True</td>\n",
       "      <td>True</td>\n",
       "      <td>False</td>\n",
       "    </tr>\n",
       "    <tr>\n",
       "      <th>16930</th>\n",
       "      <td>1</td>\n",
       "      <td>fr</td>\n",
       "      <td>en</td>\n",
       "      <td>summary of the british columbia sablefish anoplopoma fimbria research and assessment survey</td>\n",
       "      <td>False</td>\n",
       "      <td>False</td>\n",
       "      <td>True</td>\n",
       "      <td>True</td>\n",
       "      <td>False</td>\n",
       "    </tr>\n",
       "    <tr>\n",
       "      <th>12334</th>\n",
       "      <td>1</td>\n",
       "      <td>fr</td>\n",
       "      <td>en</td>\n",
       "      <td>the nestucca oil spill preliminary evaluation of impacts on the west coast of vancouver island</td>\n",
       "      <td>False</td>\n",
       "      <td>False</td>\n",
       "      <td>True</td>\n",
       "      <td>True</td>\n",
       "      <td>False</td>\n",
       "    </tr>\n",
       "    <tr>\n",
       "      <th>15648</th>\n",
       "      <td>1</td>\n",
       "      <td>fr</td>\n",
       "      <td>en</td>\n",
       "      <td>hydrogen peroxide proposed registration document prd pesticide management regulatory agency health canada</td>\n",
       "      <td>False</td>\n",
       "      <td>False</td>\n",
       "      <td>True</td>\n",
       "      <td>True</td>\n",
       "      <td>False</td>\n",
       "    </tr>\n",
       "    <tr>\n",
       "      <th>15302</th>\n",
       "      <td>1</td>\n",
       "      <td>fr</td>\n",
       "      <td>en</td>\n",
       "      <td>dynamics of snow crab chionoecetes opilio movement and migration along the newfoundland and labrador and eastern barents sea continental shelves</td>\n",
       "      <td>False</td>\n",
       "      <td>False</td>\n",
       "      <td>True</td>\n",
       "      <td>True</td>\n",
       "      <td>False</td>\n",
       "    </tr>\n",
       "    <tr>\n",
       "      <th>12745</th>\n",
       "      <td>1</td>\n",
       "      <td>fr</td>\n",
       "      <td>en</td>\n",
       "      <td>reproductive success of jack and fullsize males in a wild coho salmon population</td>\n",
       "      <td>False</td>\n",
       "      <td>False</td>\n",
       "      <td>True</td>\n",
       "      <td>True</td>\n",
       "      <td>False</td>\n",
       "    </tr>\n",
       "    <tr>\n",
       "      <th>13811</th>\n",
       "      <td>1</td>\n",
       "      <td>fr</td>\n",
       "      <td>en</td>\n",
       "      <td>sperm whales social evolution in the ocean university of chicago press</td>\n",
       "      <td>False</td>\n",
       "      <td>False</td>\n",
       "      <td>True</td>\n",
       "      <td>True</td>\n",
       "      <td>False</td>\n",
       "    </tr>\n",
       "    <tr>\n",
       "      <th>10334</th>\n",
       "      <td>1</td>\n",
       "      <td>fr</td>\n",
       "      <td>en</td>\n",
       "      <td>spatiotemporal analysis provides solutions to mitigate bycatch of southern gulf of st</td>\n",
       "      <td>False</td>\n",
       "      <td>False</td>\n",
       "      <td>True</td>\n",
       "      <td>True</td>\n",
       "      <td>False</td>\n",
       "    </tr>\n",
       "    <tr>\n",
       "      <th>18539</th>\n",
       "      <td>1</td>\n",
       "      <td>fr</td>\n",
       "      <td>en</td>\n",
       "      <td>scallop production areas in the bay of fundy stock status for and forecast for</td>\n",
       "      <td>False</td>\n",
       "      <td>False</td>\n",
       "      <td>True</td>\n",
       "      <td>True</td>\n",
       "      <td>False</td>\n",
       "    </tr>\n",
       "    <tr>\n",
       "      <th>18957</th>\n",
       "      <td>1</td>\n",
       "      <td>fr</td>\n",
       "      <td>en</td>\n",
       "      <td>la vitesse du vent zhang et al</td>\n",
       "      <td>False</td>\n",
       "      <td>False</td>\n",
       "      <td>True</td>\n",
       "      <td>True</td>\n",
       "      <td>False</td>\n",
       "    </tr>\n",
       "    <tr>\n",
       "      <th>18844</th>\n",
       "      <td>1</td>\n",
       "      <td>fr</td>\n",
       "      <td>en</td>\n",
       "      <td>relationships of sea ice extent and bottom water temperature with abundance of snow crab chionoecetes opilio on the newfoundlandlabrador shelf</td>\n",
       "      <td>False</td>\n",
       "      <td>False</td>\n",
       "      <td>True</td>\n",
       "      <td>True</td>\n",
       "      <td>False</td>\n",
       "    </tr>\n",
       "    <tr>\n",
       "      <th>17929</th>\n",
       "      <td>1</td>\n",
       "      <td>fr</td>\n",
       "      <td>en</td>\n",
       "      <td>biomass estimates for sea cucumber apostichopus californicus as determined through surveys conducted from to</td>\n",
       "      <td>False</td>\n",
       "      <td>False</td>\n",
       "      <td>True</td>\n",
       "      <td>True</td>\n",
       "      <td>False</td>\n",
       "    </tr>\n",
       "    <tr>\n",
       "      <th>11619</th>\n",
       "      <td>1</td>\n",
       "      <td>fr</td>\n",
       "      <td>en</td>\n",
       "      <td>stock assessment framework for the british columbia geoduck fishery</td>\n",
       "      <td>False</td>\n",
       "      <td>False</td>\n",
       "      <td>True</td>\n",
       "      <td>True</td>\n",
       "      <td>False</td>\n",
       "    </tr>\n",
       "    <tr>\n",
       "      <th>16142</th>\n",
       "      <td>1</td>\n",
       "      <td>fr</td>\n",
       "      <td>en</td>\n",
       "      <td>a et beazley et al</td>\n",
       "      <td>False</td>\n",
       "      <td>False</td>\n",
       "      <td>True</td>\n",
       "      <td>True</td>\n",
       "      <td>False</td>\n",
       "    </tr>\n",
       "    <tr>\n",
       "      <th>19171</th>\n",
       "      <td>1</td>\n",
       "      <td>fr</td>\n",
       "      <td>en</td>\n",
       "      <td>physical containment approaches to mitigate potential escape of europeanorigin atlantic salmon in south coast newfoundland aquaculture operations</td>\n",
       "      <td>False</td>\n",
       "      <td>False</td>\n",
       "      <td>True</td>\n",
       "      <td>True</td>\n",
       "      <td>False</td>\n",
       "    </tr>\n",
       "    <tr>\n",
       "      <th>18510</th>\n",
       "      <td>1</td>\n",
       "      <td>fr</td>\n",
       "      <td>en</td>\n",
       "      <td>committee on the status of endangered wildlife in canada</td>\n",
       "      <td>False</td>\n",
       "      <td>False</td>\n",
       "      <td>True</td>\n",
       "      <td>True</td>\n",
       "      <td>False</td>\n",
       "    </tr>\n",
       "  </tbody>\n",
       "</table>\n",
       "</div>"
      ]
     },
     "execution_count": 11,
     "metadata": {},
     "output_type": "execute_result"
    }
   ],
   "execution_count": 11
  },
  {
   "metadata": {},
   "cell_type": "markdown",
   "source": "# remove incorrect words from classifiers",
   "id": "90acddf00d3b3654"
  },
  {
   "metadata": {
    "ExecuteTime": {
     "end_time": "2025-01-31T14:37:54.942010Z",
     "start_time": "2025-01-31T14:37:54.854285Z"
    }
   },
   "cell_type": "code",
   "source": [
    "with open('scrabble_dictionaries/en_scrabble.txt', 'r') as f:\n",
    "    en_scrabble = [line.lower().strip() for line in f]\n",
    "    \n",
    "with open('scrabble_dictionaries/fr_scrabble.txt', 'r') as f:\n",
    "    fr_scrabble = [line.lower().strip() for line in f]"
   ],
   "id": "a8f0d9f162dfa0e2",
   "outputs": [],
   "execution_count": 36
  },
  {
   "metadata": {
    "ExecuteTime": {
     "end_time": "2025-01-31T14:37:59.729125Z",
     "start_time": "2025-01-31T14:37:57.286284Z"
    }
   },
   "cell_type": "code",
   "source": [
    "english_words = clf.english_words\n",
    "french_words = clf.french_words\n",
    "\n",
    "maybe_not_english = []\n",
    "maybe_not_french = []\n",
    "\n",
    "def remove_accents(word):\n",
    "    return ''.join(c for c in unicodedata.normalize('NFKD', word) if not unicodedata.combining(c))\n",
    "\n",
    "for word in english_words:\n",
    "    if word not in en_scrabble:\n",
    "        maybe_not_english.append(word)\n",
    "        \n",
    "for word in french_words:\n",
    "    word = remove_accents(word)\n",
    "    if word not in fr_scrabble:\n",
    "        maybe_not_french.append(word)"
   ],
   "id": "df76574e5cc75bfa",
   "outputs": [],
   "execution_count": 37
  },
  {
   "metadata": {
    "ExecuteTime": {
     "end_time": "2025-01-31T14:37:59.738803Z",
     "start_time": "2025-01-31T14:37:59.729125Z"
    }
   },
   "cell_type": "code",
   "source": [
    "# these seem reasonable to delete\n",
    "len(maybe_not_english), len(maybe_not_french)"
   ],
   "id": "41974f05ea317993",
   "outputs": [
    {
     "data": {
      "text/plain": [
       "(83, 43)"
      ]
     },
     "execution_count": 38,
     "metadata": {},
     "output_type": "execute_result"
    }
   ],
   "execution_count": 38
  },
  {
   "metadata": {
    "ExecuteTime": {
     "end_time": "2025-01-31T14:40:02.607244Z",
     "start_time": "2025-01-31T14:40:02.593754Z"
    }
   },
   "cell_type": "code",
   "source": [
    "english_words = [x for x in english_words if x not in maybe_not_english]\n",
    "french_words = [x for x in french_words if x not in maybe_not_french]"
   ],
   "id": "8000674ac10ead4",
   "outputs": [],
   "execution_count": 41
  },
  {
   "metadata": {
    "ExecuteTime": {
     "end_time": "2025-01-31T14:40:24.980966Z",
     "start_time": "2025-01-31T14:40:24.971632Z"
    }
   },
   "cell_type": "code",
   "source": [
    "# final word lists\n",
    "len(english_words), len(french_words) "
   ],
   "id": "8741b8d36d049fd9",
   "outputs": [
    {
     "data": {
      "text/plain": [
       "(1448, 1484)"
      ]
     },
     "execution_count": 42,
     "metadata": {},
     "output_type": "execute_result"
    }
   ],
   "execution_count": 42
  },
  {
   "metadata": {},
   "cell_type": "markdown",
   "source": "# remove bad sentences from sentences",
   "id": "3afecce1279b39d7"
  },
  {
   "metadata": {
    "ExecuteTime": {
     "end_time": "2025-01-31T14:42:46.427771Z",
     "start_time": "2025-01-31T14:42:46.417457Z"
    }
   },
   "cell_type": "code",
   "source": [
    "french_example_sentences = sentences['fr']\n",
    "english_example_sentences = sentences['en']\n",
    "\n",
    "len(french_example_sentences), len(english_example_sentences) "
   ],
   "id": "e66170385d01a4e5",
   "outputs": [],
   "execution_count": 44
  },
  {
   "metadata": {
    "ExecuteTime": {
     "end_time": "2025-01-31T14:51:06.974710Z",
     "start_time": "2025-01-31T14:51:06.970126Z"
    }
   },
   "cell_type": "code",
   "source": [
    "# remove english sentences from french_example_sentences\n",
    "def clean_incorrect_sentences(list_of_sentences, n_wrong_language_max=0):\n",
    "    good_sentences = []\n",
    "    bad_sentences = []\n",
    "    \n",
    "    for sentence in list_of_sentences:\n",
    "        words = sentence.split()\n",
    "        n_wrong = len([x for x in words if remove_accents(x) in wrong_lang_dictionary])    \n",
    "        \n",
    "        if n_wrong > n_wrong_language_max:\n",
    "            bad_sentences.append(sentence)\n",
    "        else:\n",
    "            good_sentences.append(sentence)\n",
    "            \n",
    "    return good_sentences, bad_sentences\n",
    "        "
   ],
   "id": "ab14eb929758b2ec",
   "outputs": [],
   "execution_count": 50
  },
  {
   "metadata": {
    "ExecuteTime": {
     "end_time": "2025-01-31T14:52:28.961232Z",
     "start_time": "2025-01-31T14:51:07.559513Z"
    }
   },
   "cell_type": "code",
   "source": "french_example_sentences, bad_french = clean_incorrect_sentences(french_example_sentences, en_scrabble, 0)",
   "id": "93440ff9acb84e02",
   "outputs": [],
   "execution_count": 51
  },
  {
   "metadata": {
    "ExecuteTime": {
     "end_time": "2025-01-31T14:52:29.146026Z",
     "start_time": "2025-01-31T14:52:29.140708Z"
    }
   },
   "cell_type": "code",
   "source": "len(french_example_sentences), len(bad_french)",
   "id": "a3dd2220cb96a344",
   "outputs": [
    {
     "data": {
      "text/plain": [
       "(110, 9890)"
      ]
     },
     "execution_count": 52,
     "metadata": {},
     "output_type": "execute_result"
    }
   ],
   "execution_count": 52
  },
  {
   "metadata": {
    "ExecuteTime": {
     "end_time": "2025-01-31T14:54:01.899163Z",
     "start_time": "2025-01-31T14:54:01.882498Z"
    }
   },
   "cell_type": "code",
   "source": "[x for x in \"évaluation du homard damerique homarus americanus dans les zones de pêche du homard à\".split() if remove_accents(x) in en_scrabble]",
   "id": "ae4b007ccbc391d9",
   "outputs": [
    {
     "data": {
      "text/plain": [
       "['évaluation', 'dans', 'les', 'zones', 'de']"
      ]
     },
     "execution_count": 56,
     "metadata": {},
     "output_type": "execute_result"
    }
   ],
   "execution_count": 56
  },
  {
   "metadata": {
    "ExecuteTime": {
     "end_time": "2025-01-31T14:55:06.720318Z",
     "start_time": "2025-01-31T14:55:06.705395Z"
    }
   },
   "cell_type": "code",
   "source": "[x for x in \"évaluation du homard damerique homarus americanus dans les zones de pêche du homard à\".split() if x in en_scrabble]",
   "id": "2fea7230e18db375",
   "outputs": [
    {
     "data": {
      "text/plain": [
       "['dans', 'les', 'zones', 'de']"
      ]
     },
     "execution_count": 58,
     "metadata": {},
     "output_type": "execute_result"
    }
   ],
   "execution_count": 58
  },
  {
   "metadata": {
    "ExecuteTime": {
     "end_time": "2025-01-31T14:54:24.131485Z",
     "start_time": "2025-01-31T14:54:24.102462Z"
    }
   },
   "cell_type": "code",
   "source": "[x for x in \"évaluation du homard damerique homarus americanus dans les zones de pêche du homard à\".split() if remove_accents(x) in fr_scrabble]",
   "id": "bea770148dec0e89",
   "outputs": [
    {
     "data": {
      "text/plain": [
       "['évaluation',\n",
       " 'du',\n",
       " 'homard',\n",
       " 'dans',\n",
       " 'les',\n",
       " 'zones',\n",
       " 'de',\n",
       " 'pêche',\n",
       " 'du',\n",
       " 'homard']"
      ]
     },
     "execution_count": 57,
     "metadata": {},
     "output_type": "execute_result"
    }
   ],
   "execution_count": 57
  },
  {
   "metadata": {},
   "cell_type": "code",
   "outputs": [],
   "execution_count": null,
   "source": "",
   "id": "979d0d1def0444d4"
  },
  {
   "metadata": {},
   "cell_type": "code",
   "outputs": [],
   "execution_count": null,
   "source": "",
   "id": "132561fc06cb5e1a"
  },
  {
   "metadata": {},
   "cell_type": "code",
   "outputs": [],
   "execution_count": null,
   "source": "",
   "id": "cde9b9fcae2e7677"
  },
  {
   "metadata": {},
   "cell_type": "code",
   "outputs": [],
   "execution_count": null,
   "source": [
    "# save optimised word lists \n",
    "with open(\"wordlists.json\", \"w\", encoding=\"utf-8\") as f:\n",
    "    json.dump({\"en\": list(english_words), \"fr\": list(french_words)}, f, ensure_ascii=False, indent=4)\n",
    "    \n",
    "# save 10k sentences per language for testing\n",
    "with open(\"example_sentences.json\", \"w\", encoding=\"utf-8\") as f:\n",
    "    json.dump({\"en\": random.sample(english_example_sentences, 10000), \"fr\": random.sample(french_example_sentences, 10000)}, f, ensure_ascii=False, indent=4)"
   ],
   "id": "98d9470f1ca68570"
  }
 ],
 "metadata": {
  "kernelspec": {
   "display_name": "Python 3",
   "language": "python",
   "name": "python3"
  },
  "language_info": {
   "codemirror_mode": {
    "name": "ipython",
    "version": 2
   },
   "file_extension": ".py",
   "mimetype": "text/x-python",
   "name": "python",
   "nbconvert_exporter": "python",
   "pygments_lexer": "ipython2",
   "version": "2.7.6"
  }
 },
 "nbformat": 4,
 "nbformat_minor": 5
}
