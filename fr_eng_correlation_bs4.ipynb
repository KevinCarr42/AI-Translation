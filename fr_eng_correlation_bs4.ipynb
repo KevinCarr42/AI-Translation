{
 "cells": [
  {
   "cell_type": "code",
   "id": "initial_id",
   "metadata": {
    "collapsed": true,
    "ExecuteTime": {
     "end_time": "2025-01-23T17:07:11.944506Z",
     "start_time": "2025-01-23T17:07:11.577001Z"
    }
   },
   "source": [
    "import json\n",
    "import os\n",
    "import pandas as pd\n",
    "\n",
    "from IPython.display import display, HTML\n",
    "display(HTML(\"<style>.container { width:100% !important; }</style>\")) # jupyter notebook full-width display\n",
    "display(HTML(\"<style>.dataframe td { white-space: nowrap; }</style>\")) # no text wrapping\n",
    "\n",
    "# pandas formatting\n",
    "pd.set_option('display.float_format', '{:.1f}'.format)\n",
    "pd.set_option('display.max_columns', None)\n",
    "pd.set_option('display.max_rows', 100)\n",
    "pd.set_option('display.max_colwidth', 200)"
   ],
   "outputs": [
    {
     "data": {
      "text/plain": [
       "<IPython.core.display.HTML object>"
      ],
      "text/html": [
       "<style>.container { width:100% !important; }</style>"
      ]
     },
     "metadata": {},
     "output_type": "display_data"
    },
    {
     "data": {
      "text/plain": [
       "<IPython.core.display.HTML object>"
      ],
      "text/html": [
       "<style>.dataframe td { white-space: nowrap; }</style>"
      ]
     },
     "metadata": {},
     "output_type": "display_data"
    }
   ],
   "execution_count": 1
  },
  {
   "metadata": {},
   "cell_type": "markdown",
   "source": "# import website url data",
   "id": "a9aae87a2e850e9"
  },
  {
   "metadata": {
    "ExecuteTime": {
     "end_time": "2025-01-23T17:07:13.752759Z",
     "start_time": "2025-01-23T17:07:11.951883Z"
    }
   },
   "cell_type": "code",
   "source": [
    "links_folder = \"website_reports\"\n",
    "\n",
    "dataframes = []\n",
    "\n",
    "for file in os.listdir(links_folder):\n",
    "    if file.endswith(\".xlsx\"):\n",
    "        file_path = os.path.join(links_folder, file)\n",
    "        df = pd.read_excel(file_path)\n",
    "        dataframes.append(df)\n",
    "\n",
    "column_names = ['type', 'year', 'pub_number', '_', 'nom', 'name', 'url_fr', 'url_en', '_', '_', '_', '_']\n",
    "combined_df = pd.concat(dataframes, ignore_index=True)\n",
    "combined_df.columns = column_names\n",
    "\n",
    "types = ['RES', 'SAR', 'PRO', 'SSR', 'SCR', 'ESR', 'HSR']\n",
    "combined_df = combined_df[combined_df.type.isin(types)]\n",
    "\n",
    "# create formatted pub number with type and number\n",
    "combined_df['pub_number'] = combined_df['type'] + \" \" + combined_df['pub_number']\n",
    "\n",
    "columns = ['pub_number', 'year', 'nom', 'name', 'url_fr', 'url_en']\n",
    "combined_df = combined_df[columns]\n",
    "\n",
    "# how many are html links vs pdf links?\n",
    "display(combined_df['url_en'].str.endswith(('html', 'htm')).value_counts())\n",
    "display(combined_df['url_en'].str.endswith('pdf').value_counts())"
   ],
   "id": "8ec682a54b98f832",
   "outputs": [
    {
     "data": {
      "text/plain": [
       "url_en\n",
       "True     7692\n",
       "False    1369\n",
       "Name: count, dtype: int64"
      ]
     },
     "metadata": {},
     "output_type": "display_data"
    },
    {
     "data": {
      "text/plain": [
       "url_en\n",
       "False    7692\n",
       "True     1369\n",
       "Name: count, dtype: int64"
      ]
     },
     "metadata": {},
     "output_type": "display_data"
    }
   ],
   "execution_count": 2
  },
  {
   "metadata": {
    "ExecuteTime": {
     "end_time": "2025-01-23T17:07:13.906345Z",
     "start_time": "2025-01-23T17:07:13.890353Z"
    }
   },
   "cell_type": "code",
   "source": [
    "# populate pdf filenames where they exist\n",
    "\n",
    "combined_df['filename_fr'] = combined_df['url_fr'].str.split('/').str[-1]\n",
    "combined_df['filename_en'] = combined_df['url_en'].str.split('/').str[-1]\n",
    "combined_df.loc[~combined_df['filename_fr'].str.endswith('.pdf'), 'filename_fr'] = None\n",
    "combined_df.loc[~combined_df['filename_en'].str.endswith('.pdf'), 'filename_en'] = None"
   ],
   "id": "5b0d89e6e6d68e09",
   "outputs": [],
   "execution_count": 3
  },
  {
   "metadata": {
    "ExecuteTime": {
     "end_time": "2025-01-23T17:07:13.918302Z",
     "start_time": "2025-01-23T17:07:13.908005Z"
    }
   },
   "cell_type": "code",
   "source": "combined_df.sample(1).T",
   "id": "12a0331ef6d38c53",
   "outputs": [
    {
     "data": {
      "text/plain": [
       "                                                                                              5903\n",
       "pub_number                                                                            RES 1998/030\n",
       "year                                                                                          1998\n",
       "nom                                                                                            NaN\n",
       "name                            Status of Atlantic salmon stocks of southwest New Brunswick, 1996.\n",
       "url_fr       http://www.dfo-mpo.gc.ca/csas-sccs/publications/resdocs-docrech/1998/1998_030-fra.htm\n",
       "url_en       http://www.dfo-mpo.gc.ca/csas-sccs/publications/resdocs-docrech/1998/1998_030-eng.htm\n",
       "filename_fr                                                                                   None\n",
       "filename_en                                                                                   None"
      ],
      "text/html": [
       "<div>\n",
       "<style scoped>\n",
       "    .dataframe tbody tr th:only-of-type {\n",
       "        vertical-align: middle;\n",
       "    }\n",
       "\n",
       "    .dataframe tbody tr th {\n",
       "        vertical-align: top;\n",
       "    }\n",
       "\n",
       "    .dataframe thead th {\n",
       "        text-align: right;\n",
       "    }\n",
       "</style>\n",
       "<table border=\"1\" class=\"dataframe\">\n",
       "  <thead>\n",
       "    <tr style=\"text-align: right;\">\n",
       "      <th></th>\n",
       "      <th>5903</th>\n",
       "    </tr>\n",
       "  </thead>\n",
       "  <tbody>\n",
       "    <tr>\n",
       "      <th>pub_number</th>\n",
       "      <td>RES 1998/030</td>\n",
       "    </tr>\n",
       "    <tr>\n",
       "      <th>year</th>\n",
       "      <td>1998</td>\n",
       "    </tr>\n",
       "    <tr>\n",
       "      <th>nom</th>\n",
       "      <td>NaN</td>\n",
       "    </tr>\n",
       "    <tr>\n",
       "      <th>name</th>\n",
       "      <td>Status of Atlantic salmon stocks of southwest New Brunswick, 1996.</td>\n",
       "    </tr>\n",
       "    <tr>\n",
       "      <th>url_fr</th>\n",
       "      <td>http://www.dfo-mpo.gc.ca/csas-sccs/publications/resdocs-docrech/1998/1998_030-fra.htm</td>\n",
       "    </tr>\n",
       "    <tr>\n",
       "      <th>url_en</th>\n",
       "      <td>http://www.dfo-mpo.gc.ca/csas-sccs/publications/resdocs-docrech/1998/1998_030-eng.htm</td>\n",
       "    </tr>\n",
       "    <tr>\n",
       "      <th>filename_fr</th>\n",
       "      <td>None</td>\n",
       "    </tr>\n",
       "    <tr>\n",
       "      <th>filename_en</th>\n",
       "      <td>None</td>\n",
       "    </tr>\n",
       "  </tbody>\n",
       "</table>\n",
       "</div>"
      ]
     },
     "execution_count": 4,
     "metadata": {},
     "output_type": "execute_result"
    }
   ],
   "execution_count": 4
  },
  {
   "metadata": {},
   "cell_type": "markdown",
   "source": "# import parsed publication url data",
   "id": "d97cc09b896d1e24"
  },
  {
   "metadata": {
    "ExecuteTime": {
     "end_time": "2025-01-23T17:09:06.870893Z",
     "start_time": "2025-01-23T17:09:00.493104Z"
    }
   },
   "cell_type": "code",
   "source": [
    "parsed_docs_folder = os.path.join(\"..\", \"ParsedPublications\")\n",
    "\n",
    "min_year, max_year = 1977, 2024\n",
    "data = []\n",
    "\n",
    "for year_folder in os.listdir(parsed_docs_folder):\n",
    "    if year_folder.isnumeric():\n",
    "        if min_year <= int(year_folder) <= max_year:\n",
    "            year_path = os.path.join(parsed_docs_folder, year_folder)\n",
    "            print(f\"Analysing: {year_path}\")\n",
    "            \n",
    "            if os.path.isdir(year_path):\n",
    "                for json_file in os.listdir(year_path):\n",
    "                    if json_file.endswith(\".json\"):\n",
    "                        json_path = os.path.join(year_path, json_file)\n",
    "                        with open(json_path, 'r', encoding='utf-8') as file:\n",
    "                            json_data = json.load(file)\n",
    "                            \n",
    "                            filename = json_data.get('name')\n",
    "                            year = json_data.get('publicationYear')\n",
    "                            url = json_data.get('url')\n",
    "                            \n",
    "                            data.append({\n",
    "                                'filename': filename,\n",
    "                                'year': year,\n",
    "                                'url': url,\n",
    "                            })\n",
    "\n",
    "parsed_docs_df = pd.DataFrame(data) # this took 3 minutes (7s after run once)\n",
    "unmatched_url = set(parsed_docs_df['url'].to_list()) \n",
    "\n",
    "parsed_docs_df['url'].value_counts().value_counts()  # all distinct"
   ],
   "id": "5a09e8b131e54cca",
   "outputs": [
    {
     "name": "stdout",
     "output_type": "stream",
     "text": [
      "Analysing: ..\\ParsedPublications\\1977\n",
      "Analysing: ..\\ParsedPublications\\1978\n",
      "Analysing: ..\\ParsedPublications\\1979\n",
      "Analysing: ..\\ParsedPublications\\1980\n",
      "Analysing: ..\\ParsedPublications\\1981\n",
      "Analysing: ..\\ParsedPublications\\1982\n",
      "Analysing: ..\\ParsedPublications\\1983\n",
      "Analysing: ..\\ParsedPublications\\1984\n",
      "Analysing: ..\\ParsedPublications\\1985\n",
      "Analysing: ..\\ParsedPublications\\1986\n",
      "Analysing: ..\\ParsedPublications\\1987\n",
      "Analysing: ..\\ParsedPublications\\1988\n",
      "Analysing: ..\\ParsedPublications\\1989\n",
      "Analysing: ..\\ParsedPublications\\1990\n",
      "Analysing: ..\\ParsedPublications\\1991\n",
      "Analysing: ..\\ParsedPublications\\1992\n",
      "Analysing: ..\\ParsedPublications\\1993\n",
      "Analysing: ..\\ParsedPublications\\1994\n",
      "Analysing: ..\\ParsedPublications\\1995\n",
      "Analysing: ..\\ParsedPublications\\1996\n",
      "Analysing: ..\\ParsedPublications\\1997\n",
      "Analysing: ..\\ParsedPublications\\1998\n",
      "Analysing: ..\\ParsedPublications\\1999\n",
      "Analysing: ..\\ParsedPublications\\2000\n",
      "Analysing: ..\\ParsedPublications\\2001\n",
      "Analysing: ..\\ParsedPublications\\2002\n",
      "Analysing: ..\\ParsedPublications\\2003\n",
      "Analysing: ..\\ParsedPublications\\2004\n",
      "Analysing: ..\\ParsedPublications\\2005\n",
      "Analysing: ..\\ParsedPublications\\2006\n",
      "Analysing: ..\\ParsedPublications\\2007\n",
      "Analysing: ..\\ParsedPublications\\2008\n",
      "Analysing: ..\\ParsedPublications\\2009\n",
      "Analysing: ..\\ParsedPublications\\2010\n",
      "Analysing: ..\\ParsedPublications\\2011\n",
      "Analysing: ..\\ParsedPublications\\2012\n",
      "Analysing: ..\\ParsedPublications\\2013\n",
      "Analysing: ..\\ParsedPublications\\2014\n",
      "Analysing: ..\\ParsedPublications\\2015\n",
      "Analysing: ..\\ParsedPublications\\2016\n",
      "Analysing: ..\\ParsedPublications\\2017\n",
      "Analysing: ..\\ParsedPublications\\2018\n",
      "Analysing: ..\\ParsedPublications\\2019\n",
      "Analysing: ..\\ParsedPublications\\2020\n",
      "Analysing: ..\\ParsedPublications\\2021\n",
      "Analysing: ..\\ParsedPublications\\2022\n",
      "Analysing: ..\\ParsedPublications\\2023\n",
      "Analysing: ..\\ParsedPublications\\2024\n"
     ]
    },
    {
     "data": {
      "text/plain": [
       "count\n",
       "1    12752\n",
       "Name: count, dtype: int64"
      ]
     },
     "execution_count": 8,
     "metadata": {},
     "output_type": "execute_result"
    }
   ],
   "execution_count": 8
  },
  {
   "metadata": {
    "ExecuteTime": {
     "end_time": "2025-01-23T17:09:31.401858Z",
     "start_time": "2025-01-23T17:09:27.587603Z"
    }
   },
   "cell_type": "code",
   "source": [
    "# faster maybe  \n",
    "\n",
    "import concurrent.futures\n",
    "\n",
    "parsed_docs_folder = os.path.join(\"..\", \"ParsedPublications\")\n",
    "min_year, max_year = 1977, 2024\n",
    "data = []\n",
    "\n",
    "def process_file(json_path):\n",
    "    with open(json_path, 'r', encoding='utf-8') as file:\n",
    "        json_data = json.load(file)\n",
    "        return {\n",
    "            'filename': json_data.get('name'),\n",
    "            'year': json_data.get('publicationYear'),\n",
    "            'url': json_data.get('url'),\n",
    "        }\n",
    "\n",
    "def process_folder(year_path):\n",
    "    file_data = []\n",
    "    for json_file in os.listdir(year_path):\n",
    "        if json_file.endswith(\".json\"):\n",
    "            json_path = os.path.join(year_path, json_file)\n",
    "            file_data.append(process_file(json_path))\n",
    "    return file_data\n",
    "\n",
    "with concurrent.futures.ThreadPoolExecutor() as executor:\n",
    "    futures = []\n",
    "    for year_folder in os.listdir(parsed_docs_folder):\n",
    "        if year_folder.isnumeric() and min_year <= int(year_folder) <= max_year:\n",
    "            year_path = os.path.join(parsed_docs_folder, year_folder)\n",
    "            if os.path.isdir(year_path):\n",
    "                futures.append(executor.submit(process_folder, year_path))\n",
    "\n",
    "    for future in concurrent.futures.as_completed(futures):\n",
    "        data.extend(future.result())\n",
    "\n",
    "parsed_docs_df_v2 = pd.DataFrame(data) # this took 3 seconds\n",
    "unmatched_url_v2 = set(parsed_docs_df_v2['url'].to_list())"
   ],
   "id": "d379bf789ff3b4a8",
   "outputs": [],
   "execution_count": 9
  },
  {
   "metadata": {
    "ExecuteTime": {
     "end_time": "2025-01-23T17:09:33.384821Z",
     "start_time": "2025-01-23T17:09:33.329280Z"
    }
   },
   "cell_type": "code",
   "source": [
    "# Find rows in parsed_docs_df not in parsed_docs_df_v2\n",
    "diff_1 = parsed_docs_df.merge(parsed_docs_df_v2, how='outer', indicator=True).query(\"_merge == 'left_only'\")\n",
    "\n",
    "# Find rows in parsed_docs_df_v2 not in parsed_docs_df\n",
    "diff_2 = parsed_docs_df.merge(parsed_docs_df_v2, how='outer', indicator=True).query(\"_merge == 'right_only'\")\n",
    "\n",
    "if diff_1.empty and diff_2.empty:\n",
    "    print(\"DataFrames are identical.\")\n",
    "else:\n",
    "    print(\"Differences found:\")\n",
    "    print(\"In parsed_docs_df but not in parsed_docs_df_v2:\")\n",
    "    print(diff_1)\n",
    "    print(\"In parsed_docs_df_v2 but not in parsed_docs_df:\")\n",
    "    print(diff_2)\n",
    "    \n",
    "if set(unmatched_url) == set(unmatched_url_v2):\n",
    "    print(\"Lists are identical (ignoring order).\")\n",
    "else:\n",
    "    print(\"Lists are different.\")\n"
   ],
   "id": "66930ecb1bd5f72a",
   "outputs": [
    {
     "name": "stdout",
     "output_type": "stream",
     "text": [
      "DataFrames are identical.\n",
      "Lists are identical (ignoring order).\n"
     ]
    }
   ],
   "execution_count": 10
  },
  {
   "metadata": {
    "ExecuteTime": {
     "end_time": "2025-01-23T16:48:47.379125Z",
     "start_time": "2025-01-23T16:48:47.370481Z"
    }
   },
   "cell_type": "code",
   "outputs": [
    {
     "data": {
      "text/plain": [
       "count\n",
       "1    12752\n",
       "Name: count, dtype: int64"
      ]
     },
     "execution_count": 8,
     "metadata": {},
     "output_type": "execute_result"
    }
   ],
   "execution_count": 8,
   "source": [
    "# confirm parsed_docs_df['url'] are all unique (they are)\n",
    "#  TODO: make sure when deleting from set, both fr and en links are accounted for\n"
   ],
   "id": "3eaee4202b46ab15"
  },
  {
   "metadata": {},
   "cell_type": "markdown",
   "source": "# crawl bs4 to get remaining filename_fr and filename_en",
   "id": "5e8f706c2ddbf4be"
  },
  {
   "metadata": {
    "ExecuteTime": {
     "end_time": "2025-01-23T17:07:51.590484700Z",
     "start_time": "2025-01-23T16:48:47.397745Z"
    }
   },
   "cell_type": "code",
   "source": "",
   "id": "7368ee5b1293c750",
   "outputs": [],
   "execution_count": null
  },
  {
   "metadata": {
    "ExecuteTime": {
     "end_time": "2025-01-23T17:07:51.590484700Z",
     "start_time": "2025-01-23T16:48:47.437256Z"
    }
   },
   "cell_type": "code",
   "source": "",
   "id": "2a80e0d7dc1ba702",
   "outputs": [],
   "execution_count": null
  },
  {
   "metadata": {
    "ExecuteTime": {
     "end_time": "2025-01-23T17:07:51.590484700Z",
     "start_time": "2025-01-23T16:48:47.482426Z"
    }
   },
   "cell_type": "code",
   "source": "",
   "id": "64d89ffd369f023c",
   "outputs": [],
   "execution_count": null
  },
  {
   "metadata": {
    "ExecuteTime": {
     "end_time": "2025-01-23T17:07:51.590484700Z",
     "start_time": "2025-01-23T16:48:47.519436Z"
    }
   },
   "cell_type": "code",
   "source": "",
   "id": "b334e83c2ccaeaf8",
   "outputs": [],
   "execution_count": null
  },
  {
   "metadata": {
    "ExecuteTime": {
     "end_time": "2025-01-23T17:07:51.590484700Z",
     "start_time": "2025-01-23T16:48:47.531024Z"
    }
   },
   "cell_type": "code",
   "source": "",
   "id": "7d2dae3a2bf51225",
   "outputs": [],
   "execution_count": null
  },
  {
   "metadata": {
    "ExecuteTime": {
     "end_time": "2025-01-23T17:07:51.590484700Z",
     "start_time": "2025-01-23T16:48:47.557072Z"
    }
   },
   "cell_type": "code",
   "source": "",
   "id": "271462351ade0c34",
   "outputs": [],
   "execution_count": null
  },
  {
   "metadata": {
    "ExecuteTime": {
     "end_time": "2025-01-23T17:07:51.590484700Z",
     "start_time": "2025-01-23T16:48:47.585488Z"
    }
   },
   "cell_type": "code",
   "source": "",
   "id": "36c2f4bd43b89034",
   "outputs": [],
   "execution_count": null
  },
  {
   "metadata": {},
   "cell_type": "markdown",
   "source": "# break into paragraph chunks",
   "id": "b0c0ddbb0f5c9116"
  },
  {
   "metadata": {
    "ExecuteTime": {
     "end_time": "2025-01-23T17:07:51.590484700Z",
     "start_time": "2025-01-23T16:48:47.607318Z"
    }
   },
   "cell_type": "code",
   "source": [
    "# TODO: break into paragraph chunks for better correlation \n",
    "#  TODO (OPTIONAL): clean excess characters\n",
    "#  TODO (OPTIONAL): make sure french-friendly encoding is used (at least check if that makes a difference)\n"
   ],
   "id": "fc6383d0be7fd92b",
   "outputs": [],
   "execution_count": 9
  },
  {
   "metadata": {
    "ExecuteTime": {
     "end_time": "2025-01-23T17:07:51.590484700Z",
     "start_time": "2025-01-23T16:48:47.633328Z"
    }
   },
   "cell_type": "code",
   "source": "",
   "id": "41226b0a82be098",
   "outputs": [],
   "execution_count": null
  },
  {
   "metadata": {
    "ExecuteTime": {
     "end_time": "2025-01-23T17:07:51.590484700Z",
     "start_time": "2025-01-23T16:48:47.659358Z"
    }
   },
   "cell_type": "code",
   "source": "",
   "id": "70f1e76e3c520246",
   "outputs": [],
   "execution_count": null
  },
  {
   "metadata": {
    "ExecuteTime": {
     "end_time": "2025-01-23T17:07:51.590484700Z",
     "start_time": "2025-01-23T16:48:47.680702Z"
    }
   },
   "cell_type": "code",
   "source": "",
   "id": "3dfc6096b226f6f2",
   "outputs": [],
   "execution_count": null
  },
  {
   "metadata": {
    "ExecuteTime": {
     "end_time": "2025-01-23T17:07:51.590484700Z",
     "start_time": "2025-01-23T16:48:47.701864Z"
    }
   },
   "cell_type": "code",
   "source": "",
   "id": "624a4a0f283826ee",
   "outputs": [],
   "execution_count": null
  }
 ],
 "metadata": {
  "kernelspec": {
   "display_name": "Python 3",
   "language": "python",
   "name": "python3"
  },
  "language_info": {
   "codemirror_mode": {
    "name": "ipython",
    "version": 2
   },
   "file_extension": ".py",
   "mimetype": "text/x-python",
   "name": "python",
   "nbconvert_exporter": "python",
   "pygments_lexer": "ipython2",
   "version": "2.7.6"
  }
 },
 "nbformat": 4,
 "nbformat_minor": 5
}
