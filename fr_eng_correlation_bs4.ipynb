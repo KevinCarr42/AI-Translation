{
 "cells": [
  {
   "cell_type": "code",
   "id": "initial_id",
   "metadata": {
    "collapsed": true,
    "ExecuteTime": {
     "end_time": "2025-01-23T17:16:08.509926Z",
     "start_time": "2025-01-23T17:16:08.081417Z"
    }
   },
   "source": [
    "import json\n",
    "import os\n",
    "import pandas as pd\n",
    "import concurrent.futures\n",
    "\n",
    "from IPython.display import display, HTML\n",
    "display(HTML(\"<style>.container { width:100% !important; }</style>\")) # jupyter notebook full-width display\n",
    "display(HTML(\"<style>.dataframe td { white-space: nowrap; }</style>\")) # no text wrapping\n",
    "\n",
    "# pandas formatting\n",
    "pd.set_option('display.float_format', '{:.1f}'.format)\n",
    "pd.set_option('display.max_columns', None)\n",
    "pd.set_option('display.max_rows', 100)\n",
    "pd.set_option('display.max_colwidth', 200)"
   ],
   "outputs": [
    {
     "data": {
      "text/plain": [
       "<IPython.core.display.HTML object>"
      ],
      "text/html": [
       "<style>.container { width:100% !important; }</style>"
      ]
     },
     "metadata": {},
     "output_type": "display_data"
    },
    {
     "data": {
      "text/plain": [
       "<IPython.core.display.HTML object>"
      ],
      "text/html": [
       "<style>.dataframe td { white-space: nowrap; }</style>"
      ]
     },
     "metadata": {},
     "output_type": "display_data"
    }
   ],
   "execution_count": 1
  },
  {
   "metadata": {},
   "cell_type": "markdown",
   "source": "# import website url data",
   "id": "a9aae87a2e850e9"
  },
  {
   "metadata": {
    "ExecuteTime": {
     "end_time": "2025-01-23T17:16:10.301029Z",
     "start_time": "2025-01-23T17:16:08.537837Z"
    }
   },
   "cell_type": "code",
   "source": [
    "links_folder = \"website_reports\"\n",
    "\n",
    "dataframes = []\n",
    "\n",
    "for file in os.listdir(links_folder):\n",
    "    if file.endswith(\".xlsx\"):\n",
    "        file_path = os.path.join(links_folder, file)\n",
    "        df = pd.read_excel(file_path)\n",
    "        dataframes.append(df)\n",
    "\n",
    "column_names = ['type', 'year', 'pub_number', '_', 'nom', 'name', 'url_fr', 'url_en', '_', '_', '_', '_']\n",
    "combined_df = pd.concat(dataframes, ignore_index=True)\n",
    "combined_df.columns = column_names\n",
    "\n",
    "types = ['RES', 'SAR', 'PRO', 'SSR', 'SCR', 'ESR', 'HSR']\n",
    "combined_df = combined_df[combined_df.type.isin(types)]\n",
    "\n",
    "# create formatted pub number with type and number\n",
    "combined_df['pub_number'] = combined_df['type'] + \" \" + combined_df['pub_number']\n",
    "\n",
    "columns = ['pub_number', 'year', 'nom', 'name', 'url_fr', 'url_en']\n",
    "combined_df = combined_df[columns]\n",
    "\n",
    "# how many are html links vs pdf links?\n",
    "display(combined_df['url_en'].str.endswith(('html', 'htm')).value_counts())\n",
    "display(combined_df['url_en'].str.endswith('pdf').value_counts())"
   ],
   "id": "8ec682a54b98f832",
   "outputs": [
    {
     "data": {
      "text/plain": [
       "url_en\n",
       "True     7692\n",
       "False    1369\n",
       "Name: count, dtype: int64"
      ]
     },
     "metadata": {},
     "output_type": "display_data"
    },
    {
     "data": {
      "text/plain": [
       "url_en\n",
       "False    7692\n",
       "True     1369\n",
       "Name: count, dtype: int64"
      ]
     },
     "metadata": {},
     "output_type": "display_data"
    }
   ],
   "execution_count": 2
  },
  {
   "metadata": {
    "ExecuteTime": {
     "end_time": "2025-01-23T17:16:10.449798Z",
     "start_time": "2025-01-23T17:16:10.426672Z"
    }
   },
   "cell_type": "code",
   "source": [
    "# populate pdf filenames where they exist\n",
    "\n",
    "combined_df['filename_fr'] = combined_df['url_fr'].str.split('/').str[-1]\n",
    "combined_df['filename_en'] = combined_df['url_en'].str.split('/').str[-1]\n",
    "combined_df.loc[~combined_df['filename_fr'].str.endswith('.pdf'), 'filename_fr'] = None\n",
    "combined_df.loc[~combined_df['filename_en'].str.endswith('.pdf'), 'filename_en'] = None\n",
    "\n",
    "display(combined_df[combined_df['filename_fr'].isna()].sample(1).T)\n",
    "display(combined_df[combined_df['filename_fr'].notna()].sample(1).T)"
   ],
   "id": "5b0d89e6e6d68e09",
   "outputs": [
    {
     "data": {
      "text/plain": [
       "                                                                                                      3086\n",
       "pub_number                                                                                    RES 1987/088\n",
       "year                                                                                                  1987\n",
       "nom                                                                                                    NaN\n",
       "name         Results of the acoustic survey of herring stocks in NAFO Divisions 4T and 4Vn - November 1986\n",
       "url_fr              http://www.dfo-mpo.gc.ca/csas-sccs/publications/resdocs-docrech/1987/1987_088-fra.html\n",
       "url_en              http://www.dfo-mpo.gc.ca/csas-sccs/publications/resdocs-docrech/1987/1987_088-eng.html\n",
       "filename_fr                                                                                           None\n",
       "filename_en                                                                                           None"
      ],
      "text/html": [
       "<div>\n",
       "<style scoped>\n",
       "    .dataframe tbody tr th:only-of-type {\n",
       "        vertical-align: middle;\n",
       "    }\n",
       "\n",
       "    .dataframe tbody tr th {\n",
       "        vertical-align: top;\n",
       "    }\n",
       "\n",
       "    .dataframe thead th {\n",
       "        text-align: right;\n",
       "    }\n",
       "</style>\n",
       "<table border=\"1\" class=\"dataframe\">\n",
       "  <thead>\n",
       "    <tr style=\"text-align: right;\">\n",
       "      <th></th>\n",
       "      <th>3086</th>\n",
       "    </tr>\n",
       "  </thead>\n",
       "  <tbody>\n",
       "    <tr>\n",
       "      <th>pub_number</th>\n",
       "      <td>RES 1987/088</td>\n",
       "    </tr>\n",
       "    <tr>\n",
       "      <th>year</th>\n",
       "      <td>1987</td>\n",
       "    </tr>\n",
       "    <tr>\n",
       "      <th>nom</th>\n",
       "      <td>NaN</td>\n",
       "    </tr>\n",
       "    <tr>\n",
       "      <th>name</th>\n",
       "      <td>Results of the acoustic survey of herring stocks in NAFO Divisions 4T and 4Vn - November 1986</td>\n",
       "    </tr>\n",
       "    <tr>\n",
       "      <th>url_fr</th>\n",
       "      <td>http://www.dfo-mpo.gc.ca/csas-sccs/publications/resdocs-docrech/1987/1987_088-fra.html</td>\n",
       "    </tr>\n",
       "    <tr>\n",
       "      <th>url_en</th>\n",
       "      <td>http://www.dfo-mpo.gc.ca/csas-sccs/publications/resdocs-docrech/1987/1987_088-eng.html</td>\n",
       "    </tr>\n",
       "    <tr>\n",
       "      <th>filename_fr</th>\n",
       "      <td>None</td>\n",
       "    </tr>\n",
       "    <tr>\n",
       "      <th>filename_en</th>\n",
       "      <td>None</td>\n",
       "    </tr>\n",
       "  </tbody>\n",
       "</table>\n",
       "</div>"
      ]
     },
     "metadata": {},
     "output_type": "display_data"
    },
    {
     "data": {
      "text/plain": [
       "                                                            19970\n",
       "pub_number                                           SSR 2003/020\n",
       "year                                                         2003\n",
       "nom                        Morue de l'est du plateau néo-écossais\n",
       "name                                    Eastern Scotian Shelf Cod\n",
       "url_fr       http://waves-vagues.dfo-mpo.gc.ca/Library/271083.pdf\n",
       "url_en       http://waves-vagues.dfo-mpo.gc.ca/Library/273373.pdf\n",
       "filename_fr                                            271083.pdf\n",
       "filename_en                                            273373.pdf"
      ],
      "text/html": [
       "<div>\n",
       "<style scoped>\n",
       "    .dataframe tbody tr th:only-of-type {\n",
       "        vertical-align: middle;\n",
       "    }\n",
       "\n",
       "    .dataframe tbody tr th {\n",
       "        vertical-align: top;\n",
       "    }\n",
       "\n",
       "    .dataframe thead th {\n",
       "        text-align: right;\n",
       "    }\n",
       "</style>\n",
       "<table border=\"1\" class=\"dataframe\">\n",
       "  <thead>\n",
       "    <tr style=\"text-align: right;\">\n",
       "      <th></th>\n",
       "      <th>19970</th>\n",
       "    </tr>\n",
       "  </thead>\n",
       "  <tbody>\n",
       "    <tr>\n",
       "      <th>pub_number</th>\n",
       "      <td>SSR 2003/020</td>\n",
       "    </tr>\n",
       "    <tr>\n",
       "      <th>year</th>\n",
       "      <td>2003</td>\n",
       "    </tr>\n",
       "    <tr>\n",
       "      <th>nom</th>\n",
       "      <td>Morue de l'est du plateau néo-écossais</td>\n",
       "    </tr>\n",
       "    <tr>\n",
       "      <th>name</th>\n",
       "      <td>Eastern Scotian Shelf Cod</td>\n",
       "    </tr>\n",
       "    <tr>\n",
       "      <th>url_fr</th>\n",
       "      <td>http://waves-vagues.dfo-mpo.gc.ca/Library/271083.pdf</td>\n",
       "    </tr>\n",
       "    <tr>\n",
       "      <th>url_en</th>\n",
       "      <td>http://waves-vagues.dfo-mpo.gc.ca/Library/273373.pdf</td>\n",
       "    </tr>\n",
       "    <tr>\n",
       "      <th>filename_fr</th>\n",
       "      <td>271083.pdf</td>\n",
       "    </tr>\n",
       "    <tr>\n",
       "      <th>filename_en</th>\n",
       "      <td>273373.pdf</td>\n",
       "    </tr>\n",
       "  </tbody>\n",
       "</table>\n",
       "</div>"
      ]
     },
     "metadata": {},
     "output_type": "display_data"
    }
   ],
   "execution_count": 3
  },
  {
   "metadata": {},
   "cell_type": "markdown",
   "source": "# import parsed publication url data",
   "id": "d97cc09b896d1e24"
  },
  {
   "metadata": {
    "ExecuteTime": {
     "end_time": "2025-01-23T17:16:14.235284Z",
     "start_time": "2025-01-23T17:16:10.464402Z"
    }
   },
   "cell_type": "code",
   "source": [
    "parsed_docs_folder = os.path.join(\"..\", \"ParsedPublications\")\n",
    "min_year, max_year = 1977, 2024\n",
    "data = []\n",
    "\n",
    "def process_file(json_path):\n",
    "    with open(json_path, 'r', encoding='utf-8') as file:\n",
    "        json_data = json.load(file)\n",
    "        return {\n",
    "            'filename': json_data.get('name'),\n",
    "            'year': json_data.get('publicationYear'),\n",
    "            'url': json_data.get('url'),\n",
    "        }\n",
    "\n",
    "def process_folder(year_path):\n",
    "    file_data = []\n",
    "    for json_file in os.listdir(year_path):\n",
    "        if json_file.endswith(\".json\"):\n",
    "            json_path = os.path.join(year_path, json_file)\n",
    "            file_data.append(process_file(json_path))\n",
    "    return file_data\n",
    "\n",
    "with concurrent.futures.ThreadPoolExecutor() as executor:\n",
    "    futures = []\n",
    "    for year_folder in os.listdir(parsed_docs_folder):\n",
    "        if year_folder.isnumeric() and min_year <= int(year_folder) <= max_year:\n",
    "            year_path = os.path.join(parsed_docs_folder, year_folder)\n",
    "            if os.path.isdir(year_path):\n",
    "                futures.append(executor.submit(process_folder, year_path))\n",
    "\n",
    "    for future in concurrent.futures.as_completed(futures):\n",
    "        data.extend(future.result())\n",
    "\n",
    "parsed_docs_df = pd.DataFrame(data) # this took 3 seconds\n",
    "unmatched_url = set(parsed_docs_df['url'].to_list())\n",
    "\n",
    "# confirm all url are distinct\n",
    "parsed_docs_df['url'].value_counts().value_counts()"
   ],
   "id": "d379bf789ff3b4a8",
   "outputs": [
    {
     "data": {
      "text/plain": [
       "count\n",
       "1    12752\n",
       "Name: count, dtype: int64"
      ]
     },
     "execution_count": 4,
     "metadata": {},
     "output_type": "execute_result"
    }
   ],
   "execution_count": 4
  },
  {
   "metadata": {},
   "cell_type": "markdown",
   "source": "# crawl bs4 to get remaining filename_fr and filename_en",
   "id": "5e8f706c2ddbf4be"
  },
  {
   "metadata": {
    "ExecuteTime": {
     "end_time": "2025-01-23T17:17:03.190361Z",
     "start_time": "2025-01-23T17:17:03.175634Z"
    }
   },
   "cell_type": "code",
   "source": "",
   "id": "7368ee5b1293c750",
   "outputs": [],
   "execution_count": null
  },
  {
   "metadata": {
    "ExecuteTime": {
     "end_time": "2025-01-23T17:16:14.337670Z",
     "start_time": "2025-01-23T17:16:14.333748Z"
    }
   },
   "cell_type": "code",
   "source": "",
   "id": "2a80e0d7dc1ba702",
   "outputs": [],
   "execution_count": null
  },
  {
   "metadata": {
    "ExecuteTime": {
     "end_time": "2025-01-23T17:16:14.399980Z",
     "start_time": "2025-01-23T17:16:14.397255Z"
    }
   },
   "cell_type": "code",
   "source": "",
   "id": "64d89ffd369f023c",
   "outputs": [],
   "execution_count": null
  },
  {
   "metadata": {
    "ExecuteTime": {
     "end_time": "2025-01-23T17:16:14.415992Z",
     "start_time": "2025-01-23T17:16:14.413961Z"
    }
   },
   "cell_type": "code",
   "source": "",
   "id": "b334e83c2ccaeaf8",
   "outputs": [],
   "execution_count": null
  },
  {
   "metadata": {
    "ExecuteTime": {
     "end_time": "2025-01-23T17:16:14.445500Z",
     "start_time": "2025-01-23T17:16:14.442534Z"
    }
   },
   "cell_type": "code",
   "source": "",
   "id": "7d2dae3a2bf51225",
   "outputs": [],
   "execution_count": null
  },
  {
   "metadata": {
    "ExecuteTime": {
     "end_time": "2025-01-23T17:16:14.480341Z",
     "start_time": "2025-01-23T17:16:14.477723Z"
    }
   },
   "cell_type": "code",
   "source": "",
   "id": "271462351ade0c34",
   "outputs": [],
   "execution_count": null
  },
  {
   "metadata": {
    "ExecuteTime": {
     "end_time": "2025-01-23T17:16:14.506007Z",
     "start_time": "2025-01-23T17:16:14.497336Z"
    }
   },
   "cell_type": "code",
   "source": "",
   "id": "36c2f4bd43b89034",
   "outputs": [],
   "execution_count": null
  },
  {
   "metadata": {},
   "cell_type": "markdown",
   "source": "# break into paragraph chunks",
   "id": "b0c0ddbb0f5c9116"
  },
  {
   "metadata": {
    "ExecuteTime": {
     "end_time": "2025-01-23T17:16:14.539233Z",
     "start_time": "2025-01-23T17:16:14.536358Z"
    }
   },
   "cell_type": "code",
   "source": [
    "# TODO: break into paragraph chunks for better correlation \n",
    "#  TODO (OPTIONAL): clean excess characters\n",
    "#  TODO (OPTIONAL): make sure french-friendly encoding is used (at least check if that makes a difference)\n"
   ],
   "id": "fc6383d0be7fd92b",
   "outputs": [],
   "execution_count": 5
  },
  {
   "metadata": {
    "ExecuteTime": {
     "end_time": "2025-01-23T17:16:14.564438Z",
     "start_time": "2025-01-23T17:16:14.562028Z"
    }
   },
   "cell_type": "code",
   "source": "",
   "id": "41226b0a82be098",
   "outputs": [],
   "execution_count": null
  },
  {
   "metadata": {
    "ExecuteTime": {
     "end_time": "2025-01-23T17:16:14.598852Z",
     "start_time": "2025-01-23T17:16:14.596304Z"
    }
   },
   "cell_type": "code",
   "source": "",
   "id": "70f1e76e3c520246",
   "outputs": [],
   "execution_count": null
  },
  {
   "metadata": {
    "ExecuteTime": {
     "end_time": "2025-01-23T17:16:14.622366Z",
     "start_time": "2025-01-23T17:16:14.620526Z"
    }
   },
   "cell_type": "code",
   "source": "",
   "id": "3dfc6096b226f6f2",
   "outputs": [],
   "execution_count": null
  },
  {
   "metadata": {
    "ExecuteTime": {
     "end_time": "2025-01-23T17:16:14.649961Z",
     "start_time": "2025-01-23T17:16:14.646267Z"
    }
   },
   "cell_type": "code",
   "source": "",
   "id": "624a4a0f283826ee",
   "outputs": [],
   "execution_count": null
  }
 ],
 "metadata": {
  "kernelspec": {
   "display_name": "Python 3",
   "language": "python",
   "name": "python3"
  },
  "language_info": {
   "codemirror_mode": {
    "name": "ipython",
    "version": 2
   },
   "file_extension": ".py",
   "mimetype": "text/x-python",
   "name": "python",
   "nbconvert_exporter": "python",
   "pygments_lexer": "ipython2",
   "version": "2.7.6"
  }
 },
 "nbformat": 4,
 "nbformat_minor": 5
}
