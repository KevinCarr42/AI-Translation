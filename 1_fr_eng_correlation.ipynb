{
 "cells": [
  {
   "cell_type": "code",
   "id": "initial_id",
   "metadata": {
    "collapsed": true,
    "ExecuteTime": {
     "end_time": "2025-01-24T14:23:49.332228Z",
     "start_time": "2025-01-24T14:23:48.432277Z"
    }
   },
   "source": [
    "import concurrent.futures\n",
    "import json\n",
    "import os\n",
    "import numpy as np\n",
    "import pandas as pd\n",
    "import pickle\n",
    "import re\n",
    "import requests\n",
    "\n",
    "from urllib.parse import urljoin\n",
    "from bs4 import BeautifulSoup\n",
    "from IPython.display import display, HTML\n",
    "display(HTML(\"<style>.container { width:100% !important; }</style>\")) # jupyter notebook full-width display\n",
    "display(HTML(\"<style>.dataframe td { white-space: nowrap; }</style>\")) # no text wrapping\n",
    "\n",
    "# pandas formatting\n",
    "pd.set_option('display.float_format', '{:.1f}'.format)\n",
    "pd.set_option('display.max_columns', None)\n",
    "pd.set_option('display.max_rows', 100)\n",
    "pd.set_option('display.max_colwidth', 200)"
   ],
   "outputs": [
    {
     "data": {
      "text/plain": [
       "<IPython.core.display.HTML object>"
      ],
      "text/html": [
       "<style>.container { width:100% !important; }</style>"
      ]
     },
     "metadata": {},
     "output_type": "display_data"
    },
    {
     "data": {
      "text/plain": [
       "<IPython.core.display.HTML object>"
      ],
      "text/html": [
       "<style>.dataframe td { white-space: nowrap; }</style>"
      ]
     },
     "metadata": {},
     "output_type": "display_data"
    }
   ],
   "execution_count": 1
  },
  {
   "metadata": {},
   "cell_type": "markdown",
   "source": "# import website url data",
   "id": "a9aae87a2e850e9"
  },
  {
   "metadata": {
    "ExecuteTime": {
     "end_time": "2025-01-24T14:23:51.048826Z",
     "start_time": "2025-01-24T14:23:49.341734Z"
    }
   },
   "cell_type": "code",
   "source": [
    "links_folder = \"website_reports\"\n",
    "\n",
    "dataframes = []\n",
    "\n",
    "for file in os.listdir(links_folder):\n",
    "    if file.endswith(\".xlsx\"):\n",
    "        file_path = os.path.join(links_folder, file)\n",
    "        df = pd.read_excel(file_path)\n",
    "        dataframes.append(df)\n",
    "\n",
    "column_names = ['type', 'year', 'pub_number', '_', 'nom', 'name', 'url_fr', 'url_en', '_', '_', '_', '_']\n",
    "combined_df = pd.concat(dataframes, ignore_index=True)\n",
    "combined_df.columns = column_names\n",
    "\n",
    "types = ['RES', 'SAR', 'PRO', 'SSR', 'SCR', 'ESR', 'HSR']\n",
    "combined_df = combined_df[combined_df.type.isin(types)]\n",
    "\n",
    "# create formatted pub number with type and number\n",
    "combined_df['pub_number'] = combined_df['type'] + \" \" + combined_df['pub_number']\n",
    "\n",
    "columns = ['pub_number', 'year', 'nom', 'name', 'url_fr', 'url_en']\n",
    "combined_df = combined_df[columns].reset_index(drop=True)"
   ],
   "id": "8ec682a54b98f832",
   "outputs": [],
   "execution_count": 2
  },
  {
   "metadata": {
    "ExecuteTime": {
     "end_time": "2025-01-24T14:23:51.179514Z",
     "start_time": "2025-01-24T14:23:51.172525Z"
    }
   },
   "cell_type": "code",
   "source": [
    "# is pub_number distinct in combined_df? yesish - there are 3 errors\n",
    "combined_df['pub_number'].value_counts().head()"
   ],
   "id": "41dd1924cbec7f02",
   "outputs": [
    {
     "data": {
      "text/plain": [
       "pub_number\n",
       "SCR 2020/018      2\n",
       "SSR 2002/D2-01    2\n",
       "PRO 2024/041      2\n",
       "ESR 2003/002      1\n",
       "RES 2021/017      1\n",
       "Name: count, dtype: int64"
      ]
     },
     "execution_count": 3,
     "metadata": {},
     "output_type": "execute_result"
    }
   ],
   "execution_count": 3
  },
  {
   "metadata": {
    "ExecuteTime": {
     "end_time": "2025-01-24T14:23:51.240102Z",
     "start_time": "2025-01-24T14:23:51.219605Z"
    }
   },
   "cell_type": "code",
   "source": [
    "# populate pdf filenames where they exist\n",
    "\n",
    "combined_df['filename_fr'] = combined_df['url_fr'].str.split('/').str[-1]\n",
    "combined_df['filename_en'] = combined_df['url_en'].str.split('/').str[-1]\n",
    "combined_df.loc[~combined_df['filename_fr'].str.endswith('.pdf'), 'filename_fr'] = None\n",
    "combined_df.loc[~combined_df['filename_en'].str.endswith('.pdf'), 'filename_en'] = None\n",
    "\n",
    "# add file_url columns\n",
    "combined_df['file_url_fr'] = np.where(combined_df['filename_fr'], combined_df['url_fr'], None)\n",
    "combined_df['file_url_en'] = np.where(combined_df['filename_en'], combined_df['url_en'], None)"
   ],
   "id": "2df2d7f2e4c70328",
   "outputs": [],
   "execution_count": 4
  },
  {
   "metadata": {},
   "cell_type": "markdown",
   "source": "# import parsed publication url data",
   "id": "d97cc09b896d1e24"
  },
  {
   "metadata": {
    "ExecuteTime": {
     "end_time": "2025-01-24T14:23:55.209240Z",
     "start_time": "2025-01-24T14:23:51.315256Z"
    }
   },
   "cell_type": "code",
   "source": [
    "parsed_docs_folder = os.path.join(\"..\", \"ParsedPublications\")\n",
    "min_year, max_year = 1977, 2024\n",
    "data = []\n",
    "\n",
    "def process_file(json_path):\n",
    "    with open(json_path, 'r', encoding='utf-8') as file:\n",
    "        json_data = json.load(file)\n",
    "        return {\n",
    "            'filename': json_data.get('name'),\n",
    "            'year': json_data.get('publicationYear'),\n",
    "            'url': json_data.get('url'),\n",
    "        }\n",
    "\n",
    "def process_folder(year_path):\n",
    "    file_data = []\n",
    "    for json_file in os.listdir(year_path):\n",
    "        if json_file.endswith(\".json\"):\n",
    "            json_path = os.path.join(year_path, json_file)\n",
    "            file_data.append(process_file(json_path))\n",
    "    return file_data\n",
    "\n",
    "with concurrent.futures.ThreadPoolExecutor() as executor:\n",
    "    futures = []\n",
    "    for year_folder in os.listdir(parsed_docs_folder):\n",
    "        if year_folder.isnumeric() and min_year <= int(year_folder) <= max_year:\n",
    "            year_path = os.path.join(parsed_docs_folder, year_folder)\n",
    "            if os.path.isdir(year_path):\n",
    "                futures.append(executor.submit(process_folder, year_path))\n",
    "\n",
    "    for future in concurrent.futures.as_completed(futures):\n",
    "        data.extend(future.result())\n",
    "\n",
    "parsed_docs_df = pd.DataFrame(data) # this took 3 seconds\n",
    "unmatched_url = set(parsed_docs_df['url'].to_list())\n",
    "\n",
    "# confirm all url are distinct\n",
    "parsed_docs_df['url'].value_counts().value_counts()"
   ],
   "id": "d379bf789ff3b4a8",
   "outputs": [
    {
     "data": {
      "text/plain": [
       "count\n",
       "1    12752\n",
       "Name: count, dtype: int64"
      ]
     },
     "execution_count": 5,
     "metadata": {},
     "output_type": "execute_result"
    }
   ],
   "execution_count": 5
  },
  {
   "metadata": {},
   "cell_type": "markdown",
   "source": [
    "# STEP 1. crawl bs4 to get remaining filename_fr and filename_en\n",
    "* this uses unmatched_url from parsed data json files - this turns out to be a mistake because of spaces, formatting etc. error data is logged and used to import in the next step"
   ],
   "id": "5e8f706c2ddbf4be"
  },
  {
   "metadata": {
    "ExecuteTime": {
     "end_time": "2025-01-24T14:23:55.263791Z",
     "start_time": "2025-01-24T14:23:55.249837Z"
    }
   },
   "cell_type": "code",
   "source": [
    "# what are the different link suffices? -> 'html', 'htm', 'pdf' \n",
    "#  exclude pdf or not htm/html\n",
    "display(combined_df['url_en'].str.endswith(('html', 'htm')).value_counts())\n",
    "display(combined_df['url_en'].str.endswith('pdf').value_counts())\n",
    "display(combined_df['url_fr'].str.endswith(('html', 'htm')).value_counts())\n",
    "display(combined_df['url_fr'].str.endswith('pdf').value_counts())"
   ],
   "id": "85149a9d001531b5",
   "outputs": [
    {
     "data": {
      "text/plain": [
       "url_en\n",
       "True     7692\n",
       "False    1369\n",
       "Name: count, dtype: int64"
      ]
     },
     "metadata": {},
     "output_type": "display_data"
    },
    {
     "data": {
      "text/plain": [
       "url_en\n",
       "False    7692\n",
       "True     1369\n",
       "Name: count, dtype: int64"
      ]
     },
     "metadata": {},
     "output_type": "display_data"
    },
    {
     "data": {
      "text/plain": [
       "url_fr\n",
       "True     7692\n",
       "False    1369\n",
       "Name: count, dtype: int64"
      ]
     },
     "metadata": {},
     "output_type": "display_data"
    },
    {
     "data": {
      "text/plain": [
       "url_fr\n",
       "False    7692\n",
       "True     1369\n",
       "Name: count, dtype: int64"
      ]
     },
     "metadata": {},
     "output_type": "display_data"
    }
   ],
   "execution_count": 6
  },
  {
   "metadata": {
    "ExecuteTime": {
     "end_time": "2025-01-24T14:23:55.414158Z",
     "start_time": "2025-01-24T14:23:55.410228Z"
    }
   },
   "cell_type": "code",
   "source": [
    "errors = dict()\n",
    "\n",
    "\n",
    "def find_pdf_link(url):\n",
    "    global errors\n",
    "    \n",
    "    if url.split('.')[-1].lower() not in ['html', 'htm']:\n",
    "        return None\n",
    "    \n",
    "    try:\n",
    "        response = requests.get(url, timeout=10)\n",
    "        response.raise_for_status()\n",
    "        soup = BeautifulSoup(response.content, 'html.parser')\n",
    "        pdf_links = re.findall(r'http[s]?://[^\\'\"<>]+\\.pdf', str(soup), re.IGNORECASE)\n",
    "        \n",
    "        for link in pdf_links:\n",
    "            if link in unmatched_url:\n",
    "                return link\n",
    "            \n",
    "        errors[url] = f\"pdf link not found. links on website: {pdf_links=}\"\n",
    "                \n",
    "    except requests.RequestException as e:\n",
    "        print(f\"Error fetching URL {url}: {e}\")\n",
    "        errors[url] = f\"find_pdf_link Error: {e}\"\n",
    "        \n",
    "    return None"
   ],
   "id": "ef95f3d00283876b",
   "outputs": [],
   "execution_count": 7
  },
  {
   "metadata": {
    "ExecuteTime": {
     "end_time": "2025-01-24T14:23:55.466513Z",
     "start_time": "2025-01-24T14:23:55.463173Z"
    }
   },
   "cell_type": "code",
   "source": [
    "# conditionally load combined_df from csv if it exists\n",
    "\n",
    "output_file = 'temp/updated_parsed_docs.csv'\n",
    "\n",
    "\n",
    "if os.path.exists(output_file):\n",
    "    df = pd.read_csv(output_file)\n",
    "    print(\"File loaded successfully.\")\n",
    "else:\n",
    "    print(f\"{output_file} does not exist.\")"
   ],
   "id": "5f11ea3e62cd1322",
   "outputs": [
    {
     "name": "stdout",
     "output_type": "stream",
     "text": [
      "updated_parsed_docs.csv does not exist.\n"
     ]
    }
   ],
   "execution_count": 8
  },
  {
   "metadata": {
    "ExecuteTime": {
     "end_time": "2025-01-24T16:19:29.326378Z",
     "start_time": "2025-01-24T14:23:55.613046Z"
    }
   },
   "cell_type": "code",
   "source": [
    "batch_size = 100\n",
    "save_batch = True\n",
    "\n",
    "\n",
    "for index, row in combined_df.iterrows():\n",
    "    if save_batch:\n",
    "        if index % batch_size == 0 and index > 0:\n",
    "            combined_df.to_csv(output_file, index=False)\n",
    "            print(f\"Progress saved after {index} rows.\")\n",
    "    \n",
    "    if (row['filename_fr'] and row['filename_en']) or (row['file_url_fr'] and row['file_url_en']):\n",
    "        continue\n",
    "    \n",
    "    pdf_link_fr = None\n",
    "    pdf_link_en = None\n",
    "    pub_number = row['pub_number']  # should be distinct for error tracking (there are 3 duplicates / errors)\n",
    "    \n",
    "    if pd.isna(row['filename_fr']):\n",
    "        pdf_link_fr = find_pdf_link(row['url_fr'])\n",
    "        if pdf_link_fr:\n",
    "            combined_df.at[index, 'file_url_fr'] = pdf_link_fr\n",
    "            if pdf_link_fr not in unmatched_url:\n",
    "                errors[pub_number + ' (fr)'] = 'Link was added to combined_df but was not in unmatched_url (fr)'\n",
    "        else:\n",
    "            errors[pub_number + ' (fr)'] = 'pdf_link_fr was not found on webpage (fr)'\n",
    "\n",
    "    if pd.isna(row['filename_en']):\n",
    "        if row['url_en'] != row['url_fr']:\n",
    "            pdf_link_en = find_pdf_link(row['url_en'])\n",
    "            if pdf_link_en:\n",
    "                combined_df.at[index, 'file_url_en'] = pdf_link_en\n",
    "                if pdf_link_en not in unmatched_url:\n",
    "                    errors[pub_number + ' (en)'] = 'Link was added to combined_df but was not in unmatched_url (en)'\n",
    "            else:\n",
    "                errors[pub_number + ' (en)'] = 'pdf_link_en was not found on webpage (en)'\n",
    "        else:\n",
    "            if pdf_link_fr:\n",
    "                combined_df.at[index, 'file_url_en'] = pdf_link_fr\n",
    "                if pdf_link_fr not in unmatched_url:\n",
    "                    errors[pub_number + ' (en)'] = 'Link was added to combined_df but was not in unmatched_url (en)'\n",
    "            else:\n",
    "                errors[pub_number + ' (en)'] = 'pdf_link_fr was not found on webpage (en)'\n",
    "\n",
    "\n",
    "combined_df.to_csv(output_file, index=False)\n",
    "\n",
    "with open('errors.pickle', 'wb') as f:\n",
    "    pickle.dump(errors, f)\n"
   ],
   "id": "7368ee5b1293c750",
   "outputs": [
    {
     "name": "stdout",
     "output_type": "stream",
     "text": [
      "Progress saved after 100 rows.\n",
      "Progress saved after 200 rows.\n",
      "Progress saved after 300 rows.\n",
      "Progress saved after 400 rows.\n",
      "Progress saved after 500 rows.\n",
      "Progress saved after 600 rows.\n",
      "Progress saved after 700 rows.\n",
      "Progress saved after 800 rows.\n",
      "Progress saved after 900 rows.\n",
      "Progress saved after 1000 rows.\n",
      "Progress saved after 1100 rows.\n",
      "Progress saved after 1200 rows.\n",
      "Progress saved after 1300 rows.\n",
      "Progress saved after 1400 rows.\n",
      "Progress saved after 1500 rows.\n",
      "Progress saved after 1600 rows.\n",
      "Progress saved after 1700 rows.\n",
      "Progress saved after 1800 rows.\n",
      "Progress saved after 1900 rows.\n",
      "Progress saved after 2000 rows.\n",
      "Progress saved after 2100 rows.\n",
      "Progress saved after 2200 rows.\n",
      "Progress saved after 2300 rows.\n",
      "Progress saved after 2400 rows.\n",
      "Progress saved after 2500 rows.\n",
      "Progress saved after 2600 rows.\n",
      "Progress saved after 2700 rows.\n",
      "Progress saved after 2800 rows.\n",
      "Progress saved after 2900 rows.\n",
      "Progress saved after 3000 rows.\n",
      "Progress saved after 3100 rows.\n",
      "Progress saved after 3200 rows.\n",
      "Progress saved after 3300 rows.\n",
      "Progress saved after 3400 rows.\n",
      "Progress saved after 3500 rows.\n",
      "Progress saved after 3600 rows.\n",
      "Progress saved after 3700 rows.\n",
      "Progress saved after 3800 rows.\n",
      "Progress saved after 3900 rows.\n",
      "Progress saved after 4000 rows.\n",
      "Progress saved after 4100 rows.\n",
      "Progress saved after 4200 rows.\n",
      "Progress saved after 4300 rows.\n",
      "Progress saved after 4400 rows.\n",
      "Progress saved after 4500 rows.\n",
      "Progress saved after 4600 rows.\n",
      "Progress saved after 4700 rows.\n",
      "Progress saved after 4800 rows.\n",
      "Progress saved after 4900 rows.\n",
      "Progress saved after 5000 rows.\n",
      "Progress saved after 5100 rows.\n",
      "Progress saved after 5200 rows.\n",
      "Progress saved after 5300 rows.\n",
      "Progress saved after 5400 rows.\n",
      "Progress saved after 5500 rows.\n",
      "Progress saved after 5600 rows.\n",
      "Progress saved after 5700 rows.\n",
      "Progress saved after 5800 rows.\n",
      "Progress saved after 5900 rows.\n",
      "Progress saved after 6000 rows.\n",
      "Error fetching URL http://www.dfo-mpo.gcca/csas-sccs/Publications/ResDocs-DocRech/2021/2021_033-fra.html: HTTPConnectionPool(host='www.dfo-mpo.gcca', port=80): Max retries exceeded with url: /csas-sccs/Publications/ResDocs-DocRech/2021/2021_033-fra.html (Caused by NameResolutionError(\"<urllib3.connection.HTTPConnection object at 0x00000207E3852D20>: Failed to resolve 'www.dfo-mpo.gcca' ([Errno 11001] getaddrinfo failed)\"))\n",
      "Progress saved after 6100 rows.\n",
      "Progress saved after 6200 rows.\n",
      "Progress saved after 6300 rows.\n",
      "Progress saved after 6400 rows.\n",
      "Progress saved after 6500 rows.\n",
      "Progress saved after 6600 rows.\n",
      "Progress saved after 6700 rows.\n",
      "Progress saved after 6800 rows.\n",
      "Progress saved after 6900 rows.\n",
      "Progress saved after 7000 rows.\n",
      "Progress saved after 7100 rows.\n",
      "Progress saved after 7200 rows.\n",
      "Progress saved after 7300 rows.\n",
      "Progress saved after 7400 rows.\n",
      "Progress saved after 7500 rows.\n",
      "Progress saved after 7600 rows.\n",
      "Progress saved after 7700 rows.\n",
      "Progress saved after 7800 rows.\n",
      "Progress saved after 7900 rows.\n",
      "Progress saved after 8000 rows.\n",
      "Progress saved after 8100 rows.\n",
      "Progress saved after 8200 rows.\n",
      "Progress saved after 8300 rows.\n",
      "Progress saved after 8400 rows.\n",
      "Progress saved after 8500 rows.\n",
      "Progress saved after 8600 rows.\n",
      "Progress saved after 8700 rows.\n",
      "Progress saved after 8800 rows.\n",
      "Progress saved after 8900 rows.\n",
      "Progress saved after 9000 rows.\n"
     ]
    }
   ],
   "execution_count": 9
  },
  {
   "metadata": {},
   "cell_type": "markdown",
   "source": "# Error checkin and fixin",
   "id": "32f8f0e2031031d0"
  },
  {
   "metadata": {
    "ExecuteTime": {
     "end_time": "2025-01-24T16:37:31.967155Z",
     "start_time": "2025-01-24T16:37:31.908613Z"
    }
   },
   "cell_type": "code",
   "source": [
    "# conditionally load combined_df from csv if it exists\n",
    "\n",
    "output_file = 'updated_parsed_docs.csv'\n",
    "\n",
    "\n",
    "if os.path.exists(output_file):\n",
    "    combined_df = pd.read_csv(output_file)\n",
    "    print(\"File loaded successfully.\")\n",
    "else:\n",
    "    print(f\"{output_file} does not exist.\")"
   ],
   "id": "fb85988d12e3a633",
   "outputs": [
    {
     "name": "stdout",
     "output_type": "stream",
     "text": [
      "File loaded successfully.\n"
     ]
    }
   ],
   "execution_count": 42
  },
  {
   "metadata": {
    "ExecuteTime": {
     "end_time": "2025-01-24T16:25:41.272103Z",
     "start_time": "2025-01-24T16:25:41.263140Z"
    }
   },
   "cell_type": "code",
   "outputs": [
    {
     "data": {
      "text/plain": [
       "{'http://www.dfo-mpo.gc.ca/csas-sccs/publications/withdrawn-retire-fra.htm': 'pdf link not found. links on website: pdf_links=[]',\n",
       " 'PRO 2000/006 (fr)': 'pdf_link_fr was not found on webpage (fr)',\n",
       " 'http://www.dfo-mpo.gc.ca/csas-sccs/publications/withdrawn-retire-eng.htm': 'pdf link not found. links on website: pdf_links=[]',\n",
       " 'PRO 2000/006 (en)': 'pdf_link_en was not found on webpage (en)',\n",
       " 'PRO 2001/028 (fr)': 'pdf_link_fr was not found on webpage (fr)',\n",
       " 'PRO 2001/028 (en)': 'pdf_link_en was not found on webpage (en)',\n",
       " 'PRO 2001/001 (fr)': 'pdf_link_fr was not found on webpage (fr)',\n",
       " 'PRO 2001/001 (en)': 'pdf_link_en was not found on webpage (en)',\n",
       " 'PRO 2004/024 (fr)': 'pdf_link_fr was not found on webpage (fr)',\n",
       " 'PRO 2004/024 (en)': 'pdf_link_en was not found on webpage (en)',\n",
       " 'PRO 2005/023 (fr)': 'pdf_link_fr was not found on webpage (fr)',\n",
       " 'PRO 2005/023 (en)': 'pdf_link_en was not found on webpage (en)',\n",
       " 'PRO 2005/021 (fr)': 'pdf_link_fr was not found on webpage (fr)',\n",
       " 'PRO 2005/021 (en)': 'pdf_link_en was not found on webpage (en)',\n",
       " 'PRO 2006/021 (fr)': 'pdf_link_fr was not found on webpage (fr)',\n",
       " 'PRO 2006/021 (en)': 'pdf_link_en was not found on webpage (en)',\n",
       " 'http://www.dfo-mpo.gc.ca/csas-sccs/publications/pro-cr/2009/2009_041-fra.htm': \"pdf link not found. links on website: pdf_links=['https://waves-vagues.dfo-mpo.gc.ca/library-bibliotheque/339963.pdf']\",\n",
       " 'PRO 2009/041 (fr)': 'pdf_link_fr was not found on webpage (fr)',\n",
       " 'http://www.dfo-mpo.gc.ca/csas-sccs/publications/pro-cr/2009/2009_041-eng.htm': \"pdf link not found. links on website: pdf_links=['https://waves-vagues.dfo-mpo.gc.ca/library-bibliotheque/339963.pdf']\",\n",
       " 'PRO 2009/041 (en)': 'pdf_link_en was not found on webpage (en)',\n",
       " 'PRO 2012/034 (fr)': 'pdf_link_fr was not found on webpage (fr)',\n",
       " 'PRO 2012/034 (en)': 'pdf_link_en was not found on webpage (en)',\n",
       " 'http://www.dfo-mpo.gc.ca/csas-sccs/Publications/Pro-Cr/2018/2018_019-fra.html': \"pdf link not found. links on website: pdf_links=['https://waves-vagues.dfo-mpo.gc.ca/library-bibliotheque/40933659.pdf']\",\n",
       " 'PRO 2018/019 (fr)': 'pdf_link_fr was not found on webpage (fr)',\n",
       " 'https://www.dfo-mpo.gc.ca/csas-sccs/Publications/Pro-Cr/2024/2024_043-fra.html': \"pdf link not found. links on website: pdf_links=['https://waves-vagues.dfo-mpo.gc.ca/library-bibliotheque/41265749.pdf']\",\n",
       " 'PRO 2024/043 (fr)': 'pdf_link_fr was not found on webpage (fr)',\n",
       " 'https://www.dfo-mpo.gc.ca/csas-sccs/Publications/Pro-Cr/2024/2024_043-eng.html': \"pdf link not found. links on website: pdf_links=['https://waves-vagues.dfo-mpo.gc.ca/library-bibliotheque/41265737.pdf']\",\n",
       " 'PRO 2024/043 (en)': 'pdf_link_en was not found on webpage (en)',\n",
       " 'https://www.dfo-mpo.gc.ca/csas-sccs/Publications/Pro-Cr/2024/2024_040-fra.html': \"pdf link not found. links on website: pdf_links=['https://waves-vagues.dfo-mpo.gc.ca/library-bibliotheque/41265828.pdf']\",\n",
       " 'PRO 2024/040 (fr)': 'pdf_link_fr was not found on webpage (fr)',\n",
       " 'https://www.dfo-mpo.gc.ca/csas-sccs/Publications/Pro-Cr/2024/2024_040-eng.html': \"pdf link not found. links on website: pdf_links=['https://waves-vagues.dfo-mpo.gc.ca/library-bibliotheque/41265816.pdf']\",\n",
       " 'PRO 2024/040 (en)': 'pdf_link_en was not found on webpage (en)',\n",
       " 'https://www.dfo-mpo.gc.ca/csas-sccs/Publications/Pro-Cr/2024/2024_041-fra.html': \"pdf link not found. links on website: pdf_links=['https://waves-vagues.dfo-mpo.gc.ca/library-bibliotheque/41265841.pdf']\",\n",
       " 'PRO 2024/041 (fr)': 'pdf_link_fr was not found on webpage (fr)',\n",
       " 'https://www.dfo-mpo.gc.ca/csas-sccs/Publications/Pro-Cr/2024/2024_041-eng.html': \"pdf link not found. links on website: pdf_links=['https://waves-vagues.dfo-mpo.gc.ca/library-bibliotheque/4126583x.pdf']\",\n",
       " 'PRO 2024/041 (en)': 'pdf_link_en was not found on webpage (en)',\n",
       " 'https://www.dfo-mpo.gc.ca/csas-sccs/Publications/Pro-Cr/2024/2024_044-fra.html': \"pdf link not found. links on website: pdf_links=['https://waves-vagues.dfo-mpo.gc.ca/library-bibliotheque/41265877.pdf']\",\n",
       " 'PRO 2024/044 (fr)': 'pdf_link_fr was not found on webpage (fr)',\n",
       " 'https://www.dfo-mpo.gc.ca/csas-sccs/Publications/Pro-Cr/2024/2024_044-eng.html': \"pdf link not found. links on website: pdf_links=['https://waves-vagues.dfo-mpo.gc.ca/library-bibliotheque/41265853.pdf']\",\n",
       " 'PRO 2024/044 (en)': 'pdf_link_en was not found on webpage (en)',\n",
       " 'https://www.dfo-mpo.gc.ca/csas-sccs/Publications/Pro-Cr/2024/2024_045-fra.html': \"pdf link not found. links on website: pdf_links=['https://waves-vagues.dfo-mpo.gc.ca/library-bibliotheque/41270630.pdf']\",\n",
       " 'PRO 2024/045 (fr)': 'pdf_link_fr was not found on webpage (fr)',\n",
       " 'https://www.dfo-mpo.gc.ca/csas-sccs/Publications/Pro-Cr/2024/2024_045-eng.html': \"pdf link not found. links on website: pdf_links=['https://waves-vagues.dfo-mpo.gc.ca/library-bibliotheque/41270599.pdf']\",\n",
       " 'PRO 2024/045 (en)': 'pdf_link_en was not found on webpage (en)',\n",
       " 'https://www.dfo-mpo.gc.ca/csas-sccs/Publications/Pro-Cr/2024/2024_046-fra.html': \"pdf link not found. links on website: pdf_links=['https://waves-vagues.dfo-mpo.gc.ca/library-bibliotheque/41270551.pdf']\",\n",
       " 'PRO 2024/046 (fr)': 'pdf_link_fr was not found on webpage (fr)',\n",
       " 'https://www.dfo-mpo.gc.ca/csas-sccs/Publications/Pro-Cr/2024/2024_046-eng.html': \"pdf link not found. links on website: pdf_links=['https://waves-vagues.dfo-mpo.gc.ca/library-bibliotheque/4127054x.pdf']\",\n",
       " 'PRO 2024/046 (en)': 'pdf_link_en was not found on webpage (en)',\n",
       " 'https://www.dfo-mpo.gc.ca/csas-sccs/Publications/Pro-Cr/2024/2024_047-fra.html': \"pdf link not found. links on website: pdf_links=['https://waves-vagues.dfo-mpo.gc.ca/library-bibliotheque/41273035.pdf']\",\n",
       " 'PRO 2024/047 (fr)': 'pdf_link_fr was not found on webpage (fr)',\n",
       " 'https://www.dfo-mpo.gc.ca/csas-sccs/Publications/Pro-Cr/2024/2024_047-eng.html': \"pdf link not found. links on website: pdf_links=['https://waves-vagues.dfo-mpo.gc.ca/library-bibliotheque/41273023.pdf']\",\n",
       " 'PRO 2024/047 (en)': 'pdf_link_en was not found on webpage (en)',\n",
       " 'https://www.dfo-mpo.gc.ca/csas-sccs/Publications/Pro-Cr/2024/2024_048-fra.html': \"pdf link not found. links on website: pdf_links=['https://waves-vagues.dfo-mpo.gc.ca/library-bibliotheque/41273059.pdf']\",\n",
       " 'PRO 2024/048 (fr)': 'pdf_link_fr was not found on webpage (fr)',\n",
       " 'https://www.dfo-mpo.gc.ca/csas-sccs/Publications/Pro-Cr/2024/2024_048-eng.html': \"pdf link not found. links on website: pdf_links=['https://waves-vagues.dfo-mpo.gc.ca/library-bibliotheque/41273047.pdf']\",\n",
       " 'PRO 2024/048 (en)': 'pdf_link_en was not found on webpage (en)',\n",
       " 'http://www.dfo-mpo.gc.ca/csas-sccs/publications/resdocs-docrech/1977/1977_005-fra.html': 'pdf link not found. links on website: pdf_links=[]',\n",
       " 'RES 1977/005 (fr)': 'pdf_link_fr was not found on webpage (fr)',\n",
       " 'http://www.dfo-mpo.gc.ca/csas-sccs/publications/resdocs-docrech/1977/1977_005-eng.html': 'pdf link not found. links on website: pdf_links=[]',\n",
       " 'RES 1977/005 (en)': 'pdf_link_en was not found on webpage (en)',\n",
       " 'http://www.dfo-mpo.gc.ca/csas-sccs/publications/resdocs-docrech/1978/1978_039-fra.html': 'pdf link not found. links on website: pdf_links=[]',\n",
       " 'RES 1978/039 (fr)': 'pdf_link_fr was not found on webpage (fr)',\n",
       " 'http://www.dfo-mpo.gc.ca/csas-sccs/publications/resdocs-docrech/1978/1978_039-eng.html': 'pdf link not found. links on website: pdf_links=[]',\n",
       " 'RES 1978/039 (en)': 'pdf_link_en was not found on webpage (en)',\n",
       " 'http://www.dfo-mpo.gc.ca/csas-sccs/publications/resdocs-docrech/1978/1978_040-fra.html': 'pdf link not found. links on website: pdf_links=[]',\n",
       " 'RES 1978/040 (fr)': 'pdf_link_fr was not found on webpage (fr)',\n",
       " 'http://www.dfo-mpo.gc.ca/csas-sccs/publications/resdocs-docrech/1978/1978_040-eng.html': 'pdf link not found. links on website: pdf_links=[]',\n",
       " 'RES 1978/040 (en)': 'pdf_link_en was not found on webpage (en)',\n",
       " 'http://www.dfo-mpo.gc.ca/csas-sccs/publications/resdocs-docrech/1980/1980_068-fra.html': 'pdf link not found. links on website: pdf_links=[]',\n",
       " 'RES 1980/068 (fr)': 'pdf_link_fr was not found on webpage (fr)',\n",
       " 'http://www.dfo-mpo.gc.ca/csas-sccs/publications/resdocs-docrech/1980/1980_068-eng.html': 'pdf link not found. links on website: pdf_links=[]',\n",
       " 'RES 1980/068 (en)': 'pdf_link_en was not found on webpage (en)',\n",
       " 'http://www.dfo-mpo.gc.ca/csas-sccs/publications/resdocs-docrech/1981/1981_022-fra.html': 'pdf link not found. links on website: pdf_links=[]',\n",
       " 'RES 1981/022 (fr)': 'pdf_link_fr was not found on webpage (fr)',\n",
       " 'http://www.dfo-mpo.gc.ca/csas-sccs/publications/resdocs-docrech/1981/1981_022-eng.html': 'pdf link not found. links on website: pdf_links=[]',\n",
       " 'RES 1981/022 (en)': 'pdf_link_en was not found on webpage (en)',\n",
       " 'RES 1997/077 (fr)': 'pdf_link_fr was not found on webpage (fr)',\n",
       " 'RES 1997/077 (en)': 'pdf_link_en was not found on webpage (en)',\n",
       " 'RES 1997/039 (fr)': 'pdf_link_fr was not found on webpage (fr)',\n",
       " 'RES 1997/039 (en)': 'pdf_link_en was not found on webpage (en)',\n",
       " 'RES 1997/078 (fr)': 'pdf_link_fr was not found on webpage (fr)',\n",
       " 'RES 1997/078 (en)': 'pdf_link_en was not found on webpage (en)',\n",
       " 'RES 1998/165 (fr)': 'pdf_link_fr was not found on webpage (fr)',\n",
       " 'RES 1998/165 (en)': 'pdf_link_en was not found on webpage (en)',\n",
       " 'RES 1998/155 (fr)': 'pdf_link_fr was not found on webpage (fr)',\n",
       " 'RES 1998/155 (en)': 'pdf_link_en was not found on webpage (en)',\n",
       " 'RES 1998/065 (fr)': 'pdf_link_fr was not found on webpage (fr)',\n",
       " 'RES 1998/065 (en)': 'pdf_link_en was not found on webpage (en)',\n",
       " 'RES 1998/154 (fr)': 'pdf_link_fr was not found on webpage (fr)',\n",
       " 'RES 1998/154 (en)': 'pdf_link_en was not found on webpage (en)',\n",
       " 'RES 1998/040 (fr)': 'pdf_link_fr was not found on webpage (fr)',\n",
       " 'RES 1998/040 (en)': 'pdf_link_en was not found on webpage (en)',\n",
       " 'RES 1998/036 (fr)': 'pdf_link_fr was not found on webpage (fr)',\n",
       " 'RES 1998/036 (en)': 'pdf_link_en was not found on webpage (en)',\n",
       " 'RES 1998/017 (fr)': 'pdf_link_fr was not found on webpage (fr)',\n",
       " 'RES 1998/017 (en)': 'pdf_link_en was not found on webpage (en)',\n",
       " 'RES 1998/134 (fr)': 'pdf_link_fr was not found on webpage (fr)',\n",
       " 'RES 1998/134 (en)': 'pdf_link_en was not found on webpage (en)',\n",
       " 'RES 1999/008 (fr)': 'pdf_link_fr was not found on webpage (fr)',\n",
       " 'RES 1999/008 (en)': 'pdf_link_en was not found on webpage (en)',\n",
       " 'RES 1999/005 (fr)': 'pdf_link_fr was not found on webpage (fr)',\n",
       " 'RES 1999/005 (en)': 'pdf_link_en was not found on webpage (en)',\n",
       " 'RES 1999/003 (fr)': 'pdf_link_fr was not found on webpage (fr)',\n",
       " 'RES 1999/003 (en)': 'pdf_link_en was not found on webpage (en)',\n",
       " 'RES 1999/002 (fr)': 'pdf_link_fr was not found on webpage (fr)',\n",
       " 'RES 1999/002 (en)': 'pdf_link_en was not found on webpage (en)',\n",
       " 'RES 1999/001 (fr)': 'pdf_link_fr was not found on webpage (fr)',\n",
       " 'RES 1999/001 (en)': 'pdf_link_en was not found on webpage (en)',\n",
       " 'RES 1999/102 (fr)': 'pdf_link_fr was not found on webpage (fr)',\n",
       " 'RES 1999/102 (en)': 'pdf_link_en was not found on webpage (en)',\n",
       " 'RES 1999/029 (fr)': 'pdf_link_fr was not found on webpage (fr)',\n",
       " 'RES 1999/029 (en)': 'pdf_link_en was not found on webpage (en)',\n",
       " 'RES 2000/002 (fr)': 'pdf_link_fr was not found on webpage (fr)',\n",
       " 'RES 2000/002 (en)': 'pdf_link_en was not found on webpage (en)',\n",
       " 'RES 2000/056 (fr)': 'pdf_link_fr was not found on webpage (fr)',\n",
       " 'RES 2000/056 (en)': 'pdf_link_en was not found on webpage (en)',\n",
       " 'RES 2000/108 (fr)': 'pdf_link_fr was not found on webpage (fr)',\n",
       " 'RES 2000/108 (en)': 'pdf_link_en was not found on webpage (en)',\n",
       " 'RES 2000/071 (fr)': 'pdf_link_fr was not found on webpage (fr)',\n",
       " 'RES 2000/071 (en)': 'pdf_link_en was not found on webpage (en)',\n",
       " 'RES 2000/053 (fr)': 'pdf_link_fr was not found on webpage (fr)',\n",
       " 'RES 2000/053 (en)': 'pdf_link_en was not found on webpage (en)',\n",
       " 'RES 2001/153 (fr)': 'pdf_link_fr was not found on webpage (fr)',\n",
       " 'RES 2001/153 (en)': 'pdf_link_en was not found on webpage (en)',\n",
       " 'RES 2001/040 (fr)': 'pdf_link_fr was not found on webpage (fr)',\n",
       " 'RES 2001/040 (en)': 'pdf_link_en was not found on webpage (en)',\n",
       " 'RES 2002/041 (fr)': 'pdf_link_fr was not found on webpage (fr)',\n",
       " 'RES 2002/041 (en)': 'pdf_link_en was not found on webpage (en)',\n",
       " 'RES 2002/086 (fr)': 'pdf_link_fr was not found on webpage (fr)',\n",
       " 'RES 2002/086 (en)': 'pdf_link_en was not found on webpage (en)',\n",
       " 'RES 2002/040 (fr)': 'pdf_link_fr was not found on webpage (fr)',\n",
       " 'RES 2002/040 (en)': 'pdf_link_en was not found on webpage (en)',\n",
       " 'RES 2002/039 (fr)': 'pdf_link_fr was not found on webpage (fr)',\n",
       " 'RES 2002/039 (en)': 'pdf_link_en was not found on webpage (en)',\n",
       " 'RES 2002/038 (fr)': 'pdf_link_fr was not found on webpage (fr)',\n",
       " 'RES 2002/038 (en)': 'pdf_link_en was not found on webpage (en)',\n",
       " 'RES 2002/037 (fr)': 'pdf_link_fr was not found on webpage (fr)',\n",
       " 'RES 2002/037 (en)': 'pdf_link_en was not found on webpage (en)',\n",
       " 'RES 2002/008 (fr)': 'pdf_link_fr was not found on webpage (fr)',\n",
       " 'RES 2002/008 (en)': 'pdf_link_en was not found on webpage (en)',\n",
       " 'RES 2002/005 (fr)': 'pdf_link_fr was not found on webpage (fr)',\n",
       " 'RES 2002/005 (en)': 'pdf_link_en was not found on webpage (en)',\n",
       " 'RES 2002/095 (fr)': 'pdf_link_fr was not found on webpage (fr)',\n",
       " 'RES 2002/095 (en)': 'pdf_link_en was not found on webpage (en)',\n",
       " 'http://www.dfo-mpo.gc.ca/csas-sccs/publications/resdocs-docrech/2003/2003_001-fra.htm': \"pdf link not found. links on website: pdf_links=['https://waves-vagues.dfo-mpo.gc.ca/library-bibliotheque/275375.pdf']\",\n",
       " 'RES 2003/001 (fr)': 'pdf_link_fr was not found on webpage (fr)',\n",
       " 'http://www.dfo-mpo.gc.ca/csas-sccs/publications/resdocs-docrech/2003/2003_001-eng.htm': \"pdf link not found. links on website: pdf_links=['https://waves-vagues.dfo-mpo.gc.ca/library-bibliotheque/275375.pdf']\",\n",
       " 'RES 2003/001 (en)': 'pdf_link_en was not found on webpage (en)',\n",
       " 'http://www.dfo-mpo.gc.ca/csas-sccs/publications/resdocs-docrech/2003/2003_003-fra.htm': \"pdf link not found. links on website: pdf_links=['https://waves-vagues.dfo-mpo.gc.ca/library-bibliotheque/281759.pdf']\",\n",
       " 'RES 2003/003 (fr)': 'pdf_link_fr was not found on webpage (fr)',\n",
       " 'http://www.dfo-mpo.gc.ca/csas-sccs/publications/resdocs-docrech/2003/2003_003-eng.htm': \"pdf link not found. links on website: pdf_links=['https://waves-vagues.dfo-mpo.gc.ca/library-bibliotheque/281759.pdf']\",\n",
       " 'RES 2003/003 (en)': 'pdf_link_en was not found on webpage (en)',\n",
       " 'http://www.dfo-mpo.gc.ca/csas-sccs/publications/resdocs-docrech/2003/2003_005-fra.htm': \"pdf link not found. links on website: pdf_links=['https://waves-vagues.dfo-mpo.gc.ca/library-bibliotheque/282817.pdf']\",\n",
       " 'RES 2003/005 (fr)': 'pdf_link_fr was not found on webpage (fr)',\n",
       " 'http://www.dfo-mpo.gc.ca/csas-sccs/publications/resdocs-docrech/2003/2003_005-eng.htm': \"pdf link not found. links on website: pdf_links=['https://waves-vagues.dfo-mpo.gc.ca/library-bibliotheque/282817.pdf']\",\n",
       " 'RES 2003/005 (en)': 'pdf_link_en was not found on webpage (en)',\n",
       " 'http://www.dfo-mpo.gc.ca/csas-sccs/publications/resdocs-docrech/2003/2003_006-fra.htm': \"pdf link not found. links on website: pdf_links=['https://waves-vagues.dfo-mpo.gc.ca/library-bibliotheque/271120.pdf']\",\n",
       " 'RES 2003/006 (fr)': 'pdf_link_fr was not found on webpage (fr)',\n",
       " 'http://www.dfo-mpo.gc.ca/csas-sccs/publications/resdocs-docrech/2003/2003_006-eng.htm': \"pdf link not found. links on website: pdf_links=['https://waves-vagues.dfo-mpo.gc.ca/library-bibliotheque/271120.pdf']\",\n",
       " 'RES 2003/006 (en)': 'pdf_link_en was not found on webpage (en)',\n",
       " 'http://www.dfo-mpo.gc.ca/csas-sccs/publications/resdocs-docrech/2003/2003_007-fra.htm': \"pdf link not found. links on website: pdf_links=['https://waves-vagues.dfo-mpo.gc.ca/library-bibliotheque/271345.pdf']\",\n",
       " 'RES 2003/007 (fr)': 'pdf_link_fr was not found on webpage (fr)',\n",
       " 'http://www.dfo-mpo.gc.ca/csas-sccs/publications/resdocs-docrech/2003/2003_007-eng.htm': \"pdf link not found. links on website: pdf_links=['https://waves-vagues.dfo-mpo.gc.ca/library-bibliotheque/271345.pdf']\",\n",
       " 'RES 2003/007 (en)': 'pdf_link_en was not found on webpage (en)',\n",
       " 'http://www.dfo-mpo.gc.ca/csas-sccs/publications/resdocs-docrech/2003/2003_008-fra.htm': \"pdf link not found. links on website: pdf_links=['https://waves-vagues.dfo-mpo.gc.ca/library-bibliotheque/274201.pdf']\",\n",
       " 'RES 2003/008 (fr)': 'pdf_link_fr was not found on webpage (fr)',\n",
       " 'http://www.dfo-mpo.gc.ca/csas-sccs/publications/resdocs-docrech/2003/2003_008-eng.htm': \"pdf link not found. links on website: pdf_links=['https://waves-vagues.dfo-mpo.gc.ca/library-bibliotheque/274201.pdf']\",\n",
       " 'RES 2003/008 (en)': 'pdf_link_en was not found on webpage (en)',\n",
       " 'http://www.dfo-mpo.gc.ca/csas-sccs/publications/resdocs-docrech/2003/2003_010-fra.htm': \"pdf link not found. links on website: pdf_links=['https://waves-vagues.dfo-mpo.gc.ca/library-bibliotheque/274203.pdf']\",\n",
       " 'RES 2003/010 (fr)': 'pdf_link_fr was not found on webpage (fr)',\n",
       " 'http://www.dfo-mpo.gc.ca/csas-sccs/publications/resdocs-docrech/2003/2003_010-eng.htm': \"pdf link not found. links on website: pdf_links=['https://waves-vagues.dfo-mpo.gc.ca/library-bibliotheque/274203.pdf']\",\n",
       " 'RES 2003/010 (en)': 'pdf_link_en was not found on webpage (en)',\n",
       " 'http://www.dfo-mpo.gc.ca/csas-sccs/publications/resdocs-docrech/2003/2003_011-fra.htm': \"pdf link not found. links on website: pdf_links=['https://waves-vagues.dfo-mpo.gc.ca/library-bibliotheque/279338.pdf']\",\n",
       " 'RES 2003/011 (fr)': 'pdf_link_fr was not found on webpage (fr)',\n",
       " 'http://www.dfo-mpo.gc.ca/csas-sccs/publications/resdocs-docrech/2003/2003_011-eng.htm': \"pdf link not found. links on website: pdf_links=['https://waves-vagues.dfo-mpo.gc.ca/library-bibliotheque/279338.pdf']\",\n",
       " 'RES 2003/011 (en)': 'pdf_link_en was not found on webpage (en)',\n",
       " 'http://www.dfo-mpo.gc.ca/csas-sccs/publications/resdocs-docrech/2003/2003_017-fra.htm': \"pdf link not found. links on website: pdf_links=['https://waves-vagues.dfo-mpo.gc.ca/library-bibliotheque/276336.pdf']\",\n",
       " 'RES 2003/017 (fr)': 'pdf_link_fr was not found on webpage (fr)',\n",
       " 'http://www.dfo-mpo.gc.ca/csas-sccs/publications/resdocs-docrech/2003/2003_017-eng.htm': \"pdf link not found. links on website: pdf_links=['https://waves-vagues.dfo-mpo.gc.ca/library-bibliotheque/276336.pdf']\",\n",
       " 'RES 2003/017 (en)': 'pdf_link_en was not found on webpage (en)',\n",
       " 'http://www.dfo-mpo.gc.ca/csas-sccs/publications/resdocs-docrech/2003/2003_018-fra.htm': \"pdf link not found. links on website: pdf_links=['https://waves-vagues.dfo-mpo.gc.ca/library-bibliotheque/275374.pdf']\",\n",
       " 'RES 2003/018 (fr)': 'pdf_link_fr was not found on webpage (fr)',\n",
       " 'http://www.dfo-mpo.gc.ca/csas-sccs/publications/resdocs-docrech/2003/2003_018-eng.htm': \"pdf link not found. links on website: pdf_links=['https://waves-vagues.dfo-mpo.gc.ca/library-bibliotheque/275374.pdf']\",\n",
       " 'RES 2003/018 (en)': 'pdf_link_en was not found on webpage (en)',\n",
       " 'http://www.dfo-mpo.gc.ca/csas-sccs/publications/resdocs-docrech/2003/2003_027-fra.htm': \"pdf link not found. links on website: pdf_links=['https://waves-vagues.dfo-mpo.gc.ca/library-bibliotheque/275363.pdf']\",\n",
       " 'RES 2003/027 (fr)': 'pdf_link_fr was not found on webpage (fr)',\n",
       " 'http://www.dfo-mpo.gc.ca/csas-sccs/publications/resdocs-docrech/2003/2003_027-eng.htm': \"pdf link not found. links on website: pdf_links=['https://waves-vagues.dfo-mpo.gc.ca/library-bibliotheque/275363.pdf']\",\n",
       " 'RES 2003/027 (en)': 'pdf_link_en was not found on webpage (en)',\n",
       " 'http://www.dfo-mpo.gc.ca/csas-sccs/publications/resdocs-docrech/2003/2003_051-fra.htm': \"pdf link not found. links on website: pdf_links=['https://waves-vagues.dfo-mpo.gc.ca/library-bibliotheque/281761.pdf']\",\n",
       " 'RES 2003/051 (fr)': 'pdf_link_fr was not found on webpage (fr)',\n",
       " 'http://www.dfo-mpo.gc.ca/csas-sccs/publications/resdocs-docrech/2003/2003_051-eng.htm': \"pdf link not found. links on website: pdf_links=['https://waves-vagues.dfo-mpo.gc.ca/library-bibliotheque/281761.pdf']\",\n",
       " 'RES 2003/051 (en)': 'pdf_link_en was not found on webpage (en)',\n",
       " 'http://www.dfo-mpo.gc.ca/csas-sccs/publications/resdocs-docrech/2003/2003_055-fra.htm': \"pdf link not found. links on website: pdf_links=['https://waves-vagues.dfo-mpo.gc.ca/library-bibliotheque/277462.pdf']\",\n",
       " 'RES 2003/055 (fr)': 'pdf_link_fr was not found on webpage (fr)',\n",
       " 'http://www.dfo-mpo.gc.ca/csas-sccs/publications/resdocs-docrech/2003/2003_055-eng.htm': \"pdf link not found. links on website: pdf_links=['https://waves-vagues.dfo-mpo.gc.ca/library-bibliotheque/277462.pdf']\",\n",
       " 'RES 2003/055 (en)': 'pdf_link_en was not found on webpage (en)',\n",
       " 'http://www.dfo-mpo.gc.ca/csas-sccs/publications/resdocs-docrech/2003/2003_056-fra.htm': \"pdf link not found. links on website: pdf_links=['https://waves-vagues.dfo-mpo.gc.ca/library-bibliotheque/281983.pdf']\",\n",
       " 'RES 2003/056 (fr)': 'pdf_link_fr was not found on webpage (fr)',\n",
       " 'http://www.dfo-mpo.gc.ca/csas-sccs/publications/resdocs-docrech/2003/2003_056-eng.htm': \"pdf link not found. links on website: pdf_links=['https://waves-vagues.dfo-mpo.gc.ca/library-bibliotheque/281983.pdf']\",\n",
       " 'RES 2003/056 (en)': 'pdf_link_en was not found on webpage (en)',\n",
       " 'http://www.dfo-mpo.gc.ca/csas-sccs/publications/resdocs-docrech/2003/2003_057-fra.htm': \"pdf link not found. links on website: pdf_links=['https://waves-vagues.dfo-mpo.gc.ca/library-bibliotheque/281762.pdf']\",\n",
       " 'RES 2003/057 (fr)': 'pdf_link_fr was not found on webpage (fr)',\n",
       " 'http://www.dfo-mpo.gc.ca/csas-sccs/publications/resdocs-docrech/2003/2003_057-eng.htm': \"pdf link not found. links on website: pdf_links=['https://waves-vagues.dfo-mpo.gc.ca/library-bibliotheque/281762.pdf']\",\n",
       " 'RES 2003/057 (en)': 'pdf_link_en was not found on webpage (en)',\n",
       " 'http://www.dfo-mpo.gc.ca/csas-sccs/publications/resdocs-docrech/2003/2003_058-fra.htm': \"pdf link not found. links on website: pdf_links=['https://waves-vagues.dfo-mpo.gc.ca/library-bibliotheque/275365.pdf']\",\n",
       " 'RES 2003/058 (fr)': 'pdf_link_fr was not found on webpage (fr)',\n",
       " 'http://www.dfo-mpo.gc.ca/csas-sccs/publications/resdocs-docrech/2003/2003_058-eng.htm': \"pdf link not found. links on website: pdf_links=['https://waves-vagues.dfo-mpo.gc.ca/library-bibliotheque/275365.pdf']\",\n",
       " 'RES 2003/058 (en)': 'pdf_link_en was not found on webpage (en)',\n",
       " 'http://www.dfo-mpo.gc.ca/csas-sccs/publications/resdocs-docrech/2003/2003_059-fra.htm': \"pdf link not found. links on website: pdf_links=['https://waves-vagues.dfo-mpo.gc.ca/library-bibliotheque/275373.pdf']\",\n",
       " 'RES 2003/059 (fr)': 'pdf_link_fr was not found on webpage (fr)',\n",
       " 'http://www.dfo-mpo.gc.ca/csas-sccs/publications/resdocs-docrech/2003/2003_059-eng.htm': \"pdf link not found. links on website: pdf_links=['https://waves-vagues.dfo-mpo.gc.ca/library-bibliotheque/275373.pdf']\",\n",
       " 'RES 2003/059 (en)': 'pdf_link_en was not found on webpage (en)',\n",
       " 'http://www.dfo-mpo.gc.ca/csas-sccs/publications/resdocs-docrech/2003/2003_060-fra.htm': \"pdf link not found. links on website: pdf_links=['https://waves-vagues.dfo-mpo.gc.ca/library-bibliotheque/274332.pdf']\",\n",
       " 'RES 2003/060 (fr)': 'pdf_link_fr was not found on webpage (fr)',\n",
       " 'http://www.dfo-mpo.gc.ca/csas-sccs/publications/resdocs-docrech/2003/2003_060-eng.htm': \"pdf link not found. links on website: pdf_links=['https://waves-vagues.dfo-mpo.gc.ca/library-bibliotheque/274332.pdf']\",\n",
       " 'RES 2003/060 (en)': 'pdf_link_en was not found on webpage (en)',\n",
       " 'http://www.dfo-mpo.gc.ca/csas-sccs/publications/resdocs-docrech/2003/2003_061-fra.htm': \"pdf link not found. links on website: pdf_links=['https://waves-vagues.dfo-mpo.gc.ca/library-bibliotheque/274329.pdf']\",\n",
       " 'RES 2003/061 (fr)': 'pdf_link_fr was not found on webpage (fr)',\n",
       " 'http://www.dfo-mpo.gc.ca/csas-sccs/publications/resdocs-docrech/2003/2003_061-eng.htm': \"pdf link not found. links on website: pdf_links=['https://waves-vagues.dfo-mpo.gc.ca/library-bibliotheque/274329.pdf']\",\n",
       " 'RES 2003/061 (en)': 'pdf_link_en was not found on webpage (en)',\n",
       " 'http://www.dfo-mpo.gc.ca/csas-sccs/publications/resdocs-docrech/2003/2003_062-fra.htm': \"pdf link not found. links on website: pdf_links=['https://waves-vagues.dfo-mpo.gc.ca/library-bibliotheque/276684.pdf']\",\n",
       " 'RES 2003/062 (fr)': 'pdf_link_fr was not found on webpage (fr)',\n",
       " 'http://www.dfo-mpo.gc.ca/csas-sccs/publications/resdocs-docrech/2003/2003_062-eng.htm': \"pdf link not found. links on website: pdf_links=['https://waves-vagues.dfo-mpo.gc.ca/library-bibliotheque/276684.pdf']\",\n",
       " 'RES 2003/062 (en)': 'pdf_link_en was not found on webpage (en)',\n",
       " 'http://www.dfo-mpo.gc.ca/csas-sccs/publications/resdocs-docrech/2003/2003_064-fra.htm': \"pdf link not found. links on website: pdf_links=['https://waves-vagues.dfo-mpo.gc.ca/library-bibliotheque/276325.pdf']\",\n",
       " 'RES 2003/064 (fr)': 'pdf_link_fr was not found on webpage (fr)',\n",
       " 'http://www.dfo-mpo.gc.ca/csas-sccs/publications/resdocs-docrech/2003/2003_064-eng.htm': \"pdf link not found. links on website: pdf_links=['https://waves-vagues.dfo-mpo.gc.ca/library-bibliotheque/276325.pdf']\",\n",
       " 'RES 2003/064 (en)': 'pdf_link_en was not found on webpage (en)',\n",
       " 'http://www.dfo-mpo.gc.ca/csas-sccs/publications/resdocs-docrech/2003/2003_066-fra.htm': \"pdf link not found. links on website: pdf_links=['https://waves-vagues.dfo-mpo.gc.ca/library-bibliotheque/275367.pdf']\",\n",
       " 'RES 2003/066 (fr)': 'pdf_link_fr was not found on webpage (fr)',\n",
       " 'http://www.dfo-mpo.gc.ca/csas-sccs/publications/resdocs-docrech/2003/2003_066-eng.htm': \"pdf link not found. links on website: pdf_links=['https://waves-vagues.dfo-mpo.gc.ca/library-bibliotheque/275367.pdf']\",\n",
       " 'RES 2003/066 (en)': 'pdf_link_en was not found on webpage (en)',\n",
       " 'http://www.dfo-mpo.gc.ca/csas-sccs/publications/resdocs-docrech/2003/2003_067-fra.htm': \"pdf link not found. links on website: pdf_links=['https://waves-vagues.dfo-mpo.gc.ca/library-bibliotheque/277448.pdf']\",\n",
       " 'RES 2003/067 (fr)': 'pdf_link_fr was not found on webpage (fr)',\n",
       " 'http://www.dfo-mpo.gc.ca/csas-sccs/publications/resdocs-docrech/2003/2003_067-eng.htm': \"pdf link not found. links on website: pdf_links=['https://waves-vagues.dfo-mpo.gc.ca/library-bibliotheque/277448.pdf']\",\n",
       " 'RES 2003/067 (en)': 'pdf_link_en was not found on webpage (en)',\n",
       " 'http://www.dfo-mpo.gc.ca/csas-sccs/publications/resdocs-docrech/2003/2003_068-fra.htm': \"pdf link not found. links on website: pdf_links=['https://waves-vagues.dfo-mpo.gc.ca/library-bibliotheque/276335.pdf']\",\n",
       " 'RES 2003/068 (fr)': 'pdf_link_fr was not found on webpage (fr)',\n",
       " 'http://www.dfo-mpo.gc.ca/csas-sccs/publications/resdocs-docrech/2003/2003_068-eng.htm': \"pdf link not found. links on website: pdf_links=['https://waves-vagues.dfo-mpo.gc.ca/library-bibliotheque/276335.pdf']\",\n",
       " 'RES 2003/068 (en)': 'pdf_link_en was not found on webpage (en)',\n",
       " 'http://www.dfo-mpo.gc.ca/csas-sccs/publications/resdocs-docrech/2003/2003_070-fra.htm': \"pdf link not found. links on website: pdf_links=['https://waves-vagues.dfo-mpo.gc.ca/library-bibliotheque/276333.pdf']\",\n",
       " 'RES 2003/070 (fr)': 'pdf_link_fr was not found on webpage (fr)',\n",
       " 'http://www.dfo-mpo.gc.ca/csas-sccs/publications/resdocs-docrech/2003/2003_070-eng.htm': \"pdf link not found. links on website: pdf_links=['https://waves-vagues.dfo-mpo.gc.ca/library-bibliotheque/276333.pdf']\",\n",
       " 'RES 2003/070 (en)': 'pdf_link_en was not found on webpage (en)',\n",
       " 'http://www.dfo-mpo.gc.ca/csas-sccs/publications/resdocs-docrech/2003/2003_073-fra.htm': \"pdf link not found. links on website: pdf_links=['https://waves-vagues.dfo-mpo.gc.ca/library-bibliotheque/277458.pdf']\",\n",
       " 'RES 2003/073 (fr)': 'pdf_link_fr was not found on webpage (fr)',\n",
       " 'http://www.dfo-mpo.gc.ca/csas-sccs/publications/resdocs-docrech/2003/2003_073-eng.htm': \"pdf link not found. links on website: pdf_links=['https://waves-vagues.dfo-mpo.gc.ca/library-bibliotheque/277458.pdf']\",\n",
       " 'RES 2003/073 (en)': 'pdf_link_en was not found on webpage (en)',\n",
       " 'http://www.dfo-mpo.gc.ca/csas-sccs/publications/resdocs-docrech/2003/2003_074-fra.htm': \"pdf link not found. links on website: pdf_links=['https://waves-vagues.dfo-mpo.gc.ca/library-bibliotheque/276331.pdf']\",\n",
       " 'RES 2003/074 (fr)': 'pdf_link_fr was not found on webpage (fr)',\n",
       " 'http://www.dfo-mpo.gc.ca/csas-sccs/publications/resdocs-docrech/2003/2003_074-eng.htm': \"pdf link not found. links on website: pdf_links=['https://waves-vagues.dfo-mpo.gc.ca/library-bibliotheque/276331.pdf']\",\n",
       " 'RES 2003/074 (en)': 'pdf_link_en was not found on webpage (en)',\n",
       " 'http://www.dfo-mpo.gc.ca/csas-sccs/publications/resdocs-docrech/2003/2003_075-fra.htm': \"pdf link not found. links on website: pdf_links=['https://waves-vagues.dfo-mpo.gc.ca/library-bibliotheque/282231.pdf']\",\n",
       " 'RES 2003/075 (fr)': 'pdf_link_fr was not found on webpage (fr)',\n",
       " 'http://www.dfo-mpo.gc.ca/csas-sccs/publications/resdocs-docrech/2003/2003_075-eng.htm': \"pdf link not found. links on website: pdf_links=['https://waves-vagues.dfo-mpo.gc.ca/library-bibliotheque/282231.pdf']\",\n",
       " 'RES 2003/075 (en)': 'pdf_link_en was not found on webpage (en)',\n",
       " 'http://www.dfo-mpo.gc.ca/csas-sccs/publications/resdocs-docrech/2003/2003_079-fra.htm': \"pdf link not found. links on website: pdf_links=['https://waves-vagues.dfo-mpo.gc.ca/library-bibliotheque/279332.pdf']\",\n",
       " 'RES 2003/079 (fr)': 'pdf_link_fr was not found on webpage (fr)',\n",
       " 'http://www.dfo-mpo.gc.ca/csas-sccs/publications/resdocs-docrech/2003/2003_079-eng.htm': \"pdf link not found. links on website: pdf_links=['https://waves-vagues.dfo-mpo.gc.ca/library-bibliotheque/279332.pdf']\",\n",
       " 'RES 2003/079 (en)': 'pdf_link_en was not found on webpage (en)',\n",
       " 'http://www.dfo-mpo.gc.ca/csas-sccs/publications/resdocs-docrech/2003/2003_080-fra.htm': \"pdf link not found. links on website: pdf_links=['https://waves-vagues.dfo-mpo.gc.ca/library-bibliotheque/279333.pdf']\",\n",
       " 'RES 2003/080 (fr)': 'pdf_link_fr was not found on webpage (fr)',\n",
       " 'http://www.dfo-mpo.gc.ca/csas-sccs/publications/resdocs-docrech/2003/2003_080-eng.htm': \"pdf link not found. links on website: pdf_links=['https://waves-vagues.dfo-mpo.gc.ca/library-bibliotheque/279333.pdf']\",\n",
       " 'RES 2003/080 (en)': 'pdf_link_en was not found on webpage (en)',\n",
       " 'http://www.dfo-mpo.gc.ca/csas-sccs/publications/resdocs-docrech/2003/2003_085-fra.htm': \"pdf link not found. links on website: pdf_links=['https://waves-vagues.dfo-mpo.gc.ca/library-bibliotheque/279331.pdf']\",\n",
       " 'RES 2003/085 (fr)': 'pdf_link_fr was not found on webpage (fr)',\n",
       " 'http://www.dfo-mpo.gc.ca/csas-sccs/publications/resdocs-docrech/2003/2003_085-eng.htm': \"pdf link not found. links on website: pdf_links=['https://waves-vagues.dfo-mpo.gc.ca/library-bibliotheque/279331.pdf']\",\n",
       " 'RES 2003/085 (en)': 'pdf_link_en was not found on webpage (en)',\n",
       " 'http://www.dfo-mpo.gc.ca/csas-sccs/publications/resdocs-docrech/2003/2003_086-fra.htm': \"pdf link not found. links on website: pdf_links=['https://waves-vagues.dfo-mpo.gc.ca/library-bibliotheque/276678.pdf']\",\n",
       " 'RES 2003/086 (fr)': 'pdf_link_fr was not found on webpage (fr)',\n",
       " 'http://www.dfo-mpo.gc.ca/csas-sccs/publications/resdocs-docrech/2003/2003_086-eng.htm': \"pdf link not found. links on website: pdf_links=['https://waves-vagues.dfo-mpo.gc.ca/library-bibliotheque/276678.pdf']\",\n",
       " 'RES 2003/086 (en)': 'pdf_link_en was not found on webpage (en)',\n",
       " 'http://www.dfo-mpo.gc.ca/csas-sccs/publications/resdocs-docrech/2003/2003_087-fra.htm': \"pdf link not found. links on website: pdf_links=['https://waves-vagues.dfo-mpo.gc.ca/library-bibliotheque/277453.pdf']\",\n",
       " 'RES 2003/087 (fr)': 'pdf_link_fr was not found on webpage (fr)',\n",
       " 'http://www.dfo-mpo.gc.ca/csas-sccs/publications/resdocs-docrech/2003/2003_087-eng.htm': \"pdf link not found. links on website: pdf_links=['https://waves-vagues.dfo-mpo.gc.ca/library-bibliotheque/277453.pdf']\",\n",
       " 'RES 2003/087 (en)': 'pdf_link_en was not found on webpage (en)',\n",
       " 'http://www.dfo-mpo.gc.ca/csas-sccs/publications/resdocs-docrech/2003/2003_090-fra.htm': \"pdf link not found. links on website: pdf_links=['https://waves-vagues.dfo-mpo.gc.ca/library-bibliotheque/281984.pdf']\",\n",
       " 'RES 2003/090 (fr)': 'pdf_link_fr was not found on webpage (fr)',\n",
       " 'http://www.dfo-mpo.gc.ca/csas-sccs/publications/resdocs-docrech/2003/2003_090-eng.htm': \"pdf link not found. links on website: pdf_links=['https://waves-vagues.dfo-mpo.gc.ca/library-bibliotheque/281984.pdf']\",\n",
       " 'RES 2003/090 (en)': 'pdf_link_en was not found on webpage (en)',\n",
       " 'http://www.dfo-mpo.gc.ca/csas-sccs/publications/resdocs-docrech/2003/2003_097-fra.htm': \"pdf link not found. links on website: pdf_links=['https://waves-vagues.dfo-mpo.gc.ca/library-bibliotheque/284534.pdf']\",\n",
       " 'RES 2003/097 (fr)': 'pdf_link_fr was not found on webpage (fr)',\n",
       " 'http://www.dfo-mpo.gc.ca/csas-sccs/publications/resdocs-docrech/2003/2003_097-eng.htm': \"pdf link not found. links on website: pdf_links=['https://waves-vagues.dfo-mpo.gc.ca/library-bibliotheque/284534.pdf']\",\n",
       " 'RES 2003/097 (en)': 'pdf_link_en was not found on webpage (en)',\n",
       " 'http://www.dfo-mpo.gc.ca/csas-sccs/publications/resdocs-docrech/2003/2003_100-fra.htm': \"pdf link not found. links on website: pdf_links=['https://waves-vagues.dfo-mpo.gc.ca/library-bibliotheque/281667.pdf']\",\n",
       " 'RES 2003/100 (fr)': 'pdf_link_fr was not found on webpage (fr)',\n",
       " 'http://www.dfo-mpo.gc.ca/csas-sccs/publications/resdocs-docrech/2003/2003_100-eng.htm': \"pdf link not found. links on website: pdf_links=['https://waves-vagues.dfo-mpo.gc.ca/library-bibliotheque/281667.pdf']\",\n",
       " 'RES 2003/100 (en)': 'pdf_link_en was not found on webpage (en)',\n",
       " 'http://www.dfo-mpo.gc.ca/csas-sccs/publications/resdocs-docrech/2003/2003_102-fra.htm': \"pdf link not found. links on website: pdf_links=['https://waves-vagues.dfo-mpo.gc.ca/library-bibliotheque/281754.pdf']\",\n",
       " 'RES 2003/102 (fr)': 'pdf_link_fr was not found on webpage (fr)',\n",
       " 'http://www.dfo-mpo.gc.ca/csas-sccs/publications/resdocs-docrech/2003/2003_102-eng.htm': \"pdf link not found. links on website: pdf_links=['https://waves-vagues.dfo-mpo.gc.ca/library-bibliotheque/281754.pdf']\",\n",
       " 'RES 2003/102 (en)': 'pdf_link_en was not found on webpage (en)',\n",
       " 'http://www.dfo-mpo.gc.ca/csas-sccs/publications/resdocs-docrech/2003/2003_103-fra.htm': \"pdf link not found. links on website: pdf_links=['https://waves-vagues.dfo-mpo.gc.ca/library-bibliotheque/281755.pdf']\",\n",
       " 'RES 2003/103 (fr)': 'pdf_link_fr was not found on webpage (fr)',\n",
       " 'http://www.dfo-mpo.gc.ca/csas-sccs/publications/resdocs-docrech/2003/2003_103-eng.htm': \"pdf link not found. links on website: pdf_links=['https://waves-vagues.dfo-mpo.gc.ca/library-bibliotheque/281755.pdf']\",\n",
       " 'RES 2003/103 (en)': 'pdf_link_en was not found on webpage (en)',\n",
       " 'http://www.dfo-mpo.gc.ca/csas-sccs/publications/resdocs-docrech/2003/2003_108-fra.htm': \"pdf link not found. links on website: pdf_links=['https://waves-vagues.dfo-mpo.gc.ca/library-bibliotheque/281757.pdf']\",\n",
       " 'RES 2003/108 (fr)': 'pdf_link_fr was not found on webpage (fr)',\n",
       " 'http://www.dfo-mpo.gc.ca/csas-sccs/publications/resdocs-docrech/2003/2003_108-eng.htm': \"pdf link not found. links on website: pdf_links=['https://waves-vagues.dfo-mpo.gc.ca/library-bibliotheque/281757.pdf']\",\n",
       " 'RES 2003/108 (en)': 'pdf_link_en was not found on webpage (en)',\n",
       " 'http://www.dfo-mpo.gc.ca/csas-sccs/publications/resdocs-docrech/2003/2003_109-fra.htm': \"pdf link not found. links on website: pdf_links=['https://waves-vagues.dfo-mpo.gc.ca/library-bibliotheque/281985.pdf']\",\n",
       " 'RES 2003/109 (fr)': 'pdf_link_fr was not found on webpage (fr)',\n",
       " 'http://www.dfo-mpo.gc.ca/csas-sccs/publications/resdocs-docrech/2003/2003_109-eng.htm': \"pdf link not found. links on website: pdf_links=['https://waves-vagues.dfo-mpo.gc.ca/library-bibliotheque/281985.pdf']\",\n",
       " 'RES 2003/109 (en)': 'pdf_link_en was not found on webpage (en)',\n",
       " 'http://www.dfo-mpo.gc.ca/csas-sccs/publications/resdocs-docrech/2003/2003_110-fra.htm': \"pdf link not found. links on website: pdf_links=['https://waves-vagues.dfo-mpo.gc.ca/library-bibliotheque/281986.pdf']\",\n",
       " 'RES 2003/110 (fr)': 'pdf_link_fr was not found on webpage (fr)',\n",
       " 'http://www.dfo-mpo.gc.ca/csas-sccs/publications/resdocs-docrech/2003/2003_110-eng.htm': \"pdf link not found. links on website: pdf_links=['https://waves-vagues.dfo-mpo.gc.ca/library-bibliotheque/281986.pdf']\",\n",
       " 'RES 2003/110 (en)': 'pdf_link_en was not found on webpage (en)',\n",
       " 'http://www.dfo-mpo.gc.ca/csas-sccs/publications/resdocs-docrech/2003/2003_111-fra.htm': \"pdf link not found. links on website: pdf_links=['https://waves-vagues.dfo-mpo.gc.ca/library-bibliotheque/281987.pdf']\",\n",
       " 'RES 2003/111 (fr)': 'pdf_link_fr was not found on webpage (fr)',\n",
       " 'http://www.dfo-mpo.gc.ca/csas-sccs/publications/resdocs-docrech/2003/2003_111-eng.htm': \"pdf link not found. links on website: pdf_links=['https://waves-vagues.dfo-mpo.gc.ca/library-bibliotheque/281987.pdf']\",\n",
       " 'RES 2003/111 (en)': 'pdf_link_en was not found on webpage (en)',\n",
       " 'http://www.dfo-mpo.gc.ca/csas-sccs/publications/resdocs-docrech/2003/2003_112-fra.htm': \"pdf link not found. links on website: pdf_links=['https://waves-vagues.dfo-mpo.gc.ca/library-bibliotheque/281758.pdf']\",\n",
       " 'RES 2003/112 (fr)': 'pdf_link_fr was not found on webpage (fr)',\n",
       " 'http://www.dfo-mpo.gc.ca/csas-sccs/publications/resdocs-docrech/2003/2003_112-eng.htm': \"pdf link not found. links on website: pdf_links=['https://waves-vagues.dfo-mpo.gc.ca/library-bibliotheque/281758.pdf']\",\n",
       " 'RES 2003/112 (en)': 'pdf_link_en was not found on webpage (en)',\n",
       " 'http://www.dfo-mpo.gc.ca/csas-sccs/publications/resdocs-docrech/2003/2003_114-fra.htm': \"pdf link not found. links on website: pdf_links=['https://waves-vagues.dfo-mpo.gc.ca/library-bibliotheque/281836.pdf']\",\n",
       " 'RES 2003/114 (fr)': 'pdf_link_fr was not found on webpage (fr)',\n",
       " 'http://www.dfo-mpo.gc.ca/csas-sccs/publications/resdocs-docrech/2003/2003_114-eng.htm': \"pdf link not found. links on website: pdf_links=['https://waves-vagues.dfo-mpo.gc.ca/library-bibliotheque/281836.pdf']\",\n",
       " 'RES 2003/114 (en)': 'pdf_link_en was not found on webpage (en)',\n",
       " 'http://www.dfo-mpo.gc.ca/csas-sccs/publications/resdocs-docrech/2003/2003_115-fra.htm': \"pdf link not found. links on website: pdf_links=['https://waves-vagues.dfo-mpo.gc.ca/library-bibliotheque/282779.pdf']\",\n",
       " 'RES 2003/115 (fr)': 'pdf_link_fr was not found on webpage (fr)',\n",
       " 'http://www.dfo-mpo.gc.ca/csas-sccs/publications/resdocs-docrech/2003/2003_115-eng.htm': \"pdf link not found. links on website: pdf_links=['https://waves-vagues.dfo-mpo.gc.ca/library-bibliotheque/282779.pdf']\",\n",
       " 'RES 2003/115 (en)': 'pdf_link_en was not found on webpage (en)',\n",
       " 'http://www.dfo-mpo.gc.ca/csas-sccs/publications/resdocs-docrech/2003/2003_116-fra.htm': \"pdf link not found. links on website: pdf_links=['https://waves-vagues.dfo-mpo.gc.ca/library-bibliotheque/281838.pdf']\",\n",
       " 'RES 2003/116 (fr)': 'pdf_link_fr was not found on webpage (fr)',\n",
       " 'http://www.dfo-mpo.gc.ca/csas-sccs/publications/resdocs-docrech/2003/2003_116-eng.htm': \"pdf link not found. links on website: pdf_links=['https://waves-vagues.dfo-mpo.gc.ca/library-bibliotheque/281838.pdf']\",\n",
       " 'RES 2003/116 (en)': 'pdf_link_en was not found on webpage (en)',\n",
       " 'http://www.dfo-mpo.gc.ca/csas-sccs/publications/resdocs-docrech/2003/2003_117-fra.htm': \"pdf link not found. links on website: pdf_links=['https://waves-vagues.dfo-mpo.gc.ca/library-bibliotheque/282233.pdf']\",\n",
       " 'RES 2003/117 (fr)': 'pdf_link_fr was not found on webpage (fr)',\n",
       " 'http://www.dfo-mpo.gc.ca/csas-sccs/publications/resdocs-docrech/2003/2003_117-eng.htm': \"pdf link not found. links on website: pdf_links=['https://waves-vagues.dfo-mpo.gc.ca/library-bibliotheque/282233.pdf']\",\n",
       " 'RES 2003/117 (en)': 'pdf_link_en was not found on webpage (en)',\n",
       " 'http://www.dfo-mpo.gc.ca/csas-sccs/publications/resdocs-docrech/2003/2003_118-fra.htm': \"pdf link not found. links on website: pdf_links=['https://waves-vagues.dfo-mpo.gc.ca/library-bibliotheque/281988.pdf']\",\n",
       " 'RES 2003/118 (fr)': 'pdf_link_fr was not found on webpage (fr)',\n",
       " 'http://www.dfo-mpo.gc.ca/csas-sccs/publications/resdocs-docrech/2003/2003_118-eng.htm': \"pdf link not found. links on website: pdf_links=['https://waves-vagues.dfo-mpo.gc.ca/library-bibliotheque/281988.pdf']\",\n",
       " 'RES 2003/118 (en)': 'pdf_link_en was not found on webpage (en)',\n",
       " 'http://www.dfo-mpo.gc.ca/csas-sccs/publications/resdocs-docrech/2003/2003_119-fra.htm': \"pdf link not found. links on website: pdf_links=['https://waves-vagues.dfo-mpo.gc.ca/library-bibliotheque/281982.pdf']\",\n",
       " 'RES 2003/119 (fr)': 'pdf_link_fr was not found on webpage (fr)',\n",
       " 'http://www.dfo-mpo.gc.ca/csas-sccs/publications/resdocs-docrech/2003/2003_119-eng.htm': \"pdf link not found. links on website: pdf_links=['https://waves-vagues.dfo-mpo.gc.ca/library-bibliotheque/281982.pdf']\",\n",
       " 'RES 2003/119 (en)': 'pdf_link_en was not found on webpage (en)',\n",
       " 'http://www.dfo-mpo.gc.ca/csas-sccs/publications/resdocs-docrech/2003/2003_121-fra.htm': \"pdf link not found. links on website: pdf_links=['https://waves-vagues.dfo-mpo.gc.ca/library-bibliotheque/282781.pdf']\",\n",
       " 'RES 2003/121 (fr)': 'pdf_link_fr was not found on webpage (fr)',\n",
       " 'http://www.dfo-mpo.gc.ca/csas-sccs/publications/resdocs-docrech/2003/2003_121-eng.htm': \"pdf link not found. links on website: pdf_links=['https://waves-vagues.dfo-mpo.gc.ca/library-bibliotheque/282781.pdf']\",\n",
       " 'RES 2003/121 (en)': 'pdf_link_en was not found on webpage (en)',\n",
       " 'RES 2003/106 (fr)': 'pdf_link_fr was not found on webpage (fr)',\n",
       " 'RES 2003/106 (en)': 'pdf_link_en was not found on webpage (en)',\n",
       " 'RES 2003/054 (fr)': 'pdf_link_fr was not found on webpage (fr)',\n",
       " 'RES 2003/054 (en)': 'pdf_link_en was not found on webpage (en)',\n",
       " 'RES 2003/053 (fr)': 'pdf_link_fr was not found on webpage (fr)',\n",
       " 'RES 2003/053 (en)': 'pdf_link_en was not found on webpage (en)',\n",
       " 'RES 2003/052 (fr)': 'pdf_link_fr was not found on webpage (fr)',\n",
       " 'RES 2003/052 (en)': 'pdf_link_en was not found on webpage (en)',\n",
       " 'RES 2003/029 (fr)': 'pdf_link_fr was not found on webpage (fr)',\n",
       " 'RES 2003/029 (en)': 'pdf_link_en was not found on webpage (en)',\n",
       " 'RES 2003/113 (fr)': 'pdf_link_fr was not found on webpage (fr)',\n",
       " 'RES 2003/113 (en)': 'pdf_link_en was not found on webpage (en)',\n",
       " 'RES 2004/115 (fr)': 'pdf_link_fr was not found on webpage (fr)',\n",
       " 'RES 2004/115 (en)': 'pdf_link_en was not found on webpage (en)',\n",
       " 'RES 2005/076 (fr)': 'pdf_link_fr was not found on webpage (fr)',\n",
       " 'RES 2005/076 (en)': 'pdf_link_en was not found on webpage (en)',\n",
       " 'RES 2005/080 (fr)': 'pdf_link_fr was not found on webpage (fr)',\n",
       " 'RES 2005/080 (en)': 'pdf_link_en was not found on webpage (en)',\n",
       " 'RES 2006/013 (fr)': 'pdf_link_fr was not found on webpage (fr)',\n",
       " 'RES 2006/013 (en)': 'pdf_link_en was not found on webpage (en)',\n",
       " 'http://www.dfo-mpo.gc.ca/csas-sccs/Publications/ResDocs-DocRech/2012/2012_156-fra.html': \"pdf link not found. links on website: pdf_links=['http://publications.gc.ca/collections/collection_2013/mpo-dfo/Fs70-5-2012-156-eng.pdf']\",\n",
       " 'RES 2012/156 (fr)': 'pdf_link_fr was not found on webpage (fr)',\n",
       " 'http://www.dfo-mpo.gc.ca/csas-sccs/Publications/ResDocs-DocRech/2012/2012_156-eng.html': \"pdf link not found. links on website: pdf_links=['http://publications.gc.ca/collections/collection_2013/mpo-dfo/Fs70-5-2012-156-eng.pdf']\",\n",
       " 'RES 2012/156 (en)': 'pdf_link_en was not found on webpage (en)',\n",
       " 'http://www.dfo-mpo.gc.ca/csas-sccs/Publications/ResDocs-DocRech/2018/2018_019-fra.html': \"pdf link not found. links on website: pdf_links=['https://waves-vagues.dfo-mpo.gc.ca/library-bibliotheque/40702285.pdf']\",\n",
       " 'RES 2018/019 (fr)': 'pdf_link_fr was not found on webpage (fr)',\n",
       " 'http://www.dfo-mpo.gc.ca/csas-sccs/Publications/ResDocs-DocRech/2018/2018_019-eng.html': \"pdf link not found. links on website: pdf_links=['https://waves-vagues.dfo-mpo.gc.ca/library-bibliotheque/40702285.pdf']\",\n",
       " 'RES 2018/019 (en)': 'pdf_link_en was not found on webpage (en)',\n",
       " 'http://www.dfo-mpo.gc.ca/csas-sccs/Publications/ResDocs-DocRech/2019/2019_002-fra.html': \"pdf link not found. links on website: pdf_links=['https://waves-vagues.dfo-mpo.gc.ca/library-bibliotheque/40879252.pdf']\",\n",
       " 'RES 2019/002 (fr)': 'pdf_link_fr was not found on webpage (fr)',\n",
       " 'http://www.dfo-mpo.gc.ca/csas-sccs/Publications/ResDocs-DocRech/2019/2019_002-eng.html': \"pdf link not found. links on website: pdf_links=['https://waves-vagues.dfo-mpo.gc.ca/library-bibliotheque/40879227.pdf']\",\n",
       " 'RES 2019/002 (en)': 'pdf_link_en was not found on webpage (en)',\n",
       " 'http://www.dfo-mpo.gc.ca/csas-sccs/Publications/ResDocs-DocRech/2019/2019_023-fra.html': \"pdf link not found. links on website: pdf_links=['https://waves-vagues.dfo-mpo.gc.ca/library-bibliotheque/40947804.pdf']\",\n",
       " 'RES 2019/023 (fr)': 'pdf_link_fr was not found on webpage (fr)',\n",
       " 'http://www.dfo-mpo.gc.ca/csas-sccs/Publications/ResDocs-DocRech/2020/2020_040-fra.html': \"pdf link not found. links on website: pdf_links=['https://waves-vagues.dfo-mpo.gc.ca/library-bibliotheque/40928743.pdf']\",\n",
       " 'RES 2020/040 (fr)': 'pdf_link_fr was not found on webpage (fr)',\n",
       " 'http://www.dfo-mpo.gcca/csas-sccs/Publications/ResDocs-DocRech/2021/2021_033-fra.html': 'find_pdf_link Error: HTTPConnectionPool(host=\\'www.dfo-mpo.gcca\\', port=80): Max retries exceeded with url: /csas-sccs/Publications/ResDocs-DocRech/2021/2021_033-fra.html (Caused by NameResolutionError(\"<urllib3.connection.HTTPConnection object at 0x00000207E3852D20>: Failed to resolve \\'www.dfo-mpo.gcca\\' ([Errno 11001] getaddrinfo failed)\"))',\n",
       " 'RES 2021/033 (fr)': 'pdf_link_fr was not found on webpage (fr)',\n",
       " 'https://www.dfo-mpo.gc.ca/csas-sccs/Publications/ResDocs-DocRech/2023/2023_086-fra.html': \"pdf link not found. links on website: pdf_links=['https://waves-vagues.dfo-mpo.gc.ca/library-bibliotheque/41265592.pdf']\",\n",
       " 'RES 2023/086 (fr)': 'pdf_link_fr was not found on webpage (fr)',\n",
       " 'https://www.dfo-mpo.gc.ca/csas-sccs/Publications/ResDocs-DocRech/2023/2023_086-eng.html': \"pdf link not found. links on website: pdf_links=['https://waves-vagues.dfo-mpo.gc.ca/library-bibliotheque/41265579.pdf']\",\n",
       " 'RES 2023/086 (en)': 'pdf_link_en was not found on webpage (en)',\n",
       " 'https://www.dfo-mpo.gc.ca/csas-sccs/Publications/ResDocs-DocRech/2024/2024_070-fra.html': \"pdf link not found. links on website: pdf_links=['https://waves-vagues.dfo-mpo.gc.ca/library-bibliotheque/41265610.pdf']\",\n",
       " 'RES 2024/070 (fr)': 'pdf_link_fr was not found on webpage (fr)',\n",
       " 'https://www.dfo-mpo.gc.ca/csas-sccs/Publications/ResDocs-DocRech/2024/2024_070-eng.html': \"pdf link not found. links on website: pdf_links=['https://waves-vagues.dfo-mpo.gc.ca/library-bibliotheque/41265609.pdf']\",\n",
       " 'RES 2024/070 (en)': 'pdf_link_en was not found on webpage (en)',\n",
       " 'https://www.dfo-mpo.gc.ca/csas-sccs/Publications/ResDocs-DocRech/2024/2024_064-fra.html': \"pdf link not found. links on website: pdf_links=['https://waves-vagues.dfo-mpo.gc.ca/library-bibliotheque/41265543.pdf']\",\n",
       " 'RES 2024/064 (fr)': 'pdf_link_fr was not found on webpage (fr)',\n",
       " 'https://www.dfo-mpo.gc.ca/csas-sccs/Publications/ResDocs-DocRech/2024/2024_064-eng.html': \"pdf link not found. links on website: pdf_links=['https://waves-vagues.dfo-mpo.gc.ca/library-bibliotheque/41265427.pdf']\",\n",
       " 'RES 2024/064 (en)': 'pdf_link_en was not found on webpage (en)',\n",
       " 'https://www.dfo-mpo.gc.ca/csas-sccs/Publications/ResDocs-DocRech/2024/2024_065-fra.html': \"pdf link not found. links on website: pdf_links=['https://waves-vagues.dfo-mpo.gc.ca/library-bibliotheque/41265567.pdf']\",\n",
       " 'RES 2024/065 (fr)': 'pdf_link_fr was not found on webpage (fr)',\n",
       " 'https://www.dfo-mpo.gc.ca/csas-sccs/Publications/ResDocs-DocRech/2024/2024_065-eng.html': \"pdf link not found. links on website: pdf_links=['https://waves-vagues.dfo-mpo.gc.ca/library-bibliotheque/41265555.pdf']\",\n",
       " 'RES 2024/065 (en)': 'pdf_link_en was not found on webpage (en)',\n",
       " 'https://www.dfo-mpo.gc.ca/csas-sccs/Publications/ResDocs-DocRech/2024/2024_068-fra.html': \"pdf link not found. links on website: pdf_links=['https://waves-vagues.dfo-mpo.gc.ca/library-bibliotheque/41265646.pdf']\",\n",
       " 'RES 2024/068 (fr)': 'pdf_link_fr was not found on webpage (fr)',\n",
       " 'https://www.dfo-mpo.gc.ca/csas-sccs/Publications/ResDocs-DocRech/2024/2024_068-eng.html': \"pdf link not found. links on website: pdf_links=['https://waves-vagues.dfo-mpo.gc.ca/library-bibliotheque/41265622.pdf']\",\n",
       " 'RES 2024/068 (en)': 'pdf_link_en was not found on webpage (en)',\n",
       " 'https://www.dfo-mpo.gc.ca/csas-sccs/Publications/ResDocs-DocRech/2024/2024_074-fra.html': \"pdf link not found. links on website: pdf_links=['https://waves-vagues.dfo-mpo.gc.ca/library-bibliotheque/41270885.pdf']\",\n",
       " 'RES 2024/074 (fr)': 'pdf_link_fr was not found on webpage (fr)',\n",
       " 'https://www.dfo-mpo.gc.ca/csas-sccs/Publications/ResDocs-DocRech/2024/2024_074-eng.html': \"pdf link not found. links on website: pdf_links=['https://waves-vagues.dfo-mpo.gc.ca/library-bibliotheque/41270873.pdf']\",\n",
       " 'RES 2024/074 (en)': 'pdf_link_en was not found on webpage (en)',\n",
       " 'https://www.dfo-mpo.gc.ca/csas-sccs/Publications/ResDocs-DocRech/2024/2024_076-fra.html': \"pdf link not found. links on website: pdf_links=['https://waves-vagues.dfo-mpo.gc.ca/library-bibliotheque/41271038.pdf']\",\n",
       " 'RES 2024/076 (fr)': 'pdf_link_fr was not found on webpage (fr)',\n",
       " 'https://www.dfo-mpo.gc.ca/csas-sccs/Publications/ResDocs-DocRech/2024/2024_076-eng.html': \"pdf link not found. links on website: pdf_links=['https://waves-vagues.dfo-mpo.gc.ca/library-bibliotheque/41271026.pdf']\",\n",
       " 'RES 2024/076 (en)': 'pdf_link_en was not found on webpage (en)',\n",
       " 'https://www.dfo-mpo.gc.ca/csas-sccs/Publications/ResDocs-DocRech/2024/2024_048-fra.html': 'pdf link not found. links on website: pdf_links=[]',\n",
       " 'RES 2024/048 (fr)': 'pdf_link_fr was not found on webpage (fr)',\n",
       " 'https://www.dfo-mpo.gc.ca/csas-sccs/Publications/ResDocs-DocRech/2024/2024_048-eng.html': 'pdf link not found. links on website: pdf_links=[]',\n",
       " 'RES 2024/048 (en)': 'pdf_link_en was not found on webpage (en)',\n",
       " 'https://www.dfo-mpo.gc.ca/csas-sccs/Publications/ResDocs-DocRech/2024/2024_078-fra.html': \"pdf link not found. links on website: pdf_links=['https://waves-vagues.dfo-mpo.gc.ca/library-bibliotheque/41271099.pdf']\",\n",
       " 'RES 2024/078 (fr)': 'pdf_link_fr was not found on webpage (fr)',\n",
       " 'https://www.dfo-mpo.gc.ca/csas-sccs/Publications/ResDocs-DocRech/2024/2024_078-eng.html': \"pdf link not found. links on website: pdf_links=['https://waves-vagues.dfo-mpo.gc.ca/library-bibliotheque/41271087.pdf']\",\n",
       " 'RES 2024/078 (en)': 'pdf_link_en was not found on webpage (en)',\n",
       " 'https://www.dfo-mpo.gc.ca/csas-sccs/Publications/ResDocs-DocRech/2024/2024_077-fra.html': \"pdf link not found. links on website: pdf_links=['https://waves-vagues.dfo-mpo.gc.ca/library-bibliotheque/41271142.pdf']\",\n",
       " 'RES 2024/077 (fr)': 'pdf_link_fr was not found on webpage (fr)',\n",
       " 'https://www.dfo-mpo.gc.ca/csas-sccs/Publications/ResDocs-DocRech/2024/2024_077-eng.html': \"pdf link not found. links on website: pdf_links=['https://waves-vagues.dfo-mpo.gc.ca/library-bibliotheque/41271129.pdf']\",\n",
       " 'RES 2024/077 (en)': 'pdf_link_en was not found on webpage (en)',\n",
       " 'https://www.dfo-mpo.gc.ca/csas-sccs/Publications/ResDocs-DocRech/2024/2024_069-fra.html': \"pdf link not found. links on website: pdf_links=['https://waves-vagues.dfo-mpo.gc.ca/library-bibliotheque/41272638.pdf']\",\n",
       " 'RES 2024/069 (fr)': 'pdf_link_fr was not found on webpage (fr)',\n",
       " 'https://www.dfo-mpo.gc.ca/csas-sccs/Publications/ResDocs-DocRech/2024/2024_069-eng.html': \"pdf link not found. links on website: pdf_links=['https://waves-vagues.dfo-mpo.gc.ca/library-bibliotheque/41272626.pdf']\",\n",
       " 'RES 2024/069 (en)': 'pdf_link_en was not found on webpage (en)',\n",
       " 'https://www.dfo-mpo.gc.ca/csas-sccs/Publications/ResDocs-DocRech/2024/2024_073-fra.html': \"pdf link not found. links on website: pdf_links=['https://waves-vagues.dfo-mpo.gc.ca/library-bibliotheque/41272870.pdf']\",\n",
       " 'RES 2024/073 (fr)': 'pdf_link_fr was not found on webpage (fr)',\n",
       " 'https://www.dfo-mpo.gc.ca/csas-sccs/Publications/ResDocs-DocRech/2024/2024_073-eng.html': \"pdf link not found. links on website: pdf_links=['https://waves-vagues.dfo-mpo.gc.ca/library-bibliotheque/41272808.pdf']\",\n",
       " 'RES 2024/073 (en)': 'pdf_link_en was not found on webpage (en)',\n",
       " 'https://www.dfo-mpo.gc.ca/csas-sccs/Publications/ResDocs-DocRech/2024/2024_075-fra.html': \"pdf link not found. links on website: pdf_links=['https://waves-vagues.dfo-mpo.gc.ca/library-bibliotheque/41272651.pdf']\",\n",
       " 'RES 2024/075 (fr)': 'pdf_link_fr was not found on webpage (fr)',\n",
       " 'https://www.dfo-mpo.gc.ca/csas-sccs/Publications/ResDocs-DocRech/2024/2024_075-eng.html': \"pdf link not found. links on website: pdf_links=['https://waves-vagues.dfo-mpo.gc.ca/library-bibliotheque/4127264x.pdf']\",\n",
       " 'RES 2024/075 (en)': 'pdf_link_en was not found on webpage (en)',\n",
       " 'https://www.dfo-mpo.gc.ca/csas-sccs/Publications/ResDocs-DocRech/2024/2024_079-fra.html': \"pdf link not found. links on website: pdf_links=['https://waves-vagues.dfo-mpo.gc.ca/library-bibliotheque/41272717.pdf']\",\n",
       " 'RES 2024/079 (fr)': 'pdf_link_fr was not found on webpage (fr)',\n",
       " 'https://www.dfo-mpo.gc.ca/csas-sccs/Publications/ResDocs-DocRech/2024/2024_079-eng.html': \"pdf link not found. links on website: pdf_links=['https://waves-vagues.dfo-mpo.gc.ca/library-bibliotheque/41272705.pdf']\",\n",
       " 'RES 2024/079 (en)': 'pdf_link_en was not found on webpage (en)',\n",
       " 'https://www.dfo-mpo.gc.ca/csas-sccs/Publications/ResDocs-DocRech/2024/2024_028-fra.html': 'pdf link not found. links on website: pdf_links=[]',\n",
       " 'RES 2024/028 (fr)': 'pdf_link_fr was not found on webpage (fr)',\n",
       " 'https://www.dfo-mpo.gc.ca/csas-sccs/Publications/ResDocs-DocRech/2024/2024_028-eng.html': 'pdf link not found. links on website: pdf_links=[]',\n",
       " 'RES 2024/028 (en)': 'pdf_link_en was not found on webpage (en)',\n",
       " 'https://www.dfo-mpo.gc.ca/csas-sccs/Publications/ResDocs-DocRech/2024/2024_063-fra.html': 'pdf link not found. links on website: pdf_links=[]',\n",
       " 'RES 2024/063 (fr)': 'pdf_link_fr was not found on webpage (fr)',\n",
       " 'https://www.dfo-mpo.gc.ca/csas-sccs/Publications/ResDocs-DocRech/2024/2024_063-eng.html': 'pdf link not found. links on website: pdf_links=[]',\n",
       " 'RES 2024/063 (en)': 'pdf_link_en was not found on webpage (en)',\n",
       " 'SAR 2006/049 (fr)': 'pdf_link_fr was not found on webpage (fr)',\n",
       " 'SAR 2006/049 (en)': 'pdf_link_en was not found on webpage (en)',\n",
       " 'http://www.dfo-mpo.gc.ca/csas-sccs/Publications/SAR-AS/2012/2012_050-eng.html': \"pdf link not found. links on website: pdf_links=['https://waves-vagues.dfo-mpo.gc.ca/library-bibliotheque/40577053.pdf']\",\n",
       " 'SAR 2012/050 (en)': 'pdf_link_en was not found on webpage (en)',\n",
       " 'http://www.dfo-mpo.gc.ca/csas-sccs/Publications/SAR-AS/2018/2018_001-fra.html': \"pdf link not found. links on website: pdf_links=['https://waves-vagues.dfo-mpo.gc.ca/library-bibliotheque/40687740.pdf']\",\n",
       " 'SAR 2018/001 (fr)': 'pdf_link_fr was not found on webpage (fr)',\n",
       " 'http://www.dfo-mpo.gc.ca/csas-sccs/Publications/SAR-AS/2020/2020_004-fra.html': \"pdf link not found. links on website: pdf_links=['https://waves-vagues.dfo-mpo.gc.ca/library-bibliotheque/40878314.pdf']\",\n",
       " 'SAR 2020/004 (fr)': 'pdf_link_fr was not found on webpage (fr)',\n",
       " 'http://www.dfo-mpo.gc.ca/csas-sccs/Publications/SAR-AS/2020/2020_004-eng.html': \"pdf link not found. links on website: pdf_links=['https://waves-vagues.dfo-mpo.gc.ca/library-bibliotheque/4087574x.pdf']\",\n",
       " 'SAR 2020/004 (en)': 'pdf_link_en was not found on webpage (en)',\n",
       " 'https://www.dfo-mpo.gc.ca/csas-sccs/Publications/SAR-AS/2023/2023_033-fra.html': 'pdf link not found. links on website: pdf_links=[]',\n",
       " 'SAR 2023/033 (fr)': 'pdf_link_fr was not found on webpage (fr)',\n",
       " 'https://www.dfo-mpo.gc.ca/csas-sccs/Publications/SAR-AS/2023/2023_033-eng.html': 'pdf link not found. links on website: pdf_links=[]',\n",
       " 'SAR 2023/033 (en)': 'pdf_link_en was not found on webpage (en)',\n",
       " 'https://www.dfo-mpo.gc.ca/csas-sccs/Publications/SAR-AS/2023/2023_030-fra.html': 'pdf link not found. links on website: pdf_links=[]',\n",
       " 'SAR 2023/030 (fr)': 'pdf_link_fr was not found on webpage (fr)',\n",
       " 'https://www.dfo-mpo.gc.ca/csas-sccs/Publications/SAR-AS/2023/2023_030-eng.html': 'pdf link not found. links on website: pdf_links=[]',\n",
       " 'SAR 2023/030 (en)': 'pdf_link_en was not found on webpage (en)',\n",
       " 'https://www.dfo-mpo.gc.ca/csas-sccs/Publications/SAR-AS/2023/2023_032-fra.html': 'pdf link not found. links on website: pdf_links=[]',\n",
       " 'SAR 2023/032 (fr)': 'pdf_link_fr was not found on webpage (fr)',\n",
       " 'https://www.dfo-mpo.gc.ca/csas-sccs/Publications/SAR-AS/2023/2023_032-eng.html': 'pdf link not found. links on website: pdf_links=[]',\n",
       " 'SAR 2023/032 (en)': 'pdf_link_en was not found on webpage (en)',\n",
       " 'https://www.dfo-mpo.gc.ca/csas-sccs/Publications/SAR-AS/2023/2023_034-fra.html': 'pdf link not found. links on website: pdf_links=[]',\n",
       " 'SAR 2023/034 (fr)': 'pdf_link_fr was not found on webpage (fr)',\n",
       " 'https://www.dfo-mpo.gc.ca/csas-sccs/Publications/SAR-AS/2023/2023_034-eng.html': 'pdf link not found. links on website: pdf_links=[]',\n",
       " 'SAR 2023/034 (en)': 'pdf_link_en was not found on webpage (en)',\n",
       " 'https://www.dfo-mpo.gc.ca/csas-sccs/Publications/SAR-AS/2023/2023_031-fra.html': 'pdf link not found. links on website: pdf_links=[]',\n",
       " 'SAR 2023/031 (fr)': 'pdf_link_fr was not found on webpage (fr)',\n",
       " 'https://www.dfo-mpo.gc.ca/csas-sccs/Publications/SAR-AS/2023/2023_031-eng.html': 'pdf link not found. links on website: pdf_links=[]',\n",
       " 'SAR 2023/031 (en)': 'pdf_link_en was not found on webpage (en)',\n",
       " 'https://www.dfo-mpo.gc.ca/csas-sccs/Publications/SAR-AS/2024/2024_002-eng.html': \"pdf link not found. links on website: pdf_links=['https://waves-vagues.dfo-mpo.gc.ca/library-bibliotheque/41230516.pdf']\",\n",
       " 'SAR 2024/002 (en)': 'pdf_link_en was not found on webpage (en)',\n",
       " 'https://www.dfo-mpo.gc.ca/csas-sccs/Publications/SAR-AS/2024/2024_051-fra.html': \"pdf link not found. links on website: pdf_links=['https://waves-vagues.dfo-mpo.gc.ca/library-bibliotheque/41266213.pdf']\",\n",
       " 'SAR 2024/051 (fr)': 'pdf_link_fr was not found on webpage (fr)',\n",
       " 'https://www.dfo-mpo.gc.ca/csas-sccs/Publications/SAR-AS/2024/2024_051-eng.html': \"pdf link not found. links on website: pdf_links=['https://waves-vagues.dfo-mpo.gc.ca/library-bibliotheque/41266201.pdf']\",\n",
       " 'SAR 2024/051 (en)': 'pdf_link_en was not found on webpage (en)',\n",
       " 'https://www.dfo-mpo.gc.ca/csas-sccs/Publications/SAR-AS/2024/2024_053-fra.html': \"pdf link not found. links on website: pdf_links=['https://waves-vagues.dfo-mpo.gc.ca/library-bibliotheque/4126616x.pdf']\",\n",
       " 'SAR 2024/053 (fr)': 'pdf_link_fr was not found on webpage (fr)',\n",
       " 'https://www.dfo-mpo.gc.ca/csas-sccs/Publications/SAR-AS/2024/2024_053-eng.html': \"pdf link not found. links on website: pdf_links=['https://waves-vagues.dfo-mpo.gc.ca/library-bibliotheque/41266158.pdf']\",\n",
       " 'SAR 2024/053 (en)': 'pdf_link_en was not found on webpage (en)',\n",
       " 'https://www.dfo-mpo.gc.ca/csas-sccs/Publications/SAR-AS/2024/2024_052-fra.html': \"pdf link not found. links on website: pdf_links=['https://waves-vagues.dfo-mpo.gc.ca/library-bibliotheque/41266183.pdf']\",\n",
       " 'SAR 2024/052 (fr)': 'pdf_link_fr was not found on webpage (fr)',\n",
       " 'https://www.dfo-mpo.gc.ca/csas-sccs/Publications/SAR-AS/2024/2024_052-eng.html': \"pdf link not found. links on website: pdf_links=['https://waves-vagues.dfo-mpo.gc.ca/library-bibliotheque/41266171.pdf']\",\n",
       " 'SAR 2024/052 (en)': 'pdf_link_en was not found on webpage (en)',\n",
       " 'https://www.dfo-mpo.gc.ca/csas-sccs/Publications/SAR-AS/2024/2024_054-fra.html': \"pdf link not found. links on website: pdf_links=['https://waves-vagues.dfo-mpo.gc.ca/library-bibliotheque/41266080.pdf']\",\n",
       " 'SAR 2024/054 (fr)': 'pdf_link_fr was not found on webpage (fr)',\n",
       " 'https://www.dfo-mpo.gc.ca/csas-sccs/Publications/SAR-AS/2024/2024_054-eng.html': \"pdf link not found. links on website: pdf_links=['https://waves-vagues.dfo-mpo.gc.ca/library-bibliotheque/41266079.pdf']\",\n",
       " 'SAR 2024/054 (en)': 'pdf_link_en was not found on webpage (en)',\n",
       " 'https://www.dfo-mpo.gc.ca/csas-sccs/Publications/SAR-AS/2024/2024_055-fra.html': \"pdf link not found. links on website: pdf_links=['https://waves-vagues.dfo-mpo.gc.ca/library-bibliotheque/41266110.pdf']\",\n",
       " 'SAR 2024/055 (fr)': 'pdf_link_fr was not found on webpage (fr)',\n",
       " 'https://www.dfo-mpo.gc.ca/csas-sccs/Publications/SAR-AS/2024/2024_055-eng.html': \"pdf link not found. links on website: pdf_links=['https://waves-vagues.dfo-mpo.gc.ca/library-bibliotheque/41266109.pdf']\",\n",
       " 'SAR 2024/055 (en)': 'pdf_link_en was not found on webpage (en)',\n",
       " 'https://www.dfo-mpo.gc.ca/csas-sccs/Publications/SAR-AS/2024/2024_056-fra.html': \"pdf link not found. links on website: pdf_links=['https://waves-vagues.dfo-mpo.gc.ca/library-bibliotheque/41266134.pdf']\",\n",
       " 'SAR 2024/056 (fr)': 'pdf_link_fr was not found on webpage (fr)',\n",
       " 'https://www.dfo-mpo.gc.ca/csas-sccs/Publications/SAR-AS/2024/2024_056-eng.html': \"pdf link not found. links on website: pdf_links=['https://waves-vagues.dfo-mpo.gc.ca/library-bibliotheque/41266122.pdf']\",\n",
       " 'SAR 2024/056 (en)': 'pdf_link_en was not found on webpage (en)',\n",
       " 'https://www.dfo-mpo.gc.ca/csas-sccs/Publications/SAR-AS/2024/2024_057-fra.html': \"pdf link not found. links on website: pdf_links=['https://waves-vagues.dfo-mpo.gc.ca/library-bibliotheque/41265932.pdf']\",\n",
       " 'SAR 2024/057 (fr)': 'pdf_link_fr was not found on webpage (fr)',\n",
       " 'https://www.dfo-mpo.gc.ca/csas-sccs/Publications/SAR-AS/2024/2024_057-eng.html': \"pdf link not found. links on website: pdf_links=['https://waves-vagues.dfo-mpo.gc.ca/library-bibliotheque/41265920.pdf']\",\n",
       " 'SAR 2024/057 (en)': 'pdf_link_en was not found on webpage (en)',\n",
       " 'https://www.dfo-mpo.gc.ca/csas-sccs/Publications/SAR-AS/2024/2024_059-fra.html': \"pdf link not found. links on website: pdf_links=['https://waves-vagues.dfo-mpo.gc.ca/library-bibliotheque/41266067.pdf']\",\n",
       " 'SAR 2024/059 (fr)': 'pdf_link_fr was not found on webpage (fr)',\n",
       " 'https://www.dfo-mpo.gc.ca/csas-sccs/Publications/SAR-AS/2024/2024_059-eng.html': \"pdf link not found. links on website: pdf_links=['https://waves-vagues.dfo-mpo.gc.ca/library-bibliotheque/41266055.pdf']\",\n",
       " 'SAR 2024/059 (en)': 'pdf_link_en was not found on webpage (en)',\n",
       " 'https://www.dfo-mpo.gc.ca/csas-sccs/Publications/SAR-AS/2024/2024_061-fra.html': \"pdf link not found. links on website: pdf_links=['https://waves-vagues.dfo-mpo.gc.ca/library-bibliotheque/41265919.pdf']\",\n",
       " 'SAR 2024/061 (fr)': 'pdf_link_fr was not found on webpage (fr)',\n",
       " 'https://www.dfo-mpo.gc.ca/csas-sccs/Publications/SAR-AS/2024/2024_061-eng.html': \"pdf link not found. links on website: pdf_links=['https://waves-vagues.dfo-mpo.gc.ca/library-bibliotheque/41265907.pdf']\",\n",
       " 'SAR 2024/061 (en)': 'pdf_link_en was not found on webpage (en)',\n",
       " 'https://www.dfo-mpo.gc.ca/csas-sccs/Publications/SAR-AS/2024/2024_060-fra.html': \"pdf link not found. links on website: pdf_links=['https://waves-vagues.dfo-mpo.gc.ca/library-bibliotheque/4127068x.pdf']\",\n",
       " 'SAR 2024/060 (fr)': 'pdf_link_fr was not found on webpage (fr)',\n",
       " 'https://www.dfo-mpo.gc.ca/csas-sccs/Publications/SAR-AS/2024/2024_060-eng.html': \"pdf link not found. links on website: pdf_links=['https://waves-vagues.dfo-mpo.gc.ca/library-bibliotheque/41270678.pdf']\",\n",
       " 'SAR 2024/060 (en)': 'pdf_link_en was not found on webpage (en)',\n",
       " 'https://www.dfo-mpo.gc.ca/csas-sccs/Publications/SAR-AS/2024/2024_062-fra.html': \"pdf link not found. links on website: pdf_links=['https://waves-vagues.dfo-mpo.gc.ca/library-bibliotheque/41270757.pdf']\",\n",
       " 'SAR 2024/062 (fr)': 'pdf_link_fr was not found on webpage (fr)',\n",
       " 'https://www.dfo-mpo.gc.ca/csas-sccs/Publications/SAR-AS/2024/2024_062-eng.html': \"pdf link not found. links on website: pdf_links=['https://waves-vagues.dfo-mpo.gc.ca/library-bibliotheque/41270745.pdf']\",\n",
       " 'SAR 2024/062 (en)': 'pdf_link_en was not found on webpage (en)',\n",
       " 'https://www.dfo-mpo.gc.ca/csas-sccs/Publications/SAR-AS/2024/2024_063-fra.html': \"pdf link not found. links on website: pdf_links=['https://waves-vagues.dfo-mpo.gc.ca/library-bibliotheque/41270836.pdf']\",\n",
       " 'SAR 2024/063 (fr)': 'pdf_link_fr was not found on webpage (fr)',\n",
       " 'https://www.dfo-mpo.gc.ca/csas-sccs/Publications/SAR-AS/2024/2024_063-eng.html': \"pdf link not found. links on website: pdf_links=['https://waves-vagues.dfo-mpo.gc.ca/library-bibliotheque/41270800.pdf']\",\n",
       " 'SAR 2024/063 (en)': 'pdf_link_en was not found on webpage (en)',\n",
       " 'https://www.dfo-mpo.gc.ca/csas-sccs/Publications/SAR-AS/2024/2024_064-fra.html': \"pdf link not found. links on website: pdf_links=['https://waves-vagues.dfo-mpo.gc.ca/library-bibliotheque/41270794.pdf']\",\n",
       " 'SAR 2024/064 (fr)': 'pdf_link_fr was not found on webpage (fr)',\n",
       " 'https://www.dfo-mpo.gc.ca/csas-sccs/Publications/SAR-AS/2024/2024_064-eng.html': \"pdf link not found. links on website: pdf_links=['https://waves-vagues.dfo-mpo.gc.ca/library-bibliotheque/41270782.pdf']\",\n",
       " 'SAR 2024/064 (en)': 'pdf_link_en was not found on webpage (en)',\n",
       " 'https://www.dfo-mpo.gc.ca/csas-sccs/Publications/SAR-AS/2024/2024_058-fra.html': \"pdf link not found. links on website: pdf_links=['https://waves-vagues.dfo-mpo.gc.ca/library-bibliotheque/41273011.pdf']\",\n",
       " 'SAR 2024/058 (fr)': 'pdf_link_fr was not found on webpage (fr)',\n",
       " 'https://www.dfo-mpo.gc.ca/csas-sccs/Publications/SAR-AS/2024/2024_058-eng.html': \"pdf link not found. links on website: pdf_links=['https://waves-vagues.dfo-mpo.gc.ca/library-bibliotheque/4127300x.pdf']\",\n",
       " 'SAR 2024/058 (en)': 'pdf_link_en was not found on webpage (en)',\n",
       " 'http://www.dfo-mpo.gc.ca/csas-sccs/Publications/ScR-RS/2013/2013_001-eng.html': \"pdf link not found. links on website: pdf_links=['https://waves-vagues.dfo-mpo.gc.ca/library-bibliotheque/348570.pdf']\",\n",
       " 'SCR 2013/001 (en)': 'pdf_link_en was not found on webpage (en)',\n",
       " 'http://www.dfo-mpo.gc.ca/csas-sccs/Publications/ScR-RS/2020/2020_015-eng.html': \"pdf link not found. links on website: pdf_links=['https://waves-vagues.dfo-mpo.gc.ca/library-bibliotheque/40884296.pdf']\",\n",
       " 'SCR 2020/015 (en)': 'pdf_link_en was not found on webpage (en)',\n",
       " 'http://www.dfo-mpo.gc.ca/csas-sccs/Publications/ScR-RS/2020/2020_034-fra.html': \"pdf link not found. links on website: pdf_links=['https://waves-vagues.dfo-mpo.gc.ca/library-bibliotheque/40891240.pdf']\",\n",
       " 'SCR 2020/034 (fr)': 'pdf_link_fr was not found on webpage (fr)',\n",
       " 'https://www.dfo-mpo.gc.ca/csas-sccs/Publications/ScR-RS/2024/2024_034-fra.html': \"pdf link not found. links on website: pdf_links=['https://waves-vagues.dfo-mpo.gc.ca/library-bibliotheque/41265695.pdf']\",\n",
       " 'SCR 2024/034 (fr)': 'pdf_link_fr was not found on webpage (fr)',\n",
       " 'https://www.dfo-mpo.gc.ca/csas-sccs/Publications/ScR-RS/2024/2024_034-eng.html': \"pdf link not found. links on website: pdf_links=['https://waves-vagues.dfo-mpo.gc.ca/library-bibliotheque/41265683.pdf']\",\n",
       " 'SCR 2024/034 (en)': 'pdf_link_en was not found on webpage (en)',\n",
       " 'https://www.dfo-mpo.gc.ca/csas-sccs/Publications/ScR-RS/2024/2024_035-fra.html': \"pdf link not found. links on website: pdf_links=['https://waves-vagues.dfo-mpo.gc.ca/library-bibliotheque/41270435.pdf']\",\n",
       " 'SCR 2024/035 (fr)': 'pdf_link_fr was not found on webpage (fr)',\n",
       " 'https://www.dfo-mpo.gc.ca/csas-sccs/Publications/ScR-RS/2024/2024_035-eng.html': \"pdf link not found. links on website: pdf_links=['https://waves-vagues.dfo-mpo.gc.ca/library-bibliotheque/41270411.pdf']\",\n",
       " 'SCR 2024/035 (en)': 'pdf_link_en was not found on webpage (en)',\n",
       " 'https://www.dfo-mpo.gc.ca/csas-sccs/Publications/ScR-RS/2024/2024_037-fra.html': \"pdf link not found. links on website: pdf_links=['https://waves-vagues.dfo-mpo.gc.ca/library-bibliotheque/41272948.pdf']\",\n",
       " 'SCR 2024/037 (fr)': 'pdf_link_fr was not found on webpage (fr)',\n",
       " 'https://www.dfo-mpo.gc.ca/csas-sccs/Publications/ScR-RS/2024/2024_037-eng.html': \"pdf link not found. links on website: pdf_links=['https://waves-vagues.dfo-mpo.gc.ca/library-bibliotheque/41272936.pdf']\",\n",
       " 'SCR 2024/037 (en)': 'pdf_link_en was not found on webpage (en)',\n",
       " 'https://www.dfo-mpo.gc.ca/csas-sccs/Publications/ScR-RS/2024/2024_036-fra.html': \"pdf link not found. links on website: pdf_links=['https://waves-vagues.dfo-mpo.gc.ca/library-bibliotheque/41272912.pdf']\",\n",
       " 'SCR 2024/036 (fr)': 'pdf_link_fr was not found on webpage (fr)',\n",
       " 'https://www.dfo-mpo.gc.ca/csas-sccs/Publications/ScR-RS/2024/2024_036-eng.html': \"pdf link not found. links on website: pdf_links=['https://waves-vagues.dfo-mpo.gc.ca/library-bibliotheque/41272900.pdf']\",\n",
       " 'SCR 2024/036 (en)': 'pdf_link_en was not found on webpage (en)',\n",
       " 'https://www.dfo-mpo.gc.ca/csas-sccs/Publications/ScR-RS/2024/2024_038-fra.html': \"pdf link not found. links on website: pdf_links=['https://waves-vagues.dfo-mpo.gc.ca/library-bibliotheque/41272894.pdf']\",\n",
       " 'SCR 2024/038 (fr)': 'pdf_link_fr was not found on webpage (fr)',\n",
       " 'https://www.dfo-mpo.gc.ca/csas-sccs/Publications/ScR-RS/2024/2024_038-eng.html': \"pdf link not found. links on website: pdf_links=['https://waves-vagues.dfo-mpo.gc.ca/library-bibliotheque/41272882.pdf']\",\n",
       " 'SCR 2024/038 (en)': 'pdf_link_en was not found on webpage (en)',\n",
       " 'https://www.dfo-mpo.gc.ca/csas-sccs/Publications/ScR-RS/2024/2024_039-fra.html': \"pdf link not found. links on website: pdf_links=['https://waves-vagues.dfo-mpo.gc.ca/library-bibliotheque/41272973.pdf']\",\n",
       " 'SCR 2024/039 (fr)': 'pdf_link_fr was not found on webpage (fr)',\n",
       " 'https://www.dfo-mpo.gc.ca/csas-sccs/Publications/ScR-RS/2024/2024_039-eng.html': \"pdf link not found. links on website: pdf_links=['https://waves-vagues.dfo-mpo.gc.ca/library-bibliotheque/41272961.pdf']\",\n",
       " 'SCR 2024/039 (en)': 'pdf_link_en was not found on webpage (en)',\n",
       " 'https://www.dfo-mpo.gc.ca/csas-sccs/Publications/ScR-RS/2024/2024_040-fra.html': \"pdf link not found. links on website: pdf_links=['https://waves-vagues.dfo-mpo.gc.ca/library-bibliotheque/41272997.pdf']\",\n",
       " 'SCR 2024/040 (fr)': 'pdf_link_fr was not found on webpage (fr)',\n",
       " 'https://www.dfo-mpo.gc.ca/csas-sccs/Publications/ScR-RS/2024/2024_040-eng.html': \"pdf link not found. links on website: pdf_links=['https://waves-vagues.dfo-mpo.gc.ca/library-bibliotheque/41272985.pdf']\",\n",
       " 'SCR 2024/040 (en)': 'pdf_link_en was not found on webpage (en)',\n",
       " 'https://www.dfo-mpo.gc.ca/csas-sccs/Publications/ScR-RS/2024/2024_041-fra.html': 'pdf link not found. links on website: pdf_links=[]',\n",
       " 'SCR 2024/041 (fr)': 'pdf_link_fr was not found on webpage (fr)',\n",
       " 'https://www.dfo-mpo.gc.ca/csas-sccs/Publications/ScR-RS/2024/2024_041-eng.html': 'pdf link not found. links on website: pdf_links=[]',\n",
       " 'SCR 2024/041 (en)': 'pdf_link_en was not found on webpage (en)',\n",
       " 'https://www.dfo-mpo.gc.ca/csas-sccs/Publications/ScR-RS/2025/2025_001-fra.html': 'pdf link not found. links on website: pdf_links=[]',\n",
       " 'SCR 2025/001 (fr)': 'pdf_link_fr was not found on webpage (fr)',\n",
       " 'https://www.dfo-mpo.gc.ca/csas-sccs/Publications/ScR-RS/2025/2025_001-eng.html': 'pdf link not found. links on website: pdf_links=[]',\n",
       " 'SCR 2025/001 (en)': 'pdf_link_en was not found on webpage (en)'}"
      ]
     },
     "execution_count": 13,
     "metadata": {},
     "output_type": "execute_result"
    }
   ],
   "execution_count": 13,
   "source": "errors",
   "id": "271462351ade0c34"
  },
  {
   "metadata": {},
   "cell_type": "markdown",
   "source": "### manually fix 1 typo in url",
   "id": "5abaca94c5ce4efa"
  },
  {
   "metadata": {
    "ExecuteTime": {
     "end_time": "2025-01-24T16:37:40.305673Z",
     "start_time": "2025-01-24T16:37:40.301570Z"
    }
   },
   "cell_type": "code",
   "source": [
    "error_in_url = 'http://www.dfo-mpo.gcca/csas-sccs/Publications/ResDocs-DocRech/2021/2021_033-fra.html'  # needs a period - fix manually\n",
    "combined_df.iloc[6072]"
   ],
   "id": "1ad4a8860469031d",
   "outputs": [
    {
     "data": {
      "text/plain": [
       "pub_number                                                                                                                                                                                                RES 2021/033\n",
       "year                                                                                                                                                                                                              2021\n",
       "nom            Renseignements à l'appui d'une évaluation du potentiel de rétablissement de l'esturgeon jaune, Acipenser fulvescens (populations de l'ouest de la baie d'Hudson, de la rivière Saskatchewan et du fl...\n",
       "name                  Information in support of a recovery potential assessment of Lake Sturgeon, Acipenser fulvescens (Western Hudson Bay, Saskatchewan-Nelson River, and Great Lakes-Upper St. Lawrence populations)\n",
       "url_fr                                                                                                                           http://www.dfo-mpo.gcca/csas-sccs/Publications/ResDocs-DocRech/2021/2021_033-fra.html\n",
       "url_en                                                                                                                          http://www.dfo-mpo.gc.ca/csas-sccs/Publications/ResDocs-DocRech/2021/2021_033-eng.html\n",
       "filename_fr                                                                                                                                                                                                        NaN\n",
       "filename_en                                                                                                                                                                                                        NaN\n",
       "file_url_fr                                                                                                                                                                                                        NaN\n",
       "file_url_en                                                                                                                                       https://waves-vagues.dfo-mpo.gc.ca/library-bibliotheque/41005934.pdf\n",
       "Name: 6072, dtype: object"
      ]
     },
     "execution_count": 44,
     "metadata": {},
     "output_type": "execute_result"
    }
   ],
   "execution_count": 44
  },
  {
   "metadata": {
    "ExecuteTime": {
     "end_time": "2025-01-24T16:37:42.421488Z",
     "start_time": "2025-01-24T16:37:42.412955Z"
    }
   },
   "cell_type": "code",
   "source": [
    "combined_df.loc[combined_df.url_fr == error_in_url, 'url_fr'] = combined_df.loc[combined_df.url_fr == error_in_url, 'url_fr'].str.replace('dfo-mpo.gcca', 'dfo-mpo.gc.ca')\n",
    "combined_df.iloc[6072]"
   ],
   "id": "36c2f4bd43b89034",
   "outputs": [
    {
     "data": {
      "text/plain": [
       "pub_number                                                                                                                                                                                                RES 2021/033\n",
       "year                                                                                                                                                                                                              2021\n",
       "nom            Renseignements à l'appui d'une évaluation du potentiel de rétablissement de l'esturgeon jaune, Acipenser fulvescens (populations de l'ouest de la baie d'Hudson, de la rivière Saskatchewan et du fl...\n",
       "name                  Information in support of a recovery potential assessment of Lake Sturgeon, Acipenser fulvescens (Western Hudson Bay, Saskatchewan-Nelson River, and Great Lakes-Upper St. Lawrence populations)\n",
       "url_fr                                                                                                                          http://www.dfo-mpo.gc.ca/csas-sccs/Publications/ResDocs-DocRech/2021/2021_033-fra.html\n",
       "url_en                                                                                                                          http://www.dfo-mpo.gc.ca/csas-sccs/Publications/ResDocs-DocRech/2021/2021_033-eng.html\n",
       "filename_fr                                                                                                                                                                                                        NaN\n",
       "filename_en                                                                                                                                                                                                        NaN\n",
       "file_url_fr                                                                                                                                                                                                        NaN\n",
       "file_url_en                                                                                                                                       https://waves-vagues.dfo-mpo.gc.ca/library-bibliotheque/41005934.pdf\n",
       "Name: 6072, dtype: object"
      ]
     },
     "execution_count": 45,
     "metadata": {},
     "output_type": "execute_result"
    }
   ],
   "execution_count": 45
  },
  {
   "metadata": {},
   "cell_type": "markdown",
   "source": "### fix missing url with pdf_links",
   "id": "a436af0b3530cc36"
  },
  {
   "metadata": {
    "ExecuteTime": {
     "end_time": "2025-01-24T16:37:51.991071Z",
     "start_time": "2025-01-24T16:37:51.986213Z"
    }
   },
   "cell_type": "code",
   "source": [
    "# example of missing\n",
    "'https://waves-vagues.dfo-mpo.gc.ca/library-bibliotheque/279332.pdf' in unmatched_url"
   ],
   "id": "c33798cd0cfbc3ba",
   "outputs": [
    {
     "data": {
      "text/plain": [
       "False"
      ]
     },
     "execution_count": 46,
     "metadata": {},
     "output_type": "execute_result"
    }
   ],
   "execution_count": 46
  },
  {
   "metadata": {
    "ExecuteTime": {
     "end_time": "2025-01-24T16:39:40.669Z",
     "start_time": "2025-01-24T16:39:40.651201Z"
    }
   },
   "cell_type": "code",
   "source": "'279332.pdf' in parsed_docs_df.filename.to_list()",
   "id": "97b5afb015af8364",
   "outputs": [
    {
     "data": {
      "text/plain": [
       "True"
      ]
     },
     "execution_count": 49,
     "metadata": {},
     "output_type": "execute_result"
    }
   ],
   "execution_count": 49
  },
  {
   "metadata": {
    "ExecuteTime": {
     "end_time": "2025-01-24T16:40:02.826646Z",
     "start_time": "2025-01-24T16:40:02.805798Z"
    }
   },
   "cell_type": "code",
   "source": "parsed_docs_df[parsed_docs_df.filename == '279332.pdf']",
   "id": "5b0a7962682ebb4a",
   "outputs": [
    {
     "data": {
      "text/plain": [
       "        filename  year  \\\n",
       "1843  279332.pdf  2003   \n",
       "\n",
       "                                                                      url  \n",
       "1843   https://waves-vagues.dfo-mpo.gc.ca/library-bibliotheque/279332.pdf  "
      ],
      "text/html": [
       "<div>\n",
       "<style scoped>\n",
       "    .dataframe tbody tr th:only-of-type {\n",
       "        vertical-align: middle;\n",
       "    }\n",
       "\n",
       "    .dataframe tbody tr th {\n",
       "        vertical-align: top;\n",
       "    }\n",
       "\n",
       "    .dataframe thead th {\n",
       "        text-align: right;\n",
       "    }\n",
       "</style>\n",
       "<table border=\"1\" class=\"dataframe\">\n",
       "  <thead>\n",
       "    <tr style=\"text-align: right;\">\n",
       "      <th></th>\n",
       "      <th>filename</th>\n",
       "      <th>year</th>\n",
       "      <th>url</th>\n",
       "    </tr>\n",
       "  </thead>\n",
       "  <tbody>\n",
       "    <tr>\n",
       "      <th>1843</th>\n",
       "      <td>279332.pdf</td>\n",
       "      <td>2003</td>\n",
       "      <td>https://waves-vagues.dfo-mpo.gc.ca/library-bibliotheque/279332.pdf</td>\n",
       "    </tr>\n",
       "  </tbody>\n",
       "</table>\n",
       "</div>"
      ]
     },
     "execution_count": 50,
     "metadata": {},
     "output_type": "execute_result"
    }
   ],
   "execution_count": 50
  },
  {
   "metadata": {
    "ExecuteTime": {
     "end_time": "2025-01-24T16:40:56.978919Z",
     "start_time": "2025-01-24T16:40:56.962762Z"
    }
   },
   "cell_type": "code",
   "source": "str(parsed_docs_df[parsed_docs_df.filename == '279332.pdf'].url) == 'https://waves-vagues.dfo-mpo.gc.ca/library-bibliotheque/279332.pdf'",
   "id": "ff65f04ea00e1d83",
   "outputs": [
    {
     "data": {
      "text/plain": [
       "False"
      ]
     },
     "execution_count": 52,
     "metadata": {},
     "output_type": "execute_result"
    }
   ],
   "execution_count": 52
  },
  {
   "metadata": {
    "ExecuteTime": {
     "end_time": "2025-01-24T16:41:59.754698Z",
     "start_time": "2025-01-24T16:41:59.749781Z"
    }
   },
   "cell_type": "code",
   "source": "'https://waves-vagues.dfo-mpo.gc.ca/library-bibliotheque/279332.pdf' == 'https://waves-vagues.dfo-mpo.gc.ca/library-bibliotheque/279332.pdf'",
   "id": "c4b254aa98a62d94",
   "outputs": [
    {
     "data": {
      "text/plain": [
       "True"
      ]
     },
     "execution_count": 53,
     "metadata": {},
     "output_type": "execute_result"
    }
   ],
   "execution_count": 53
  },
  {
   "metadata": {
    "ExecuteTime": {
     "end_time": "2025-01-24T16:42:46.005222Z",
     "start_time": "2025-01-24T16:42:45.989656Z"
    }
   },
   "cell_type": "code",
   "source": [
    "# there is a space ....... ugggh\n",
    "[x for x in unmatched_url if x.split('/')[-1] == '279332.pdf']"
   ],
   "id": "d720818856f5c53b",
   "outputs": [
    {
     "data": {
      "text/plain": [
       "[' https://waves-vagues.dfo-mpo.gc.ca/library-bibliotheque/279332.pdf']"
      ]
     },
     "execution_count": 54,
     "metadata": {},
     "output_type": "execute_result"
    }
   ],
   "execution_count": 54
  },
  {
   "metadata": {
    "ExecuteTime": {
     "end_time": "2025-01-24T16:48:42.872578Z",
     "start_time": "2025-01-24T16:48:42.862131Z"
    }
   },
   "cell_type": "code",
   "source": [
    "pdf_links_from_errors = dict()\n",
    "\n",
    "for k, v in errors.items():\n",
    "    if v.endswith(']') and not v.endswith('[]'):\n",
    "        html_link = k\n",
    "        pdf_link = v.split('[')[-1].split(']')[0].replace(\"'\", \"\").replace('\"', '')\n",
    "        pdf_links_from_errors[html_link] = pdf_link"
   ],
   "id": "3e3084afed493730",
   "outputs": [],
   "execution_count": 61
  },
  {
   "metadata": {
    "ExecuteTime": {
     "end_time": "2025-01-24T16:49:56.404676Z",
     "start_time": "2025-01-24T16:49:56.400401Z"
    }
   },
   "cell_type": "code",
   "outputs": [],
   "execution_count": 63,
   "source": [
    "for link in pdf_links_from_errors.values():\n",
    "    if not link.endswith('pdf'):\n",
    "        print(f'not a pdf: {link}')"
   ],
   "id": "4e3a91d4a47f63c3"
  },
  {
   "metadata": {},
   "cell_type": "markdown",
   "source": "# STEP 2: loop through errors to get url that weren't in unmatched_url (as noted above) ",
   "id": "aed4eadc3e85007b"
  },
  {
   "metadata": {
    "ExecuteTime": {
     "end_time": "2025-01-24T17:40:11.528119Z",
     "start_time": "2025-01-24T17:40:11.324837Z"
    }
   },
   "cell_type": "code",
   "source": [
    "new_errors = dict()\n",
    "n = 0\n",
    "\n",
    "for index, row in combined_df.iterrows():\n",
    "    if pd.notna(row['file_url_fr']) and pd.notna(row['file_url_en']):\n",
    "        continue\n",
    "    \n",
    "    file_url_fr = None\n",
    "    file_url_en = None\n",
    "    pub_number = row['pub_number']\n",
    "    \n",
    "    if pd.isna(row['file_url_fr']):\n",
    "        file_url_fr = pdf_links_from_errors.get(row['url_fr'])\n",
    "        if file_url_fr:\n",
    "            combined_df.at[index, 'file_url_fr'] = file_url_fr\n",
    "            n += 1\n",
    "        else:\n",
    "            new_errors[pub_number + ' (fr)'] = 'Link not found in errors list (fr)'\n",
    "    \n",
    "    if pd.isna(row['file_url_en']):\n",
    "        file_url_en = pdf_links_from_errors.get(row['url_en'])\n",
    "        if file_url_en:\n",
    "            combined_df.at[index, 'file_url_en'] = file_url_en\n",
    "            n += 1\n",
    "        else:\n",
    "            new_errors[pub_number + ' (en)'] = 'Link not found in errors list (en)'\n",
    "\n",
    "combined_df.to_csv(output_file, index=False)"
   ],
   "id": "f36e960c75808717",
   "outputs": [],
   "execution_count": 137
  },
  {
   "metadata": {},
   "cell_type": "markdown",
   "source": "# what is still missing? withdrawn and relative url",
   "id": "6c071221c506a0ec"
  },
  {
   "metadata": {
    "ExecuteTime": {
     "end_time": "2025-01-24T17:40:44.394701Z",
     "start_time": "2025-01-24T17:40:44.382050Z"
    }
   },
   "cell_type": "code",
   "source": [
    "# 137 pdf url still missing\n",
    "len(new_errors)"
   ],
   "id": "b526866266b406e5",
   "outputs": [
    {
     "data": {
      "text/plain": [
       "137"
      ]
     },
     "execution_count": 139,
     "metadata": {},
     "output_type": "execute_result"
    }
   ],
   "execution_count": 139
  },
  {
   "metadata": {},
   "cell_type": "code",
   "outputs": [],
   "execution_count": null,
   "source": [
    "still_missing_df = combined_df[(combined_df['file_url_fr'].isnull() | combined_df['file_url_en'].isnull()) & ~(combined_df['url_fr'].str.contains('withdrawn'))].copy()\n",
    "url_still_missing = still_missing_df.url_en.to_list() + still_missing_df.url_fr.to_list()"
   ],
   "id": "c2b43127c6de605"
  },
  {
   "metadata": {
    "ExecuteTime": {
     "end_time": "2025-01-24T18:18:55.440002Z",
     "start_time": "2025-01-24T18:18:55.430690Z"
    }
   },
   "cell_type": "code",
   "source": [
    "final_errors = dict()\n",
    "soup_dict = dict()\n",
    "\n",
    "\n",
    "def updated_find_pdf_link(url):\n",
    "    global final_errors, soup_dict\n",
    "\n",
    "    try:\n",
    "        response = requests.get(url, timeout=10)\n",
    "        response.raise_for_status()\n",
    "        soup = BeautifulSoup(response.content, 'html.parser')\n",
    "\n",
    "        pdf_links = [\n",
    "            urljoin(url, a['href'])\n",
    "            for a in soup.find_all('a', href=True)\n",
    "            if a['href'].strip().lower().endswith('.pdf')\n",
    "        ]\n",
    "\n",
    "        if pdf_links:\n",
    "            return pdf_links[0]\n",
    "\n",
    "        if \"withdrawn\" in soup.get_text().lower():\n",
    "            return \"WITHDRAWN\"\n",
    "\n",
    "        final_errors[url] = f\"PDF link not found. Links on website: {pdf_links}\"\n",
    "        soup_dict[url] = soup\n",
    "\n",
    "    except requests.RequestException as e:\n",
    "        print(f\"Error fetching URL {url}: {e}\")\n",
    "        final_errors[url] = f\"find_pdf_link Error: {e}\"\n",
    "\n",
    "    return None"
   ],
   "id": "fdfea464e491279c",
   "outputs": [],
   "execution_count": 189
  },
  {
   "metadata": {
    "ExecuteTime": {
     "end_time": "2025-01-24T18:19:49.043866Z",
     "start_time": "2025-01-24T18:19:36.612197Z"
    }
   },
   "cell_type": "code",
   "source": [
    "final_links = dict()\n",
    "\n",
    "for link in url_still_missing:\n",
    "    updated_link = updated_find_pdf_link(link)\n",
    "    if updated_link:\n",
    "        final_links[link] = updated_link\n"
   ],
   "id": "78fc4ff20766e766",
   "outputs": [],
   "execution_count": 190
  },
  {
   "metadata": {},
   "cell_type": "markdown",
   "source": "# STEP 3: loop through url_still_missing and crawl website for relative href or 'withdrawn' status",
   "id": "c7407a28d35543c9"
  },
  {
   "metadata": {
    "ExecuteTime": {
     "end_time": "2025-01-24T18:23:09.550464Z",
     "start_time": "2025-01-24T18:23:09.344578Z"
    }
   },
   "cell_type": "code",
   "source": [
    "for index, row in combined_df.iterrows():\n",
    "    if pd.notna(row['file_url_fr']) and pd.notna(row['file_url_en']):\n",
    "        continue\n",
    "    \n",
    "    file_url_fr = None\n",
    "    file_url_en = None\n",
    "    pub_number = row['pub_number']\n",
    "    \n",
    "    if pd.isna(row['file_url_fr']):\n",
    "        file_url_fr = final_links.get(row['url_fr'])\n",
    "        if file_url_fr:\n",
    "            combined_df.at[index, 'file_url_fr'] = file_url_fr\n",
    "            n += 1\n",
    "        else:\n",
    "            final_errors[pub_number + ' (fr)'] = 'Link not found in final_links list (fr)'\n",
    "    \n",
    "    if pd.isna(row['file_url_en']):\n",
    "        file_url_en = final_links.get(row['url_en'])\n",
    "        if file_url_en:\n",
    "            combined_df.at[index, 'file_url_en'] = file_url_en\n",
    "            n += 1\n",
    "        else:\n",
    "            final_errors[pub_number + ' (en)'] = 'Link not found in final_links list (en)'\n",
    "\n",
    "combined_df.to_csv(output_file, index=False)"
   ],
   "id": "1b85c1c9586bfb89",
   "outputs": [],
   "execution_count": 193
  },
  {
   "metadata": {
    "ExecuteTime": {
     "end_time": "2025-01-24T18:23:53.420600Z",
     "start_time": "2025-01-24T18:23:53.404469Z"
    }
   },
   "cell_type": "code",
   "source": [
    "# all links accounted for, or withdrawn\n",
    "combined_df[(combined_df['file_url_fr'].isnull() | combined_df['file_url_en'].isnull()) & ~(combined_df['url_fr'].str.contains('withdrawn'))]"
   ],
   "id": "beb3f970018296ac",
   "outputs": [
    {
     "data": {
      "text/plain": [
       "Empty DataFrame\n",
       "Columns: [pub_number, year, nom, name, url_fr, url_en, filename_fr, filename_en, file_url_fr, file_url_en]\n",
       "Index: []"
      ],
      "text/html": [
       "<div>\n",
       "<style scoped>\n",
       "    .dataframe tbody tr th:only-of-type {\n",
       "        vertical-align: middle;\n",
       "    }\n",
       "\n",
       "    .dataframe tbody tr th {\n",
       "        vertical-align: top;\n",
       "    }\n",
       "\n",
       "    .dataframe thead th {\n",
       "        text-align: right;\n",
       "    }\n",
       "</style>\n",
       "<table border=\"1\" class=\"dataframe\">\n",
       "  <thead>\n",
       "    <tr style=\"text-align: right;\">\n",
       "      <th></th>\n",
       "      <th>pub_number</th>\n",
       "      <th>year</th>\n",
       "      <th>nom</th>\n",
       "      <th>name</th>\n",
       "      <th>url_fr</th>\n",
       "      <th>url_en</th>\n",
       "      <th>filename_fr</th>\n",
       "      <th>filename_en</th>\n",
       "      <th>file_url_fr</th>\n",
       "      <th>file_url_en</th>\n",
       "    </tr>\n",
       "  </thead>\n",
       "  <tbody>\n",
       "  </tbody>\n",
       "</table>\n",
       "</div>"
      ]
     },
     "execution_count": 196,
     "metadata": {},
     "output_type": "execute_result"
    }
   ],
   "execution_count": 196
  },
  {
   "metadata": {
    "ExecuteTime": {
     "end_time": "2025-01-24T18:25:43.436095Z",
     "start_time": "2025-01-24T18:25:43.428107Z"
    }
   },
   "cell_type": "code",
   "source": [
    "# add \"WITHDRAWN\" to links for withdrawn\n",
    "combined_df.loc[combined_df['url_fr'].str.contains('withdrawn'), ['file_url_fr', 'file_url_en']] = \"WITHDRAWN\""
   ],
   "id": "b86ace947c708d43",
   "outputs": [],
   "execution_count": 199
  },
  {
   "metadata": {
    "ExecuteTime": {
     "end_time": "2025-01-24T18:26:01.050207Z",
     "start_time": "2025-01-24T18:26:01.041796Z"
    }
   },
   "cell_type": "code",
   "source": [
    "# all file url links complete\n",
    "combined_df[combined_df['file_url_fr'].isnull() | combined_df['file_url_en'].isnull()]"
   ],
   "id": "89e712662b55605b",
   "outputs": [
    {
     "data": {
      "text/plain": [
       "Empty DataFrame\n",
       "Columns: [pub_number, year, nom, name, url_fr, url_en, filename_fr, filename_en, file_url_fr, file_url_en]\n",
       "Index: []"
      ],
      "text/html": [
       "<div>\n",
       "<style scoped>\n",
       "    .dataframe tbody tr th:only-of-type {\n",
       "        vertical-align: middle;\n",
       "    }\n",
       "\n",
       "    .dataframe tbody tr th {\n",
       "        vertical-align: top;\n",
       "    }\n",
       "\n",
       "    .dataframe thead th {\n",
       "        text-align: right;\n",
       "    }\n",
       "</style>\n",
       "<table border=\"1\" class=\"dataframe\">\n",
       "  <thead>\n",
       "    <tr style=\"text-align: right;\">\n",
       "      <th></th>\n",
       "      <th>pub_number</th>\n",
       "      <th>year</th>\n",
       "      <th>nom</th>\n",
       "      <th>name</th>\n",
       "      <th>url_fr</th>\n",
       "      <th>url_en</th>\n",
       "      <th>filename_fr</th>\n",
       "      <th>filename_en</th>\n",
       "      <th>file_url_fr</th>\n",
       "      <th>file_url_en</th>\n",
       "    </tr>\n",
       "  </thead>\n",
       "  <tbody>\n",
       "  </tbody>\n",
       "</table>\n",
       "</div>"
      ]
     },
     "execution_count": 200,
     "metadata": {},
     "output_type": "execute_result"
    }
   ],
   "execution_count": 200
  },
  {
   "metadata": {
    "ExecuteTime": {
     "end_time": "2025-01-24T18:29:30.746992Z",
     "start_time": "2025-01-24T18:29:30.730714Z"
    }
   },
   "cell_type": "code",
   "source": [
    "# add filenames to combined_df\n",
    "combined_df['pdf_fr'] = combined_df['file_url_fr'].str.split('/').str[-1]\n",
    "combined_df['pdf_en'] = combined_df['file_url_en'].str.split('/').str[-1]"
   ],
   "id": "e75197c0e08e1091",
   "outputs": [],
   "execution_count": 205
  },
  {
   "metadata": {
    "ExecuteTime": {
     "end_time": "2025-01-24T18:31:20.126021Z",
     "start_time": "2025-01-24T18:31:20.098547Z"
    }
   },
   "cell_type": "code",
   "source": "combined_df[combined_df.pdf_fr != combined_df.filename_fr]['filename_fr'].value_counts(dropna=False)",
   "id": "c710c788db86e1c7",
   "outputs": [
    {
     "data": {
      "text/plain": [
       "filename_fr\n",
       "NaN    7692\n",
       "Name: count, dtype: int64"
      ]
     },
     "execution_count": 212,
     "metadata": {},
     "output_type": "execute_result"
    }
   ],
   "execution_count": 212
  },
  {
   "metadata": {
    "ExecuteTime": {
     "end_time": "2025-01-24T18:31:33.071667Z",
     "start_time": "2025-01-24T18:31:33.057077Z"
    }
   },
   "cell_type": "code",
   "source": "combined_df[combined_df.pdf_en != combined_df.filename_en]['filename_en'].value_counts(dropna=False)",
   "id": "8709bae0ac195bbe",
   "outputs": [
    {
     "data": {
      "text/plain": [
       "filename_en\n",
       "NaN    7692\n",
       "Name: count, dtype: int64"
      ]
     },
     "execution_count": 213,
     "metadata": {},
     "output_type": "execute_result"
    }
   ],
   "execution_count": 213
  },
  {
   "metadata": {},
   "cell_type": "markdown",
   "source": "# all pdf values match as expected",
   "id": "42484d5e682982f1"
  },
  {
   "metadata": {
    "ExecuteTime": {
     "end_time": "2025-01-24T18:32:25.545415Z",
     "start_time": "2025-01-24T18:32:25.539625Z"
    }
   },
   "cell_type": "code",
   "source": "combined_df.head(1).T",
   "id": "da3f62f4f8e51df0",
   "outputs": [
    {
     "data": {
      "text/plain": [
       "                                                                                                                                                         0\n",
       "pub_number                                                                                                                                    ESR 2003/002\n",
       "year                                                                                                                                                  2003\n",
       "nom          État de l'océan en 2001 : Conditions océanographiques physiques sur le plateau néo-écossais, dans la baie de Fundy et dans le golfe du Maine.\n",
       "name                                      2001 State of the Ocean: Physical Oceanographic Conditions on the Scotian Shelf, Bay of Fundy and Gulf of Maine.\n",
       "url_fr                                                                                                http://waves-vagues.dfo-mpo.gc.ca/Library/279108.pdf\n",
       "url_en                                                                                                http://waves-vagues.dfo-mpo.gc.ca/Library/276322.pdf\n",
       "filename_fr                                                                                                                                     279108.pdf\n",
       "filename_en                                                                                                                                     276322.pdf\n",
       "file_url_fr                                                                                           http://waves-vagues.dfo-mpo.gc.ca/Library/279108.pdf\n",
       "file_url_en                                                                                           http://waves-vagues.dfo-mpo.gc.ca/Library/276322.pdf\n",
       "pdf_fr                                                                                                                                          279108.pdf\n",
       "pdf_en                                                                                                                                          276322.pdf"
      ],
      "text/html": [
       "<div>\n",
       "<style scoped>\n",
       "    .dataframe tbody tr th:only-of-type {\n",
       "        vertical-align: middle;\n",
       "    }\n",
       "\n",
       "    .dataframe tbody tr th {\n",
       "        vertical-align: top;\n",
       "    }\n",
       "\n",
       "    .dataframe thead th {\n",
       "        text-align: right;\n",
       "    }\n",
       "</style>\n",
       "<table border=\"1\" class=\"dataframe\">\n",
       "  <thead>\n",
       "    <tr style=\"text-align: right;\">\n",
       "      <th></th>\n",
       "      <th>0</th>\n",
       "    </tr>\n",
       "  </thead>\n",
       "  <tbody>\n",
       "    <tr>\n",
       "      <th>pub_number</th>\n",
       "      <td>ESR 2003/002</td>\n",
       "    </tr>\n",
       "    <tr>\n",
       "      <th>year</th>\n",
       "      <td>2003</td>\n",
       "    </tr>\n",
       "    <tr>\n",
       "      <th>nom</th>\n",
       "      <td>État de l'océan en 2001 : Conditions océanographiques physiques sur le plateau néo-écossais, dans la baie de Fundy et dans le golfe du Maine.</td>\n",
       "    </tr>\n",
       "    <tr>\n",
       "      <th>name</th>\n",
       "      <td>2001 State of the Ocean: Physical Oceanographic Conditions on the Scotian Shelf, Bay of Fundy and Gulf of Maine.</td>\n",
       "    </tr>\n",
       "    <tr>\n",
       "      <th>url_fr</th>\n",
       "      <td>http://waves-vagues.dfo-mpo.gc.ca/Library/279108.pdf</td>\n",
       "    </tr>\n",
       "    <tr>\n",
       "      <th>url_en</th>\n",
       "      <td>http://waves-vagues.dfo-mpo.gc.ca/Library/276322.pdf</td>\n",
       "    </tr>\n",
       "    <tr>\n",
       "      <th>filename_fr</th>\n",
       "      <td>279108.pdf</td>\n",
       "    </tr>\n",
       "    <tr>\n",
       "      <th>filename_en</th>\n",
       "      <td>276322.pdf</td>\n",
       "    </tr>\n",
       "    <tr>\n",
       "      <th>file_url_fr</th>\n",
       "      <td>http://waves-vagues.dfo-mpo.gc.ca/Library/279108.pdf</td>\n",
       "    </tr>\n",
       "    <tr>\n",
       "      <th>file_url_en</th>\n",
       "      <td>http://waves-vagues.dfo-mpo.gc.ca/Library/276322.pdf</td>\n",
       "    </tr>\n",
       "    <tr>\n",
       "      <th>pdf_fr</th>\n",
       "      <td>279108.pdf</td>\n",
       "    </tr>\n",
       "    <tr>\n",
       "      <th>pdf_en</th>\n",
       "      <td>276322.pdf</td>\n",
       "    </tr>\n",
       "  </tbody>\n",
       "</table>\n",
       "</div>"
      ]
     },
     "execution_count": 214,
     "metadata": {},
     "output_type": "execute_result"
    }
   ],
   "execution_count": 214
  },
  {
   "metadata": {
    "ExecuteTime": {
     "end_time": "2025-01-24T18:33:15.643563Z",
     "start_time": "2025-01-24T18:33:15.639366Z"
    }
   },
   "cell_type": "code",
   "source": [
    "combined_df['filename_fr'] = combined_df['pdf_fr']\n",
    "combined_df['filename_en'] = combined_df['pdf_en']"
   ],
   "id": "d9ec1f3e3fd89bf",
   "outputs": [],
   "execution_count": 215
  },
  {
   "metadata": {
    "ExecuteTime": {
     "end_time": "2025-01-24T18:34:18.731050Z",
     "start_time": "2025-01-24T18:34:18.722377Z"
    }
   },
   "cell_type": "code",
   "source": "combined_df = combined_df.drop(['pdf_fr', 'pdf_en'], axis=1)",
   "id": "a97529604a7029e8",
   "outputs": [],
   "execution_count": 219
  },
  {
   "metadata": {
    "ExecuteTime": {
     "end_time": "2025-01-24T18:35:31.565067Z",
     "start_time": "2025-01-24T18:35:31.505113Z"
    }
   },
   "cell_type": "code",
   "source": [
    "save_final_data = False # already saved, don't save over\n",
    "\n",
    "if save_final_data:\n",
    "    combined_df.to_csv(\"fr_eng_correlation_data.csv\", index=False)"
   ],
   "id": "9aaf616107c8e82c",
   "outputs": [],
   "execution_count": 221
  }
 ],
 "metadata": {
  "kernelspec": {
   "display_name": "Python 3",
   "language": "python",
   "name": "python3"
  },
  "language_info": {
   "codemirror_mode": {
    "name": "ipython",
    "version": 2
   },
   "file_extension": ".py",
   "mimetype": "text/x-python",
   "name": "python",
   "nbconvert_exporter": "python",
   "pygments_lexer": "ipython2",
   "version": "2.7.6"
  }
 },
 "nbformat": 4,
 "nbformat_minor": 5
}
